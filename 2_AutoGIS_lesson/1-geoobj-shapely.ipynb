{
 "cells": [
  {
   "cell_type": "markdown",
   "metadata": {},
   "source": [
    "# Lesson 1\n",
    "\n",
    "## 概览\n",
    "\n",
    "空间数据模型（几何对象）和python中的空间数据基础。\n",
    "\n",
    "- Geometric对象和Shapely模块\n",
    "- Point对象\n",
    "- LineString对象\n",
    "- Polygon对象\n",
    "- Geometry集合\n",
    "\n",
    "## 目标\n",
    "\n",
    "- 了解python有哪些地理数据分析工具可用\n",
    "- 使用conda安装python包\n",
    "- 清楚有哪些geometric对象\n",
    "- 清楚如何使用Shapely创建不同类型的geometries\n",
    "- 清楚如何读取文件坐标并基于此创建Points\n",
    "\n",
    "## Shapely 和 geometric 对象\n",
    "\n",
    "### 空间数据模型\n",
    "\n",
    "![SpatialDataModel](pictures/SpatialDataModel.png)\n",
    "\n",
    "Shapely中可用的基本几何对象，如上图所示。\n",
    "\n",
    "最基础的就是Points，Lines和Polygons，是矢量数据的基本元素。Shapely模块可以用来进行几何运算，比如：\n",
    "\n",
    "- 从点集合构建Line和Polygon\n",
    "- 计算几何元素的面积长度边界等\n",
    "- Union，Difference，Distance等几何运算\n",
    "- 几何元素之间的空间查询，比如Intersects，Touches，Crosses，Within等\n",
    "\n",
    "几何对象由坐标tuples构建：\n",
    "\n",
    "- Point可以是二维，可以是三维\n",
    "- 一系列tuple的Ponit\n",
    "- 可以形成环的一系列typle的Point\n",
    "\n",
    "上述对象可以构成集合几何对象：\n",
    "\n",
    "- MultiPoint: tuple的Point的list\n",
    "- MultiLineString：LineString的list\n",
    "- MultiPolygon：Polygon的list"
   ]
  },
  {
   "cell_type": "code",
   "execution_count": 1,
   "metadata": {},
   "outputs": [
    {
     "data": {
      "image/svg+xml": [
       "<svg xmlns=\"http://www.w3.org/2000/svg\" xmlns:xlink=\"http://www.w3.org/1999/xlink\" width=\"100.0\" height=\"100.0\" viewBox=\"1.2000000000000002 3.2 2.0 2.0\" preserveAspectRatio=\"xMinYMin meet\"><g transform=\"matrix(1,0,0,-1,0,8.4)\"><circle cx=\"2.2\" cy=\"4.2\" r=\"0.06\" stroke=\"#555555\" stroke-width=\"0.02\" fill=\"#66cc99\" opacity=\"0.6\" /></g></svg>"
      ],
      "text/plain": [
       "<shapely.geometry.point.Point at 0x1a8539a9d90>"
      ]
     },
     "execution_count": 1,
     "metadata": {},
     "output_type": "execute_result"
    }
   ],
   "source": [
    "# Import necessary geometric objects from shapely module\n",
    "from shapely.geometry import Point, LineString, Polygon\n",
    "\n",
    "# Create Point geometric object(s) with coordinates，可以看出都point可以是二维，也可以是三维。\n",
    "point1 = Point(2.2, 4.2)\n",
    "point2 = Point(7.2, -25.1)\n",
    "point3 = Point(9.26, -2.456)\n",
    "point3D = Point(9.26, -2.456, 0.57)\n",
    "\n",
    "point1"
   ]
  },
  {
   "cell_type": "code",
   "execution_count": 2,
   "metadata": {},
   "outputs": [
    {
     "data": {
      "image/svg+xml": [
       "<svg xmlns=\"http://www.w3.org/2000/svg\" xmlns:xlink=\"http://www.w3.org/1999/xlink\" width=\"100.0\" height=\"100.0\" viewBox=\"8.26 -3.456 2.0 2.0\" preserveAspectRatio=\"xMinYMin meet\"><g transform=\"matrix(1,0,0,-1,0,-4.912)\"><circle cx=\"9.26\" cy=\"-2.456\" r=\"0.06\" stroke=\"#555555\" stroke-width=\"0.02\" fill=\"#66cc99\" opacity=\"0.6\" /></g></svg>"
      ],
      "text/plain": [
       "<shapely.geometry.point.Point at 0x1a85399f880>"
      ]
     },
     "execution_count": 2,
     "metadata": {},
     "output_type": "execute_result"
    }
   ],
   "source": [
    "point3D"
   ]
  },
  {
   "cell_type": "code",
   "execution_count": 3,
   "metadata": {},
   "outputs": [
    {
     "name": "stdout",
     "output_type": "stream",
     "text": [
      "POINT (2.2 4.2)\n",
      "POINT Z (9.26 -2.456 0.57)\n",
      "<class 'shapely.geometry.point.Point'>\n",
      "Point\n",
      "<shapely.coords.CoordinateSequence object at 0x000001A85399AF70>\n",
      "<class 'shapely.coords.CoordinateSequence'>\n",
      "xy: (array('d', [2.2]), array('d', [4.2])) \n",
      "\n",
      "x: 2.2 \n",
      "\n",
      "y: 4.2\n",
      "Distance between the points is 29.72 decimal degrees\n"
     ]
    }
   ],
   "source": [
    "print(point1)\n",
    "print(point3D)\n",
    "print(type(point1))\n",
    "print(point1.geom_type)\n",
    "# Get the coordinates\n",
    "point_coords = point1.coords\n",
    "print(point_coords)\n",
    "# What is the data type?\n",
    "print(type(point_coords))\n",
    "\n",
    "# Get x and y coordinates\n",
    "xy = point_coords.xy\n",
    "\n",
    "# Get only x coordinates of Point1\n",
    "x = point1.x\n",
    "\n",
    "# Whatabout y coordinate?\n",
    "y = point1.y\n",
    "\n",
    "print(\"xy:\", xy, \"\\n\")\n",
    "print(\"x:\", x, \"\\n\")\n",
    "print(\"y:\", y)\n",
    "\n",
    "# Calculate the distance between point1 and point2\n",
    "point_dist = point1.distance(point2)\n",
    "\n",
    "print(\"Distance between the points is {0:.2f} decimal degrees\".format(point_dist))"
   ]
  },
  {
   "cell_type": "code",
   "execution_count": 4,
   "metadata": {},
   "outputs": [
    {
     "data": {
      "image/svg+xml": [
       "<svg xmlns=\"http://www.w3.org/2000/svg\" xmlns:xlink=\"http://www.w3.org/1999/xlink\" width=\"100.0\" height=\"100.0\" viewBox=\"1.028 -26.272000000000002 9.404 31.644000000000002\" preserveAspectRatio=\"xMinYMin meet\"><g transform=\"matrix(1,0,0,-1,0,-20.900000000000002)\"><polyline fill=\"none\" stroke=\"#66cc99\" stroke-width=\"0.63288\" points=\"2.2,4.2 7.2,-25.1 9.26,-2.456\" opacity=\"0.8\" /></g></svg>"
      ],
      "text/plain": [
       "<shapely.geometry.linestring.LineString at 0x1a854eaf7c0>"
      ]
     },
     "execution_count": 4,
     "metadata": {},
     "output_type": "execute_result"
    }
   ],
   "source": [
    "# Create a LineString from our Point objects\n",
    "line = LineString([point1, point2, point3])\n",
    "\n",
    "# It is also possible to produce the same outcome using coordinate tuples\n",
    "line2 = LineString([(2.2, 4.2), (7.2, -25.1), (9.26, -2.456)])\n",
    "\n",
    "line"
   ]
  },
  {
   "cell_type": "code",
   "execution_count": 5,
   "metadata": {},
   "outputs": [
    {
     "name": "stdout",
     "output_type": "stream",
     "text": [
      "line: \n",
      " LINESTRING (2.2 4.2, 7.2 -25.1, 9.26 -2.456) \n",
      "\n",
      "line2: \n",
      " LINESTRING (2.2 4.2, 7.2 -25.1, 9.26 -2.456) \n",
      "\n",
      "Object data type: <class 'shapely.geometry.linestring.LineString'>\n",
      "Geometry type as text: LineString\n",
      "\n",
      " line的xy坐标: \n",
      "  (array('d', [2.2, 7.2, 9.26]), array('d', [4.2, -25.1, -2.456])) \n",
      "\n",
      "i和j 2.2 4.2\n",
      "i和j 7.2 -25.1\n",
      "i和j 9.26 -2.456\n",
      "line_x:\n",
      " array('d', [2.2, 7.2, 9.26]) \n",
      "\n",
      "line_y:\n",
      " array('d', [4.2, -25.1, -2.456])\n",
      "Length of our line: 52.46\n",
      "Centroid of our line:  POINT (6.229961354035622 -11.89241115757239)\n",
      "Type of the centroid: <class 'shapely.geometry.point.Point'>\n"
     ]
    }
   ],
   "source": [
    "print(\"line: \\n\", line, \"\\n\")\n",
    "print(\"line2: \\n\", line2, \"\\n\")\n",
    "print(\"Object data type:\", type(line))\n",
    "print(\"Geometry type as text:\", line.geom_type)\n",
    "\n",
    "\n",
    "# Get x and y coordinates of the line\n",
    "lxy = line.xy\n",
    "print(\"\\n line的xy坐标: \\n \",lxy,'\\n')\n",
    "\n",
    "# Extract x coordinates\n",
    "line_xcoords = lxy[0]\n",
    "\n",
    "# Extract y coordinates straight from the LineObject by referring to a array at index 1\n",
    "line_ycoords = line.xy[1]\n",
    "\n",
    "for i,j in zip(line_xcoords,line_ycoords):\n",
    "    print('i和j',i,j)\n",
    "\n",
    "print('line_x:\\n', line_xcoords, '\\n')\n",
    "\n",
    "print('line_y:\\n', line_ycoords)\n",
    "\n",
    "# Get the lenght of the line\n",
    "l_length = line.length\n",
    "\n",
    "# Get the centroid of the line\n",
    "l_centroid = line.centroid\n",
    "\n",
    "# Print the outputs\n",
    "print(\"Length of our line: {0:.2f}\".format(l_length))\n",
    "print(\"Centroid of our line: \", l_centroid)\n",
    "print(\"Type of the centroid:\", type(l_centroid))"
   ]
  },
  {
   "cell_type": "code",
   "execution_count": 6,
   "metadata": {},
   "outputs": [
    {
     "data": {
      "image/svg+xml": [
       "<svg xmlns=\"http://www.w3.org/2000/svg\" xmlns:xlink=\"http://www.w3.org/1999/xlink\" width=\"100.0\" height=\"100.0\" viewBox=\"1.028 -26.272000000000002 9.404 31.644000000000002\" preserveAspectRatio=\"xMinYMin meet\"><g transform=\"matrix(1,0,0,-1,0,-20.900000000000002)\"><path fill-rule=\"evenodd\" fill=\"#66cc99\" stroke=\"#555555\" stroke-width=\"0.63288\" opacity=\"0.6\" d=\"M 2.2,4.2 L 7.2,-25.1 L 9.26,-2.456 L 2.2,4.2 z\" /></g></svg>"
      ],
      "text/plain": [
       "<shapely.geometry.polygon.Polygon at 0x1a854ecb3a0>"
      ]
     },
     "execution_count": 6,
     "metadata": {},
     "output_type": "execute_result"
    }
   ],
   "source": [
    "# Create a Polygon from the coordinates\n",
    "poly = Polygon([(2.2, 4.2), (7.2, -25.1), (9.26, -2.456)])\n",
    "# It is also possible to produce the same outcome using a list of lists which contain the point coordinates.\n",
    "# We can do this using the point objects we created before and a list comprehension:\n",
    "# --> here, we pass a list of lists as input when creating the Polygon (the linst comprehension generates this list: [[2.2, 4.2], [7.2, -25.1], [9.26, -2.456]]):\n",
    "poly2 = Polygon([[p.x, p.y] for p in [point1, point2, point3]])\n",
    "poly"
   ]
  },
  {
   "cell_type": "code",
   "execution_count": 7,
   "metadata": {},
   "outputs": [
    {
     "name": "stdout",
     "output_type": "stream",
     "text": [
      "poly: POLYGON ((2.2 4.2, 7.2 -25.1, 9.26 -2.456, 2.2 4.2))\n",
      "poly2: POLYGON ((2.2 4.2, 7.2 -25.1, 9.26 -2.456, 2.2 4.2))\n",
      "Object data type: <class 'shapely.geometry.polygon.Polygon'>\n",
      "Geometry type as text: Polygon\n",
      "\n",
      " 外边的bound坐标: \n",
      "  [2.2, -25.1, 9.26, 4.2] \n",
      "\n",
      "\n",
      " 外边的xy坐标: \n",
      "  [(2.2, 4.2), (7.2, -25.1), (9.26, -2.456), (2.2, 4.2)] \n",
      "\n",
      "\n",
      " 内边的xy坐标: \n",
      "  [] \n",
      "\n",
      "2.2 4.2\n"
     ]
    }
   ],
   "source": [
    "print('poly:', poly)\n",
    "print('poly2:', poly2)\n",
    "print(\"Object data type:\", type(poly))\n",
    "print(\"Geometry type as text:\", poly.geom_type)\n",
    "\n",
    "# 遍历多边形的顶点\n",
    "# bound是minx, miny, maxx, maxy\n",
    "pxy_b = list(poly.bounds)\n",
    "print(\"\\n 外边的bound坐标: \\n \",pxy_b,'\\n')\n",
    "# Get x and y coordinates of the polygon, 因为polygon和line不太一样，有外边和内边，如果是凸的多边形，那么取外边即可\n",
    "pxy = list(poly.exterior.coords)\n",
    "print(\"\\n 外边的xy坐标: \\n \",pxy,'\\n')\n",
    "pxy_i = list(poly.interiors)\n",
    "print(\"\\n 内边的xy坐标: \\n \",pxy_i,'\\n')\n",
    "\n",
    "print(pxy[0][0],pxy[0][1])"
   ]
  },
  {
   "cell_type": "code",
   "execution_count": 8,
   "metadata": {},
   "outputs": [
    {
     "name": "stdout",
     "output_type": "stream",
     "text": [
      "<class 'list'>\n",
      "<class 'tuple'>\n",
      "<class 'list'>\n",
      "<class 'list'>\n",
      "<class 'tuple'>\n"
     ]
    },
    {
     "data": {
      "image/svg+xml": [
       "<svg xmlns=\"http://www.w3.org/2000/svg\" xmlns:xlink=\"http://www.w3.org/1999/xlink\" />"
      ],
      "text/plain": [
       "<shapely.geometry.polygon.Polygon at 0x1a854eaf2e0>"
      ]
     },
     "execution_count": 8,
     "metadata": {},
     "output_type": "execute_result"
    }
   ],
   "source": [
    "# First we define our exterior\n",
    "world_exterior = [(-180, 90), (-180, -90), (180, -90), (180, 90)]\n",
    "print(type(world_exterior))\n",
    "print(type(world_exterior[0]))\n",
    "# Let's create a single big hole where we leave ten decimal degrees at the boundaries of the world\n",
    "# Notice: there could be multiple holes, thus we need to provide a list of holes 因为有可能有多个内部的洞，因此是list\n",
    "hole = [[(-170, 80), (-170, -80), (170, -80), (170, 80)]]\n",
    "print(type(hole))\n",
    "print(type(hole[0]))\n",
    "print(type(hole[0][0]))\n",
    "# World without a hole\n",
    "world = Polygon()\n",
    "# 示范一个空polygon\n",
    "world"
   ]
  },
  {
   "cell_type": "code",
   "execution_count": 9,
   "metadata": {},
   "outputs": [
    {
     "name": "stdout",
     "output_type": "stream",
     "text": [
      "POLYGON ((-180 90, -180 -90, 180 -90, 180 90, -180 90))\n"
     ]
    },
    {
     "data": {
      "image/svg+xml": [
       "<svg xmlns=\"http://www.w3.org/2000/svg\" xmlns:xlink=\"http://www.w3.org/1999/xlink\" width=\"300\" height=\"208.8\" viewBox=\"-194.4 -104.4 388.8 208.8\" preserveAspectRatio=\"xMinYMin meet\"><g transform=\"matrix(1,0,0,-1,0,0.0)\"><path fill-rule=\"evenodd\" fill=\"#66cc99\" stroke=\"#555555\" stroke-width=\"2.592\" opacity=\"0.6\" d=\"M -180.0,90.0 L -180.0,-90.0 L 180.0,-90.0 L 180.0,90.0 L -180.0,90.0 z M -170.0,80.0 L -170.0,-80.0 L 170.0,-80.0 L 170.0,80.0 L -170.0,80.0 z\" /></g></svg>"
      ],
      "text/plain": [
       "<shapely.geometry.polygon.Polygon at 0x1a854ecbd00>"
      ]
     },
     "execution_count": 9,
     "metadata": {},
     "output_type": "execute_result"
    }
   ],
   "source": [
    "world = Polygon(shell=world_exterior)\n",
    "print(world)\n",
    "# Now we can construct our Polygon with the hole inside\n",
    "world_has_a_hole = Polygon(shell=world_exterior, holes=hole)\n",
    "world_has_a_hole"
   ]
  },
  {
   "cell_type": "code",
   "execution_count": 10,
   "metadata": {},
   "outputs": [
    {
     "name": "stdout",
     "output_type": "stream",
     "text": [
      "(array('d', [-170.0, -170.0, 170.0, 170.0, -170.0]), array('d', [80.0, -80.0, -80.0, 80.0, 80.0]))\n",
      "True\n",
      "[(-170.0, 80.0), (-170.0, -80.0), (170.0, -80.0), (170.0, 80.0), (-170.0, 80.0)]\n"
     ]
    },
    {
     "data": {
      "image/svg+xml": [
       "<svg xmlns=\"http://www.w3.org/2000/svg\" xmlns:xlink=\"http://www.w3.org/1999/xlink\" width=\"300\" height=\"208.8\" viewBox=\"-194.4 -104.4 388.8 208.8\" preserveAspectRatio=\"xMinYMin meet\"><g transform=\"matrix(1,0,0,-1,0,0.0)\"><path fill-rule=\"evenodd\" fill=\"#66cc99\" stroke=\"#555555\" stroke-width=\"2.592\" opacity=\"0.6\" d=\"M -180.0,90.0 L -180.0,-90.0 L 180.0,-90.0 L 180.0,90.0 L -180.0,90.0 z M -170.0,80.0 L -170.0,-80.0 L 170.0,-80.0 L 170.0,80.0 L -170.0,80.0 z\" /></g></svg>"
      ],
      "text/plain": [
       "<shapely.geometry.polygon.Polygon at 0x1a854eaf520>"
      ]
     },
     "execution_count": 10,
     "metadata": {},
     "output_type": "execute_result"
    }
   ],
   "source": [
    "# 接下来简单练习一组构建polygon的方法：注意shell和holes的不同，holes是list里有list，因为可以有多个孔\n",
    "boundary=world_has_a_hole.boundary\n",
    "exts = boundary[0].xy\n",
    "ints = boundary[1].xy\n",
    "print(ints)\n",
    "print(len(ints)>=1)\n",
    "pxys_ext = []\n",
    "pxys_int = []\n",
    "for px_ext, py_ext in zip(exts[0], exts[1]):\n",
    "    xy_ext = (px_ext,py_ext)\n",
    "    pxys_ext.append(xy_ext)\n",
    "for px_int, py_int in zip(ints[0], ints[1]):\n",
    "    xy_int = (px_int,py_int)\n",
    "    pxys_int.append(xy_int)\n",
    "print(pxys_int)\n",
    "polygon_to = Polygon(shell=pxys_ext, holes=[pxys_int])\n",
    "polygon_to"
   ]
  },
  {
   "cell_type": "code",
   "execution_count": 11,
   "metadata": {},
   "outputs": [
    {
     "name": "stdout",
     "output_type": "stream",
     "text": [
      "world: POLYGON ((-180 90, -180 -90, 180 -90, 180 90, -180 90))\n",
      "world_has_a_hole: POLYGON ((-180 90, -180 -90, 180 -90, 180 90, -180 90), (-170 80, -170 -80, 170 -80, 170 80, -170 80))\n",
      "type: <class 'shapely.geometry.polygon.Polygon'>\n",
      "Poly centroid:  POINT (-0 -0)\n",
      "-0.0\n",
      "-0.0\n",
      "Poly Area:  10400.0\n",
      "Poly Bounding Box:  (-180.0, -90.0, 180.0, 90.0)\n",
      "Poly Boundary:  MULTILINESTRING ((-180 90, -180 -90, 180 -90, 180 90, -180 90), (-170 80, -170 -80, 170 -80, 170 80, -170 80))\n",
      "Poly Boundary number:  2\n",
      "Poly Exterior:  LINEARRING (-180 90, -180 -90, 180 -90, 180 90, -180 90)\n",
      "Poly Exterior coords:  <shapely.coords.CoordinateSequence object at 0x000001A854EAF280>\n",
      "Poly Exterior:  (array('d', [-180.0, -180.0, 180.0, 180.0, -180.0]), array('d', [90.0, -90.0, -90.0, 90.0, 90.0]))\n",
      "Poly Exterior x:  array('d', [-180.0, -180.0, 180.0, 180.0, -180.0])\n",
      "Poly Exterior y:  array('d', [90.0, -90.0, -90.0, 90.0, 90.0])\n",
      "Poly Exterior Length:  1080.0\n",
      "Poly Interior:  [<shapely.geometry.polygon.LinearRing object at 0x000001A854EAFBE0>]\n",
      "<class 'pandas.core.series.Series'>\n",
      "[-180. -180.  180.  180. -180.]\n",
      "[ 90. -90. -90.  90.  90.]\n",
      "[[-180.   90.]\n",
      " [-180.  -90.]\n",
      " [ 180.  -90.]\n",
      " [ 180.   90.]\n",
      " [-180.   90.]]\n",
      "POLYGON ((-180 90, -180 -90, 180 -90, 180 90, -180 90))\n",
      "Poly Boundary 1:  (array('d', [-180.0, -180.0, 180.0, 180.0, -180.0]), array('d', [90.0, -90.0, -90.0, 90.0, 90.0]))\n",
      "Poly Boundary 2:  (array('d', [-170.0, -170.0, 170.0, 170.0, -170.0]), array('d', [80.0, -80.0, -80.0, 80.0, 80.0]))\n"
     ]
    }
   ],
   "source": [
    "print('world:', world)\n",
    "print('world_has_a_hole:', world_has_a_hole)\n",
    "print('type:', type(world_has_a_hole))\n",
    "\n",
    "# Get the centroid of the Polygon\n",
    "world_centroid = world_has_a_hole.centroid\n",
    "\n",
    "# Get the area of the Polygon\n",
    "world_area = world_has_a_hole.area\n",
    "\n",
    "# Get the bounds of the Polygon (i.e. bounding box)\n",
    "world_bbox = world_has_a_hole.bounds\n",
    "world_b = world_has_a_hole.boundary\n",
    "\n",
    "# Get the exterior of the Polygon\n",
    "world_ext = world_has_a_hole.exterior\n",
    "world_ext_coords = world_has_a_hole.exterior.coords\n",
    "world_int = world_has_a_hole.interiors\n",
    "# Get the length of the exterior\n",
    "world_ext_length = world_ext.length\n",
    "\n",
    "# Print the outputs\n",
    "print(\"Poly centroid: \", world_centroid)\n",
    "print(world_centroid.x)\n",
    "print(world_centroid.y)\n",
    "print(\"Poly Area: \", world_area)\n",
    "print(\"Poly Bounding Box: \", world_bbox)\n",
    "print(\"Poly Boundary: \", world_b)\n",
    "print(\"Poly Boundary number: \", len(world_b))\n",
    "print(\"Poly Exterior: \", world_ext)\n",
    "print(\"Poly Exterior coords: \", world_ext_coords)\n",
    "print(\"Poly Exterior: \", world_ext.xy)\n",
    "print(\"Poly Exterior x: \", world_ext.xy[0])\n",
    "print(\"Poly Exterior y: \", world_ext.xy[1])\n",
    "print(\"Poly Exterior Length: \", world_ext_length)\n",
    "print(\"Poly Interior: \", list(world_int))\n",
    "\n",
    "# 检测下world_ext.xy[0]的数组能否直接初始化dataframe，后面有些批量操作，这样比较好\n",
    "import pandas as pd\n",
    "import numpy as np\n",
    "df = pd.DataFrame({'x': world_ext.xy[0], 'y': world_ext.xy[1]})\n",
    "print(type(df['x']))\n",
    "arr_x=df['x'].values\n",
    "print(arr_x)\n",
    "arr_y=df['y'].values\n",
    "print(arr_y)\n",
    "arr= np.stack((arr_x,arr_y),0).T\n",
    "print( arr)\n",
    "world = Polygon(shell=arr)\n",
    "print(world)\n",
    "\n",
    "# 对于有hole的polygon，使用boundary是会得到multilinestring的，因此如果是想使用所有边界，最好是用boundary，而不要主动用extorior，而把内部边界给忽略了\n",
    "# print(\"Poly Boundary: \", world_b.xy)\n",
    "# 输出polygon边界所有的linestring\n",
    "print(\"Poly Boundary 1: \", world_b[0].xy)\n",
    "print(\"Poly Boundary 2: \", world_b[1].xy)"
   ]
  },
  {
   "cell_type": "code",
   "execution_count": 12,
   "metadata": {},
   "outputs": [
    {
     "name": "stdout",
     "output_type": "stream",
     "text": [
      "Poly centroid:  POINT (-0 -0)\n",
      "Poly Area:  64800.0\n",
      "Poly Bounding Box:  <class 'tuple'> : (-180.0, -90.0, 180.0, 90.0)\n",
      "Poly Boundary:  LINESTRING (-180 90, -180 -90, 180 -90, 180 90, -180 90)\n",
      "Poly Boundary:  (array('d', [-180.0, -180.0, 180.0, 180.0, -180.0]), array('d', [90.0, -90.0, -90.0, 90.0, 90.0]))\n",
      "Poly Boundary x:  array('d', [-180.0, -180.0, 180.0, 180.0, -180.0])\n",
      "Poly Boundary y:  array('d', [90.0, -90.0, -90.0, 90.0, 90.0])\n",
      "Poly Boundary x[0]:  -180.0\n",
      "Poly Exterior:  LINEARRING (-180 90, -180 -90, 180 -90, 180 90, -180 90)\n",
      "Poly Exterior:  (array('d', [-180.0, -180.0, 180.0, 180.0, -180.0]), array('d', [90.0, -90.0, -90.0, 90.0, 90.0]))\n",
      "Poly Exterior Length:  1080.0\n",
      "Poly Interior:  <shapely.geometry.polygon.InteriorRingSequence object at 0x000001A854EAFFD0>\n"
     ]
    }
   ],
   "source": [
    "# Get the centroid of the Polygon\n",
    "world_centroid = world.centroid\n",
    "\n",
    "# Get the area of the Polygon\n",
    "world_area = world.area\n",
    "\n",
    "# Get the bounds of the Polygon (i.e. bounding box)\n",
    "world_bbox = world.bounds\n",
    "world_b = world.boundary\n",
    "\n",
    "# Get the exterior of the Polygon\n",
    "world_ext = world.exterior\n",
    "world_int = world.interiors\n",
    "# Get the length of the exterior\n",
    "world_ext_length = world_ext.length\n",
    "\n",
    "# Print the outputs\n",
    "print(\"Poly centroid: \", world_centroid)\n",
    "print(\"Poly Area: \", world_area)\n",
    "print(\"Poly Bounding Box: \", type(world_bbox),':',world_bbox)\n",
    "print(\"Poly Boundary: \", world_b)\n",
    "print(\"Poly Boundary: \", world_b.xy)\n",
    "print(\"Poly Boundary x: \", world_b.xy[0])\n",
    "print(\"Poly Boundary y: \", world_b.xy[1])\n",
    "print(\"Poly Boundary x[0]: \", world_b.xy[0][0])\n",
    "print(\"Poly Exterior: \", world_ext)\n",
    "print(\"Poly Exterior: \", world_ext.xy)\n",
    "print(\"Poly Exterior Length: \", world_ext_length)\n",
    "print(\"Poly Interior: \", world_int)"
   ]
  },
  {
   "cell_type": "markdown",
   "metadata": {},
   "source": [
    "有些情况下需要存储多个lines或polygons到一个feature里，比如Shapefile的一行代表不止一条line或一个polygon对象，这时候就需要geometry collections。"
   ]
  },
  {
   "cell_type": "code",
   "execution_count": 13,
   "metadata": {},
   "outputs": [
    {
     "name": "stdout",
     "output_type": "stream",
     "text": [
      "第一条线 LINESTRING (2.2 4.2, 7.2 -25.1)\n",
      "第一条线的各点坐标 (array('d', [2.2, 7.2]), array('d', [4.2, -25.1]))\n",
      "MultiPoint: MULTIPOINT (2.2 4.2, 7.2 -25.1, 9.26 -2.456)\n",
      "MultiLine:  MULTILINESTRING ((2.2 4.2, 7.2 -25.1), (7.2 -25.1, 9.26 -2.456))\n",
      "Bounding box:  POLYGON ((180 -90, 180 90, 0 90, 0 -90, 180 -90))\n",
      "MultiPoly:  MULTIPOLYGON (((-180 90, -180 -90, 0 -90, 0 90, -180 90), (-170 80, -170 -80, -10 -80, -10 80, -170 80)), ((180 -90, 180 90, 0 90, 0 -90, 180 -90)))\n"
     ]
    }
   ],
   "source": [
    "# Import collections of geometric objects + bounding box\n",
    "from shapely.geometry import MultiPoint, MultiLineString, MultiPolygon, box\n",
    "\n",
    "# Create a MultiPoint object of our points 1,2 and 3\n",
    "multi_point = MultiPoint([point1, point2, point3])\n",
    "\n",
    "# It is also possible to pass coordinate tuples inside\n",
    "multi_point2 = MultiPoint([(2.2, 4.2), (7.2, -25.1), (9.26, -2.456)])\n",
    "\n",
    "# We can also create a MultiLineString with two lines\n",
    "line1 = LineString([point1, point2])\n",
    "line2 = LineString([point2, point3])\n",
    "multi_line = MultiLineString([line1, line2])\n",
    "\n",
    "#  访问multi_line中的各个LineString\n",
    "print('第一条线',multi_line[0])\n",
    "print('第一条线的各点坐标',multi_line[0].xy)\n",
    "\n",
    "# MultiPolygon can be done in a similar manner\n",
    "# Let's divide our world into western and eastern hemispheres with a hole on the western hemisphere\n",
    "# --------------------------------------------------------------------------------------------------\n",
    "\n",
    "# Let's create the exterior of the western part of the world\n",
    "west_exterior = [(-180, 90), (-180, -90), (0, -90), (0, 90)]\n",
    "\n",
    "# Let's create a hole --> remember there can be multiple holes, thus we need to have a list of hole(s).\n",
    "# Here we have just one.\n",
    "west_hole = [[(-170, 80), (-170, -80), (-10, -80), (-10, 80)]]\n",
    "\n",
    "# Create the Polygon\n",
    "west_poly = Polygon(shell=west_exterior, holes=west_hole)\n",
    "\n",
    "# Let's create the Polygon of our Eastern hemisphere polygon using bounding box\n",
    "# For bounding box we need to specify the lower-left corner coordinates and upper-right coordinates\n",
    "min_x, min_y = 0, -90\n",
    "max_x, max_y = 180, 90\n",
    "\n",
    "# Create the polygon using box() function\n",
    "east_poly_box = box(minx=min_x, miny=min_y, maxx=max_x, maxy=max_y)\n",
    "\n",
    "# Let's create our MultiPolygon. We can pass multiple Polygon -objects into our MultiPolygon as a list\n",
    "multi_poly = MultiPolygon([west_poly, east_poly_box])\n",
    "\n",
    "# Print outputs\n",
    "print(\"MultiPoint:\", multi_point)\n",
    "print(\"MultiLine: \", multi_line)\n",
    "print(\"Bounding box: \", east_poly_box)\n",
    "print(\"MultiPoly: \", multi_poly)"
   ]
  },
  {
   "cell_type": "code",
   "execution_count": 14,
   "metadata": {},
   "outputs": [
    {
     "data": {
      "image/svg+xml": [
       "<svg xmlns=\"http://www.w3.org/2000/svg\" xmlns:xlink=\"http://www.w3.org/1999/xlink\" width=\"100.0\" height=\"100.0\" viewBox=\"1.028 -26.272000000000002 9.404 31.644000000000002\" preserveAspectRatio=\"xMinYMin meet\"><g transform=\"matrix(1,0,0,-1,0,-20.900000000000002)\"><g><circle cx=\"2.2\" cy=\"4.2\" r=\"0.9493199999999999\" stroke=\"#555555\" stroke-width=\"0.31644\" fill=\"#66cc99\" opacity=\"0.6\" /><circle cx=\"7.2\" cy=\"-25.1\" r=\"0.9493199999999999\" stroke=\"#555555\" stroke-width=\"0.31644\" fill=\"#66cc99\" opacity=\"0.6\" /><circle cx=\"9.26\" cy=\"-2.456\" r=\"0.9493199999999999\" stroke=\"#555555\" stroke-width=\"0.31644\" fill=\"#66cc99\" opacity=\"0.6\" /></g></g></svg>"
      ],
      "text/plain": [
       "<shapely.geometry.multipoint.MultiPoint at 0x1a855b50eb0>"
      ]
     },
     "execution_count": 14,
     "metadata": {},
     "output_type": "execute_result"
    }
   ],
   "source": [
    "multi_point"
   ]
  },
  {
   "cell_type": "code",
   "execution_count": 15,
   "metadata": {},
   "outputs": [
    {
     "data": {
      "image/svg+xml": [
       "<svg xmlns=\"http://www.w3.org/2000/svg\" xmlns:xlink=\"http://www.w3.org/1999/xlink\" width=\"100.0\" height=\"100.0\" viewBox=\"1.028 -26.272000000000002 9.404 31.644000000000002\" preserveAspectRatio=\"xMinYMin meet\"><g transform=\"matrix(1,0,0,-1,0,-20.900000000000002)\"><g><polyline fill=\"none\" stroke=\"#66cc99\" stroke-width=\"0.63288\" points=\"2.2,4.2 7.2,-25.1\" opacity=\"0.8\" /><polyline fill=\"none\" stroke=\"#66cc99\" stroke-width=\"0.63288\" points=\"7.2,-25.1 9.26,-2.456\" opacity=\"0.8\" /></g></g></svg>"
      ],
      "text/plain": [
       "<shapely.geometry.multilinestring.MultiLineString at 0x1a855b50f10>"
      ]
     },
     "execution_count": 15,
     "metadata": {},
     "output_type": "execute_result"
    }
   ],
   "source": [
    "multi_line"
   ]
  },
  {
   "cell_type": "code",
   "execution_count": 16,
   "metadata": {},
   "outputs": [
    {
     "data": {
      "image/svg+xml": [
       "<svg xmlns=\"http://www.w3.org/2000/svg\" xmlns:xlink=\"http://www.w3.org/1999/xlink\" width=\"194.39999999999998\" height=\"194.4\" viewBox=\"-187.2 -97.2 194.39999999999998 194.4\" preserveAspectRatio=\"xMinYMin meet\"><g transform=\"matrix(1,0,0,-1,0,0.0)\"><path fill-rule=\"evenodd\" fill=\"#66cc99\" stroke=\"#555555\" stroke-width=\"2.0\" opacity=\"0.6\" d=\"M -180.0,90.0 L -180.0,-90.0 L 0.0,-90.0 L 0.0,90.0 L -180.0,90.0 z M -170.0,80.0 L -170.0,-80.0 L -10.0,-80.0 L -10.0,80.0 L -170.0,80.0 z\" /></g></svg>"
      ],
      "text/plain": [
       "<shapely.geometry.polygon.Polygon at 0x1a854eaf880>"
      ]
     },
     "execution_count": 16,
     "metadata": {},
     "output_type": "execute_result"
    }
   ],
   "source": [
    "west_poly"
   ]
  },
  {
   "cell_type": "code",
   "execution_count": 17,
   "metadata": {},
   "outputs": [
    {
     "data": {
      "image/svg+xml": [
       "<svg xmlns=\"http://www.w3.org/2000/svg\" xmlns:xlink=\"http://www.w3.org/1999/xlink\" width=\"194.39999999999998\" height=\"194.4\" viewBox=\"-7.2 -97.2 194.39999999999998 194.4\" preserveAspectRatio=\"xMinYMin meet\"><g transform=\"matrix(1,0,0,-1,0,0.0)\"><path fill-rule=\"evenodd\" fill=\"#66cc99\" stroke=\"#555555\" stroke-width=\"2.0\" opacity=\"0.6\" d=\"M 180.0,-90.0 L 180.0,90.0 L 0.0,90.0 L 0.0,-90.0 L 180.0,-90.0 z\" /></g></svg>"
      ],
      "text/plain": [
       "<shapely.geometry.polygon.Polygon at 0x1a8528921c0>"
      ]
     },
     "execution_count": 17,
     "metadata": {},
     "output_type": "execute_result"
    }
   ],
   "source": [
    "east_poly_box"
   ]
  },
  {
   "cell_type": "code",
   "execution_count": 18,
   "metadata": {},
   "outputs": [
    {
     "data": {
      "image/svg+xml": [
       "<svg xmlns=\"http://www.w3.org/2000/svg\" xmlns:xlink=\"http://www.w3.org/1999/xlink\" width=\"300\" height=\"208.8\" viewBox=\"-194.4 -104.4 388.8 208.8\" preserveAspectRatio=\"xMinYMin meet\"><g transform=\"matrix(1,0,0,-1,0,0.0)\"><g><path fill-rule=\"evenodd\" fill=\"#ff3333\" stroke=\"#555555\" stroke-width=\"2.592\" opacity=\"0.6\" d=\"M -180.0,90.0 L -180.0,-90.0 L 0.0,-90.0 L 0.0,90.0 L -180.0,90.0 z M -170.0,80.0 L -170.0,-80.0 L -10.0,-80.0 L -10.0,80.0 L -170.0,80.0 z\" /><path fill-rule=\"evenodd\" fill=\"#ff3333\" stroke=\"#555555\" stroke-width=\"2.592\" opacity=\"0.6\" d=\"M 180.0,-90.0 L 180.0,90.0 L 0.0,90.0 L 0.0,-90.0 L 180.0,-90.0 z\" /></g></g></svg>"
      ],
      "text/plain": [
       "<shapely.geometry.multipolygon.MultiPolygon at 0x1a854eaf820>"
      ]
     },
     "execution_count": 18,
     "metadata": {},
     "output_type": "execute_result"
    }
   ],
   "source": [
    "multi_poly"
   ]
  },
  {
   "cell_type": "code",
   "execution_count": 19,
   "metadata": {},
   "outputs": [
    {
     "name": "stdout",
     "output_type": "stream",
     "text": [
      "Convex hull of the points:  POLYGON ((7.2 -25.1, 2.2 4.2, 9.26 -2.456, 7.2 -25.1))\n"
     ]
    },
    {
     "data": {
      "image/svg+xml": [
       "<svg xmlns=\"http://www.w3.org/2000/svg\" xmlns:xlink=\"http://www.w3.org/1999/xlink\" width=\"100.0\" height=\"100.0\" viewBox=\"1.028 -26.272000000000002 9.404 31.644000000000002\" preserveAspectRatio=\"xMinYMin meet\"><g transform=\"matrix(1,0,0,-1,0,-20.900000000000002)\"><path fill-rule=\"evenodd\" fill=\"#66cc99\" stroke=\"#555555\" stroke-width=\"0.63288\" opacity=\"0.6\" d=\"M 7.2,-25.1 L 2.2,4.2 L 9.26,-2.456 L 7.2,-25.1 z\" /></g></svg>"
      ],
      "text/plain": [
       "<shapely.geometry.polygon.Polygon at 0x1a8539a97f0>"
      ]
     },
     "execution_count": 19,
     "metadata": {},
     "output_type": "execute_result"
    }
   ],
   "source": [
    "# Convex Hull of our MultiPoint --> https://en.wikipedia.org/wiki/Convex_hull\n",
    "convex = multi_point.convex_hull\n",
    "print(\"Convex hull of the points: \", convex)\n",
    "convex"
   ]
  },
  {
   "cell_type": "code",
   "execution_count": 20,
   "metadata": {},
   "outputs": [
    {
     "name": "stdout",
     "output_type": "stream",
     "text": [
      "Number of lines in MultiLineString: 2\n",
      "Area of our MultiPolygon: 39200.0\n",
      "Area of our Western Hemisphere polygon: 6800.0\n",
      "Is polygon valid?:  False\n"
     ]
    }
   ],
   "source": [
    "# How many lines do we have inside our MultiLineString?\n",
    "lines_count = len(multi_line)\n",
    "\n",
    "# Print output:\n",
    "print(\"Number of lines in MultiLineString:\", lines_count)\n",
    "\n",
    "# Let's calculate the area of our MultiPolygon\n",
    "multi_poly_area = multi_poly.area\n",
    "# Let's calculate the area of our Western hemisphere (with a hole) which is at index 0\n",
    "west_area = multi_poly[0].area\n",
    "\n",
    "# Print outputs:\n",
    "print(\"Area of our MultiPolygon:\", multi_poly_area)\n",
    "print(\"Area of our Western Hemisphere polygon:\", west_area)\n",
    "valid = multi_poly.is_valid\n",
    "print(\"Is polygon valid?: \", valid)"
   ]
  },
  {
   "cell_type": "markdown",
   "metadata": {},
   "source": [
    "一个MultiPolygon内的每个polygon互相之间没有交集，则认为其是valid的"
   ]
  }
 ],
 "metadata": {
  "kernelspec": {
   "display_name": "Python 3",
   "language": "python",
   "name": "python3"
  },
  "language_info": {
   "codemirror_mode": {
    "name": "ipython",
    "version": 3
   },
   "file_extension": ".py",
   "mimetype": "text/x-python",
   "name": "python",
   "nbconvert_exporter": "python",
   "pygments_lexer": "ipython3",
   "version": "3.8.10"
  },
  "pycharm": {
   "stem_cell": {
    "cell_type": "raw",
    "metadata": {
     "collapsed": false
    },
    "source": []
   }
  }
 },
 "nbformat": 4,
 "nbformat_minor": 4
}
