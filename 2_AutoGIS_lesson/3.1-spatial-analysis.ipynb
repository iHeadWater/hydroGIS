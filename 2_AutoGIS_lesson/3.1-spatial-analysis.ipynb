{
 "cells": [
  {
   "cell_type": "markdown",
   "metadata": {},
   "source": [
    "# lesson 3\n",
    "\n",
    "本节主要是学习如何使用Shapely, Geopandas和其他相关库管理和分析空间数据:\n",
    "\n",
    "- Geocoding / Geocoding in Geopandas\n",
    "- Conduct a Point in Polygon queries\n",
    "- How to boost spatial queries using spatial index\n",
    "- Make spatial and table joins between layers\n",
    "- Nearest neighbour analysis\n",
    "\n",
    "## 学习目标\n",
    "\n",
    "- 执行geocoding，转换地址为坐标\n",
    "- 执行point-in-polygon查询\n",
    "- 从WFS服务和KML文件中读取数据\n",
    "- 空间连接\n",
    "- 执行最近邻分析，即找到最近的点\n",
    "\n",
    "## Geocoding\n",
    "\n",
    "geocoding，比如地址和Points之间的转换，是非常常见的GIS任务。又非常幸运的是，在python中有一些很nice的库使geocoding很容易。比如[geopy](http://geopy.readthedocs.io/en/1.11.0/)，该库通过使用第三方的geocoders和其他数据源可以很轻松的定位全球地址，城市，国家和地标的坐标。这些第三方geocoders包括：\n",
    "\n",
    "- [ESRI ArcGIS](https://developers.arcgis.com/rest/geocode/api-reference/overview-world-geocoding-service.htm)\n",
    "- [Baidu Maps](http://lbsyun.baidu.com/index.php?title=webapi/guide/webservice-geocoding)\n",
    "- [Bing](https://msdn.microsoft.com/en-us/library/ff701715.aspx)\n",
    "- [GeocodeFarm](https://www.geocode.farm/geocoding/free-api-documentation/)\n",
    "- [GeoNames](http://www.geonames.org/export/geonames-search.html)\n",
    "- [Google Geocoding API (V3)](https://developers.google.com/maps/documentation/geocoding/)\n",
    "- [HERE](https://developer.here.com/documentation/geocoder/)\n",
    "- [IGN France](https://geoservices.ign.fr/documentation/geoservices/index.html)\n",
    "- [Mapquest](https://developer.mapquest.com/documentation/open/)\n",
    "- [OpenCage](https://opencagedata.com/api)\n",
    "- [OpenMapQuest](http://developer.mapquest.com/web/products/open/geocoding-service)\n",
    "- [Open Street Map Nominatim](https://wiki.openstreetmap.org/wiki/Nominatim)\n",
    "- [What3words](https://developer.what3words.com/public-api/docsv2#overview)\n",
    "- [Yandex](https://tech.yandex.com/maps/doc/geocoder/desc/concepts/input_params-docpage/)\n",
    "\n",
    "这些源暂时不一一记录了。总之有很多geocoders可选，他们之间有所不同。不过为了使用服务，需要从服务商那里申请API访问keys，比如google的Geocoding API，需要在谷歌云的[API控制台](https://code.google.com/apis/console)上创建项目并启动一个来自[库](https://console.developers.google.com/apis/library)的API，对google的话，在库中搜索geocoder，会出来Geocoding API，启用它即可。这里有一个如何使用Google API Console的[说明](https://developers.googleblog.com/2016/03/introducing-google-api-console.html)。使用geocoder之前需要获取google的geocoding key api，这部分可以参考谷歌文档[Get an API Key](https://developers.google.com/maps/documentation/geocoding/get-api-key)。按照文档步骤一步步即可。\n",
    "\n",
    "不过这类服务有rate limiting，短时间内的请求太多会报错。不过可以查询[geopy文档](https://geopy.readthedocs.io/en/stable/#usage-with-pandas)看看如何处理rate limiting。\n",
    "\n",
    "更多geocoders信息可参考:[Geocoder: Simple, Consistent](https://geocoder.readthedocs.io/)\n",
    "\n",
    "这里选择使用Nominatim geocoder来定位较小数目的地址。该服务允许每秒1次的请求，可参考[文档](https://operations.osmfoundation.org/policies/nominatim/)\n",
    "\n",
    "因为Nominatim是一基于OpenStreetMap data的，因此当访问的数量不大时，它不需要API key，这点非常棒！\n",
    "\n",
    "### Geocoding in Geopandas\n",
    "\n",
    "geopands整合了geopy的函数。geopandas的geocode()函数可以geocode一系列的地址，并返回一个包含geometry列的GeoDataframe，列中都是地址对应的点。\n",
    "\n",
    "数据在这里下载：https://github.com/Automating-GIS-processes/site/tree/master/source/notebooks/L3/data"
   ]
  },
  {
   "cell_type": "code",
   "execution_count": 1,
   "metadata": {},
   "outputs": [
    {
     "data": {
      "text/html": [
       "<div>\n",
       "<style scoped>\n",
       "    .dataframe tbody tr th:only-of-type {\n",
       "        vertical-align: middle;\n",
       "    }\n",
       "\n",
       "    .dataframe tbody tr th {\n",
       "        vertical-align: top;\n",
       "    }\n",
       "\n",
       "    .dataframe thead th {\n",
       "        text-align: right;\n",
       "    }\n",
       "</style>\n",
       "<table border=\"1\" class=\"dataframe\">\n",
       "  <thead>\n",
       "    <tr style=\"text-align: right;\">\n",
       "      <th></th>\n",
       "      <th>id</th>\n",
       "      <th>addr</th>\n",
       "    </tr>\n",
       "  </thead>\n",
       "  <tbody>\n",
       "    <tr>\n",
       "      <th>0</th>\n",
       "      <td>1000</td>\n",
       "      <td>Itämerenkatu 14, 00101 Helsinki, Finland</td>\n",
       "    </tr>\n",
       "    <tr>\n",
       "      <th>1</th>\n",
       "      <td>1001</td>\n",
       "      <td>Kampinkuja 1, 00100 Helsinki, Finland</td>\n",
       "    </tr>\n",
       "    <tr>\n",
       "      <th>2</th>\n",
       "      <td>1002</td>\n",
       "      <td>Kaivokatu 8, 00101 Helsinki, Finland</td>\n",
       "    </tr>\n",
       "    <tr>\n",
       "      <th>3</th>\n",
       "      <td>1003</td>\n",
       "      <td>Hermannin rantatie 1, 00580 Helsinki, Finland</td>\n",
       "    </tr>\n",
       "    <tr>\n",
       "      <th>4</th>\n",
       "      <td>1005</td>\n",
       "      <td>Tyynenmerenkatu 9, 00220 Helsinki, Finland</td>\n",
       "    </tr>\n",
       "  </tbody>\n",
       "</table>\n",
       "</div>"
      ],
      "text/plain": [
       "     id                                           addr\n",
       "0  1000       Itämerenkatu 14, 00101 Helsinki, Finland\n",
       "1  1001          Kampinkuja 1, 00100 Helsinki, Finland\n",
       "2  1002           Kaivokatu 8, 00101 Helsinki, Finland\n",
       "3  1003  Hermannin rantatie 1, 00580 Helsinki, Finland\n",
       "4  1005     Tyynenmerenkatu 9, 00220 Helsinki, Finland"
      ]
     },
     "execution_count": 1,
     "metadata": {},
     "output_type": "execute_result"
    }
   ],
   "source": [
    "# Import necessary modules\n",
    "import pandas as pd\n",
    "import geopandas as gpd\n",
    "from shapely.geometry import Point\n",
    "\n",
    "# Filepath\n",
    "fp = r\"data/addresses.txt\"\n",
    "\n",
    "# Read the data\n",
    "data = pd.read_csv(fp, sep=';')\n",
    "data.head()"
   ]
  },
  {
   "cell_type": "code",
   "execution_count": 2,
   "metadata": {},
   "outputs": [],
   "source": [
    "# Import the geocoding tool\n",
    "from geopandas.tools import geocode\n",
    "\n",
    "# Geocode addresses using Nominatim. Remember to provide a custom \"application name\" in the user_agent parameter!\n",
    "geo = geocode(data['addr'], provider='nominatim', user_agent='autogis_xx', timeout=4)"
   ]
  },
  {
   "cell_type": "code",
   "execution_count": 3,
   "metadata": {},
   "outputs": [
    {
     "data": {
      "text/html": [
       "<div>\n",
       "<style scoped>\n",
       "    .dataframe tbody tr th:only-of-type {\n",
       "        vertical-align: middle;\n",
       "    }\n",
       "\n",
       "    .dataframe tbody tr th {\n",
       "        vertical-align: top;\n",
       "    }\n",
       "\n",
       "    .dataframe thead th {\n",
       "        text-align: right;\n",
       "    }\n",
       "</style>\n",
       "<table border=\"1\" class=\"dataframe\">\n",
       "  <thead>\n",
       "    <tr style=\"text-align: right;\">\n",
       "      <th></th>\n",
       "      <th>geometry</th>\n",
       "      <th>address</th>\n",
       "    </tr>\n",
       "  </thead>\n",
       "  <tbody>\n",
       "    <tr>\n",
       "      <th>0</th>\n",
       "      <td>POINT (24.91556 60.16320)</td>\n",
       "      <td>Ruoholahti, 14, Itämerenkatu, Ruoholahti, Läns...</td>\n",
       "    </tr>\n",
       "    <tr>\n",
       "      <th>1</th>\n",
       "      <td>POINT (24.93169 60.16902)</td>\n",
       "      <td>Kamppi, 1, Kampinkuja, Kamppi, Eteläinen suurp...</td>\n",
       "    </tr>\n",
       "    <tr>\n",
       "      <th>2</th>\n",
       "      <td>POINT (24.94179 60.16989)</td>\n",
       "      <td>Kauppakeskus Citycenter, 8, Kaivokatu, Keskust...</td>\n",
       "    </tr>\n",
       "    <tr>\n",
       "      <th>3</th>\n",
       "      <td>POINT (24.97759 60.19361)</td>\n",
       "      <td>Hermannin rantatie, Hermanninmäki, Hermanni, K...</td>\n",
       "    </tr>\n",
       "    <tr>\n",
       "      <th>4</th>\n",
       "      <td>POINT (24.92160 60.15665)</td>\n",
       "      <td>Hesburger, 9, Tyynenmerenkatu, Jätkäsaari, Län...</td>\n",
       "    </tr>\n",
       "  </tbody>\n",
       "</table>\n",
       "</div>"
      ],
      "text/plain": [
       "                    geometry  \\\n",
       "0  POINT (24.91556 60.16320)   \n",
       "1  POINT (24.93169 60.16902)   \n",
       "2  POINT (24.94179 60.16989)   \n",
       "3  POINT (24.97759 60.19361)   \n",
       "4  POINT (24.92160 60.15665)   \n",
       "\n",
       "                                             address  \n",
       "0  Ruoholahti, 14, Itämerenkatu, Ruoholahti, Läns...  \n",
       "1  Kamppi, 1, Kampinkuja, Kamppi, Eteläinen suurp...  \n",
       "2  Kauppakeskus Citycenter, 8, Kaivokatu, Keskust...  \n",
       "3  Hermannin rantatie, Hermanninmäki, Hermanni, K...  \n",
       "4  Hesburger, 9, Tyynenmerenkatu, Jätkäsaari, Län...  "
      ]
     },
     "execution_count": 3,
     "metadata": {},
     "output_type": "execute_result"
    }
   ],
   "source": [
    "geo.head()"
   ]
  },
  {
   "cell_type": "markdown",
   "metadata": {},
   "source": [
    "### Table join\n",
    "\n",
    "Table join也是GIS分析中很常用的，也就是基于相同的key属性，把不同表的数据join起来，这在geopandas中可以用merge函数实现。有时基于dataframes的index连接两个表是有用的，比如下面的例子，简言之，就是直接对应行拼接起来。"
   ]
  },
  {
   "cell_type": "code",
   "execution_count": 4,
   "metadata": {},
   "outputs": [
    {
     "data": {
      "text/html": [
       "<div>\n",
       "<style scoped>\n",
       "    .dataframe tbody tr th:only-of-type {\n",
       "        vertical-align: middle;\n",
       "    }\n",
       "\n",
       "    .dataframe tbody tr th {\n",
       "        vertical-align: top;\n",
       "    }\n",
       "\n",
       "    .dataframe thead th {\n",
       "        text-align: right;\n",
       "    }\n",
       "</style>\n",
       "<table border=\"1\" class=\"dataframe\">\n",
       "  <thead>\n",
       "    <tr style=\"text-align: right;\">\n",
       "      <th></th>\n",
       "      <th>geometry</th>\n",
       "      <th>address</th>\n",
       "      <th>id</th>\n",
       "      <th>addr</th>\n",
       "    </tr>\n",
       "  </thead>\n",
       "  <tbody>\n",
       "    <tr>\n",
       "      <th>0</th>\n",
       "      <td>POINT (24.91556 60.16320)</td>\n",
       "      <td>Ruoholahti, 14, Itämerenkatu, Ruoholahti, Läns...</td>\n",
       "      <td>1000</td>\n",
       "      <td>Itämerenkatu 14, 00101 Helsinki, Finland</td>\n",
       "    </tr>\n",
       "    <tr>\n",
       "      <th>1</th>\n",
       "      <td>POINT (24.93169 60.16902)</td>\n",
       "      <td>Kamppi, 1, Kampinkuja, Kamppi, Eteläinen suurp...</td>\n",
       "      <td>1001</td>\n",
       "      <td>Kampinkuja 1, 00100 Helsinki, Finland</td>\n",
       "    </tr>\n",
       "    <tr>\n",
       "      <th>2</th>\n",
       "      <td>POINT (24.94179 60.16989)</td>\n",
       "      <td>Kauppakeskus Citycenter, 8, Kaivokatu, Keskust...</td>\n",
       "      <td>1002</td>\n",
       "      <td>Kaivokatu 8, 00101 Helsinki, Finland</td>\n",
       "    </tr>\n",
       "    <tr>\n",
       "      <th>3</th>\n",
       "      <td>POINT (24.97759 60.19361)</td>\n",
       "      <td>Hermannin rantatie, Hermanninmäki, Hermanni, K...</td>\n",
       "      <td>1003</td>\n",
       "      <td>Hermannin rantatie 1, 00580 Helsinki, Finland</td>\n",
       "    </tr>\n",
       "    <tr>\n",
       "      <th>4</th>\n",
       "      <td>POINT (24.92160 60.15665)</td>\n",
       "      <td>Hesburger, 9, Tyynenmerenkatu, Jätkäsaari, Län...</td>\n",
       "      <td>1005</td>\n",
       "      <td>Tyynenmerenkatu 9, 00220 Helsinki, Finland</td>\n",
       "    </tr>\n",
       "  </tbody>\n",
       "</table>\n",
       "</div>"
      ],
      "text/plain": [
       "                    geometry  \\\n",
       "0  POINT (24.91556 60.16320)   \n",
       "1  POINT (24.93169 60.16902)   \n",
       "2  POINT (24.94179 60.16989)   \n",
       "3  POINT (24.97759 60.19361)   \n",
       "4  POINT (24.92160 60.15665)   \n",
       "\n",
       "                                             address    id  \\\n",
       "0  Ruoholahti, 14, Itämerenkatu, Ruoholahti, Läns...  1000   \n",
       "1  Kamppi, 1, Kampinkuja, Kamppi, Eteläinen suurp...  1001   \n",
       "2  Kauppakeskus Citycenter, 8, Kaivokatu, Keskust...  1002   \n",
       "3  Hermannin rantatie, Hermanninmäki, Hermanni, K...  1003   \n",
       "4  Hesburger, 9, Tyynenmerenkatu, Jätkäsaari, Län...  1005   \n",
       "\n",
       "                                            addr  \n",
       "0       Itämerenkatu 14, 00101 Helsinki, Finland  \n",
       "1          Kampinkuja 1, 00100 Helsinki, Finland  \n",
       "2           Kaivokatu 8, 00101 Helsinki, Finland  \n",
       "3  Hermannin rantatie 1, 00580 Helsinki, Finland  \n",
       "4     Tyynenmerenkatu 9, 00220 Helsinki, Finland  "
      ]
     },
     "execution_count": 4,
     "metadata": {},
     "output_type": "execute_result"
    }
   ],
   "source": [
    "join = geo.join(data)\n",
    "join.head()"
   ]
  },
  {
   "cell_type": "code",
   "execution_count": 5,
   "metadata": {},
   "outputs": [
    {
     "data": {
      "text/plain": [
       "geopandas.geodataframe.GeoDataFrame"
      ]
     },
     "execution_count": 5,
     "metadata": {},
     "output_type": "execute_result"
    }
   ],
   "source": [
    "type(join)"
   ]
  },
  {
   "cell_type": "code",
   "execution_count": 6,
   "metadata": {},
   "outputs": [],
   "source": [
    "# Output file path\n",
    "outfp = r\"data/addresses.shp\"\n",
    "\n",
    "# Save to Shapefile\n",
    "join.to_file(outfp)"
   ]
  },
  {
   "cell_type": "markdown",
   "metadata": {},
   "source": [
    "## Point in Polygon & Intersect\n",
    "\n",
    "判断一个点在一个区域内还是区域外，或者看看一条线有没有和另一条线或多边形相交，都是很常见的地理空间运算。这些都是基于位置来选择数据的操作。这些空间查询是很多空间分析典型的第一步。\n",
    "\n",
    "### 如何判断一个点在不在polygon内\n",
    "\n",
    "这个问题有一个经典算法[Ray Casting algorithm](https://en.wikipedia.org/wiki/Point_in_polygon#Ray_casting_algorithm)。又很幸运的，the Point in Polygon (PIP) query问题不需要手写该算法，使用 [Shapely’s binary predicates](https://shapely.readthedocs.io/en/stable/manual.html#binary-predicates)可以很快的分析地理对象的空间关系。\n",
    "\n",
    "Shapely中有两种基本方式处理PIP问题：\n",
    "\n",
    "1. 使用.within()函数检查一个点是否在polygon内；\n",
    "2. 使用.contains()检查一个polygon是否包含一个point。\n",
    "\n",
    "同样这两个函数还可以检查LineString和Polygon是否在一个Polygon内。"
   ]
  },
  {
   "cell_type": "code",
   "execution_count": 7,
   "metadata": {},
   "outputs": [
    {
     "name": "stdout",
     "output_type": "stream",
     "text": [
      "POINT (24.952242 60.1696017)\n",
      "POINT (24.976567 60.16125)\n",
      "POLYGON ((24.950899 60.169158, 24.953492 60.169158, 24.95351 60.170104, 24.950958 60.16999, 24.950899 60.169158))\n"
     ]
    }
   ],
   "source": [
    "from shapely.geometry import Point, Polygon\n",
    "\n",
    "# Create Point objects\n",
    "p1 = Point(24.952242, 60.1696017)\n",
    "p2 = Point(24.976567, 60.1612500)\n",
    "\n",
    "# Create a Polygon\n",
    "coords = [(24.950899, 60.169158), (24.953492, 60.169158), (24.953510, 60.170104), (24.950958, 60.169990)]\n",
    "poly = Polygon(coords)\n",
    "\n",
    "# Let's check what we have\n",
    "print(p1)\n",
    "print(p2)\n",
    "print(poly)"
   ]
  },
  {
   "cell_type": "code",
   "execution_count": 8,
   "metadata": {},
   "outputs": [
    {
     "data": {
      "text/plain": [
       "True"
      ]
     },
     "execution_count": 8,
     "metadata": {},
     "output_type": "execute_result"
    }
   ],
   "source": [
    "# Check if p1 is within the polygon using the within function\n",
    "p1.within(poly)"
   ]
  },
  {
   "cell_type": "code",
   "execution_count": 9,
   "metadata": {},
   "outputs": [
    {
     "data": {
      "text/plain": [
       "False"
      ]
     },
     "execution_count": 9,
     "metadata": {},
     "output_type": "execute_result"
    }
   ],
   "source": [
    "# Check if p2 is within the polygon\n",
    "p2.within(poly)"
   ]
  },
  {
   "cell_type": "code",
   "execution_count": 10,
   "metadata": {},
   "outputs": [
    {
     "name": "stdout",
     "output_type": "stream",
     "text": [
      "POINT (24.952242 60.1696017)\n",
      "POINT (24.95224242849236 60.16960179038188)\n"
     ]
    }
   ],
   "source": [
    "# Our point\n",
    "print(p1)\n",
    "\n",
    "# The centroid\n",
    "print(poly.centroid)"
   ]
  },
  {
   "cell_type": "code",
   "execution_count": 11,
   "metadata": {},
   "outputs": [
    {
     "data": {
      "text/plain": [
       "True"
      ]
     },
     "execution_count": 11,
     "metadata": {},
     "output_type": "execute_result"
    }
   ],
   "source": [
    "# Does polygon contain p1?\n",
    "poly.contains(p1)"
   ]
  },
  {
   "cell_type": "code",
   "execution_count": 12,
   "metadata": {},
   "outputs": [
    {
     "data": {
      "text/plain": [
       "False"
      ]
     },
     "execution_count": 12,
     "metadata": {},
     "output_type": "execute_result"
    }
   ],
   "source": [
    "# Does polygon contain p2?\n",
    "poly.contains(p2)"
   ]
  },
  {
   "cell_type": "markdown",
   "metadata": {},
   "source": [
    "如果有许多点，只有一个polygon，然后找出哪些点在polygon，那就循环点，使用within来判断；如果有很多polygons，有一个点，那就用contains函数。\n",
    "\n",
    "### Intersect\n",
    "\n",
    "另一个常用的地理空间运算是看一个geometry是否和另一个相交或接触。Shapely中有两个运算可以检验这种空间关系：\n",
    "\n",
    "- intersect()：两个geometry，一个边界或内部以任意方式和另一个的边界或内部相交；\n",
    "- touches()：两个对象，如果两个对象有至少一个共同的点，并且内部不相交，那么就是touch的。\n",
    "\n",
    "接着直接上例子："
   ]
  },
  {
   "cell_type": "code",
   "execution_count": 13,
   "metadata": {},
   "outputs": [
    {
     "data": {
      "text/plain": [
       "True"
      ]
     },
     "execution_count": 13,
     "metadata": {},
     "output_type": "execute_result"
    }
   ],
   "source": [
    "from shapely.geometry import LineString, MultiLineString\n",
    "\n",
    "# Create two lines\n",
    "line_a = LineString([(0, 0), (1, 1)])\n",
    "line_b = LineString([(1, 1), (0, 2)])\n",
    "line_a.intersects(line_b)"
   ]
  },
  {
   "cell_type": "code",
   "execution_count": 14,
   "metadata": {},
   "outputs": [
    {
     "data": {
      "text/plain": [
       "True"
      ]
     },
     "execution_count": 14,
     "metadata": {},
     "output_type": "execute_result"
    }
   ],
   "source": [
    "line_a.touches(line_b)"
   ]
  },
  {
   "cell_type": "code",
   "execution_count": 15,
   "metadata": {},
   "outputs": [
    {
     "data": {
      "image/svg+xml": [
       "<svg xmlns=\"http://www.w3.org/2000/svg\" xmlns:xlink=\"http://www.w3.org/1999/xlink\" width=\"100.0\" height=\"100.0\" viewBox=\"-0.08 -0.08 1.1600000000000001 2.16\" preserveAspectRatio=\"xMinYMin meet\"><g transform=\"matrix(1,0,0,-1,0,2.0)\"><g><polyline fill=\"none\" stroke=\"#66cc99\" stroke-width=\"0.0432\" points=\"0.0,0.0 1.0,1.0\" opacity=\"0.8\" /><polyline fill=\"none\" stroke=\"#66cc99\" stroke-width=\"0.0432\" points=\"1.0,1.0 0.0,2.0\" opacity=\"0.8\" /></g></g></svg>"
      ],
      "text/plain": [
       "<shapely.geometry.multilinestring.MultiLineString at 0x14c184f9a00>"
      ]
     },
     "execution_count": 15,
     "metadata": {},
     "output_type": "execute_result"
    }
   ],
   "source": [
    "# Create a MultiLineString from line_a and line_b\n",
    "multi_line = MultiLineString([line_a, line_b])\n",
    "multi_line"
   ]
  },
  {
   "cell_type": "code",
   "execution_count": 16,
   "metadata": {},
   "outputs": [
    {
     "data": {
      "text/plain": [
       "False"
      ]
     },
     "execution_count": 16,
     "metadata": {},
     "output_type": "execute_result"
    }
   ],
   "source": [
    "# Does the line touch with itself?\n",
    "line_a.touches(line_a)"
   ]
  },
  {
   "cell_type": "code",
   "execution_count": 17,
   "metadata": {},
   "outputs": [
    {
     "data": {
      "text/plain": [
       "True"
      ]
     },
     "execution_count": 17,
     "metadata": {},
     "output_type": "execute_result"
    }
   ],
   "source": [
    "# Does the line intersect with itself?\n",
    "line_a.intersects(line_a)"
   ]
  },
  {
   "cell_type": "markdown",
   "metadata": {},
   "source": [
    "### Point in Polygon using Geopandas\n",
    "\n",
    "接下来一个实例是判断哪些地点在一个区域内。数据可以在[这里](https://github.com/Automating-GIS-processes/site/tree/master/source/notebooks/L3/data)下载，这里已经下载好了，不必再下载了。"
   ]
  },
  {
   "cell_type": "code",
   "execution_count": 18,
   "metadata": {},
   "outputs": [
    {
     "data": {
      "text/html": [
       "<div>\n",
       "<style scoped>\n",
       "    .dataframe tbody tr th:only-of-type {\n",
       "        vertical-align: middle;\n",
       "    }\n",
       "\n",
       "    .dataframe tbody tr th {\n",
       "        vertical-align: top;\n",
       "    }\n",
       "\n",
       "    .dataframe thead th {\n",
       "        text-align: right;\n",
       "    }\n",
       "</style>\n",
       "<table border=\"1\" class=\"dataframe\">\n",
       "  <thead>\n",
       "    <tr style=\"text-align: right;\">\n",
       "      <th></th>\n",
       "      <th>address</th>\n",
       "      <th>id</th>\n",
       "      <th>addr</th>\n",
       "      <th>geometry</th>\n",
       "    </tr>\n",
       "  </thead>\n",
       "  <tbody>\n",
       "    <tr>\n",
       "      <th>0</th>\n",
       "      <td>Ruoholahti, 14, Itämerenkatu, Ruoholahti, Läns...</td>\n",
       "      <td>1000</td>\n",
       "      <td>Itämerenkatu 14, 00101 Helsinki, Finland</td>\n",
       "      <td>POINT (24.91556 60.16320)</td>\n",
       "    </tr>\n",
       "    <tr>\n",
       "      <th>1</th>\n",
       "      <td>Kamppi, 1, Kampinkuja, Kamppi, Eteläinen suurp...</td>\n",
       "      <td>1001</td>\n",
       "      <td>Kampinkuja 1, 00100 Helsinki, Finland</td>\n",
       "      <td>POINT (24.93169 60.16902)</td>\n",
       "    </tr>\n",
       "    <tr>\n",
       "      <th>2</th>\n",
       "      <td>Kauppakeskus Citycenter, 8, Kaivokatu, Keskust...</td>\n",
       "      <td>1002</td>\n",
       "      <td>Kaivokatu 8, 00101 Helsinki, Finland</td>\n",
       "      <td>POINT (24.94179 60.16989)</td>\n",
       "    </tr>\n",
       "    <tr>\n",
       "      <th>3</th>\n",
       "      <td>Hermannin rantatie, Hermanninmäki, Hermanni, K...</td>\n",
       "      <td>1003</td>\n",
       "      <td>Hermannin rantatie 1, 00580 Helsinki, Finland</td>\n",
       "      <td>POINT (24.97759 60.19361)</td>\n",
       "    </tr>\n",
       "    <tr>\n",
       "      <th>4</th>\n",
       "      <td>Hesburger, 9, Tyynenmerenkatu, Jätkäsaari, Län...</td>\n",
       "      <td>1005</td>\n",
       "      <td>Tyynenmerenkatu 9, 00220 Helsinki, Finland</td>\n",
       "      <td>POINT (24.92160 60.15665)</td>\n",
       "    </tr>\n",
       "  </tbody>\n",
       "</table>\n",
       "</div>"
      ],
      "text/plain": [
       "                                             address    id  \\\n",
       "0  Ruoholahti, 14, Itämerenkatu, Ruoholahti, Läns...  1000   \n",
       "1  Kamppi, 1, Kampinkuja, Kamppi, Eteläinen suurp...  1001   \n",
       "2  Kauppakeskus Citycenter, 8, Kaivokatu, Keskust...  1002   \n",
       "3  Hermannin rantatie, Hermanninmäki, Hermanni, K...  1003   \n",
       "4  Hesburger, 9, Tyynenmerenkatu, Jätkäsaari, Län...  1005   \n",
       "\n",
       "                                            addr                   geometry  \n",
       "0       Itämerenkatu 14, 00101 Helsinki, Finland  POINT (24.91556 60.16320)  \n",
       "1          Kampinkuja 1, 00100 Helsinki, Finland  POINT (24.93169 60.16902)  \n",
       "2           Kaivokatu 8, 00101 Helsinki, Finland  POINT (24.94179 60.16989)  \n",
       "3  Hermannin rantatie 1, 00580 Helsinki, Finland  POINT (24.97759 60.19361)  \n",
       "4     Tyynenmerenkatu 9, 00220 Helsinki, Finland  POINT (24.92160 60.15665)  "
      ]
     },
     "execution_count": 18,
     "metadata": {},
     "output_type": "execute_result"
    }
   ],
   "source": [
    "import geopandas as gpd\n",
    "\n",
    "fp = \"data/addresses.shp\"\n",
    "data = gpd.read_file(fp)\n",
    "\n",
    "data.head()"
   ]
  },
  {
   "cell_type": "markdown",
   "metadata": {},
   "source": [
    "在geopandas中读取KML文件和shapefile文件读取比较像。不过首先，要使能KML驱动，它不是默认可用的（因为KML文件可能包含不支持的数据结构，比如嵌套的文件夹等，因此读取KML文件要小心）。目前支持的驱动可见：[fiona.supported_drivers](https://github.com/Toblerity/Fiona/blob/master/fiona/drvsupport.py)，这些都被整合进geopandas了。"
   ]
  },
  {
   "cell_type": "code",
   "execution_count": 19,
   "metadata": {},
   "outputs": [
    {
     "data": {
      "text/plain": [
       "{'AeronavFAA': 'r',\n",
       " 'ARCGEN': 'r',\n",
       " 'BNA': 'rw',\n",
       " 'DXF': 'rw',\n",
       " 'CSV': 'raw',\n",
       " 'OpenFileGDB': 'r',\n",
       " 'ESRIJSON': 'r',\n",
       " 'ESRI Shapefile': 'raw',\n",
       " 'FlatGeobuf': 'rw',\n",
       " 'GeoJSON': 'raw',\n",
       " 'GeoJSONSeq': 'rw',\n",
       " 'GPKG': 'raw',\n",
       " 'GML': 'rw',\n",
       " 'OGR_GMT': 'rw',\n",
       " 'GPX': 'rw',\n",
       " 'GPSTrackMaker': 'rw',\n",
       " 'Idrisi': 'r',\n",
       " 'MapInfo File': 'raw',\n",
       " 'DGN': 'raw',\n",
       " 'PCIDSK': 'rw',\n",
       " 'OGR_PDS': 'r',\n",
       " 'S57': 'r',\n",
       " 'SEGY': 'r',\n",
       " 'SUA': 'r',\n",
       " 'TopoJSON': 'r'}"
      ]
     },
     "execution_count": 19,
     "metadata": {},
     "output_type": "execute_result"
    }
   ],
   "source": [
    "import geopandas as gpd\n",
    "# 检查支持哪些格式\n",
    "gpd.io.file.fiona.drvsupport.supported_drivers"
   ]
  },
  {
   "cell_type": "markdown",
   "metadata": {},
   "source": [
    "通过传递'rw'参数给fiona支持的驱动的白名单来使驱动有读写功能。"
   ]
  },
  {
   "cell_type": "code",
   "execution_count": 20,
   "metadata": {},
   "outputs": [],
   "source": [
    "gpd.io.file.fiona.drvsupport.supported_drivers['KML'] = 'rw'"
   ]
  },
  {
   "cell_type": "markdown",
   "metadata": {},
   "source": [
    "再看看支持的驱动情况："
   ]
  },
  {
   "cell_type": "code",
   "execution_count": 21,
   "metadata": {},
   "outputs": [
    {
     "data": {
      "text/plain": [
       "{'AeronavFAA': 'r',\n",
       " 'ARCGEN': 'r',\n",
       " 'BNA': 'rw',\n",
       " 'DXF': 'rw',\n",
       " 'CSV': 'raw',\n",
       " 'OpenFileGDB': 'r',\n",
       " 'ESRIJSON': 'r',\n",
       " 'ESRI Shapefile': 'raw',\n",
       " 'FlatGeobuf': 'rw',\n",
       " 'GeoJSON': 'raw',\n",
       " 'GeoJSONSeq': 'rw',\n",
       " 'GPKG': 'raw',\n",
       " 'GML': 'rw',\n",
       " 'OGR_GMT': 'rw',\n",
       " 'GPX': 'rw',\n",
       " 'GPSTrackMaker': 'rw',\n",
       " 'Idrisi': 'r',\n",
       " 'MapInfo File': 'raw',\n",
       " 'DGN': 'raw',\n",
       " 'PCIDSK': 'rw',\n",
       " 'OGR_PDS': 'r',\n",
       " 'S57': 'r',\n",
       " 'SEGY': 'r',\n",
       " 'SUA': 'r',\n",
       " 'TopoJSON': 'r',\n",
       " 'KML': 'rw'}"
      ]
     },
     "execution_count": 21,
     "metadata": {},
     "output_type": "execute_result"
    }
   ],
   "source": [
    "gpd.io.file.fiona.drvsupport.supported_drivers"
   ]
  },
  {
   "cell_type": "markdown",
   "metadata": {},
   "source": [
    "可以看到KML已经是可读写的了。现在可以读取KML文件了。"
   ]
  },
  {
   "cell_type": "code",
   "execution_count": 22,
   "metadata": {},
   "outputs": [
    {
     "name": "stdout",
     "output_type": "stream",
     "text": [
      "Number of rows: 23\n"
     ]
    },
    {
     "data": {
      "text/html": [
       "<div>\n",
       "<style scoped>\n",
       "    .dataframe tbody tr th:only-of-type {\n",
       "        vertical-align: middle;\n",
       "    }\n",
       "\n",
       "    .dataframe tbody tr th {\n",
       "        vertical-align: top;\n",
       "    }\n",
       "\n",
       "    .dataframe thead th {\n",
       "        text-align: right;\n",
       "    }\n",
       "</style>\n",
       "<table border=\"1\" class=\"dataframe\">\n",
       "  <thead>\n",
       "    <tr style=\"text-align: right;\">\n",
       "      <th></th>\n",
       "      <th>Name</th>\n",
       "      <th>Description</th>\n",
       "      <th>geometry</th>\n",
       "    </tr>\n",
       "  </thead>\n",
       "  <tbody>\n",
       "    <tr>\n",
       "      <th>0</th>\n",
       "      <td>Suur-Espoonlahti</td>\n",
       "      <td></td>\n",
       "      <td>POLYGON Z ((24.77506 60.10906 0.00000, 24.7766...</td>\n",
       "    </tr>\n",
       "    <tr>\n",
       "      <th>1</th>\n",
       "      <td>Suur-Kauklahti</td>\n",
       "      <td></td>\n",
       "      <td>POLYGON Z ((24.61578 60.17257 0.00000, 24.6155...</td>\n",
       "    </tr>\n",
       "    <tr>\n",
       "      <th>2</th>\n",
       "      <td>Vanha-Espoo</td>\n",
       "      <td></td>\n",
       "      <td>POLYGON Z ((24.67576 60.21201 0.00000, 24.6752...</td>\n",
       "    </tr>\n",
       "    <tr>\n",
       "      <th>3</th>\n",
       "      <td>Pohjois-Espoo</td>\n",
       "      <td></td>\n",
       "      <td>POLYGON Z ((24.76792 60.26920 0.00000, 24.7699...</td>\n",
       "    </tr>\n",
       "    <tr>\n",
       "      <th>4</th>\n",
       "      <td>Suur-Matinkylä</td>\n",
       "      <td></td>\n",
       "      <td>POLYGON Z ((24.75361 60.16631 0.00000, 24.7537...</td>\n",
       "    </tr>\n",
       "    <tr>\n",
       "      <th>5</th>\n",
       "      <td>Kauniainen</td>\n",
       "      <td></td>\n",
       "      <td>POLYGON Z ((24.69075 60.21958 0.00000, 24.6924...</td>\n",
       "    </tr>\n",
       "    <tr>\n",
       "      <th>6</th>\n",
       "      <td>Suur-Leppävaara</td>\n",
       "      <td></td>\n",
       "      <td>POLYGON Z ((24.79747 60.20827 0.00000, 24.7954...</td>\n",
       "    </tr>\n",
       "    <tr>\n",
       "      <th>7</th>\n",
       "      <td>Suur-Tapiola</td>\n",
       "      <td></td>\n",
       "      <td>POLYGON Z ((24.84436 60.16598 0.00000, 24.8443...</td>\n",
       "    </tr>\n",
       "    <tr>\n",
       "      <th>8</th>\n",
       "      <td>Myyrmäki</td>\n",
       "      <td></td>\n",
       "      <td>POLYGON Z ((24.82459 60.29025 0.00000, 24.8243...</td>\n",
       "    </tr>\n",
       "    <tr>\n",
       "      <th>9</th>\n",
       "      <td>Kivistö</td>\n",
       "      <td></td>\n",
       "      <td>POLYGON Z ((24.94309 60.33845 0.00000, 24.9421...</td>\n",
       "    </tr>\n",
       "    <tr>\n",
       "      <th>10</th>\n",
       "      <td>Eteläinen</td>\n",
       "      <td></td>\n",
       "      <td>POLYGON Z ((24.78277 60.09997 0.00000, 24.8197...</td>\n",
       "    </tr>\n",
       "  </tbody>\n",
       "</table>\n",
       "</div>"
      ],
      "text/plain": [
       "                Name Description  \\\n",
       "0   Suur-Espoonlahti               \n",
       "1     Suur-Kauklahti               \n",
       "2        Vanha-Espoo               \n",
       "3      Pohjois-Espoo               \n",
       "4     Suur-Matinkylä               \n",
       "5         Kauniainen               \n",
       "6    Suur-Leppävaara               \n",
       "7       Suur-Tapiola               \n",
       "8           Myyrmäki               \n",
       "9            Kivistö               \n",
       "10         Eteläinen               \n",
       "\n",
       "                                             geometry  \n",
       "0   POLYGON Z ((24.77506 60.10906 0.00000, 24.7766...  \n",
       "1   POLYGON Z ((24.61578 60.17257 0.00000, 24.6155...  \n",
       "2   POLYGON Z ((24.67576 60.21201 0.00000, 24.6752...  \n",
       "3   POLYGON Z ((24.76792 60.26920 0.00000, 24.7699...  \n",
       "4   POLYGON Z ((24.75361 60.16631 0.00000, 24.7537...  \n",
       "5   POLYGON Z ((24.69075 60.21958 0.00000, 24.6924...  \n",
       "6   POLYGON Z ((24.79747 60.20827 0.00000, 24.7954...  \n",
       "7   POLYGON Z ((24.84436 60.16598 0.00000, 24.8443...  \n",
       "8   POLYGON Z ((24.82459 60.29025 0.00000, 24.8243...  \n",
       "9   POLYGON Z ((24.94309 60.33845 0.00000, 24.9421...  \n",
       "10  POLYGON Z ((24.78277 60.09997 0.00000, 24.8197...  "
      ]
     },
     "execution_count": 22,
     "metadata": {},
     "output_type": "execute_result"
    }
   ],
   "source": [
    "# Filepath to KML file\n",
    "fp = \"data/PKS_suuralue.kml\"\n",
    "polys = gpd.read_file(fp, driver='KML')\n",
    "#Check the data\n",
    "print(\"Number of rows:\",len(polys))\n",
    "polys.head(11)"
   ]
  },
  {
   "cell_type": "markdown",
   "metadata": {},
   "source": [
    "可以看到数据已经读出，例子中有23个地区，都是polygon。"
   ]
  },
  {
   "cell_type": "code",
   "execution_count": 23,
   "metadata": {},
   "outputs": [
    {
     "data": {
      "text/plain": [
       "<AxesSubplot:>"
      ]
     },
     "execution_count": 23,
     "metadata": {},
     "output_type": "execute_result"
    },
    {
     "data": {
      "image/png": "[encoded data removed]",
      "text/plain": [
       "<Figure size 432x288 with 1 Axes>"
      ]
     },
     "metadata": {
      "needs_background": "light"
     },
     "output_type": "display_data"
    }
   ],
   "source": [
    "%matplotlib inline\n",
    "polys.plot()"
   ]
  },
  {
   "cell_type": "markdown",
   "metadata": {},
   "source": [
    "这里作为例子的感兴趣的地区是Eteläinen (‘Southern’ in English).\n",
    "\n",
    "选出该区域来运算。"
   ]
  },
  {
   "cell_type": "code",
   "execution_count": 24,
   "metadata": {},
   "outputs": [
    {
     "data": {
      "text/html": [
       "<div>\n",
       "<style scoped>\n",
       "    .dataframe tbody tr th:only-of-type {\n",
       "        vertical-align: middle;\n",
       "    }\n",
       "\n",
       "    .dataframe tbody tr th {\n",
       "        vertical-align: top;\n",
       "    }\n",
       "\n",
       "    .dataframe thead th {\n",
       "        text-align: right;\n",
       "    }\n",
       "</style>\n",
       "<table border=\"1\" class=\"dataframe\">\n",
       "  <thead>\n",
       "    <tr style=\"text-align: right;\">\n",
       "      <th></th>\n",
       "      <th>Name</th>\n",
       "      <th>Description</th>\n",
       "      <th>geometry</th>\n",
       "    </tr>\n",
       "  </thead>\n",
       "  <tbody>\n",
       "    <tr>\n",
       "      <th>0</th>\n",
       "      <td>Eteläinen</td>\n",
       "      <td></td>\n",
       "      <td>POLYGON Z ((24.78277 60.09997 0.00000, 24.8197...</td>\n",
       "    </tr>\n",
       "  </tbody>\n",
       "</table>\n",
       "</div>"
      ],
      "text/plain": [
       "        Name Description                                           geometry\n",
       "0  Eteläinen              POLYGON Z ((24.78277 60.09997 0.00000, 24.8197..."
      ]
     },
     "execution_count": 24,
     "metadata": {},
     "output_type": "execute_result"
    }
   ],
   "source": [
    "# Select data\n",
    "southern = polys.loc[polys['Name']=='Eteläinen']\n",
    "# Reset index for the selection\n",
    "southern.reset_index(drop=True, inplace=True)\n",
    "# Check the selction\n",
    "southern.head()"
   ]
  },
  {
   "cell_type": "markdown",
   "metadata": {},
   "source": [
    "接下来，首先画出这个感兴趣的区域，然后再把地点都标到地图上。"
   ]
  },
  {
   "cell_type": "code",
   "execution_count": 25,
   "metadata": {},
   "outputs": [
    {
     "data": {
      "image/png": "[encoded data removed]",
      "text/plain": [
       "<Figure size 432x288 with 1 Axes>"
      ]
     },
     "metadata": {
      "needs_background": "light"
     },
     "output_type": "display_data"
    }
   ],
   "source": [
    "import matplotlib.pyplot as plt\n",
    "\n",
    "# Create a figure with one subplot\n",
    "fig, ax = plt.subplots()\n",
    "\n",
    "# Plot polygons\n",
    "polys.plot(ax=ax, facecolor='gray')\n",
    "southern.plot(ax=ax, facecolor='red')\n",
    "\n",
    "# Plot points\n",
    "data.plot(ax=ax, color='blue', markersize=5)\n",
    "\n",
    "plt.tight_layout()"
   ]
  },
  {
   "cell_type": "markdown",
   "metadata": {},
   "source": [
    "可以看到有一些点是在红色区域内的。接着就执行那个PIP操作。首先，检查下有没有使shapely.speedups可用。该module可以使空间查询执行更快（从shapely 1.6.0开始，加速是默认的）。"
   ]
  },
  {
   "cell_type": "code",
   "execution_count": 26,
   "metadata": {},
   "outputs": [
    {
     "data": {
      "text/plain": [
       "True"
      ]
     },
     "execution_count": 26,
     "metadata": {},
     "output_type": "execute_result"
    }
   ],
   "source": [
    "#import shapely.speedups\n",
    "from shapely import speedups\n",
    "speedups.enabled\n",
    "\n",
    "# If false, run this line:\n",
    "#shapely.speedups.enable()"
   ]
  },
  {
   "cell_type": "markdown",
   "metadata": {},
   "source": [
    "现在来检查下哪些点在southern polygon中。check if the Points are within the geometry of the southern GeoDataFrame."
   ]
  },
  {
   "cell_type": "code",
   "execution_count": 27,
   "metadata": {},
   "outputs": [
    {
     "name": "stdout",
     "output_type": "stream",
     "text": [
      "0      True\n",
      "1      True\n",
      "2      True\n",
      "3     False\n",
      "4      True\n",
      "5     False\n",
      "6     False\n",
      "7     False\n",
      "8     False\n",
      "9     False\n",
      "10     True\n",
      "11    False\n",
      "12    False\n",
      "13    False\n",
      "14    False\n",
      "15    False\n",
      "16    False\n",
      "17    False\n",
      "18    False\n",
      "19    False\n",
      "20    False\n",
      "21    False\n",
      "22    False\n",
      "23    False\n",
      "24    False\n",
      "25    False\n",
      "26    False\n",
      "27    False\n",
      "28    False\n",
      "29    False\n",
      "30     True\n",
      "31     True\n",
      "32     True\n",
      "33     True\n",
      "dtype: bool\n"
     ]
    }
   ],
   "source": [
    "pip_mask = data.within(southern.at[0, 'geometry'])\n",
    "print(pip_mask)"
   ]
  },
  {
   "cell_type": "markdown",
   "metadata": {},
   "source": [
    "如上结果所示，得到很多boolean值。为True的就是point在polygon中的，false的就是不在的。现在可以用mask来选择在polygon中的点了。通过pandas的索引，可以很容易实现。"
   ]
  },
  {
   "cell_type": "code",
   "execution_count": 28,
   "metadata": {},
   "outputs": [
    {
     "data": {
      "text/html": [
       "<div>\n",
       "<style scoped>\n",
       "    .dataframe tbody tr th:only-of-type {\n",
       "        vertical-align: middle;\n",
       "    }\n",
       "\n",
       "    .dataframe tbody tr th {\n",
       "        vertical-align: top;\n",
       "    }\n",
       "\n",
       "    .dataframe thead th {\n",
       "        text-align: right;\n",
       "    }\n",
       "</style>\n",
       "<table border=\"1\" class=\"dataframe\">\n",
       "  <thead>\n",
       "    <tr style=\"text-align: right;\">\n",
       "      <th></th>\n",
       "      <th>address</th>\n",
       "      <th>id</th>\n",
       "      <th>addr</th>\n",
       "      <th>geometry</th>\n",
       "    </tr>\n",
       "  </thead>\n",
       "  <tbody>\n",
       "    <tr>\n",
       "      <th>0</th>\n",
       "      <td>Ruoholahti, 14, Itämerenkatu, Ruoholahti, Läns...</td>\n",
       "      <td>1000</td>\n",
       "      <td>Itämerenkatu 14, 00101 Helsinki, Finland</td>\n",
       "      <td>POINT (24.91556 60.16320)</td>\n",
       "    </tr>\n",
       "    <tr>\n",
       "      <th>1</th>\n",
       "      <td>Kamppi, 1, Kampinkuja, Kamppi, Eteläinen suurp...</td>\n",
       "      <td>1001</td>\n",
       "      <td>Kampinkuja 1, 00100 Helsinki, Finland</td>\n",
       "      <td>POINT (24.93169 60.16902)</td>\n",
       "    </tr>\n",
       "    <tr>\n",
       "      <th>2</th>\n",
       "      <td>Kauppakeskus Citycenter, 8, Kaivokatu, Keskust...</td>\n",
       "      <td>1002</td>\n",
       "      <td>Kaivokatu 8, 00101 Helsinki, Finland</td>\n",
       "      <td>POINT (24.94179 60.16989)</td>\n",
       "    </tr>\n",
       "    <tr>\n",
       "      <th>4</th>\n",
       "      <td>Hesburger, 9, Tyynenmerenkatu, Jätkäsaari, Län...</td>\n",
       "      <td>1005</td>\n",
       "      <td>Tyynenmerenkatu 9, 00220 Helsinki, Finland</td>\n",
       "      <td>POINT (24.92160 60.15665)</td>\n",
       "    </tr>\n",
       "    <tr>\n",
       "      <th>10</th>\n",
       "      <td>Rautatientori, 2, Kaivokatu, Keskusta, Kluuvi,...</td>\n",
       "      <td>1011</td>\n",
       "      <td>Rautatientori 1, 00100 Helsinki, Finland</td>\n",
       "      <td>POINT (24.93985 60.17038)</td>\n",
       "    </tr>\n",
       "    <tr>\n",
       "      <th>30</th>\n",
       "      <td>Kampin keskus, 1, Urho Kekkosen katu, Kamppi, ...</td>\n",
       "      <td>1031</td>\n",
       "      <td>Urho Kekkosen katu 1, 00100 Helsinki, Finland</td>\n",
       "      <td>POINT (24.93312 60.16909)</td>\n",
       "    </tr>\n",
       "    <tr>\n",
       "      <th>31</th>\n",
       "      <td>Ruoholahdenkatu, Hietalahti, Kamppi, Eteläinen...</td>\n",
       "      <td>1032</td>\n",
       "      <td>Ruoholahdenkatu 17, 00101 Helsinki, Finland</td>\n",
       "      <td>POINT (24.92496 60.16497)</td>\n",
       "    </tr>\n",
       "    <tr>\n",
       "      <th>32</th>\n",
       "      <td>Easy Cycles, 3, Tyynenmerenkatu, Jätkäsaari, L...</td>\n",
       "      <td>1033</td>\n",
       "      <td>Tyynenmerenkatu 3, 00220 Helsinki, Finland</td>\n",
       "      <td>POINT (24.92119 60.15890)</td>\n",
       "    </tr>\n",
       "    <tr>\n",
       "      <th>33</th>\n",
       "      <td>Oluthuone Kaisla, 4, Vilhonkatu, Kaisaniemi, K...</td>\n",
       "      <td>1034</td>\n",
       "      <td>Vilhonkatu 4, 00101 Helsinki, Finland</td>\n",
       "      <td>POINT (24.94709 60.17191)</td>\n",
       "    </tr>\n",
       "  </tbody>\n",
       "</table>\n",
       "</div>"
      ],
      "text/plain": [
       "                                              address    id  \\\n",
       "0   Ruoholahti, 14, Itämerenkatu, Ruoholahti, Läns...  1000   \n",
       "1   Kamppi, 1, Kampinkuja, Kamppi, Eteläinen suurp...  1001   \n",
       "2   Kauppakeskus Citycenter, 8, Kaivokatu, Keskust...  1002   \n",
       "4   Hesburger, 9, Tyynenmerenkatu, Jätkäsaari, Län...  1005   \n",
       "10  Rautatientori, 2, Kaivokatu, Keskusta, Kluuvi,...  1011   \n",
       "30  Kampin keskus, 1, Urho Kekkosen katu, Kamppi, ...  1031   \n",
       "31  Ruoholahdenkatu, Hietalahti, Kamppi, Eteläinen...  1032   \n",
       "32  Easy Cycles, 3, Tyynenmerenkatu, Jätkäsaari, L...  1033   \n",
       "33  Oluthuone Kaisla, 4, Vilhonkatu, Kaisaniemi, K...  1034   \n",
       "\n",
       "                                             addr                   geometry  \n",
       "0        Itämerenkatu 14, 00101 Helsinki, Finland  POINT (24.91556 60.16320)  \n",
       "1           Kampinkuja 1, 00100 Helsinki, Finland  POINT (24.93169 60.16902)  \n",
       "2            Kaivokatu 8, 00101 Helsinki, Finland  POINT (24.94179 60.16989)  \n",
       "4      Tyynenmerenkatu 9, 00220 Helsinki, Finland  POINT (24.92160 60.15665)  \n",
       "10       Rautatientori 1, 00100 Helsinki, Finland  POINT (24.93985 60.17038)  \n",
       "30  Urho Kekkosen katu 1, 00100 Helsinki, Finland  POINT (24.93312 60.16909)  \n",
       "31    Ruoholahdenkatu 17, 00101 Helsinki, Finland  POINT (24.92496 60.16497)  \n",
       "32     Tyynenmerenkatu 3, 00220 Helsinki, Finland  POINT (24.92119 60.15890)  \n",
       "33          Vilhonkatu 4, 00101 Helsinki, Finland  POINT (24.94709 60.17191)  "
      ]
     },
     "execution_count": 28,
     "metadata": {},
     "output_type": "execute_result"
    }
   ],
   "source": [
    "pip_data = data.loc[pip_mask]\n",
    "pip_data"
   ]
  },
  {
   "cell_type": "markdown",
   "metadata": {},
   "source": [
    "最后可视化结果确认下PIP查询执行的效果。"
   ]
  },
  {
   "cell_type": "code",
   "execution_count": 29,
   "metadata": {},
   "outputs": [
    {
     "data": {
      "image/png": "[encoded data removed]",
      "text/plain": [
       "<Figure size 432x288 with 1 Axes>"
      ]
     },
     "metadata": {
      "needs_background": "light"
     },
     "output_type": "display_data"
    }
   ],
   "source": [
    "# Create a figure with one subplot\n",
    "fig, ax = plt.subplots()\n",
    "\n",
    "# Plot polygons\n",
    "polys.plot(ax=ax, facecolor='gray')\n",
    "southern.plot(ax=ax, facecolor='red')\n",
    "\n",
    "# Plot points\n",
    "pip_data.plot(ax=ax, color='gold', markersize=2)\n",
    "\n",
    "plt.tight_layout()"
   ]
  },
  {
   "cell_type": "markdown",
   "metadata": {},
   "source": [
    "至此，就把包含在polygon中的点找出来了。\n",
    "\n",
    "## Spatial index - How to boost spatial queries\n",
    "\n",
    "从性能的角度来说，之前的例子中用的方法都是比较慢的。尤其是面对大数据集的时候，PIP会非常慢，这会成为一个瓶颈。\n",
    "\n",
    "又幸运地是有一种称为spatial index的解决办法，能显著地提升空间查询的性能。比如基于R-tree数据结构的空间索引。这里就不展开了，总之是一种索引性能不错的tree的结构，以分组的形式聚集了相邻对象，然后重复了几次该过程构建了一个树结构，每个节点都有自己的范围。如下图所示\n",
    "\n",
    "![](pictures/Rtree-IBM.png)\n",
    "\n",
    "直接上例子。"
   ]
  },
  {
   "cell_type": "code",
   "execution_count": 30,
   "metadata": {},
   "outputs": [
    {
     "name": "stdout",
     "output_type": "stream",
     "text": [
      "            x            y                        geometry\n",
      "0  330888.502  6675829.949  POINT (330888.502 6675829.949)\n",
      "1  348059.990  6670041.685  POINT (348059.990 6670041.685)\n",
      "2  348022.592  6670202.858  POINT (348022.592 6670202.858)\n",
      "3  297208.220  6669048.357  POINT (297208.220 6669048.357)\n",
      "4  330835.341  6675586.834  POINT (330835.341 6675586.834) \n",
      "-------\n",
      "  posti_alue  he_vakiy                                           geometry\n",
      "0      00100   18284.0  MULTIPOLYGON (((385653.893 6671591.048, 385573...\n",
      "1      00120    7108.0  MULTIPOLYGON (((385316.092 6671076.984, 385279...\n",
      "2      00130    1508.0  MULTIPOLYGON (((386212.111 6671061.262, 386176...\n",
      "3      00140    7865.0  MULTIPOLYGON (((386577.050 6670280.544, 386552...\n",
      "4      00150    9496.0  MULTIPOLYGON (((384846.102 6669565.816, 384823...\n"
     ]
    }
   ],
   "source": [
    "import geopandas as gpd\n",
    "\n",
    "# Filepaths\n",
    "intersections_fp = \"data/uusimaa_intersections.gpkg\"\n",
    "postcode_areas_fp = \"data/uusimaa_postal_code_areas.gpkg\"\n",
    "\n",
    "intersections = gpd.read_file(intersections_fp)\n",
    "postcode_areas = gpd.read_file(postcode_areas_fp)\n",
    "\n",
    "# Let's check first rows\n",
    "print(intersections.head(), '\\n-------')\n",
    "print(postcode_areas.head())"
   ]
  },
  {
   "cell_type": "markdown",
   "metadata": {},
   "source": [
    "上面的两个shape图，一个是point组成的，代表的是道路交点，另一个是多边形的，代表的是邮编区域。用下面的程序可以看到有数万个点，几百的区域，这是足够大来看看spatial index的效果了。"
   ]
  },
  {
   "cell_type": "code",
   "execution_count": 31,
   "metadata": {},
   "outputs": [
    {
     "name": "stdout",
     "output_type": "stream",
     "text": [
      "Number of intersections: 63518\n",
      "Number of postal code areas: 370\n"
     ]
    }
   ],
   "source": [
    "print(\"Number of intersections:\", len(intersections))\n",
    "print(\"Number of postal code areas:\", len(postcode_areas))"
   ]
  },
  {
   "cell_type": "markdown",
   "metadata": {},
   "source": [
    "先可视化下，对数据有整体上的把握："
   ]
  },
  {
   "cell_type": "code",
   "execution_count": 32,
   "metadata": {},
   "outputs": [
    {
     "data": {
      "text/plain": [
       "(6667500.0, 6680000.0)"
      ]
     },
     "execution_count": 32,
     "metadata": {},
     "output_type": "execute_result"
    },
    {
     "data": {
      "image/png": "[encoded data removed]",
      "text/plain": [
       "<Figure size 432x288 with 1 Axes>"
      ]
     },
     "metadata": {
      "needs_background": "light"
     },
     "output_type": "display_data"
    }
   ],
   "source": [
    "%matplotlib inline\n",
    "ax = postcode_areas.plot(color='red', edgecolor='black', alpha=0.5)\n",
    "ax = intersections.plot(ax=ax, color='yellow', markersize=1, alpha=0.5)\n",
    "\n",
    "# Zoom to closer (comment out the following to see the full extent of the data)\n",
    "ax.set_xlim([380000, 395000])\n",
    "ax.set_ylim([6667500, 6680000])"
   ]
  },
  {
   "cell_type": "markdown",
   "metadata": {},
   "source": [
    "接下来，目标是计算在每个区域内有多少个点。这里就要利用spatial index的优点了。在geopandas中构建spatial index可以通过调用.sindex属性来轻松实现。"
   ]
  },
  {
   "cell_type": "code",
   "execution_count": 33,
   "metadata": {},
   "outputs": [
    {
     "data": {
      "text/plain": [
       "rtree.index.Index(bounds=[266574.119, 6632767.892, 419357.063, 6745429.931], size=63518)"
      ]
     },
     "execution_count": 33,
     "metadata": {},
     "output_type": "execute_result"
    }
   ],
   "source": [
    "# Let's build spatial index for intersection points\n",
    "intersection_sindex = intersections.sindex\n",
    "\n",
    "# Let's see what it is\n",
    "intersection_sindex"
   ]
  },
  {
   "cell_type": "markdown",
   "metadata": {},
   "source": [
    "如上结果所示，变量是有SpatialIndex对象属性的。对象包含了以R树数据结构形式的geometries。"
   ]
  },
  {
   "cell_type": "code",
   "execution_count": 34,
   "metadata": {},
   "outputs": [
    {
     "name": "stdout",
     "output_type": "stream",
     "text": [
      "Number of groups: 908 \n",
      "\n",
      "Group 0 contains  70 geometries, bounding box: [270305.195, 6632767.892, 279497.993, 6638674.424]\n",
      "Group 2 contains  70 geometries, bounding box: [272155.57, 6638680.047, 285753.31, 6638976.355]\n",
      "Group 3 contains  70 geometries, bounding box: [271904.727, 6638983.54, 286463.059, 6639181.123]\n",
      "Group 4 contains  70 geometries, bounding box: [271790.007, 6639184.018, 284495.801, 6639351.784]\n",
      "Group 5 contains  70 geometries, bounding box: [271952.787, 6639354.724, 284589.912, 6639564.576]\n",
      "Group 6 contains  70 geometries, bounding box: [271784.854, 6639571.546, 285241.406, 6639760.222]\n",
      "Group 7 contains  70 geometries, bounding box: [271813.417, 6639762.182, 285147.276, 6639945.834]\n",
      "Group 8 contains  70 geometries, bounding box: [271646.281, 6639949.717, 283451.674, 6640149.228]\n",
      "Group 9 contains  70 geometries, bounding box: [272335.073, 6640150.564, 282567.285, 6640318.718]\n",
      "Group 10 contains  70 geometries, bounding box: [272318.947, 6640321.762, 286352.142, 6641062.815]\n"
     ]
    }
   ],
   "source": [
    "# How many groups do we have?\n",
    "print(\"Number of groups:\", len(intersection_sindex.leaves()), '\\n')\n",
    "\n",
    "# Print some basic info for few of them\n",
    "n_iterations = 10\n",
    "for i, group in enumerate(intersection_sindex.leaves()):\n",
    "    group_idx, indices, bbox = group\n",
    "    print(\"Group\", group_idx, \"contains \", len(indices), \"geometries, bounding box:\", bbox)\n",
    "    i+=1\n",
    "    if i == n_iterations:\n",
    "        break"
   ]
  },
  {
   "cell_type": "markdown",
   "metadata": {},
   "source": [
    "如上结果所示，共有908个组，每个组有70个geometries。为了执行快速空间查询，可以利用spatial index，并比较area的code和点的R树空间索引的bounding boxes。首先选择一个区域："
   ]
  },
  {
   "cell_type": "code",
   "execution_count": 35,
   "metadata": {},
   "outputs": [
    {
     "data": {
      "text/plain": [
       "<AxesSubplot:>"
      ]
     },
     "execution_count": 35,
     "metadata": {},
     "output_type": "execute_result"
    },
    {
     "data": {
      "image/png": "[encoded data removed]",
      "text/plain": [
       "<Figure size 432x288 with 1 Axes>"
      ]
     },
     "metadata": {
      "needs_background": "light"
     },
     "output_type": "display_data"
    }
   ],
   "source": [
    "# Select a postal code area representing the city center of Helsinki\n",
    "city_center_zip_area = postcode_areas.loc[postcode_areas['posti_alue']=='00100']\n",
    "city_center_zip_area.plot()"
   ]
  },
  {
   "cell_type": "markdown",
   "metadata": {},
   "source": [
    "现在进行PIP，分两步：\n",
    "\n",
    "1. 比较polygon的边界和points的spatial index，这样可以先得到一组候选点，这些点都是可能在polygon中的；\n",
    "2. 再遍历这些候选点，得到最终的结果。"
   ]
  },
  {
   "cell_type": "code",
   "execution_count": 36,
   "metadata": {},
   "outputs": [
    {
     "data": {
      "image/png": "[encoded data removed]",
      "text/plain": [
       "<Figure size 432x288 with 1 Axes>"
      ]
     },
     "metadata": {
      "needs_background": "light"
     },
     "output_type": "display_data"
    }
   ],
   "source": [
    "# Get the bounding box coordinates of the Polygon as a list\n",
    "bounds = list(city_center_zip_area.bounds.values[0])\n",
    "\n",
    "# Get the indices of the Points that are likely to be inside the bounding box of the given Polygon\n",
    "point_candidate_idx = list(intersection_sindex.intersection(bounds))\n",
    "point_candidates = intersections.loc[point_candidate_idx]\n",
    "\n",
    "# Let's see what we have now\n",
    "ax = city_center_zip_area.plot(color='red', alpha=0.5)\n",
    "ax = point_candidates.plot(ax=ax, color='black', markersize=2)"
   ]
  },
  {
   "cell_type": "markdown",
   "metadata": {},
   "source": [
    "如上图结果所示，先里bound和点的空间索引相交快速找到了可能的点（个人理解，可能是tree的结果也是矩形，和bound比较好一起分析吧）。然后再进行normal的PIP判断。"
   ]
  },
  {
   "cell_type": "code",
   "execution_count": 37,
   "metadata": {},
   "outputs": [
    {
     "data": {
      "image/png": "[encoded data removed]",
      "text/plain": [
       "<Figure size 432x288 with 1 Axes>"
      ]
     },
     "metadata": {
      "needs_background": "light"
     },
     "output_type": "display_data"
    }
   ],
   "source": [
    "# Make the precise Point in Polygon query\n",
    "final_selection = point_candidates.loc[point_candidates.intersects(city_center_zip_area['geometry'].values[0])]\n",
    "\n",
    "# Let's see what we have now\n",
    "ax = city_center_zip_area.plot(color='red', alpha=0.5)\n",
    "ax = final_selection.plot(ax=ax, color='black', markersize=2)"
   ]
  },
  {
   "cell_type": "markdown",
   "metadata": {},
   "source": [
    "然后比较一下spatial index和传统方法的时间差别。"
   ]
  },
  {
   "cell_type": "code",
   "execution_count": 38,
   "metadata": {},
   "outputs": [],
   "source": [
    "def intersect_using_spatial_index(source_gdf, intersecting_gdf):\n",
    "    \"\"\"\n",
    "    Conduct spatial intersection using spatial index for candidates GeoDataFrame to make queries faster.\n",
    "    Note, with this function, you can have multiple Polygons in the 'intersecting_gdf' and it will return all the points\n",
    "    intersect with ANY of those geometries.\n",
    "    \"\"\"\n",
    "    source_sindex = source_gdf.sindex\n",
    "    possible_matches_index = []\n",
    "\n",
    "    # 'itertuples()' function is a faster version of 'iterrows()'\n",
    "    for other in intersecting_gdf.itertuples():\n",
    "        bounds = other.geometry.bounds\n",
    "        c = list(source_sindex.intersection(bounds))\n",
    "        possible_matches_index += c\n",
    "\n",
    "    # Get unique candidates\n",
    "    unique_candidate_matches = list(set(possible_matches_index))\n",
    "    possible_matches = source_gdf.iloc[unique_candidate_matches]\n",
    "\n",
    "    # Conduct the actual intersect\n",
    "    result = possible_matches.loc[possible_matches.intersects(intersecting_gdf.unary_union)]\n",
    "    return result"
   ]
  },
  {
   "cell_type": "code",
   "execution_count": 39,
   "metadata": {},
   "outputs": [],
   "source": [
    "def normal_intersect(source_gdf, intersecting_gdf):\n",
    "    \"\"\"\n",
    "    Conduct spatial intersection without spatial index.\n",
    "    Note, with this function, you can have multiple Polygons in the 'intersecting_gdf' and it will return all the points\n",
    "    intersect with ANY of those geometries.\n",
    "    \"\"\"\n",
    "\n",
    "    matches = []\n",
    "\n",
    "    # 'itertuples()' function is a faster version of 'iterrows()'\n",
    "    for other in intersecting_gdf.itertuples():\n",
    "        c = list(source_gdf.loc[source_gdf.intersects(other.geometry)].index)\n",
    "        matches += c\n",
    "\n",
    "    # Get all points that are intersecting with the Polygons\n",
    "    unique_matches = list(set(matches))\n",
    "    result = source_gdf.loc[source_gdf.index.isin(unique_matches)]\n",
    "    return result"
   ]
  },
  {
   "cell_type": "code",
   "execution_count": 40,
   "metadata": {},
   "outputs": [
    {
     "name": "stdout",
     "output_type": "stream",
     "text": [
      "47 ms ± 4.57 ms per loop (mean ± std. dev. of 7 runs, 1 loop each)\n"
     ]
    }
   ],
   "source": [
    "# Test the spatial query with spatial index\n",
    "%timeit intersect_using_spatial_index(source_gdf=intersections, intersecting_gdf=city_center_zip_area)"
   ]
  },
  {
   "cell_type": "code",
   "execution_count": 41,
   "metadata": {},
   "outputs": [
    {
     "name": "stdout",
     "output_type": "stream",
     "text": [
      "328 ms ± 42.4 ms per loop (mean ± std. dev. of 7 runs, 1 loop each)\n"
     ]
    }
   ],
   "source": [
    "# Test the spatial query without spatial index\n",
    "%timeit normal_intersect(source_gdf=intersections, intersecting_gdf=city_center_zip_area)"
   ]
  },
  {
   "cell_type": "markdown",
   "metadata": {},
   "source": [
    "在一个多边形中分析，差别显不出来，但是在成百上千个polygons里分析，那差别就大了。\n",
    "\n",
    "接下来就完成目标的最后一步，数交点。这步可以通过spatial join来快速实现。"
   ]
  },
  {
   "cell_type": "code",
   "execution_count": 42,
   "metadata": {},
   "outputs": [
    {
     "data": {
      "text/html": [
       "<div>\n",
       "<style scoped>\n",
       "    .dataframe tbody tr th:only-of-type {\n",
       "        vertical-align: middle;\n",
       "    }\n",
       "\n",
       "    .dataframe tbody tr th {\n",
       "        vertical-align: top;\n",
       "    }\n",
       "\n",
       "    .dataframe thead th {\n",
       "        text-align: right;\n",
       "    }\n",
       "</style>\n",
       "<table border=\"1\" class=\"dataframe\">\n",
       "  <thead>\n",
       "    <tr style=\"text-align: right;\">\n",
       "      <th></th>\n",
       "      <th>posti_alue</th>\n",
       "      <th>0</th>\n",
       "    </tr>\n",
       "  </thead>\n",
       "  <tbody>\n",
       "    <tr>\n",
       "      <th>0</th>\n",
       "      <td>00100</td>\n",
       "      <td>203</td>\n",
       "    </tr>\n",
       "    <tr>\n",
       "      <th>1</th>\n",
       "      <td>00120</td>\n",
       "      <td>35</td>\n",
       "    </tr>\n",
       "    <tr>\n",
       "      <th>2</th>\n",
       "      <td>00130</td>\n",
       "      <td>50</td>\n",
       "    </tr>\n",
       "    <tr>\n",
       "      <th>3</th>\n",
       "      <td>00140</td>\n",
       "      <td>44</td>\n",
       "    </tr>\n",
       "    <tr>\n",
       "      <th>4</th>\n",
       "      <td>00150</td>\n",
       "      <td>68</td>\n",
       "    </tr>\n",
       "  </tbody>\n",
       "</table>\n",
       "</div>"
      ],
      "text/plain": [
       "  posti_alue    0\n",
       "0      00100  203\n",
       "1      00120   35\n",
       "2      00130   50\n",
       "3      00140   44\n",
       "4      00150   68"
      ]
     },
     "execution_count": 42,
     "metadata": {},
     "output_type": "execute_result"
    }
   ],
   "source": [
    "# Count intersections by postal code area\n",
    "intersection_cnt = gpd.sjoin(postcode_areas, intersections).groupby('posti_alue').size().reset_index()\n",
    "intersection_cnt.head()"
   ]
  },
  {
   "cell_type": "code",
   "execution_count": 43,
   "metadata": {},
   "outputs": [
    {
     "data": {
      "text/html": [
       "<div>\n",
       "<style scoped>\n",
       "    .dataframe tbody tr th:only-of-type {\n",
       "        vertical-align: middle;\n",
       "    }\n",
       "\n",
       "    .dataframe tbody tr th {\n",
       "        vertical-align: top;\n",
       "    }\n",
       "\n",
       "    .dataframe thead th {\n",
       "        text-align: right;\n",
       "    }\n",
       "</style>\n",
       "<table border=\"1\" class=\"dataframe\">\n",
       "  <thead>\n",
       "    <tr style=\"text-align: right;\">\n",
       "      <th></th>\n",
       "      <th>posti_alue</th>\n",
       "      <th>he_vakiy</th>\n",
       "      <th>geometry</th>\n",
       "      <th>intersection_cnt</th>\n",
       "    </tr>\n",
       "  </thead>\n",
       "  <tbody>\n",
       "    <tr>\n",
       "      <th>0</th>\n",
       "      <td>00100</td>\n",
       "      <td>18284.0</td>\n",
       "      <td>MULTIPOLYGON (((385653.893 6671591.048, 385573...</td>\n",
       "      <td>203</td>\n",
       "    </tr>\n",
       "    <tr>\n",
       "      <th>1</th>\n",
       "      <td>00120</td>\n",
       "      <td>7108.0</td>\n",
       "      <td>MULTIPOLYGON (((385316.092 6671076.984, 385279...</td>\n",
       "      <td>35</td>\n",
       "    </tr>\n",
       "    <tr>\n",
       "      <th>2</th>\n",
       "      <td>00130</td>\n",
       "      <td>1508.0</td>\n",
       "      <td>MULTIPOLYGON (((386212.111 6671061.262, 386176...</td>\n",
       "      <td>50</td>\n",
       "    </tr>\n",
       "    <tr>\n",
       "      <th>3</th>\n",
       "      <td>00140</td>\n",
       "      <td>7865.0</td>\n",
       "      <td>MULTIPOLYGON (((386577.050 6670280.544, 386552...</td>\n",
       "      <td>44</td>\n",
       "    </tr>\n",
       "    <tr>\n",
       "      <th>4</th>\n",
       "      <td>00150</td>\n",
       "      <td>9496.0</td>\n",
       "      <td>MULTIPOLYGON (((384846.102 6669565.816, 384823...</td>\n",
       "      <td>68</td>\n",
       "    </tr>\n",
       "    <tr>\n",
       "      <th>...</th>\n",
       "      <td>...</td>\n",
       "      <td>...</td>\n",
       "      <td>...</td>\n",
       "      <td>...</td>\n",
       "    </tr>\n",
       "    <tr>\n",
       "      <th>338</th>\n",
       "      <td>25470</td>\n",
       "      <td>279.0</td>\n",
       "      <td>MULTIPOLYGON (((305067.212 6673543.615, 304620...</td>\n",
       "      <td>16</td>\n",
       "    </tr>\n",
       "    <tr>\n",
       "      <th>339</th>\n",
       "      <td>25500</td>\n",
       "      <td>3391.0</td>\n",
       "      <td>MULTIPOLYGON (((277988.374 6665076.564, 277959...</td>\n",
       "      <td>86</td>\n",
       "    </tr>\n",
       "    <tr>\n",
       "      <th>340</th>\n",
       "      <td>25560</td>\n",
       "      <td>208.0</td>\n",
       "      <td>MULTIPOLYGON (((294139.092 6671931.426, 291442...</td>\n",
       "      <td>48</td>\n",
       "    </tr>\n",
       "    <tr>\n",
       "      <th>341</th>\n",
       "      <td>31350</td>\n",
       "      <td>235.0</td>\n",
       "      <td>MULTIPOLYGON (((329443.822 6726297.286, 329125...</td>\n",
       "      <td>2</td>\n",
       "    </tr>\n",
       "    <tr>\n",
       "      <th>342</th>\n",
       "      <td>31470</td>\n",
       "      <td>698.0</td>\n",
       "      <td>MULTIPOLYGON (((315714.104 6707215.302, 315265...</td>\n",
       "      <td>2</td>\n",
       "    </tr>\n",
       "  </tbody>\n",
       "</table>\n",
       "<p>343 rows × 4 columns</p>\n",
       "</div>"
      ],
      "text/plain": [
       "    posti_alue  he_vakiy                                           geometry  \\\n",
       "0        00100   18284.0  MULTIPOLYGON (((385653.893 6671591.048, 385573...   \n",
       "1        00120    7108.0  MULTIPOLYGON (((385316.092 6671076.984, 385279...   \n",
       "2        00130    1508.0  MULTIPOLYGON (((386212.111 6671061.262, 386176...   \n",
       "3        00140    7865.0  MULTIPOLYGON (((386577.050 6670280.544, 386552...   \n",
       "4        00150    9496.0  MULTIPOLYGON (((384846.102 6669565.816, 384823...   \n",
       "..         ...       ...                                                ...   \n",
       "338      25470     279.0  MULTIPOLYGON (((305067.212 6673543.615, 304620...   \n",
       "339      25500    3391.0  MULTIPOLYGON (((277988.374 6665076.564, 277959...   \n",
       "340      25560     208.0  MULTIPOLYGON (((294139.092 6671931.426, 291442...   \n",
       "341      31350     235.0  MULTIPOLYGON (((329443.822 6726297.286, 329125...   \n",
       "342      31470     698.0  MULTIPOLYGON (((315714.104 6707215.302, 315265...   \n",
       "\n",
       "     intersection_cnt  \n",
       "0                 203  \n",
       "1                  35  \n",
       "2                  50  \n",
       "3                  44  \n",
       "4                  68  \n",
       "..                ...  \n",
       "338                16  \n",
       "339                86  \n",
       "340                48  \n",
       "341                 2  \n",
       "342                 2  \n",
       "\n",
       "[343 rows x 4 columns]"
      ]
     },
     "execution_count": 43,
     "metadata": {},
     "output_type": "execute_result"
    }
   ],
   "source": [
    "# Merge with postcode data and plot\n",
    "intersection_cnt = intersection_cnt.rename(columns={0: 'intersection_cnt'})\n",
    "postcode_areas = postcode_areas.merge(intersection_cnt, on='posti_alue')\n",
    "postcode_areas"
   ]
  },
  {
   "cell_type": "code",
   "execution_count": 44,
   "metadata": {},
   "outputs": [
    {
     "data": {
      "text/plain": [
       "<AxesSubplot:>"
      ]
     },
     "execution_count": 44,
     "metadata": {},
     "output_type": "execute_result"
    },
    {
     "data": {
      "image/png": "[encoded data removed]",
      "text/plain": [
       "<Figure size 432x288 with 2 Axes>"
      ]
     },
     "metadata": {
      "needs_background": "light"
     },
     "output_type": "display_data"
    }
   ],
   "source": [
    "# Plot intersection density (number of intersections per square kilometer inside a Postal code)\n",
    "m2_to_km2_converter = 1000000\n",
    "postcode_areas['intersection_density'] = postcode_areas['intersection_cnt'] / (postcode_areas.area / m2_to_km2_converter)\n",
    "postcode_areas.plot('intersection_density', cmap='RdYlBu_r', legend=True)"
   ]
  },
  {
   "cell_type": "markdown",
   "metadata": {},
   "source": [
    "上图结果显示的是各区域点的密度。 值得注意的是如果polygon和点的bound范围差不多，那么使用spatial index并不会提高多少速度。\n",
    "\n",
    "![](pictures/los-angeles-boundary-intersections.png)\n",
    "\n",
    "这时候，可以把area切割，然后再利用spatial index。\n",
    "\n",
    "![](pictures/los-angeles-boundary-quadrats-intersections.png)\n",
    "\n",
    "## Spatial join\n",
    "\n",
    "空间连接时一个经典的GIS问题。即将一个图层的属性放到另一个与它有空间关系的图层中去。接下来给的例子是结合PIP，基于空间关系空间连接两个图层。例子是个很经典的问题：连接一个polygon图层和一个point图层，每个point会得到包含它的polygon的属性。\n",
    "\n",
    "又幸运地是，空间连接已经在geopandas中实现了，因此没有必要再自己创建函数了。有三种用于空间连接的连接类型，在gpd.sjoin()函数中通过op参数可以决定：\n",
    "\n",
    "- intersects\n",
    "- within\n",
    "- contains\n",
    "\n",
    "这些关系和前面PIP中探讨的类似。再复述下，intersects就是两个对象只要有边界或内部相交，就是相交了；within是说point在polygon中；contains是说polygon包含point。\n",
    "\n",
    "另外，通过配置how参数，left,right,inner可以实现不同类型的连接方式，这个有点像sql里的内容。下面上例子："
   ]
  },
  {
   "cell_type": "code",
   "execution_count": 46,
   "metadata": {},
   "outputs": [
    {
     "data": {
      "text/html": [
       "<div>\n",
       "<style scoped>\n",
       "    .dataframe tbody tr th:only-of-type {\n",
       "        vertical-align: middle;\n",
       "    }\n",
       "\n",
       "    .dataframe tbody tr th {\n",
       "        vertical-align: top;\n",
       "    }\n",
       "\n",
       "    .dataframe thead th {\n",
       "        text-align: right;\n",
       "    }\n",
       "</style>\n",
       "<table border=\"1\" class=\"dataframe\">\n",
       "  <thead>\n",
       "    <tr style=\"text-align: right;\">\n",
       "      <th></th>\n",
       "      <th>INDEX</th>\n",
       "      <th>ASUKKAITA</th>\n",
       "      <th>ASVALJYYS</th>\n",
       "      <th>IKA0_9</th>\n",
       "      <th>IKA10_19</th>\n",
       "      <th>IKA20_29</th>\n",
       "      <th>IKA30_39</th>\n",
       "      <th>IKA40_49</th>\n",
       "      <th>IKA50_59</th>\n",
       "      <th>IKA60_69</th>\n",
       "      <th>IKA70_79</th>\n",
       "      <th>IKA_YLI80</th>\n",
       "      <th>geometry</th>\n",
       "    </tr>\n",
       "  </thead>\n",
       "  <tbody>\n",
       "    <tr>\n",
       "      <th>0</th>\n",
       "      <td>688</td>\n",
       "      <td>9</td>\n",
       "      <td>28.0</td>\n",
       "      <td>99</td>\n",
       "      <td>99</td>\n",
       "      <td>99</td>\n",
       "      <td>99</td>\n",
       "      <td>99</td>\n",
       "      <td>99</td>\n",
       "      <td>99</td>\n",
       "      <td>99</td>\n",
       "      <td>99</td>\n",
       "      <td>POLYGON Z ((25472499.995 6689749.005 0.000, 25...</td>\n",
       "    </tr>\n",
       "    <tr>\n",
       "      <th>1</th>\n",
       "      <td>703</td>\n",
       "      <td>5</td>\n",
       "      <td>51.0</td>\n",
       "      <td>99</td>\n",
       "      <td>99</td>\n",
       "      <td>99</td>\n",
       "      <td>99</td>\n",
       "      <td>99</td>\n",
       "      <td>99</td>\n",
       "      <td>99</td>\n",
       "      <td>99</td>\n",
       "      <td>99</td>\n",
       "      <td>POLYGON Z ((25472499.995 6685998.998 0.000, 25...</td>\n",
       "    </tr>\n",
       "    <tr>\n",
       "      <th>2</th>\n",
       "      <td>710</td>\n",
       "      <td>8</td>\n",
       "      <td>44.0</td>\n",
       "      <td>99</td>\n",
       "      <td>99</td>\n",
       "      <td>99</td>\n",
       "      <td>99</td>\n",
       "      <td>99</td>\n",
       "      <td>99</td>\n",
       "      <td>99</td>\n",
       "      <td>99</td>\n",
       "      <td>99</td>\n",
       "      <td>POLYGON Z ((25472499.995 6684249.004 0.000, 25...</td>\n",
       "    </tr>\n",
       "    <tr>\n",
       "      <th>3</th>\n",
       "      <td>711</td>\n",
       "      <td>5</td>\n",
       "      <td>90.0</td>\n",
       "      <td>99</td>\n",
       "      <td>99</td>\n",
       "      <td>99</td>\n",
       "      <td>99</td>\n",
       "      <td>99</td>\n",
       "      <td>99</td>\n",
       "      <td>99</td>\n",
       "      <td>99</td>\n",
       "      <td>99</td>\n",
       "      <td>POLYGON Z ((25472499.995 6683999.005 0.000, 25...</td>\n",
       "    </tr>\n",
       "    <tr>\n",
       "      <th>4</th>\n",
       "      <td>715</td>\n",
       "      <td>11</td>\n",
       "      <td>41.0</td>\n",
       "      <td>99</td>\n",
       "      <td>99</td>\n",
       "      <td>99</td>\n",
       "      <td>99</td>\n",
       "      <td>99</td>\n",
       "      <td>99</td>\n",
       "      <td>99</td>\n",
       "      <td>99</td>\n",
       "      <td>99</td>\n",
       "      <td>POLYGON Z ((25472499.995 6682998.998 0.000, 25...</td>\n",
       "    </tr>\n",
       "  </tbody>\n",
       "</table>\n",
       "</div>"
      ],
      "text/plain": [
       "   INDEX  ASUKKAITA  ASVALJYYS  IKA0_9  IKA10_19  IKA20_29  IKA30_39  \\\n",
       "0    688          9       28.0      99        99        99        99   \n",
       "1    703          5       51.0      99        99        99        99   \n",
       "2    710          8       44.0      99        99        99        99   \n",
       "3    711          5       90.0      99        99        99        99   \n",
       "4    715         11       41.0      99        99        99        99   \n",
       "\n",
       "   IKA40_49  IKA50_59  IKA60_69  IKA70_79  IKA_YLI80  \\\n",
       "0        99        99        99        99         99   \n",
       "1        99        99        99        99         99   \n",
       "2        99        99        99        99         99   \n",
       "3        99        99        99        99         99   \n",
       "4        99        99        99        99         99   \n",
       "\n",
       "                                            geometry  \n",
       "0  POLYGON Z ((25472499.995 6689749.005 0.000, 25...  \n",
       "1  POLYGON Z ((25472499.995 6685998.998 0.000, 25...  \n",
       "2  POLYGON Z ((25472499.995 6684249.004 0.000, 25...  \n",
       "3  POLYGON Z ((25472499.995 6683999.005 0.000, 25...  \n",
       "4  POLYGON Z ((25472499.995 6682998.998 0.000, 25...  "
      ]
     },
     "execution_count": 46,
     "metadata": {},
     "output_type": "execute_result"
    }
   ],
   "source": [
    "import geopandas as gpd\n",
    "from pyproj import CRS\n",
    "import requests\n",
    "import geojson\n",
    "\n",
    "# Create GeoDataFrame from geojson\n",
    "fp = \"data/Vaestoruudukko_2018.shp\"\n",
    "pop = gpd.read_file(fp)\n",
    "pop.head()"
   ]
  },
  {
   "cell_type": "code",
   "execution_count": 47,
   "metadata": {},
   "outputs": [
    {
     "data": {
      "text/plain": [
       "Index(['INDEX', 'pop18', 'ASVALJYYS', 'IKA0_9', 'IKA10_19', 'IKA20_29',\n",
       "       'IKA30_39', 'IKA40_49', 'IKA50_59', 'IKA60_69', 'IKA70_79', 'IKA_YLI80',\n",
       "       'geometry'],\n",
       "      dtype='object')"
      ]
     },
     "execution_count": 47,
     "metadata": {},
     "output_type": "execute_result"
    }
   ],
   "source": [
    "# Change the name of a column\n",
    "pop = pop.rename(columns={'ASUKKAITA': 'pop18'})\n",
    "\n",
    "# See the column names and confirm that we now have a column called 'pop17'\n",
    "pop.columns"
   ]
  },
  {
   "cell_type": "code",
   "execution_count": 48,
   "metadata": {},
   "outputs": [
    {
     "data": {
      "text/html": [
       "<div>\n",
       "<style scoped>\n",
       "    .dataframe tbody tr th:only-of-type {\n",
       "        vertical-align: middle;\n",
       "    }\n",
       "\n",
       "    .dataframe tbody tr th {\n",
       "        vertical-align: top;\n",
       "    }\n",
       "\n",
       "    .dataframe thead th {\n",
       "        text-align: right;\n",
       "    }\n",
       "</style>\n",
       "<table border=\"1\" class=\"dataframe\">\n",
       "  <thead>\n",
       "    <tr style=\"text-align: right;\">\n",
       "      <th></th>\n",
       "      <th>pop18</th>\n",
       "      <th>geometry</th>\n",
       "    </tr>\n",
       "  </thead>\n",
       "  <tbody>\n",
       "    <tr>\n",
       "      <th>0</th>\n",
       "      <td>9</td>\n",
       "      <td>POLYGON Z ((25472499.995 6689749.005 0.000, 25...</td>\n",
       "    </tr>\n",
       "    <tr>\n",
       "      <th>1</th>\n",
       "      <td>5</td>\n",
       "      <td>POLYGON Z ((25472499.995 6685998.998 0.000, 25...</td>\n",
       "    </tr>\n",
       "    <tr>\n",
       "      <th>2</th>\n",
       "      <td>8</td>\n",
       "      <td>POLYGON Z ((25472499.995 6684249.004 0.000, 25...</td>\n",
       "    </tr>\n",
       "    <tr>\n",
       "      <th>3</th>\n",
       "      <td>5</td>\n",
       "      <td>POLYGON Z ((25472499.995 6683999.005 0.000, 25...</td>\n",
       "    </tr>\n",
       "    <tr>\n",
       "      <th>4</th>\n",
       "      <td>11</td>\n",
       "      <td>POLYGON Z ((25472499.995 6682998.998 0.000, 25...</td>\n",
       "    </tr>\n",
       "  </tbody>\n",
       "</table>\n",
       "</div>"
      ],
      "text/plain": [
       "   pop18                                           geometry\n",
       "0      9  POLYGON Z ((25472499.995 6689749.005 0.000, 25...\n",
       "1      5  POLYGON Z ((25472499.995 6685998.998 0.000, 25...\n",
       "2      8  POLYGON Z ((25472499.995 6684249.004 0.000, 25...\n",
       "3      5  POLYGON Z ((25472499.995 6683999.005 0.000, 25...\n",
       "4     11  POLYGON Z ((25472499.995 6682998.998 0.000, 25..."
      ]
     },
     "execution_count": 48,
     "metadata": {},
     "output_type": "execute_result"
    }
   ],
   "source": [
    "# Subset columns\n",
    "pop = pop[[\"pop18\", \"geometry\"]]\n",
    "pop.head()"
   ]
  },
  {
   "cell_type": "markdown",
   "metadata": {},
   "source": [
    "目标是知道包含一个地点的每个polygon中有多少人居住。所以要把人口的属性加到地点的图层里。"
   ]
  },
  {
   "cell_type": "code",
   "execution_count": 49,
   "metadata": {},
   "outputs": [
    {
     "data": {
      "text/html": [
       "<div>\n",
       "<style scoped>\n",
       "    .dataframe tbody tr th:only-of-type {\n",
       "        vertical-align: middle;\n",
       "    }\n",
       "\n",
       "    .dataframe tbody tr th {\n",
       "        vertical-align: top;\n",
       "    }\n",
       "\n",
       "    .dataframe thead th {\n",
       "        text-align: right;\n",
       "    }\n",
       "</style>\n",
       "<table border=\"1\" class=\"dataframe\">\n",
       "  <thead>\n",
       "    <tr style=\"text-align: right;\">\n",
       "      <th></th>\n",
       "      <th>address</th>\n",
       "      <th>id</th>\n",
       "      <th>addr</th>\n",
       "      <th>geometry</th>\n",
       "    </tr>\n",
       "  </thead>\n",
       "  <tbody>\n",
       "    <tr>\n",
       "      <th>0</th>\n",
       "      <td>Ruoholahti, 14, Itämerenkatu, Ruoholahti, Läns...</td>\n",
       "      <td>1000</td>\n",
       "      <td>Itämerenkatu 14, 00101 Helsinki, Finland</td>\n",
       "      <td>POINT (24.91556 60.16320)</td>\n",
       "    </tr>\n",
       "    <tr>\n",
       "      <th>1</th>\n",
       "      <td>Kamppi, 1, Kampinkuja, Kamppi, Eteläinen suurp...</td>\n",
       "      <td>1001</td>\n",
       "      <td>Kampinkuja 1, 00100 Helsinki, Finland</td>\n",
       "      <td>POINT (24.93169 60.16902)</td>\n",
       "    </tr>\n",
       "    <tr>\n",
       "      <th>2</th>\n",
       "      <td>Kauppakeskus Citycenter, 8, Kaivokatu, Keskust...</td>\n",
       "      <td>1002</td>\n",
       "      <td>Kaivokatu 8, 00101 Helsinki, Finland</td>\n",
       "      <td>POINT (24.94179 60.16989)</td>\n",
       "    </tr>\n",
       "    <tr>\n",
       "      <th>3</th>\n",
       "      <td>Hermannin rantatie, Hermanninmäki, Hermanni, K...</td>\n",
       "      <td>1003</td>\n",
       "      <td>Hermannin rantatie 1, 00580 Helsinki, Finland</td>\n",
       "      <td>POINT (24.97759 60.19361)</td>\n",
       "    </tr>\n",
       "    <tr>\n",
       "      <th>4</th>\n",
       "      <td>Hesburger, 9, Tyynenmerenkatu, Jätkäsaari, Län...</td>\n",
       "      <td>1005</td>\n",
       "      <td>Tyynenmerenkatu 9, 00220 Helsinki, Finland</td>\n",
       "      <td>POINT (24.92160 60.15665)</td>\n",
       "    </tr>\n",
       "  </tbody>\n",
       "</table>\n",
       "</div>"
      ],
      "text/plain": [
       "                                             address    id  \\\n",
       "0  Ruoholahti, 14, Itämerenkatu, Ruoholahti, Läns...  1000   \n",
       "1  Kamppi, 1, Kampinkuja, Kamppi, Eteläinen suurp...  1001   \n",
       "2  Kauppakeskus Citycenter, 8, Kaivokatu, Keskust...  1002   \n",
       "3  Hermannin rantatie, Hermanninmäki, Hermanni, K...  1003   \n",
       "4  Hesburger, 9, Tyynenmerenkatu, Jätkäsaari, Län...  1005   \n",
       "\n",
       "                                            addr                   geometry  \n",
       "0       Itämerenkatu 14, 00101 Helsinki, Finland  POINT (24.91556 60.16320)  \n",
       "1          Kampinkuja 1, 00100 Helsinki, Finland  POINT (24.93169 60.16902)  \n",
       "2           Kaivokatu 8, 00101 Helsinki, Finland  POINT (24.94179 60.16989)  \n",
       "3  Hermannin rantatie 1, 00580 Helsinki, Finland  POINT (24.97759 60.19361)  \n",
       "4     Tyynenmerenkatu 9, 00220 Helsinki, Finland  POINT (24.92160 60.15665)  "
      ]
     },
     "execution_count": 49,
     "metadata": {},
     "output_type": "execute_result"
    }
   ],
   "source": [
    "# Addresses filpath\n",
    "addr_fp = r\"data/addresses.shp\"\n",
    "\n",
    "# Read data\n",
    "addresses = gpd.read_file(addr_fp)\n",
    "\n",
    "# Check the head of the file\n",
    "addresses.head()"
   ]
  },
  {
   "cell_type": "markdown",
   "metadata": {},
   "source": [
    "首先还是要检查CRS是否一样。"
   ]
  },
  {
   "cell_type": "code",
   "execution_count": 50,
   "metadata": {},
   "outputs": [
    {
     "data": {
      "text/plain": [
       "<Geographic 2D CRS: EPSG:4326>\n",
       "Name: WGS 84\n",
       "Axis Info [ellipsoidal]:\n",
       "- Lat[north]: Geodetic latitude (degree)\n",
       "- Lon[east]: Geodetic longitude (degree)\n",
       "Area of Use:\n",
       "- name: World.\n",
       "- bounds: (-180.0, -90.0, 180.0, 90.0)\n",
       "Datum: World Geodetic System 1984 ensemble\n",
       "- Ellipsoid: WGS 84\n",
       "- Prime Meridian: Greenwich"
      ]
     },
     "execution_count": 50,
     "metadata": {},
     "output_type": "execute_result"
    }
   ],
   "source": [
    "addresses.crs"
   ]
  },
  {
   "cell_type": "code",
   "execution_count": 51,
   "metadata": {},
   "outputs": [
    {
     "data": {
      "text/plain": [
       "<Projected CRS: PROJCS[\"ETRS89_ETRS_GK25FIN_2010\",GEOGCS[\"ETRS89\", ...>\n",
       "Name: ETRS89_ETRS_GK25FIN_2010\n",
       "Axis Info [cartesian]:\n",
       "- [east]: Easting (metre)\n",
       "- [north]: Northing (metre)\n",
       "Area of Use:\n",
       "- undefined\n",
       "Coordinate Operation:\n",
       "- name: unnamed\n",
       "- method: Transverse Mercator\n",
       "Datum: European Terrestrial Reference System 1989\n",
       "- Ellipsoid: Geodetic_Reference_System_of_1980\n",
       "- Prime Meridian: Greenwich"
      ]
     },
     "execution_count": 51,
     "metadata": {},
     "output_type": "execute_result"
    }
   ],
   "source": [
    "pop.crs"
   ]
  },
  {
   "cell_type": "markdown",
   "metadata": {},
   "source": [
    "根据数据源的介绍，pop的坐标是ETRS GK-25 (EPSG:3879) "
   ]
  },
  {
   "cell_type": "code",
   "execution_count": 52,
   "metadata": {},
   "outputs": [
    {
     "data": {
      "text/plain": [
       "<Projected CRS: EPSG:3879>\n",
       "Name: ETRS89 / GK25FIN\n",
       "Axis Info [cartesian]:\n",
       "- N[north]: Northing (metre)\n",
       "- E[east]: Easting (metre)\n",
       "Area of Use:\n",
       "- name: Finland - nominally onshore between 24°30'E and 25°30'E but may be used in adjacent areas if a municipality chooses to use one zone over its whole extent.\n",
       "- bounds: (24.5, 59.94, 25.5, 68.9)\n",
       "Coordinate Operation:\n",
       "- name: Finland Gauss-Kruger zone 25\n",
       "- method: Transverse Mercator\n",
       "Datum: European Terrestrial Reference System 1989 ensemble\n",
       "- Ellipsoid: GRS 1980\n",
       "- Prime Meridian: Greenwich"
      ]
     },
     "execution_count": 52,
     "metadata": {},
     "output_type": "execute_result"
    }
   ],
   "source": [
    "# Define crs\n",
    "pop.crs = CRS.from_epsg(3879).to_wkt()\n",
    "pop.crs"
   ]
  },
  {
   "cell_type": "code",
   "execution_count": 53,
   "metadata": {},
   "outputs": [
    {
     "data": {
      "text/plain": [
       "False"
      ]
     },
     "execution_count": 53,
     "metadata": {},
     "output_type": "execute_result"
    }
   ],
   "source": [
    "addresses.crs == pop.crs"
   ]
  },
  {
   "cell_type": "markdown",
   "metadata": {},
   "source": [
    "两者坐标不同，因此需要reproject"
   ]
  },
  {
   "cell_type": "code",
   "execution_count": 54,
   "metadata": {},
   "outputs": [
    {
     "name": "stdout",
     "output_type": "stream",
     "text": [
      "PROJCRS[\"ETRS89 / GK25FIN\",BASEGEOGCRS[\"ETRS89\",ENSEMBLE[\"European Terrestrial Reference System 1989 ensemble\",MEMBER[\"European Terrestrial Reference Frame 1989\"],MEMBER[\"European Terrestrial Reference Frame 1990\"],MEMBER[\"European Terrestrial Reference Frame 1991\"],MEMBER[\"European Terrestrial Reference Frame 1992\"],MEMBER[\"European Terrestrial Reference Frame 1993\"],MEMBER[\"European Terrestrial Reference Frame 1994\"],MEMBER[\"European Terrestrial Reference Frame 1996\"],MEMBER[\"European Terrestrial Reference Frame 1997\"],MEMBER[\"European Terrestrial Reference Frame 2000\"],MEMBER[\"European Terrestrial Reference Frame 2005\"],MEMBER[\"European Terrestrial Reference Frame 2014\"],ELLIPSOID[\"GRS 1980\",6378137,298.257222101,LENGTHUNIT[\"metre\",1]],ENSEMBLEACCURACY[0.1]],PRIMEM[\"Greenwich\",0,ANGLEUNIT[\"degree\",0.0174532925199433]],ID[\"EPSG\",4258]],CONVERSION[\"Finland Gauss-Kruger zone 25\",METHOD[\"Transverse Mercator\",ID[\"EPSG\",9807]],PARAMETER[\"Latitude of natural origin\",0,ANGLEUNIT[\"degree\",0.0174532925199433],ID[\"EPSG\",8801]],PARAMETER[\"Longitude of natural origin\",25,ANGLEUNIT[\"degree\",0.0174532925199433],ID[\"EPSG\",8802]],PARAMETER[\"Scale factor at natural origin\",1,SCALEUNIT[\"unity\",1],ID[\"EPSG\",8805]],PARAMETER[\"False easting\",25500000,LENGTHUNIT[\"metre\",1],ID[\"EPSG\",8806]],PARAMETER[\"False northing\",0,LENGTHUNIT[\"metre\",1],ID[\"EPSG\",8807]]],CS[Cartesian,2],AXIS[\"northing (N)\",north,ORDER[1],LENGTHUNIT[\"metre\",1]],AXIS[\"easting (E)\",east,ORDER[2],LENGTHUNIT[\"metre\",1]],USAGE[SCOPE[\"Cadastre, engineering survey, topographic mapping (large scale).\"],AREA[\"Finland - nominally onshore between 24°30'E and 25°30'E but may be used in adjacent areas if a municipality chooses to use one zone over its whole extent.\"],BBOX[59.94,24.5,68.9,25.5]],ID[\"EPSG\",3879]]\n",
      "PROJCRS[\"ETRS89 / GK25FIN\",BASEGEOGCRS[\"ETRS89\",ENSEMBLE[\"European Terrestrial Reference System 1989 ensemble\",MEMBER[\"European Terrestrial Reference Frame 1989\"],MEMBER[\"European Terrestrial Reference Frame 1990\"],MEMBER[\"European Terrestrial Reference Frame 1991\"],MEMBER[\"European Terrestrial Reference Frame 1992\"],MEMBER[\"European Terrestrial Reference Frame 1993\"],MEMBER[\"European Terrestrial Reference Frame 1994\"],MEMBER[\"European Terrestrial Reference Frame 1996\"],MEMBER[\"European Terrestrial Reference Frame 1997\"],MEMBER[\"European Terrestrial Reference Frame 2000\"],MEMBER[\"European Terrestrial Reference Frame 2005\"],MEMBER[\"European Terrestrial Reference Frame 2014\"],ELLIPSOID[\"GRS 1980\",6378137,298.257222101,LENGTHUNIT[\"metre\",1]],ENSEMBLEACCURACY[0.1]],PRIMEM[\"Greenwich\",0,ANGLEUNIT[\"degree\",0.0174532925199433]],ID[\"EPSG\",4258]],CONVERSION[\"Finland Gauss-Kruger zone 25\",METHOD[\"Transverse Mercator\",ID[\"EPSG\",9807]],PARAMETER[\"Latitude of natural origin\",0,ANGLEUNIT[\"degree\",0.0174532925199433],ID[\"EPSG\",8801]],PARAMETER[\"Longitude of natural origin\",25,ANGLEUNIT[\"degree\",0.0174532925199433],ID[\"EPSG\",8802]],PARAMETER[\"Scale factor at natural origin\",1,SCALEUNIT[\"unity\",1],ID[\"EPSG\",8805]],PARAMETER[\"False easting\",25500000,LENGTHUNIT[\"metre\",1],ID[\"EPSG\",8806]],PARAMETER[\"False northing\",0,LENGTHUNIT[\"metre\",1],ID[\"EPSG\",8807]]],CS[Cartesian,2],AXIS[\"northing (N)\",north,ORDER[1],LENGTHUNIT[\"metre\",1]],AXIS[\"easting (E)\",east,ORDER[2],LENGTHUNIT[\"metre\",1]],USAGE[SCOPE[\"Cadastre, engineering survey, topographic mapping (large scale).\"],AREA[\"Finland - nominally onshore between 24°30'E and 25°30'E but may be used in adjacent areas if a municipality chooses to use one zone over its whole extent.\"],BBOX[59.94,24.5,68.9,25.5]],ID[\"EPSG\",3879]]\n"
     ]
    },
    {
     "data": {
      "text/plain": [
       "True"
      ]
     },
     "execution_count": 54,
     "metadata": {},
     "output_type": "execute_result"
    }
   ],
   "source": [
    "addresses = addresses.to_crs(pop.crs)\n",
    "# Check the crs of address points\n",
    "print(addresses.crs)\n",
    "# Check the crs of population layer\n",
    "print(pop.crs)\n",
    "# Do they match now?\n",
    "addresses.crs == pop.crs"
   ]
  },
  {
   "cell_type": "markdown",
   "metadata": {},
   "source": [
    "crs一致之后，可以开始空间连接了。"
   ]
  },
  {
   "cell_type": "code",
   "execution_count": 55,
   "metadata": {},
   "outputs": [
    {
     "data": {
      "text/html": [
       "<div>\n",
       "<style scoped>\n",
       "    .dataframe tbody tr th:only-of-type {\n",
       "        vertical-align: middle;\n",
       "    }\n",
       "\n",
       "    .dataframe tbody tr th {\n",
       "        vertical-align: top;\n",
       "    }\n",
       "\n",
       "    .dataframe thead th {\n",
       "        text-align: right;\n",
       "    }\n",
       "</style>\n",
       "<table border=\"1\" class=\"dataframe\">\n",
       "  <thead>\n",
       "    <tr style=\"text-align: right;\">\n",
       "      <th></th>\n",
       "      <th>address</th>\n",
       "      <th>id</th>\n",
       "      <th>addr</th>\n",
       "      <th>geometry</th>\n",
       "      <th>index_right</th>\n",
       "      <th>pop18</th>\n",
       "    </tr>\n",
       "  </thead>\n",
       "  <tbody>\n",
       "    <tr>\n",
       "      <th>0</th>\n",
       "      <td>Ruoholahti, 14, Itämerenkatu, Ruoholahti, Läns...</td>\n",
       "      <td>1000</td>\n",
       "      <td>Itämerenkatu 14, 00101 Helsinki, Finland</td>\n",
       "      <td>POINT (25495311.608 6672258.695)</td>\n",
       "      <td>3252</td>\n",
       "      <td>515</td>\n",
       "    </tr>\n",
       "    <tr>\n",
       "      <th>1</th>\n",
       "      <td>Kamppi, 1, Kampinkuja, Kamppi, Eteläinen suurp...</td>\n",
       "      <td>1001</td>\n",
       "      <td>Kampinkuja 1, 00100 Helsinki, Finland</td>\n",
       "      <td>POINT (25496207.840 6672906.173)</td>\n",
       "      <td>3364</td>\n",
       "      <td>182</td>\n",
       "    </tr>\n",
       "    <tr>\n",
       "      <th>2</th>\n",
       "      <td>Kauppakeskus Citycenter, 8, Kaivokatu, Keskust...</td>\n",
       "      <td>1002</td>\n",
       "      <td>Kaivokatu 8, 00101 Helsinki, Finland</td>\n",
       "      <td>POINT (25496768.622 6673002.004)</td>\n",
       "      <td>3488</td>\n",
       "      <td>38</td>\n",
       "    </tr>\n",
       "    <tr>\n",
       "      <th>4</th>\n",
       "      <td>Hesburger, 9, Tyynenmerenkatu, Jätkäsaari, Län...</td>\n",
       "      <td>1005</td>\n",
       "      <td>Tyynenmerenkatu 9, 00220 Helsinki, Finland</td>\n",
       "      <td>POINT (25495645.995 6671528.068)</td>\n",
       "      <td>3298</td>\n",
       "      <td>1435</td>\n",
       "    </tr>\n",
       "    <tr>\n",
       "      <th>5</th>\n",
       "      <td>18, Kontulantie, Kontula, Mellunkylä, Itäinen ...</td>\n",
       "      <td>1006</td>\n",
       "      <td>Kontulantie 18, 00940 Helsinki, Finland</td>\n",
       "      <td>POINT (25504528.607 6680282.118)</td>\n",
       "      <td>5033</td>\n",
       "      <td>48</td>\n",
       "    </tr>\n",
       "  </tbody>\n",
       "</table>\n",
       "</div>"
      ],
      "text/plain": [
       "                                             address    id  \\\n",
       "0  Ruoholahti, 14, Itämerenkatu, Ruoholahti, Läns...  1000   \n",
       "1  Kamppi, 1, Kampinkuja, Kamppi, Eteläinen suurp...  1001   \n",
       "2  Kauppakeskus Citycenter, 8, Kaivokatu, Keskust...  1002   \n",
       "4  Hesburger, 9, Tyynenmerenkatu, Jätkäsaari, Län...  1005   \n",
       "5  18, Kontulantie, Kontula, Mellunkylä, Itäinen ...  1006   \n",
       "\n",
       "                                         addr  \\\n",
       "0    Itämerenkatu 14, 00101 Helsinki, Finland   \n",
       "1       Kampinkuja 1, 00100 Helsinki, Finland   \n",
       "2        Kaivokatu 8, 00101 Helsinki, Finland   \n",
       "4  Tyynenmerenkatu 9, 00220 Helsinki, Finland   \n",
       "5     Kontulantie 18, 00940 Helsinki, Finland   \n",
       "\n",
       "                           geometry  index_right  pop18  \n",
       "0  POINT (25495311.608 6672258.695)         3252    515  \n",
       "1  POINT (25496207.840 6672906.173)         3364    182  \n",
       "2  POINT (25496768.622 6673002.004)         3488     38  \n",
       "4  POINT (25495645.995 6671528.068)         3298   1435  \n",
       "5  POINT (25504528.607 6680282.118)         5033     48  "
      ]
     },
     "execution_count": 55,
     "metadata": {},
     "output_type": "execute_result"
    }
   ],
   "source": [
    "# Make a spatial join\n",
    "join = gpd.sjoin(addresses, pop, how=\"inner\", op=\"within\")\n",
    "join.head()"
   ]
  },
  {
   "cell_type": "markdown",
   "metadata": {},
   "source": [
    "现在已经完成空间连接了，并且得到了一个新的geodataframe。index_right 是匹配的点在其中的polygon，还有pop18属性。"
   ]
  },
  {
   "cell_type": "code",
   "execution_count": 56,
   "metadata": {},
   "outputs": [
    {
     "data": {
      "text/plain": [
       "29"
      ]
     },
     "execution_count": 56,
     "metadata": {},
     "output_type": "execute_result"
    }
   ],
   "source": [
    "len(join)"
   ]
  },
  {
   "cell_type": "code",
   "execution_count": 57,
   "metadata": {},
   "outputs": [
    {
     "data": {
      "text/plain": [
       "34"
      ]
     },
     "execution_count": 57,
     "metadata": {},
     "output_type": "execute_result"
    }
   ],
   "source": [
    "len(addresses)"
   ]
  },
  {
   "cell_type": "code",
   "execution_count": 58,
   "metadata": {},
   "outputs": [
    {
     "data": {
      "text/plain": [
       "<AxesSubplot:>"
      ]
     },
     "execution_count": 58,
     "metadata": {},
     "output_type": "execute_result"
    },
    {
     "data": {
      "image/png": "[encoded data removed]",
      "text/plain": [
       "<Figure size 1080x576 with 1 Axes>"
      ]
     },
     "metadata": {
      "needs_background": "light"
     },
     "output_type": "display_data"
    }
   ],
   "source": [
    "%matplotlib inline\n",
    "import matplotlib.pyplot as plt\n",
    "\n",
    "# Create a figure with one subplot\n",
    "fig, ax = plt.subplots(figsize=(15,8))\n",
    "\n",
    "# Plot population grid\n",
    "pop.plot(ax=ax)\n",
    "\n",
    "# Plot points\n",
    "addresses.plot(ax=ax, color='red', markersize=5)"
   ]
  },
  {
   "cell_type": "code",
   "execution_count": 67,
   "metadata": {},
   "outputs": [
    {
     "data": {
      "image/png": "[encoded data removed]",
      "text/plain": [
       "<Figure size 720x432 with 1 Axes>"
      ]
     },
     "metadata": {
      "needs_background": "light"
     },
     "output_type": "display_data"
    }
   ],
   "source": [
    "# Create a figure with one subplot\n",
    "fig, ax = plt.subplots(figsize=(10,6))\n",
    "\n",
    "# Plot the points with population info\n",
    "join.plot(ax=ax, column='pop18', cmap=\"Reds\", scheme=\"quantiles\", markersize=15, legend=True);\n",
    "\n",
    "# Add title\n",
    "plt.title(\"Amount of inhabitants living close the the point\");\n",
    "\n",
    "# Remove white space around the figure\n",
    "plt.tight_layout()"
   ]
  },
  {
   "cell_type": "code",
   "execution_count": 68,
   "metadata": {},
   "outputs": [
    {
     "data": {
      "image/png": "[encoded data removed]",
      "text/plain": [
       "<Figure size 720x432 with 1 Axes>"
      ]
     },
     "metadata": {
      "needs_background": "light"
     },
     "output_type": "display_data"
    }
   ],
   "source": [
    "# Create a figure with one subplot\n",
    "fig, ax = plt.subplots(figsize=(10,6))\n",
    "\n",
    "# Plot the grid with population info\n",
    "pop.plot(ax=ax, column='pop18', cmap=\"Reds\", scheme=\"quantiles\", legend=True);\n",
    "\n",
    "# Add title\n",
    "plt.title(\"Population 2018 in 250 x 250 m grid squares\");\n",
    "\n",
    "# Remove white space around the figure\n",
    "plt.tight_layout()"
   ]
  },
  {
   "cell_type": "code",
   "execution_count": 66,
   "metadata": {},
   "outputs": [
    {
     "name": "stderr",
     "output_type": "stream",
     "text": [
      "<ipython-input-66-7022b9c904db>:5: UserWarning: Column names longer than 10 characters will be truncated when saved to ESRI Shapefile.\n",
      "  join.to_file(outfp)\n"
     ]
    }
   ],
   "source": [
    "# Output path\n",
    "outfp = r\"data/addresses_population.shp\"\n",
    "\n",
    "# Save to disk\n",
    "join.to_file(outfp)"
   ]
  }
 ],
 "metadata": {
  "kernelspec": {
   "display_name": "Python 3",
   "language": "python",
   "name": "python3"
  },
  "language_info": {
   "codemirror_mode": {
    "name": "ipython",
    "version": 3
   },
   "file_extension": ".py",
   "mimetype": "text/x-python",
   "name": "python",
   "nbconvert_exporter": "python",
   "pygments_lexer": "ipython3",
   "version": "3.8.10"
  }
 },
 "nbformat": 4,
 "nbformat_minor": 4
}
