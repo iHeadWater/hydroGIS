{
 "cells": [
  {
   "cell_type": "markdown",
   "metadata": {},
   "source": [
    "# lesson 6\n",
    "\n",
    "本章主要记录关于获取OpenStreetMap数据并进行简单网络分析的内容。\n",
    "\n",
    "## Retrieving OpenStreetMap data\n",
    "\n",
    "OpenStreetMap (OSM) 是一个众包的数据集项目，旨在创建一个自由编辑的包含很多我们生活的环境的信息的世界地图，包含的数据有街道，建筑，landuse等。可以在网站：www.openstreetmap.org 上查看地图。\n",
    "\n",
    "OSM有超过400万用户，并有超过100万的贡献者，每天有300万对数据库的改变。\n",
    "\n",
    "OSM不仅仅用于整合地图，它还用到比如routing，geocoding，教育，科研等多方面。\n",
    "\n",
    "通过python获取，构建，分析，和可视化OSM street网络的库是OSMnx，通过整合OSMnx 和另一个库NetworkX ，可以很容易的构建network routing等。 \n",
    "\n",
    "OSMnx最常用的就是简易地获取OSM数据。下面是例子："
   ]
  },
  {
   "cell_type": "code",
   "execution_count": 2,
   "metadata": {},
   "outputs": [],
   "source": [
    "import osmnx as ox\n",
    "import matplotlib.pyplot as plt\n",
    "%matplotlib inline\n",
    "\n",
    "# Specify the name that is used to seach for the data\n",
    "place_name = \"Kamppi, Helsinki, Finland\"\n",
    "\n",
    "# Fetch OSM street network from the location\n",
    "graph = ox.graph_from_place(place_name)"
   ]
  },
  {
   "cell_type": "code",
   "execution_count": 3,
   "metadata": {},
   "outputs": [
    {
     "data": {
      "text/plain": [
       "networkx.classes.multidigraph.MultiDiGraph"
      ]
     },
     "execution_count": 3,
     "metadata": {},
     "output_type": "execute_result"
    }
   ],
   "source": [
    "type(graph)"
   ]
  },
  {
   "cell_type": "markdown",
   "metadata": {},
   "source": [
    "用netwoekx可以很快地构建routing，比如用Dijkstra's 算法计算最短路径。"
   ]
  }
 ],
 "metadata": {
  "kernelspec": {
   "display_name": "Python 3",
   "language": "python",
   "name": "python3"
  },
  "language_info": {
   "codemirror_mode": {
    "name": "ipython",
    "version": 3
   },
   "file_extension": ".py",
   "mimetype": "text/x-python",
   "name": "python",
   "nbconvert_exporter": "python",
   "pygments_lexer": "ipython3",
   "version": "3.8.10"
  }
 },
 "nbformat": 4,
 "nbformat_minor": 4
}
