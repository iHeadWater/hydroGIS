{
 "cells": [
  {
   "cell_type": "markdown",
   "metadata": {},
   "source": [
    "# GDAL 的使用实例\n",
    "\n",
    "GDAL 是使用C++编写的，然后有针对python的封装，所以其性能相对一些更易用的python库来说更好一些，所以如果进行大范围大量空间数据的运算，还是使用GDAL更好一些。\n",
    "\n",
    "下面就日常积累一些常用到的空间数据处理代码\n",
    "\n",
    "1. 矢量图转栅格\n",
    "2. 栅格转矢量"
   ]
  },
  {
   "cell_type": "markdown",
   "metadata": {},
   "source": [
    "## 矢量图转栅格\n",
    "\n",
    "主要参考:https://pcjericks.github.io/py-gdalogr-cookbook/raster_layers.html#convert-an-ogr-file-to-a-raster\n",
    "\n",
    "函数前面三个参数 Dataset dataset, int bands, Layer layer"
   ]
  },
  {
   "cell_type": "code",
   "execution_count": 1,
   "metadata": {},
   "outputs": [
    {
     "data": {
      "text/plain": [
       "0"
      ]
     },
     "execution_count": 1,
     "metadata": {},
     "output_type": "execute_result"
    }
   ],
   "source": [
    "from osgeo import gdal, ogr\n",
    "\n",
    "# Define pixel_size and NoData value of new raster\n",
    "pixel_size = 256\n",
    "NoData_value = 255\n",
    "\n",
    "# Filename of input OGR file\n",
    "vector_fn = 'data/some_from_mxwdshld.shp'\n",
    "\n",
    "# Filename of the raster Tiff that will be created\n",
    "raster_fn = 'data/some_from_mxwdshld.tif'\n",
    "\n",
    "# Open the data source and read in the extent\n",
    "source_ds = ogr.Open(vector_fn)\n",
    "source_layer = source_ds.GetLayer()\n",
    "x_min, x_max, y_min, y_max = source_layer.GetExtent()\n",
    "\n",
    "# Create the destination data source\n",
    "x_res = int((x_max - x_min) / pixel_size)\n",
    "y_res = int((y_max - y_min) / pixel_size)\n",
    "# 不同的格式最后出来的结果是完全不同的,所以要特别注意\n",
    "target_ds = gdal.GetDriverByName('GTiff').Create(raster_fn, x_res, y_res, 1, gdal.GDT_Byte)\n",
    "# target_ds = gdal.GetDriverByName('HFA').Create(raster_fn, x_res, y_res, 1, gdal.GDT_Byte)\n",
    "# target_ds = gdal.GetDriverByName('MEM').Create(raster_fn, x_res, y_res, 1, gdal.GDT_Byte)\n",
    "target_ds.SetGeoTransform((x_min, pixel_size, 0, y_max, 0, -pixel_size))\n",
    "band = target_ds.GetRasterBand(1)\n",
    "band.SetNoDataValue(NoData_value)\n",
    "\n",
    "# Rasterize\n",
    "# gdal.RasterizeLayer(target_ds, [1], source_layer)\n",
    "gdal.RasterizeLayer(target_ds, [1], source_layer, burn_values=[1])"
   ]
  },
  {
   "cell_type": "code",
   "execution_count": 2,
   "metadata": {},
   "outputs": [
    {
     "data": {
      "text/plain": [
       "array([[255, 255, 255, ..., 255, 255, 255],\n",
       "       [255, 255, 255, ..., 255, 255, 255],\n",
       "       [255, 255, 255, ..., 255, 255, 255],\n",
       "       ...,\n",
       "       [255, 255, 255, ..., 255, 255, 255],\n",
       "       [255, 255, 255, ..., 255, 255, 255],\n",
       "       [255, 255, 255, ..., 255, 255, 255]], dtype=uint8)"
      ]
     },
     "execution_count": 2,
     "metadata": {},
     "output_type": "execute_result"
    }
   ],
   "source": [
    "ds = gdal.Open(raster_fn, 0)\n",
    "band = ds.GetRasterBand(1)\n",
    "cols = ds.RasterXSize\n",
    "rows = ds.RasterYSize\n",
    "data = band.ReadAsArray(0, 0, cols, rows)\n",
    "data"
   ]
  },
  {
   "cell_type": "code",
   "execution_count": 3,
   "metadata": {},
   "outputs": [
    {
     "data": {
      "text/plain": [
       "True"
      ]
     },
     "execution_count": 3,
     "metadata": {},
     "output_type": "execute_result"
    }
   ],
   "source": [
    "import numpy as np\n",
    "np.all(data==255)"
   ]
  },
  {
   "cell_type": "markdown",
   "metadata": {},
   "source": [
    "如上所示,所有数据都是 SetNoDataValue 的值"
   ]
  },
  {
   "cell_type": "code",
   "execution_count": 4,
   "metadata": {},
   "outputs": [
    {
     "data": {
      "text/plain": [
       "False"
      ]
     },
     "execution_count": 4,
     "metadata": {},
     "output_type": "execute_result"
    }
   ],
   "source": [
    "memory_driver = gdal.GetDriverByName('MEM')\n",
    "zone_mask_ds = memory_driver.Create('', x_res, y_res, 1, gdal.GDT_Byte)\n",
    "zone_mask_ds.SetGeoTransform((x_min, pixel_size, 0, y_max, 0, -pixel_size))\n",
    "zone_mask_band = zone_mask_ds.GetRasterBand(1)\n",
    "zone_mask_band.SetNoDataValue(NoData_value)\n",
    "gdal.RasterizeLayer(zone_mask_ds, [1], source_layer, burn_values=[1])\n",
    "zone_mask = zone_mask_band.ReadAsArray(0, 0, cols, rows)\n",
    "np.all(zone_mask==255)"
   ]
  },
  {
   "cell_type": "code",
   "execution_count": 5,
   "metadata": {},
   "outputs": [
    {
     "data": {
      "text/plain": [
       "(array([  0,   0,   1, ..., 654, 654, 654], dtype=int64),\n",
       " array([301, 302, 299, ..., 597, 604, 606], dtype=int64))"
      ]
     },
     "execution_count": 5,
     "metadata": {},
     "output_type": "execute_result"
    }
   ],
   "source": [
    "# 可以试试,就知道这里的1就是burn values传进来的值\n",
    "np.where(zone_mask==1)"
   ]
  },
  {
   "cell_type": "markdown",
   "metadata": {},
   "source": [
    "更多参数信息可以参考:https://www.cnblogs.com/xiaowangba/archive/2012/01/29/6314034.html\n",
    "\n",
    "换成MEM驱动之后,可以看到就有burn_valuies的值了.\n",
    "\n",
    "所以这里要特别注意不同的格式对应的情况,很可能最后呈现的结果是完全不同的(可以试试HFA等,结果又完全不一样),如果是自己在计算过程中要根据矢量图生成一个栅格图的mask,还是尽量使用MEM,这样会是自己想要的."
   ]
  },
  {
   "cell_type": "markdown",
   "metadata": {},
   "source": [
    "## 栅格的一个band转矢量\n",
    "\n",
    "主要参考:https://pcjericks.github.io/py-gdalogr-cookbook/raster_layers.html#polygonize-a-raster-band\n",
    "\n",
    " gdal_polygonize 命令行工具 包装了 GDALFPolygonize 来做这件事,在python里, 使用 gdal.Polygonize 函数来完成同样的操作."
   ]
  },
  {
   "cell_type": "code",
   "execution_count": null,
   "metadata": {},
   "outputs": [],
   "source": [
    "from osgeo import gdal, ogr\n",
    "import sys\n",
    "# this allows GDAL to throw Python Exceptions\n",
    "gdal.UseExceptions()\n",
    "\n",
    "#\n",
    "#  get raster datasource\n",
    "#\n",
    "src_ds = gdal.Open( \"ospy_data4/aster.img\" )\n",
    "if src_ds is None:\n",
    "    print ('Unable to open %s' % src_filename)\n",
    "    sys.exit()\n",
    "\n",
    "try:\n",
    "    srcband = src_ds.GetRasterBand(1)\n",
    "except RuntimeError as e:\n",
    "    # for example, try GetRasterBand(10)\n",
    "    print ('Band ( %i ) not found' % band_num)\n",
    "    print(e)\n",
    "    sys.exit()\n",
    "\n",
    "#\n",
    "#  create output datasource\n",
    "#\n",
    "dst_layername = \"ospy_data4/aster\"\n",
    "drv = ogr.GetDriverByName(\"ESRI Shapefile\")\n",
    "dst_ds = drv.CreateDataSource( dst_layername + \".shp\" )\n",
    "dst_layer = dst_ds.CreateLayer(dst_layername, srs = None )\n",
    "\n",
    "gdal.Polygonize( srcband, None, dst_layer, 0)"
   ]
  },
  {
   "cell_type": "markdown",
   "metadata": {},
   "source": [
    "Polygonize参数分别是 Band srcBand, Band maskBand,Layer outLayer, int iPixValField\n",
    "\n",
    "根据GDAL 官方文档:https://gdal.org/api/gdal_alg.html?highlight=polygonize#_CPPv415GDALFPolygonize15GDALRasterBandH15GDALRasterBandH9OGRLayerHiPPc16GDALProgressFuncPv\n",
    "\n",
    "- hSrcBand: the source raster band to be processed.\n",
    "- hMaskBand: an optional mask band. All pixels in the mask band with a value other than zero will be considered suitable for collection as polygons.\n",
    "- hOutLayer: the vector feature layer to which the polygons should be written.\n",
    "- iPixValField: the attribute field index indicating the feature attribute into which the pixel value of the polygon should be written."
   ]
  }
 ],
 "metadata": {
  "kernelspec": {
   "display_name": "Python 3",
   "language": "python",
   "name": "python3"
  },
  "language_info": {
   "codemirror_mode": {
    "name": "ipython",
    "version": 3
   },
   "file_extension": ".py",
   "mimetype": "text/x-python",
   "name": "python",
   "nbconvert_exporter": "python",
   "pygments_lexer": "ipython3",
   "version": "3.8.10"
  }
 },
 "nbformat": 4,
 "nbformat_minor": 4
}
