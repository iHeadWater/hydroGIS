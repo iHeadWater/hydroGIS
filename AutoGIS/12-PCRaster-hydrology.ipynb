{
 "cells": [
  {
   "cell_type": "markdown",
   "id": "47dfce0d-7ed0-41da-b7bd-e58c53a7ad96",
   "metadata": {},
   "source": [
    "# 使用PCRaster\n",
    "\n",
    "根据[PCRaster github](https://github.com/pcraster/pcraster/)上的介绍，它是一组为构建时空环境模型而定制的工具和软件库。应用领域包括水文学（降雨径流、全球水平衡、地下水（使用 Modflow））、生态学或土地利用变化。两种脚本语言（Python 和 PCRcalc）包括一组丰富的空间操作，用于操作和分析栅格地图。 Python 框架支持 Monte Carlo 模拟和数据同化（Ensemble Kalman Filter 和 Particle Filter）。 Aguila 工具允许对随机时空数据进行交互式可视化。\n",
    "\n",
    "所以在开源PythonGIS下，尤其是和水文建模结合，学习使用该库是一个不错的选择和自动化整体流程的较好选择。本文拟根据自己的使用情况，逐步了解学习它。首先，从流域自动划分开始。\n",
    "\n",
    "## 划分流域\n",
    "\n",
    "参考资料：\n",
    "\n",
    "- [Derive all subcatchments from a DEM using PCRaster in QGIS](https://www.youtube.com/watch?v=5uGaLIlaFh8&list=PLeuKJkIxCDj2Gk0CkcJ-QeviE41aMZd-5&index=5)\n",
    "- [Hydrological analysis with PCRaster in QGIS](https://www.youtube.com/watch?v=-gmOb27_2O4&list=PLeuKJkIxCDj2Gk0CkcJ-QeviE41aMZd-5&index=6)\n",
    "- [Catchment delineation with PCRaster Python](https://www.youtube.com/watch?v=sFXY1HlfZrw&list=PLeuKJkIxCDj2Gk0CkcJ-QeviE41aMZd-5&index=13)\n",
    "- [Automatic delineation of subcatchments from a DEM using PCRaster Python](https://www.youtube.com/watch?v=vrS7x4jPeiw&list=PLeuKJkIxCDj2Gk0CkcJ-QeviE41aMZd-5&index=9)"
   ]
  }
 ],
 "metadata": {
  "kernelspec": {
   "display_name": "Python 3 (ipykernel)",
   "language": "python",
   "name": "python3"
  },
  "language_info": {
   "codemirror_mode": {
    "name": "ipython",
    "version": 3
   },
   "file_extension": ".py",
   "mimetype": "text/x-python",
   "name": "python",
   "nbconvert_exporter": "python",
   "pygments_lexer": "ipython3",
   "version": "3.8.10"
  }
 },
 "nbformat": 4,
 "nbformat_minor": 5
}
