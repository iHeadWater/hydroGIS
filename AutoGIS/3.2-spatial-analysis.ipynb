{
 "cells": [
  {
   "cell_type": "markdown",
   "metadata": {},
   "source": [
    "# lesson 4\n",
    "\n",
    "本节主要学习GIS中另一个最常用的功能：叠加分析。此外还有关于数据分类的内容。\n",
    "\n",
    "## 学习目标\n",
    "\n",
    "- 基于叠加分析创建新的geometries\n",
    "- 聚合geometries\n",
    "- 简化geometries\n",
    "- 使用分类器，基于不同的标准，对数据进行分类\n",
    "\n",
    "## 叠加分析\n",
    "\n",
    "叠加分析首先就是分析geometries之间的相交。\n",
    "\n",
    "直接上例子。从 https://github.com/Automating-GIS-processes/site/tree/master/source/notebooks/L4/data 下载数据，直接把它整个github仓下载个zip下来解压即可，然后在AutoGIS/data文件夹下新建一个L4_data文件夹，把L4的data文件夹内的内容放入其中即可。"
   ]
  },
  {
   "cell_type": "code",
   "execution_count": 2,
   "metadata": {},
   "outputs": [
    {
     "data": {
      "text/plain": [
       "<AxesSubplot:>"
      ]
     },
     "execution_count": 2,
     "metadata": {},
     "output_type": "execute_result"
    },
    {
     "data": {
      "image/png": "[encoded data removed]",
      "text/plain": [
       "<Figure size 432x288 with 1 Axes>"
      ]
     },
     "metadata": {
      "needs_background": "light"
     },
     "output_type": "display_data"
    }
   ],
   "source": [
    "import geopandas as gpd\n",
    "import matplotlib.pyplot as plt\n",
    "import shapely.speedups\n",
    "%matplotlib inline\n",
    "\n",
    "# File paths\n",
    "border_fp = \"data/L4_data/Helsinki_borders.shp\"\n",
    "grid_fp = \"data/L4_data/TravelTimes_to_5975375_RailwayStation.shp\"\n",
    "\n",
    "# Read files\n",
    "grid = gpd.read_file(grid_fp)\n",
    "hel = gpd.read_file(border_fp)\n",
    "\n",
    "# Plot the layers\n",
    "ax = grid.plot(facecolor='gray')\n",
    "hel.plot(ax=ax, facecolor='None', edgecolor='blue')"
   ]
  },
  {
   "cell_type": "markdown",
   "metadata": {},
   "source": [
    "如图，目标是选择出相交部分。\n",
    "\n",
    "首先最重要的是要检查CRS，确认是否是同一个crs。"
   ]
  },
  {
   "cell_type": "code",
   "execution_count": 3,
   "metadata": {},
   "outputs": [],
   "source": [
    "# Ensure that the CRS matches, if not raise an AssertionError\n",
    "assert hel.crs == grid.crs, \"CRS differs between layers!\""
   ]
  },
  {
   "cell_type": "markdown",
   "metadata": {},
   "source": [
    "执行叠加分析主要使用的是overlay()函数。该函数的输入有：\n",
    "\n",
    "1. the GeoDataFrame where the selection is taken\n",
    "2. the GeoDataFrame used for making the selection\n",
    "3. parameter how that can be used to control how the overlay analysis is conducted (possible values are 'intersection', 'union', 'symmetric_difference', 'difference', and 'identity')"
   ]
  },
  {
   "cell_type": "code",
   "execution_count": 4,
   "metadata": {},
   "outputs": [
    {
     "data": {
      "text/plain": [
       "<AxesSubplot:>"
      ]
     },
     "execution_count": 4,
     "metadata": {},
     "output_type": "execute_result"
    },
    {
     "data": {
      "image/png": "[encoded data removed]",
      "text/plain": [
       "<Figure size 432x288 with 1 Axes>"
      ]
     },
     "metadata": {
      "needs_background": "light"
     },
     "output_type": "display_data"
    }
   ],
   "source": [
    "intersection = gpd.overlay(grid, hel, how='intersection')\n",
    "intersection.plot(color=\"b\")"
   ]
  },
  {
   "cell_type": "markdown",
   "metadata": {},
   "source": [
    "首先，看看叠加后的数据都有哪些属性。"
   ]
  },
  {
   "cell_type": "code",
   "execution_count": 5,
   "metadata": {},
   "outputs": [
    {
     "name": "stdout",
     "output_type": "stream",
     "text": [
      "   car_m_d  car_m_t  car_r_d  car_r_t  from_id  pt_m_d  pt_m_t  pt_m_tt  \\\n",
      "0    29476       41    29483       46  5876274   29990      76       95   \n",
      "1    29456       41    29462       46  5876275   29866      74       95   \n",
      "2    36772       50    36778       56  5876278   33541     116      137   \n",
      "3    36898       49    36904       56  5876279   33720     119      141   \n",
      "4    29411       40    29418       44  5878128   29944      75       95   \n",
      "\n",
      "   pt_r_d  pt_r_t  pt_r_tt    to_id  walk_d  walk_t    GML_ID   NAMEFIN  \\\n",
      "0   24984      77       99  5975375   25532     365  27517366  Helsinki   \n",
      "1   24860      75       93  5975375   25408     363  27517366  Helsinki   \n",
      "2   44265     130      146  5975375   31110     444  27517366  Helsinki   \n",
      "3   44444     132      155  5975375   31289     447  27517366  Helsinki   \n",
      "4   24938      76       99  5975375   25486     364  27517366  Helsinki   \n",
      "\n",
      "       NAMESWE NATCODE                                           geometry  \n",
      "0  Helsingfors     091  POLYGON ((402024.224 6685750.000, 402003.328 6...  \n",
      "1  Helsingfors     091  POLYGON ((402250.000 6685750.000, 402250.000 6...  \n",
      "2  Helsingfors     091  POLYGON ((403148.515 6685750.000, 403243.781 6...  \n",
      "3  Helsingfors     091  POLYGON ((403250.000 6685750.000, 403250.000 6...  \n",
      "4  Helsingfors     091  POLYGON ((401900.425 6685500.000, 402000.000 6...  \n"
     ]
    }
   ],
   "source": [
    "print(intersection.head())"
   ]
  },
  {
   "cell_type": "markdown",
   "metadata": {},
   "source": [
    "从结果可以看到，包含了两个输入的所有属性。\n",
    "\n",
    "接下来保存结果grid为geojson文件，一种常用来存储空间数据的格式。"
   ]
  },
  {
   "cell_type": "code",
   "execution_count": 6,
   "metadata": {},
   "outputs": [],
   "source": [
    "# Output filepath\n",
    "outfp = \"data/L4_data/TravelTimes_to_5975375_RailwayStation_Helsinki.geojson\"\n",
    "\n",
    "# Use GeoJSON driver\n",
    "intersection.to_file(outfp, driver=\"GeoJSON\")"
   ]
  },
  {
   "cell_type": "markdown",
   "metadata": {},
   "source": [
    "其他不同类型的叠加分析可以参考[Set-Operations with Overlay](http://geopandas.org/set_operations.html)文档。注意geopandas中polygon和point是不能叠加计算的。得用lesson 3中的内容处理。"
   ]
  }
 ],
 "metadata": {
  "kernelspec": {
   "display_name": "Python 3 (ipykernel)",
   "language": "python",
   "name": "python3"
  },
  "language_info": {
   "codemirror_mode": {
    "name": "ipython",
    "version": 3
   },
   "file_extension": ".py",
   "mimetype": "text/x-python",
   "name": "python",
   "nbconvert_exporter": "python",
   "pygments_lexer": "ipython3",
   "version": "3.8.10"
  }
 },
 "nbformat": 4,
 "nbformat_minor": 4
}
