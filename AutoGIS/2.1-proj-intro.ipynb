{
 "cells": [
  {
   "cell_type": "markdown",
   "metadata": {
    "pycharm": {
     "name": "#%% md\n"
    }
   },
   "source": [
    "# GIS常识之投影介绍\n",
    "\n",
    "这部分主要参考自<https://www.osgeo.cn/pygis/index.html>和<https://www.zhihu.com/question/27681013>。\n",
    "\n",
    "GIS表达研究的主体是地球，地球是不规则球体，将地球上各点投影在某一平面上进行连续记录是地图和GIS的基础。这就涉及到地图投影和坐标系统的概念了。\n",
    "\n",
    "## 地图投影概念\n",
    "\n",
    "### 大地水准面与椭球体\n",
    "\n",
    "地球自然表面是很复杂且不规则的球体，其形状由地球质量产生，地球不同地方厚度不同，重力也不相同，而重力又影响了地球的形状。为了避免数学上的复杂性，GIS中通常将地球形状显示为椭球。\n",
    "\n",
    "大地测量中用水准测量方法得到的地面上各点的高程是依据一个理想的水准面来确定的，该水准面通常称为“大地基准面”。\n",
    "\n",
    "大地水准面是假想海水处于完全静止状态，将海水面延伸到大陆之下形成的包围整个地球的连续表面。\n",
    "\n",
    "大地水准面所包围的球体称为“大地球体”。由于大地水准面上任何一点的铅垂线都与大地水准面成正交，而铅垂线的方向又受地球内部质量分布不均匀的影响而有微小变化，导致大地水准有微小起伏，使大地球体仍然是不规则的球体。\n",
    "\n",
    "为描述和表达地球表面，在大地球体基础上，以其为参照，推求出近似的椭球体。该椭球以地球短轴为轴的椭圆而旋转的椭球面。此球体就是“地球椭球体”。\n",
    "\n",
    "由于不同的地方，变形规律不同，因此不同的进行定位和明确方向等参数的椭球模型能给地球上不同区域以最优的结果。\n",
    "\n",
    "比如我国常用的西安80坐标系基准椭球，WGS-84 GPS基准椭球等。\n",
    "\n",
    "### 坐标系\n",
    "\n",
    "坐标系包含两方面的内容。\n",
    "\n",
    "1. 在把大地水准面上的测量成果换算到椭球体面上的计算工作中，所采用的椭球的大小；\n",
    "2. 椭球体与大地水准面的相关位置不同，对同一点的地理坐标所计算的结果将有不同的值。\n",
    "\n",
    "因此，确定一个坐标系，一是要选定一个定大小的椭球体，二是要确定它与大地水准面的相关位置。\n",
    "\n",
    "GIS中一个基础问题就是定位问题，坐标系建立后，可以用坐标来表示位置。\n",
    "\n",
    "地球上任一点的位置都可以用经纬度来表示。经线和纬线是正交的曲线。由这两组曲线构成的坐标系称为**地理坐标系**。\n",
    "\n",
    "而在平面上，坐标系通常是平面直角坐标系或者极坐标系。\n",
    "\n",
    "### 地图投影\n",
    "\n",
    "地图投影就是建立地球表面上的点与投影平面上点的一一对应关系。其基本问题就是如何利用一定数学法则将经纬线网表示到平面上。\n",
    "\n",
    "$\\{ \\begin{array}{cc} x=f_1(\\varphi ,\\lambda) \\\\ y=f_2(\\varphi ,\\lambda) \\end{array}$\n",
    "\n",
    "因为球面是不能直接展开到平面上的，所以需要采用几何透视法等方法来间接实现。即将地球上的点和线投影到可展开的曲面（平面、圆柱面、圆锥面）上，然后即可展开到平面。\n",
    "\n",
    "投影的具体方式有很多，但一般按照两种方法分类：\n",
    "\n",
    "- 按投影内在条件即变形性质分类；\n",
    "- 按投影外在条件即投影的构成方法分类。\n",
    "\n",
    "地球上同一纬度带上相同经度差的网格必然是相同大小形状的，但是在投影中会产生变形，表现在长度、面积和角度三个方面。\n",
    "\n",
    "投影按变形性质分类有：\n",
    "\n",
    "- 等积投影：投影面上有限面积的图形和地球椭球面上的相应的图形面积相等，即面积变形为零。这种投影角度会发生变化，扭曲了地形；\n",
    "- 等角投影：在投影面上，任何点上二个方向线的夹角和椭圆面上相应的方向线夹角相等。这种投影在两极面积变形很严重；\n",
    "- 任意投影：不属于以上两种的投影。比如常见的等距投影。\n",
    "\n",
    "![投影分类](pictures/projectin1.jpg)\n",
    "\n",
    "按构成方法分类有：\n",
    "\n",
    "- 几何投影\n",
    "  - 方位投影：地图表面与地球相切，设想无穷远处的一个光源照射地球；\n",
    "  - 圆柱投影：圆柱罩在地球上，投影到圆柱面上。投射角度是可以变的；\n",
    "  - 圆锥投影：圆锥找在地球上，投影到圆锥面上。投射角度是可以变的。\n",
    "- 非几何投影\n",
    "  - 伪方位投影：纬线为同心圆，中央经线为直线，其余的经线均为对称于中央经线的曲线，且相交于纬线的共同圆心。\n",
    "  - 伪圆柱投影：纬线为平行直线，中央经线为直线，其余的经线均为对称于中央经线的曲线。\n",
    "  - 伪圆锥投影：纬线为同心圆弧，中央经线为直线，其余经线均为对称于中央经线的曲线。\n",
    "  - 多圆锥投影：纬线为同周圆弧，其圆心均为于中央经线上，中央经线为直线，其余的经线均为对称于中央经线的曲线。\n",
    "  \n",
    "如何选择投影？\n",
    "\n",
    "一般有几种常见的投影：高斯克吕格投影，通用横轴墨卡托投影等。\n",
    "\n",
    "下面看看实际应用中常用的处理投影工具."
   ]
  },
  {
   "cell_type": "markdown",
   "metadata": {},
   "source": [
    "## PROJ.4简介\n",
    "\n",
    "PROJ.4是开源GIS最著名的地图投影库，它专注于地图投影的表达，以及转换，许多GIS开源软件的投影都直接使用Proj.4的库文件。\n",
    "\n",
    "介绍它之前，先从最熟悉的ArcGIS的**prj文件**开始，prj文件是一个专门用来**描述坐标系投影**的文件，里面定义了坐标系的名称、长短半轴、基准面、投影参数等一些其他重要的信息（参考[ArcGIS的.prj文件生成proj4格式的字符串](https://blog.csdn.net/wb175208/article/details/54319028)）。当不在arcgis中处理，而需在code中处理坐标问题时，那proj4这一C语言编写的专门用来处理各个坐标系之间的转换的开源库就是最常用的了。它可以实现经纬度坐标转平面坐标或者不同椭球体之间的坐标系转换，运算精度高，在很多GIS软件中都有使用。Proj.4的功能主要有经纬度坐标与地理坐标的转换，坐标系的转换，包括基准变换等。\n",
    "\n",
    "地图投影的表达方式有多种，可以举个例子，打开网站https://epsg.io/ ，随意搜索一个坐标系，比如Lambert Conformal Conic，选择一个[North America Lambert Conformal Conic](https://epsg.io/102009)，页面往下拉可以看到export选项下有很多格式。这就是地图投影的各种不同类型的表达方式。其中，PROJ.4就是这里用的格式，形式如下所示：\n",
    "\n",
    "+proj=lcc +lat_1=20 +lat_2=60 +lat_0=40 +lon_0=-96 +x_0=0 +y_0=0 +datum=NAD83 +units=m +no_defs\n",
    "\n",
    "可以看到PROJ.4采用一种非常简单明了的投影表达，加号分隔了各个参数项。同时它又具备强大的投影转换功能，因此它是非常吸引人的。而[pyproj](https://github.com/pyproj4/pyproj)是PROJ的一个python接口。使用它也可以很容易进行坐标转换。\n",
    "\n",
    "### pyproj简介\n",
    "\n",
    "参考了[在Python里使用的Proj4](https://www.cnblogs.com/oloroso/p/5749057.html)。\n",
    "\n",
    "proj 不光是一些应用程序的集合，它更是一个库，其它语言可以来调用它，来进行更高级的开发和应用。在 proj安装上之后，它本身作为库，可以被 C/C++来调用。而 proj本身是一个开源的项目，同时 Python也是一个开源的编程语言。Proj理所应当的能够用在 Python里。在 Python里的 Proj库称为 Pyproj。在 windows和 Linux下都很好安装。如前所述。\n",
    "\n",
    "Pyporj是 Python下的 proj。可以很方便的对点来进行地图投影转换。同时在它的基础上开发出更高级的应用。Pyproj包里包括两个类，Proj类和Geod类。\n",
    "\n",
    "Proj 类可以进行地图投影的变换从经纬度转为 xy投影坐标，也可以反转。也可以在不同的地图投影之间转换。\n",
    "\n",
    "Geod类可以很方便的计算地球上任意两点的大圆距离，以及它们的相对方位。同时，也可根据方位和大圆距离来反算出另一点的经纬度。其处理的输入坐标可以是 python数组，list元组，scalar 或者 numpy/Numeric/numarray arrays。在导入 Pyproj后可以用其内部的函数 test()会运行一些例子。\n",
    "\n",
    "### Proj类\n",
    "\n",
    "当初始化一个 Proj 类的实例时，地图投影的参数设置可以用关键字/值的形式。关键字和值的形式也可以用字典或关键字参数，或者一个 **proj4 字符串**（这个就是前面说的proj形式的投影表达）。\n",
    "\n",
    "如果可选的关键字“errcheck”为真的话（默认为假）， 一个异常将会被给出，如果转换无效的话。 如果为假，且转换无效时，没有异常抛出，会返会一个无效值 1.e30。\n",
    "\n",
    "可以将经纬度分别存入一个list或array。可以进行更高效率的转换。输入的值应当是双精度（如果输入的不是，它们将会被转为双精度）。虽然Proj可以和numpy and regular python array objects,python sequences and scalars,但是用array对象速度快一些。\n",
    "\n",
    "首先初始化一个投影：Proj4投影控制参数或者是以字典形式给出，或者是以关键字参数给出，也可以用proj4的形式给出字符串。"
   ]
  },
  {
   "cell_type": "code",
   "execution_count": 1,
   "metadata": {
    "collapsed": false,
    "jupyter": {
     "outputs_hidden": false
    },
    "pycharm": {
     "is_executing": false,
     "name": "#%%\n"
    }
   },
   "outputs": [
    {
     "name": "stdout",
     "output_type": "stream",
     "text": [
      "-3937003.942,14745198.051\n"
     ]
    }
   ],
   "source": [
    "from pyproj import Proj\n",
    "p = Proj(proj='utm',zone=10,ellps='WGS84') # use kwargs\n",
    "# p = Proj('+proj=utm +zone=10 +ellps=WGS84') # use proj4 string\n",
    "x,y=p(105,36)\n",
    "print('%.3f,%.3f' %(x,y))"
   ]
  },
  {
   "cell_type": "markdown",
   "metadata": {},
   "source": [
    "上述代码即将经纬度坐标转换为平面坐标。\n",
    "\n",
    "接下来使用transform()函数进行不同投影的转换。用法：\n",
    "\n",
    "transform(p1, p2, x, y, z=None, radians=False) x2, y2, z2 = transform(p1, p2, x1, y1, z1, radians=False)\n",
    "\n",
    "在p1和p2两个投影之间进行投影转换，将把在p1坐标系下的点(x1,y1,z1)转换到p2所定义的投影中去。z1是可选的，如果没有设z1，会假定为0，并仅仅返回x2,y2。"
   ]
  },
  {
   "cell_type": "code",
   "execution_count": 2,
   "metadata": {},
   "outputs": [
    {
     "data": {
      "text/plain": [
       "(0.0, 3847866.972516728)"
      ]
     },
     "execution_count": 2,
     "metadata": {},
     "output_type": "execute_result"
    }
   ],
   "source": [
    "from pyproj import Proj\n",
    "albers=Proj('+proj=aea +lon_0=105 +lat_1=25 +lat_2=47 +ellps=krass') \n",
    "utm=Proj(proj='utm',zone=48,ellps='WGS84') # 499999.99999999773 3983948.4533356656\n",
    "# utm=Proj(proj='utm',zone=48,ellps='krass')  # 499999.99999999773 3984019.058813517 不同datum计算结果不同\n",
    "albers_x,albers_y=albers(105,36) \n",
    "albers_x,albers_y "
   ]
  },
  {
   "cell_type": "code",
   "execution_count": 3,
   "metadata": {},
   "outputs": [
    {
     "name": "stdout",
     "output_type": "stream",
     "text": [
      "499999.99999999773 3983948.4533356656\n"
     ]
    }
   ],
   "source": [
    "utm_x,utm_y=utm(105,36) \n",
    "print(utm_x,utm_y )"
   ]
  },
  {
   "cell_type": "code",
   "execution_count": 4,
   "metadata": {},
   "outputs": [
    {
     "name": "stdout",
     "output_type": "stream",
     "text": [
      "499999.99999999773 3983948.453335665\n"
     ]
    },
    {
     "name": "stderr",
     "output_type": "stream",
     "text": [
      "C:\\Users\\hust2\\AppData\\Local\\Temp/ipykernel_12000/1887088792.py:2: DeprecationWarning: This function is deprecated. See: https://pyproj4.github.io/pyproj/stable/gotchas.html#upgrading-to-pyproj-2-from-pyproj-1\n",
      "  to_utm_x,to_utm_y = transform(albers,utm,albers_x ,albers_y)\n"
     ]
    }
   ],
   "source": [
    "from pyproj import transform\n",
    "to_utm_x,to_utm_y = transform(albers,utm,albers_x ,albers_y) \n",
    "print(to_utm_x,to_utm_y )"
   ]
  },
  {
   "cell_type": "markdown",
   "metadata": {},
   "source": [
    "更多基准面的转换和投影的转换的例子，可以参考\n",
    "\n",
    "- [入门-Python-GIS坐标转换](https://zhuanlan.zhihu.com/p/75000381)\n",
    "- [WGS84转GCJ02的Python脚本](https://link.zhihu.com/?target=https%3A//github.com/wandergis/coordTransform_py/blob/master/coordTransform_utils.py)"
   ]
  }
 ],
 "metadata": {
  "kernelspec": {
   "display_name": "Python 3 (ipykernel)",
   "language": "python",
   "name": "python3"
  },
  "language_info": {
   "codemirror_mode": {
    "name": "ipython",
    "version": 3
   },
   "file_extension": ".py",
   "mimetype": "text/x-python",
   "name": "python",
   "nbconvert_exporter": "python",
   "pygments_lexer": "ipython3",
   "version": "3.8.10"
  },
  "pycharm": {
   "stem_cell": {
    "cell_type": "raw",
    "metadata": {
     "collapsed": false
    },
    "source": []
   }
  }
 },
 "nbformat": 4,
 "nbformat_minor": 4
}
