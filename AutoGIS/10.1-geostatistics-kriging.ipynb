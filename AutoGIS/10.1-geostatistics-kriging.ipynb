{
 "cells": [
  {
   "cell_type": "markdown",
   "id": "dd809c63",
   "metadata": {},
   "source": [
    "# 空间统计分析之克里金插值\n",
    "\n",
    "前面章节主要是讨论一些基础gis数据处理运算和地图可视化方面的内容，从本小节所属章节开始涉及记录一些常用的空间数据分析方法，比如统计计算方法等。\n",
    "\n",
    "本小节简单介绍一种经典的空间数据插值方法——克里金插值。\n",
    "\n",
    "## 克里金(Kriging)插值的原理"
   ]
  },
  {
   "cell_type": "markdown",
   "id": "7d2e7f59",
   "metadata": {},
   "source": [
    "克里金插值变种很多，本文主要简单介绍基本克里金插值的原理，内容主要来自[这里](https://xg1990.com/blog/archives/222)。"
   ]
  },
  {
   "cell_type": "markdown",
   "id": "3eadce39",
   "metadata": {},
   "source": [
    "### 0 前言 --从反距离插值(IDW)说起"
   ]
  },
  {
   "cell_type": "markdown",
   "id": "376ad542",
   "metadata": {
    "tags": []
   },
   "source": [
    "空间插值问题，就是在已知空间上若干离散点 $(x_i,y_i)$ 的某一属性(如气温，海拔)的观测值$z_i=z(x_i,y_i)$的条件下，估计空间上任意一点$(x,y)$的属性值的问题。\n",
    "\n",
    "直观来讲，根据地理学第一定律，  \n",
    "```\n",
    "All attribute values on a geographic surface are related to each other, but closer values are more strongly related than are more distant ones.\n",
    "```\n",
    "\n",
    "地理属性有空间相关性，相近的事物会更相似。由此人们发明了反距离插值，对于空间上任意一点 $(x,y)$ 的属性 $z=z(x,y)$ ，定义反距离插值公式估计量\n",
    "$$\\hat{z} = \\sum^{n}_{i=1}{\\frac{1}{d^\\alpha}z_i}$$\n",
    "\n",
    "其中$\\alpha $通常取1或者2。  \n",
    "\n",
    "即，用空间上所有已知点的数据加权求和来估计未知点的值，权重取决于距离的倒数（或者倒数的平方）。那么，距离近的点，权重就大；距离远的点，权重就小。  \n",
    "反距离插值可以有效的基于地理学第一定律估计属性值空间分布，但仍然存在很多问题：  \n",
    "    (1)$\\alpha $ 的值不确定  \n",
    "    (2)用倒数函数来描述空间关联程度不够准确   \n",
    "    \n",
    "因此更加准确的克里金插值方法被提出来了。"
   ]
  },
  {
   "cell_type": "markdown",
   "id": "d39ce7e1",
   "metadata": {},
   "source": [
    "### 1 克里金插值的定义"
   ]
  },
  {
   "cell_type": "markdown",
   "id": "96dec55f",
   "metadata": {},
   "source": [
    "克里金法（Kriging  method）是依据**协方差函数**对**随机过程**/随机场进行空间建模和预测（插值）的回归算法。   \n",
    "相比反距离插值，克里金插值公式更加抽象\n",
    "$$\\hat{z_o} = \\sum^{n}_{i=0}{\\lambda_iz_i} $$\n",
    "其中$\\hat{z_o}$是点$(x_o,y_o)$处的估计值，即$z_o=z(x_o,y_o)$  \n",
    "这里的$\\lambda_i$是权重系数。它同样是用空间上所有已知点的数据加权求和来估计未知点的值。但权重系数并非距离的倒数，而是能够满足点$(x_o,y_o)$处的估计值$\\hat{z_o}$与真实值$z_o$的差最小的一套最优系数，即\n",
    "$$\\min_{\\lambda_i} Var(\\hat{z_o}-z_o)$$\n",
    "同时满足无偏估计的条件\n",
    "$$E(\\hat{z_o}-z_o)=0$$\n",
    "无偏指的是估计值和实际值之差的期望等于零，最优指的是估计值和实际值的方差最小。  \n",
    "简单来说克里金（kriging）插值干的事情就是：已经有一些坐标和这些坐标处的真实值，我们可以称之为采样点。然后把这些采样点输入到克里金插值中，我们就可以用来估计其他未知位置处的值。"
   ]
  },
  {
   "cell_type": "markdown",
   "id": "26c89f69",
   "metadata": {},
   "source": [
    "### 2 算法"
   ]
  },
  {
   "cell_type": "markdown",
   "id": "18d43b96",
   "metadata": {},
   "source": [
    "  -普通克里金（Ordinary Kriging, OK）  \n",
    "**改进算法：**  \n",
    "  -泛克里金（Universal Kriging, UK）  \n",
    "  -协同克里金（Co-Kriging, CK）  \n",
    "  -析取克里金（Disjunctive Kriging, DK）  \n",
    "**混合算法：**   \n",
    "  -回归克里金（regression-Kriging）  \n",
    "  -神经网络克里金（neural Kriging）  \n",
    "  -贝叶斯克里金（Bayesian Kriging）  "
   ]
  },
  {
   "cell_type": "markdown",
   "id": "0feaa4a7",
   "metadata": {},
   "source": [
    "### 3 假设条件"
   ]
  },
  {
   "cell_type": "markdown",
   "id": "14595e72",
   "metadata": {
    "tags": []
   },
   "source": [
    "**不同的克里金插值方法的主要差异就是假设条件不同**。本文仅介绍普通克里金插值的假设条件与应用。  \n",
    "普通克里金插值的假设条件为，空间属性z是均一的。对于空间任意一点$(x,y)$，都有同样的期望c与方差$\\sigma^2$。  即对任意点$(x,y)$都有$$E[z(x,y)] = E[z] = c$$\n",
    "\n",
    "$$Var[z(x,y)] = \\sigma^2$$\n",
    "换一种说法：任意一点处的值$z(x,y)$，都由区域平均值c和该点的随机偏差$R(x,y)$组成，即\n",
    "\n",
    "$$z(x,y)=E[z(x,y)] + R(x,y)= c + R(x,y)$$\n",
    "\n",
    "其中$R(x,y)$表示点$(x,y)$处的偏差，其方差均为常数\n",
    "\n",
    "$$Var[R(x,y)] = \\sigma^2$$\n",
    "\n",
    "\n",
    "\n",
    "\n"
   ]
  },
  {
   "cell_type": "markdown",
   "id": "8b95eff4",
   "metadata": {},
   "source": [
    "### 4 无偏约束条件"
   ]
  },
  {
   "cell_type": "markdown",
   "id": "874cdf70",
   "metadata": {},
   "source": [
    "先分析无偏估计条件$E(\\hat{z_o}-z_o)=0$，将$\\hat{z_o} = \\sum^{n}_{i=0}{\\lambda_iz_i}$带入则有\n",
    "\n",
    "$E(\\sum^{n}_{i=0}{\\lambda_iz_i}- z_o)=0$\n",
    "\n",
    "又因为对任意的z都有$E[z] = c$，则\n",
    "\n",
    "$c \\sum^{n}_{i=0}{\\lambda_i}- c=0$\n",
    "\n",
    "即\n",
    "\n",
    "$\\sum^{n}_{i=0}{\\lambda_i} = 1$\n",
    "\n",
    "这是$\\lambda_i$的约束条件之一。"
   ]
  },
  {
   "cell_type": "markdown",
   "id": "a2d5d6b9",
   "metadata": {},
   "source": [
    "### 5 优化目标/代价函数J"
   ]
  },
  {
   "cell_type": "markdown",
   "id": "1b5f1dd7",
   "metadata": {},
   "source": [
    "再分析估计误差$Var(\\hat{z_o}-z_o)$。为方便公式推理，用符号$J$表示，即\n",
    "\n",
    "$J = Var(\\hat{z_o}-z_o)$\n",
    "\n",
    "则有"
   ]
  },
  {
   "cell_type": "markdown",
   "id": "8aa4d02e",
   "metadata": {},
   "source": [
    "$$J= Var(\\sum^{n}_{i=0}{\\lambda_iz_i} - z_o) = Var(\\sum^{n}_{i=0}{\\lambda_iz_i}) - 2 Cov(\\sum^{n}_{i=0}{\\lambda_iz_i}, z_o) + Cov(z_o, z_o) = \\sum^{n}_{i=0}\\sum^{n}_{j=0}{\\lambda_i\\lambda_jCov( z_i, z_j)} - 2 \\sum^{n}_{i=0}{\\lambda_iCov(z_i, z_o)} + Cov(z_o, z_o) $$"
   ]
  },
  {
   "cell_type": "markdown",
   "id": "1ad9f244",
   "metadata": {},
   "source": [
    "为简化描述，定义符号 $C_{ij} = Cov(z_i,z_j) = Cov(R_i,R_j)$，这里$R_i = z_i - c$，即点$(x_i,y_i)$处的属性值相对于区域平均属性值的偏差。\n",
    "\n",
    "则有\n",
    "\n",
    "$J = \\sum^{n}_{i=0}\\sum^{n}_{j}{\\lambda_i\\lambda_jC_{ij}} - 2 \\sum^{n}_{i=0}{\\lambda_iC_{io}} + C_{oo} $"
   ]
  },
  {
   "cell_type": "markdown",
   "id": "9d1b271f",
   "metadata": {},
   "source": [
    "### 6 代价函数的最优解"
   ]
  },
  {
   "cell_type": "markdown",
   "id": "86c165a7",
   "metadata": {},
   "source": [
    "再定义半方差函数 $r_{ij} = \\sigma^2 -C_{ij}$，带入$J$中，有$$J = \\sum^{n}_{i=0}\\sum^{n}_{j=0}{\\lambda_i\\lambda_j(\\sigma^2 - r_{ij})} - 2 \\sum^{n}_{i=0}{\\lambda_i(\\sigma^2 - r_{io})} + \\sigma^2 - r_{oo} =\\sum^{n}_{i=0}\\sum^{n}_{j=0}{\\lambda_i\\lambda_j(\\sigma^2)} -\\sum^{n}_{i=0}\\sum^{n}_{j=0}{\\lambda_i\\lambda_j( r_{ij})}-2\\sum^{n}_{i=0}{\\lambda_i(\\sigma^2)}+2 \\sum^{n}_{i=0}{\\lambda_i(r_{io})}+\\sigma^2 - r_{oo}  $$\n",
    "考虑到$\\sum^{n}_{i=0}{\\lambda_i} = 1$\n",
    "$J = \\sigma^2-\\sum^{n}_{i=0}\\sum^{n}_{j}{\\lambda_i\\lambda_j(r_{ij})}-2 \\sigma^2 +2 \\sum^{n}_{i=0}{\\lambda_i(r_{io})}+ \\sigma^2 - r_{oo}=2 \\sum^{n}_{i=0}{\\lambda_i(r_{io})} -\\sum^{n}_{i=0}\\sum^{n}_{j=0}{\\lambda_i\\lambda_j(r_{ij})} - r_{oo}  $\n",
    "我们的目标是寻找使$J$最小的一组 $\\lambda_i$，且$J$是$\\lambda_i$的函数，因此直接将$J$对$\\lambda_i$求偏导数令其为0即可。即\n",
    "$\\frac{\\partial J}{\\partial \\lambda_i}= 0;i=1,2,\\cdots$\n",
    "\n",
    "但是要注意的是，我们要保证求解出来的最优 $\\lambda_i$ 满足公式$\\sum^{n}_{i=0}{\\lambda_i} = 1$，这是一个带约束条件的最优化问题。使用拉格朗日乘数法求解，求解方法为构造一个新的目标函数$$J + \\phi(\\sum^{n}_{i=0}{\\lambda_i}-1)$$\n",
    "其中$\\phi$是拉格朗日乘数。求解使这个代价函数最小的参数集${\\phi,\\lambda_1,\\lambda_2,\\cdots,\\lambda_n}$，则能满足其在$\\sum^{n}_{i=0}{\\lambda_i} = 1$约束下最小化$J$。即\n",
    "\n",
    "$$\\frac{\\partial(J + \\phi(\\sum^{n}_{i=0}{\\lambda_i}-1))}{\\partial \\lambda_i} = 0;i=1,2,\\cdots,n\\\\ \\frac{\\partial(J + \\phi(\\sum^{n}_{i=0}{\\lambda_i}-1))}{\\partial \\phi} = 0  $$\n",
    "\n",
    "$$ \\frac{\\partial (2 \\sum^{n}_{i=0}{\\lambda_i(r_{io})} - \\sum^{n}_{i=0}\\sum^{n}_{j}{\\lambda_i\\lambda_j(r_{ij})} - r_{oo})}{\\partial \\lambda_i}= 0;i=1,2,\\cdots,$$$$ \\frac{\\partial (\\partial 2 \\sum^{n}_{i=0}{\\lambda_i(r_{io})} - \\sum^{n}_{i=0}\\sum^{n}_{j}{\\lambda_i\\lambda_j(r_{ij})} - r_{oo})}{\\partial \\phi} = 0 $$\n",
    "\n",
    "$$2r_{io} - \\sum^{n}_{j=1}{(r_{ij}+r_{ji})\\lambda_j}=0;i=1,2,\\cdots,$$$$ \\sum^{n}_{i=0}{\\lambda_i} = 1$$\n",
    "由于$C_{ij}=Cov(z_i,z_j)=C_{ji}$，因此同样地$r_{ij}=r_{ji}$，那么有\n",
    "\n",
    "$$ r_{io} - \\sum^{n}_{j=1}{r_{ij}\\lambda_j} = 0;i=1,2,\\cdots,$$$$ \\sum^{n}_{i=0}{\\lambda_i} = 1 $$\n",
    "式子中半方差函数$r_{ij}$十分重要，最后会详细解释其计算与定义\n",
    "在以上计算中我们得到了对于求解权重系数$\\lambda_j$的方程组。写成线性方程组的形式就是：\n",
    "$$ r_{11}\\lambda_1 + r_{12}\\lambda_2 + \\cdots + r_{1n}\\lambda_n + \\phi= r_{1o}$$   $$r_{21}\\lambda_1 + r_{22}\\lambda_2 + \\cdots + r_{2n}\\lambda_n + \\phi= r_{2o}$$ $$ r_{n1}\\lambda_1 + r_{n2}\\lambda_2 + \\cdots + r_{nn}\\lambda_n + \\phi= r_{no}$$ $$ \\lambda_1 + \\lambda_2 + \\cdots + \\lambda_n = 1$$\n",
    "写成矩阵形式即为\n",
    "$\\begin{bmatrix}r_{11}&r_{12}&\\cdots&r_{1n}&1\\\\ r_{21}&r_{22}&\\cdots&r_{2n}&1\\\\\\cdots&\\cdots&\\cdots&\\cdots&\\cdots\\\\r_{n1}&r_{n2}&\\cdots&r_{nn}&1\\\\1&1&\\cdots&1&0\\end{bmatrix}\\begin{bmatrix} \\lambda_1\\\\ \\lambda_2\\\\\\cdots\\\\\\lambda_n\\\\0\\end{bmatrix}=\\begin{bmatrix} r_{1o}\\\\ r_{2o}\\\\\\cdots\\\\r_{no}\\\\1\\end{bmatrix}$\n",
    "对矩阵求逆即可求解。\n",
    "\n",
    "唯一未知的就是上文中定义的半方差函数$r_{ij}$，接下来将详细讨论"
   ]
  },
  {
   "cell_type": "markdown",
   "id": "2dfbc5e7",
   "metadata": {},
   "source": [
    "### 7 半方差函数"
   ]
  },
  {
   "cell_type": "markdown",
   "id": "2fe14c75",
   "metadata": {},
   "source": [
    "上文中对半方差函数的定义为\n",
    "\n",
    "$r_{ij} = \\sigma^2 -C_{ij}$\n",
    "\n",
    "其等价形式为\n",
    "\n",
    "$r_{ij} = \\frac{1}{2}E[(z_i-z_j)^2]$\n",
    "\n",
    "这也是半方差函数名称的来由，接下来证明这二者是等价的：\n",
    "\n",
    "根据上文定义 $R_i = z_i - c$，有$z_i-z_j = R_i - R_j$，则\n",
    "\n",
    "$$ r_{ij} = \\frac{1}{2}E[(R_i-R_j)^2]= \\frac{1}{2}E[R_i^2-2R_iR_j+R_j^2]= \\frac{1}{2}E[R_i^2]+\\frac{1}{2}E[R_j^2]-E[R_iR_j]  $$\n",
    "\n",
    "又因为：\n",
    "\n",
    "$E[R_i^2] =E[R_j^2] = E[(z_i - c)^2] = Var(z_i) = \\sigma^2 $\n",
    "\n",
    "$E[R_iR_j] = E[(z_i - c)(z_j-c)] = Cov(z_i,z_j) = C_{ij}$\n",
    "\n",
    "于是有\n",
    "\n",
    "$$ r_{ij} = \\frac{1}{2}E[(z_i-z_j)^2]= \\frac{1}{2}E[R_i^2]+\\frac{1}{2}E[R_j^2]-E[R_iR_j]= \\frac{1}{2}\\sigma^2+\\frac{1}{2}\\sigma^2- C_{ij}=\\sigma^2 -C_{ij} $$\n",
    "\n",
    "$ \\sigma^2 -C_{ij} = \\frac{1}{2}E[(z_i-z_j)^2]$得证，现在的问题就是如何计算\n",
    "\n",
    "$$r_{ij} = \\frac{1}{2}E[(z_i-z_j)^2]$$\n",
    "\n",
    "这时需要用到地理学第一定律，空间上相近的属性相近。$(r_{ij} = \\frac{1}{2}(z_i-z_j)^2$表达了属性的相似度；空间的相似度就用距离来表达，定义i与j之间的几何距离\n",
    "$d_{ij} = d(z_i,z_j) = d( (x_i,y_i), (x_j,y_j)) = \\sqrt{(x_i-x_j)^2 + (y_i - y_j)^2}$\n",
    "\n",
    "克里金插值假设$r_{ij}$与$d_{ij}$存在着函数关系，这种函数关系可以是线性、二次函数、指数、对数关系。为了确认这种关系，我们需要首先对观测数据集\n",
    "\n",
    "$\\{z(x_1,y_1),z(x_2,y_2),z(x_3,y_3),\\cdots,z(x_{n-1},y_{n-1}),z(x_n,y_n)\\}$\n",
    "\n",
    "计算任意两个点的 距离$d_{ij}= \\sqrt{(x_i-x_j)^2 + (y_i - y_j)^2}$和 半方差 $\\sigma^2 -C_{ij} =\\frac{1}{2}E[(z_i-z_j)^2]$，这时会得到$n^2$个$(d_{ij}, r_{ij})$的数据对。\n",
    "\n",
    "将所有的$d$和$r$绘制成散点图，寻找一个最优的拟合曲线拟合$d$与$r$的关系，得到函数关系式\n",
    "\n",
    "$r = r(d)$\n",
    "\n",
    "那么对于任意两点$(x_i,y_i), (x_j,y_j)$，先计算其距离$d_{ij}$，然后根据得到的函数关系就可以得到这两点的半方差$r_{ij}$"
   ]
  },
  {
   "cell_type": "markdown",
   "id": "4c32e88a",
   "metadata": {},
   "source": [
    "### 8 简单克里金（simple kriging）与普通克里金（ordinary kriging）的区别"
   ]
  },
  {
   "cell_type": "markdown",
   "id": "c24b7844",
   "metadata": {},
   "source": [
    "以上介绍的均为普通克里金（ordinary kriging）的公式与推理。\n",
    "\n",
    "事实上普通克里金插值还有简化版，即简单克里金（simple kriging）插值。二者的差异就在于如何定义插值形式：\n",
    "\n",
    "上文讲到，普通克里金插值形式为\n",
    "\n",
    "$\\hat{z_o} = \\sum^{n}_{i=0}{\\lambda_iz_i}$\n",
    "\n",
    "而简单克里金的形式则为\n",
    "\n",
    "$\\hat{z_o} - c= \\sum^{n}_{i=0}{\\lambda_i(z_i-c)}$\n",
    "\n",
    "这里的符号c在上文介绍过了，是属性值的数学期望，即$E[z] = c$。也就是说，在普通克里金插值中，认为未知点的属性值是已知点的属性值的加权求和；而在简单克里金插值中，假设未知点的属性值相对于平均值的偏差是已知点的属性值相对于平均值的偏差的加权求和，用公式表达即为：\n",
    "\n",
    "$\\hat{R_o} = \\sum^{n}_{i=0}{\\lambda_iR_i}$\n",
    "\n",
    "这里的$R_i$在上文定义过了：$R_i = z_i - c$。\n",
    "\n",
    "但是为什么这样的克里金插值称为“简单克里金”呢？由于有假设$E[z] = c$，也就是说$E(R_i + c) = c$，即$E(R_i) = 0$。那么上面的公式$\\hat{R_o} = \\sum^{n}_{i=0}{\\lambda_iR_i}$两边的期望一定相同，那么在求解未知参数$\\lambda_i$就不需要有无偏约束条件$\\sum^{n}_{i=0}{\\lambda_i} = 1$。换句话说，这样的估计公式天生就能满足无偏条件。因此它被称为简单克里金。\n",
    "\n",
    "从在上文（第5节优化目标/代价函数J）中可以知道，优化目标的推理和求解过程是通过对属性值相对于期望的偏差量$R_i$进行数学计算而进行的。也就是说这两种克里金插值方法虽然插值形式不一样，求解方法是一样的，重要的区别是简单克里金插值不需要约束条件$\\sum^{n}_{i=0}{\\lambda_i} = 1$，求解方程组为：\n",
    "$$r_{11}\\lambda_1 + r_{12}\\lambda_2 + \\cdots + r_{1n}\\lambda_n + \\phi= r_{1o}  $$\n",
    "\n",
    "$$r_{21}\\lambda_1 + r_{22}\\lambda_2 + \\cdots + r_{2n}\\lambda_n + \\phi= r_{2o}  $$\n",
    "\n",
    "$$r_{n1}\\lambda_1 + r_{n2}\\lambda_2 + \\cdots + r_{nn}\\lambda_n + \\phi= r_{no} $$\n",
    "\n",
    "还有更重要的一点，简单克里金的插值公式为：\n",
    "\n",
    "$\\hat{z_o} = \\sum^{n}_{i=0}{\\lambda_i(z_i-c)}+c$\n",
    "\n",
    "换句话说，在计算未知点属性值$\\hat{z_o}$前，需要知道该地区的属性值期望c。事实上我们在进行插值前很难知道这个地区的真实属性值期望。有些研究者可能会采用对观测数据简单求平均的方法计算期望值c，而考虑到空间采样点位置代表性可能有偏差（比如采样点聚集在某一小片地区，没有代表性），简单平均估计的期望也可能是有偏差的。这是简单克里金方法的局限性。"
   ]
  },
  {
   "cell_type": "markdown",
   "id": "347d8de9",
   "metadata": {},
   "source": [
    "### 9 小结"
   ]
  },
  {
   "cell_type": "markdown",
   "id": "45967a5d",
   "metadata": {},
   "source": [
    "总的来说，进行克里金插值分为这几个步骤：  \n",
    "1、对于**观测数据**，两两计算距离与半方差  \n",
    "2、寻找一个拟合曲线拟合距离与半方差的关系，从而能根据**任意距离计算出相应的半方差**  \n",
    "3、计算出所有已知点之间的半方差$r_{ij}$    \n",
    "4、对于未知点$z_0$，计算它到所有已知点$z_i$的半方差$r_{io}$    \n",
    "5、求解第五节中的方程组，得到最优系数$\\lambda_i$    \n",
    "6、使用最优系数对已知点的属性值进行加权求和，得到未知点$z_o$的估计值\n"
   ]
  },
  {
   "cell_type": "markdown",
   "id": "35d1a007",
   "metadata": {},
   "source": [
    "# Python Kriging\n",
    "\n",
    "在Python里，有两个比较常用的克里金插值包，**pykrige和pykriging**，此外 PySAL中也集成了包括克里金插值在内的很多空间统计方法，后续再补充。\n",
    "\n",
    "python中Kriging算法: \n",
    "\n",
    "``` OrdinaryKriging```： 2D ordinary kriging with estimated mean  \n",
    "  \n",
    "``` UniversalKriging```:2D universal kriging providing drift terms  \n",
    "  \n",
    "```OrdinaryKriging3D: ```3D ordinary kriging  \n",
    " \n",
    "```UniversalKriging3D: ```3D universal kriging  \n",
    "  \n",
    "```RegressionKriging:``` An implementation of Regression-Kriging \n",
    "  \n",
    "```ClassificationKriging:``` An implementation of Simplicial Indicator Kriging  "
   ]
  },
  {
   "cell_type": "markdown",
   "id": "865e4c42",
   "metadata": {
    "tags": []
   },
   "source": [
    "## Using pyKrige"
   ]
  },
  {
   "cell_type": "markdown",
   "id": "d86851ba",
   "metadata": {},
   "source": [
    "### Ordinary Kriging Example"
   ]
  },
  {
   "cell_type": "code",
   "execution_count": 1,
   "id": "a50752a5",
   "metadata": {},
   "outputs": [],
   "source": [
    "#下面代码给出了使用普通克里金进行插值的一个简单例子，其他类型的克里金插值类似。\n",
    "from pykrige.ok import OrdinaryKriging\n",
    "import numpy as np\n",
    "from matplotlib import pyplot as plt"
   ]
  },
  {
   "cell_type": "code",
   "execution_count": 2,
   "id": "68be5b85",
   "metadata": {},
   "outputs": [],
   "source": [
    "# 已知采样点的数据，是坐标（x，y）和坐标对应的值\n",
    "# 矩阵中第一列是x,第二列是y,第三列是坐标对应的值\n",
    "data = np.array(\n",
    "    [\n",
    "        [0.1, 0.1, 0.9],\n",
    "        [0.2, 0.1, 0.8],\n",
    "        [0.1, 0.3, 0.9],\n",
    "        [0.5, 0.4, 0.5],\n",
    "        [0.3, 0.3, 0.7],\n",
    "    ])"
   ]
  },
  {
   "cell_type": "code",
   "execution_count": 3,
   "id": "8b2f8ab9",
   "metadata": {},
   "outputs": [],
   "source": [
    "# 网格\n",
    "x_range = 0.6\n",
    "y_range = 0.6\n",
    "range_step = 0.1\n",
    "gridx = np.arange(0.0, x_range, range_step) #三个参数的意思：范围0.0 - 0.6 ，每隔0.1划分一个网格\n",
    "gridy = np.arange(0.0, y_range, range_step)"
   ]
  },
  {
   "cell_type": "code",
   "execution_count": 4,
   "id": "6d496468",
   "metadata": {},
   "outputs": [],
   "source": [
    "ok3d = OrdinaryKriging(\n",
    "    data[:, 0],\n",
    "    data[:, 1], \n",
    "    data[:, 2], \n",
    "    variogram_model=\"linear\") # 模型\n",
    "# variogram_model是变差函数模型，pykrige提供 linear, power, gaussian, spherical, exponential, hole-effect几种variogram_model可供选择，默认的为linear模型。\n",
    "# 使用不同的variogram_model，预测效果是不一样的，应该针对自己的任务选择合适的variogram_model。"
   ]
  },
  {
   "cell_type": "code",
   "execution_count": 5,
   "id": "941a36d2",
   "metadata": {},
   "outputs": [
    {
     "name": "stdout",
     "output_type": "stream",
     "text": [
      "[[0.91 0.87 0.81 0.75 0.7 0.66]\n",
      " [0.92 0.9 0.8 0.74 0.68 0.63]\n",
      " [0.92 0.89 0.81 0.72 0.65 0.59]\n",
      " [0.91 0.9 0.8 0.7 0.62 0.55]\n",
      " [0.88 0.84 0.77 0.68 0.59 0.5]\n",
      " [0.84 0.8 0.74 0.67 0.59 0.53]]\n"
     ]
    }
   ],
   "source": [
    "k3d1, ss3d = ok3d.execute(\"grid\", gridx, gridy) # k3d1是结果，给出了每个网格点处对应的值\n",
    "print(np.round(k3d1,2))"
   ]
  },
  {
   "cell_type": "code",
   "execution_count": 6,
   "id": "81a8ceb8",
   "metadata": {},
   "outputs": [
    {
     "data": {
      "image/png": "[encoded data removed]",
      "text/plain": [
       "<Figure size 432x288 with 1 Axes>"
      ]
     },
     "metadata": {
      "needs_background": "light"
     },
     "output_type": "display_data"
    }
   ],
   "source": [
    "# 绘图\n",
    "fig, (ax1) = plt.subplots(1)\n",
    "ax1.imshow(k3d1, origin=\"lower\")\n",
    "ax1.set_title(\"ordinary kriging\")\n",
    "plt.tight_layout()\n",
    "plt.show()\n",
    "#黄色是值比较大的区域"
   ]
  },
  {
   "cell_type": "markdown",
   "id": "a3ea7391",
   "metadata": {},
   "source": [
    "### Universal Kriging Example"
   ]
  },
  {
   "cell_type": "code",
   "execution_count": 7,
   "id": "00b40f64",
   "metadata": {},
   "outputs": [
    {
     "data": {
      "image/png": "[encoded data removed]",
      "text/plain": [
       "<Figure size 432x288 with 1 Axes>"
      ]
     },
     "metadata": {
      "needs_background": "light"
     },
     "output_type": "display_data"
    }
   ],
   "source": [
    "from pykrige  import UniversalKriging\n",
    "UK = UniversalKriging(\n",
    "    data[:, 0],\n",
    "    data[:, 1],\n",
    "    data[:, 2],\n",
    "    variogram_model=\"linear\",\n",
    "     drift_terms=[\"regional_linear\"],\n",
    ")\n",
    "z, ss = UK.execute(\"grid\", gridx, gridy)\n",
    "plt.imshow(z)\n",
    "plt.show()\n"
   ]
  },
  {
   "cell_type": "markdown",
   "id": "0c4bb07e",
   "metadata": {},
   "source": [
    "### Three-Dimensional Kriging Example"
   ]
  },
  {
   "cell_type": "code",
   "execution_count": 8,
   "id": "4d5532d4",
   "metadata": {},
   "outputs": [],
   "source": [
    "from pykrige import OrdinaryKriging3D\n",
    "from pykrige  import UniversalKriging3D\n",
    "data = np.array(\n",
    "    [\n",
    "        [0.1, 0.1, 0.3, 0.9],\n",
    "        [0.2, 0.1, 0.4, 0.8],\n",
    "        [0.1, 0.3, 0.1, 0.9],\n",
    "        [0.5, 0.4, 0.4, 0.5],\n",
    "        [0.3, 0.3, 0.2, 0.7],\n",
    "    ]\n",
    ")\n",
    "gridx = np.arange(0.0, 0.6, 0.05)\n",
    "gridy = np.arange(0.0, 0.6, 0.01)\n",
    "gridz = np.arange(0.0, 0.6, 0.1)\n",
    "ok3d = OrdinaryKriging3D(\n",
    "    data[:, 0], data[:, 1], data[:, 2], data[:, 3], variogram_model=\"linear\"\n",
    ")\n",
    "k3d1, ss3d = ok3d.execute(\"grid\", gridx, gridy, gridz)\n",
    "\n",
    "uk3d = UniversalKriging3D(\n",
    "    data[:, 0],\n",
    "    data[:, 1],\n",
    "    data[:, 2],\n",
    "    data[:, 3],\n",
    "    variogram_model=\"linear\",\n",
    "    drift_terms=[\"regional_linear\"],\n",
    ")\n",
    "k3d2, ss3d = uk3d.execute(\"grid\", gridx, gridy, gridz)\n"
   ]
  },
  {
   "cell_type": "code",
   "execution_count": 9,
   "id": "536ef177",
   "metadata": {},
   "outputs": [],
   "source": [
    "zg, yg, xg = np.meshgrid(gridz, gridy, gridx, indexing=\"ij\")\n",
    "uk3d = UniversalKriging3D(\n",
    "    data[:, 0],\n",
    "    data[:, 1],\n",
    "    data[:, 2],\n",
    "    data[:, 3],\n",
    "    variogram_model=\"linear\",\n",
    "    drift_terms=[\"specified\"],\n",
    "    specified_drift=[data[:, 0], data[:, 1], data[:, 2]],\n",
    ")\n",
    "k3d3, ss3d = uk3d.execute(\n",
    "    \"grid\", gridx, gridy, gridz, specified_drift_arrays=[xg, yg, zg]\n",
    ")"
   ]
  },
  {
   "cell_type": "code",
   "execution_count": 10,
   "id": "34a141c3",
   "metadata": {},
   "outputs": [],
   "source": [
    "func = lambda x, y, z: x\n",
    "uk3d = UniversalKriging3D(\n",
    "    data[:, 0],\n",
    "    data[:, 1],\n",
    "    data[:, 2],\n",
    "    data[:, 3],\n",
    "    variogram_model=\"linear\",\n",
    "    drift_terms=[\"functional\"],\n",
    "    functional_drift=[func],\n",
    ")\n",
    "k3d4, ss3d = uk3d.execute(\"grid\", gridx, gridy, gridz)"
   ]
  },
  {
   "cell_type": "code",
   "execution_count": 11,
   "id": "0d747259",
   "metadata": {},
   "outputs": [
    {
     "data": {
      "image/png": "[encoded data removed]",
      "text/plain": [
       "<Figure size 432x288 with 4 Axes>"
      ]
     },
     "metadata": {
      "needs_background": "light"
     },
     "output_type": "display_data"
    }
   ],
   "source": [
    "fig, (ax1, ax2, ax3, ax4) = plt.subplots(4)\n",
    "ax1.imshow(k3d1[:, :, 0], origin=\"lower\")\n",
    "ax1.set_title(\"ordinary kriging\")\n",
    "ax2.imshow(k3d2[:, :, 0], origin=\"lower\")\n",
    "ax2.set_title(\"regional lin. drift\")\n",
    "ax3.imshow(k3d3[:, :, 0], origin=\"lower\")\n",
    "ax3.set_title(\"specified drift\")\n",
    "ax4.imshow(k3d4[:, :, 0], origin=\"lower\")\n",
    "ax4.set_title(\"functional drift\")\n",
    "plt.tight_layout()\n",
    "plt.show()"
   ]
  },
  {
   "cell_type": "markdown",
   "id": "2b0a0f66",
   "metadata": {},
   "source": [
    "### Geometric example"
   ]
  },
  {
   "cell_type": "code",
   "execution_count": 12,
   "id": "40daa19b",
   "metadata": {},
   "outputs": [],
   "source": [
    "#A small example script showing the usage of the 'geographic' coordinates type for ordinary kriging on a sphere.\n",
    "from pykrige  import OrdinaryKriging\n",
    "import numpy as np\n",
    "from matplotlib import pyplot as plt\n",
    "# Make this example reproducible:\n",
    "np.random.seed(89239413)\n",
    "N = 7\n",
    "lon = 360.0 * np.random.random(N)\n",
    "lat = 180.0 / np.pi * np.arcsin(2 * np.random.random(N) - 1)\n",
    "z = 3.5 * np.random.rand(N) + 2.0"
   ]
  },
  {
   "cell_type": "code",
   "execution_count": 13,
   "id": "56d2e0aa",
   "metadata": {},
   "outputs": [],
   "source": [
    "# Generate a regular grid with 60° longitude and 30° latitude steps:\n",
    "grid_lon = np.linspace(0.0, 360.0, 7)\n",
    "grid_lat = np.linspace(-90.0, 90.0, 7)\n"
   ]
  },
  {
   "cell_type": "code",
   "execution_count": 14,
   "id": "7acd01c1",
   "metadata": {},
   "outputs": [
    {
     "data": {
      "text/plain": [
       "<pykrige.ok.OrdinaryKriging at 0x1e457222be0>"
      ]
     },
     "execution_count": 14,
     "metadata": {},
     "output_type": "execute_result"
    }
   ],
   "source": [
    "# Create ordinary kriging object:\n",
    "OK = OrdinaryKriging(\n",
    "    lon,\n",
    "    lat,\n",
    "    z,\n",
    "    variogram_model=\"linear\",\n",
    "    verbose=False,\n",
    "    enable_plotting=False,\n",
    "    coordinates_type=\"geographic\",\n",
    ")\n",
    "OK"
   ]
  },
  {
   "cell_type": "code",
   "execution_count": 15,
   "id": "7e123407",
   "metadata": {},
   "outputs": [
    {
     "data": {
      "text/plain": [
       "masked_array(\n",
       "  data=[[3.134704744043927, 3.1347047440439266, 3.134704744043927,\n",
       "         3.134704744043927, 3.1347047440439275, 3.1347047440439306,\n",
       "         3.134704744043927],\n",
       "        [3.3535591813910415, 3.1721445373625916, 2.8983146427909974,\n",
       "         3.2308127628448027, 3.4153256708891133, 3.249786839629165,\n",
       "         3.3535591813910415],\n",
       "        [3.90050621078463, 3.5570989565583204, 2.6365509707773107,\n",
       "         3.5636417324050544, 3.983305797386942, 4.0392191202177825,\n",
       "         3.9005062107846307],\n",
       "        [4.4987786283218885, 3.9661869810152046, 3.3701782065887658,\n",
       "         4.025716707060881, 4.558308354367576, 5.154317128794011,\n",
       "         4.498778628321889],\n",
       "        [4.960853602977717, 4.541189537995839, 4.4852762151649985,\n",
       "         4.623989124598145, 4.96739637882445, 5.887944364605459,\n",
       "         4.960853602977716],\n",
       "        [5.293682572537973, 5.109169664493659, 5.274708495753611,\n",
       "         5.170936153991732, 5.352350798020184, 5.626180692591777,\n",
       "         5.293682572537971],\n",
       "        [5.38979059133885, 5.389790591338851, 5.38979059133885,\n",
       "         5.389790591338851, 5.38979059133885, 5.38979059133885,\n",
       "         5.389790591338857]],\n",
       "  mask=[[False, False, False, False, False, False, False],\n",
       "        [False, False, False, False, False, False, False],\n",
       "        [False, False, False, False, False, False, False],\n",
       "        [False, False, False, False, False, False, False],\n",
       "        [False, False, False, False, False, False, False],\n",
       "        [False, False, False, False, False, False, False],\n",
       "        [False, False, False, False, False, False, False]],\n",
       "  fill_value=1e+20)"
      ]
     },
     "execution_count": 15,
     "metadata": {},
     "output_type": "execute_result"
    }
   ],
   "source": [
    "# Execute on grid:\n",
    "z1, ss1 = OK.execute(\"grid\", grid_lon, grid_lat)\n",
    "z1"
   ]
  },
  {
   "cell_type": "code",
   "execution_count": 16,
   "id": "1a126561",
   "metadata": {},
   "outputs": [
    {
     "data": {
      "text/plain": [
       "masked_array(\n",
       "  data=[[3.502425679091628, 3.2044968566228285, 3.0175265707261976,\n",
       "         3.2703135982014713, 3.540062333954411, 3.726097565994089,\n",
       "         3.8489509626640315],\n",
       "        [3.6444668200653223, 3.298245084129646, 2.8426569107138664,\n",
       "         3.348304293520625, 3.6748313668002544, 3.852965073106008,\n",
       "         3.958933438447449],\n",
       "        [3.8342624679924167, 3.5556232663655996, 2.665889858268505,\n",
       "         3.5369228451833163, 3.8615562411806788, 4.003952916085274,\n",
       "         4.08117468430286],\n",
       "        [4.061003569995997, 3.8437699611193112, 3.392844638179076,\n",
       "         3.8979255328937623, 4.098901008280758, 4.173898062037882,\n",
       "         4.212114907248041],\n",
       "        [4.308421105001517, 4.300362632429383, 4.500010883116927,\n",
       "         4.398876366214719, 4.3630402414493625, 4.352240688034109,\n",
       "         4.346563840678506],\n",
       "        [4.548060263127832, 4.723978493333384, 5.251174930885873,\n",
       "         4.820182407108507, 4.612844884719104, 4.525480570459167,\n",
       "         4.478576004506351],\n",
       "        [4.750557490135312, 4.984745460619251, 5.283407318846656,\n",
       "         5.060177769836801, 4.81617423563885, 4.681741733280291,\n",
       "         4.602674590327108]],\n",
       "  mask=[[False, False, False, False, False, False, False],\n",
       "        [False, False, False, False, False, False, False],\n",
       "        [False, False, False, False, False, False, False],\n",
       "        [False, False, False, False, False, False, False],\n",
       "        [False, False, False, False, False, False, False],\n",
       "        [False, False, False, False, False, False, False],\n",
       "        [False, False, False, False, False, False, False]],\n",
       "  fill_value=1e+20)"
      ]
     },
     "execution_count": 16,
     "metadata": {},
     "output_type": "execute_result"
    }
   ],
   "source": [
    "# Create ordinary kriging object ignoring curvature:\n",
    "OK = OrdinaryKriging(\n",
    "    lon, lat, z, variogram_model=\"linear\", verbose=False, enable_plotting=False\n",
    ")\n",
    "# Execute on grid:\n",
    "z2, ss2 = OK.execute(\"grid\", grid_lon, grid_lat)\n",
    "z2"
   ]
  },
  {
   "cell_type": "code",
   "execution_count": 17,
   "id": "329c4910",
   "metadata": {},
   "outputs": [
    {
     "name": "stdout",
     "output_type": "stream",
     "text": [
      "Original data:\n",
      "Longitude: [122 166  92 138  86 122 136]\n",
      "Latitude:  [-46 -36 -25 -73 -25  50 -29]\n",
      "z:         [2.75 3.36 2.24 3.07 3.37 5.25 2.82]\n",
      "\n",
      "Krige at 60° latitude:\n",
      "======================\n",
      "Longitude: [  0.  60. 120. 180. 240. 300. 360.]\n",
      "Value:     [5.29 5.11 5.27 5.17 5.35 5.63 5.29]\n",
      "Sigma²:    [2.22 1.32 0.42 1.21 2.07 2.48 2.22]\n",
      "\n",
      "Ignoring curvature:\n",
      "=====================\n",
      "Value:     [4.55 4.72 5.25 4.82 4.61 4.53 4.48]\n",
      "Sigma²:    [3.79 2.   0.39 1.85 3.54 5.46 7.53]\n"
     ]
    }
   ],
   "source": [
    "# Print data at equator (last longitude index will show periodicity):\n",
    "print(\"Original data:\")\n",
    "print(\"Longitude:\", lon.astype(int))\n",
    "print(\"Latitude: \", lat.astype(int))\n",
    "print(\"z:        \", np.array_str(z, precision=2))\n",
    "print(\"\\nKrige at 60° latitude:\\n======================\")\n",
    "print(\"Longitude:\", grid_lon)\n",
    "print(\"Value:    \", np.array_str(z1[5, :], precision=2))\n",
    "print(\"Sigma²:   \", np.array_str(ss1[5, :], precision=2))\n",
    "print(\"\\nIgnoring curvature:\\n=====================\")\n",
    "print(\"Value:    \", np.array_str(z2[5, :], precision=2))\n",
    "print(\"Sigma²:   \", np.array_str(ss2[5, :], precision=2))"
   ]
  },
  {
   "cell_type": "code",
   "execution_count": 18,
   "id": "97e80543",
   "metadata": {},
   "outputs": [
    {
     "data": {
      "image/png": "[encoded data removed]",
      "text/plain": [
       "<Figure size 432x288 with 2 Axes>"
      ]
     },
     "metadata": {
      "needs_background": "light"
     },
     "output_type": "display_data"
    }
   ],
   "source": [
    "fig, (ax1, ax2) = plt.subplots(1, 2)\n",
    "ax1.imshow(z1, extent=[0, 360, -90, 90], origin=\"lower\")\n",
    "ax1.set_title(\"geo-coordinates\")\n",
    "ax2.imshow(z2, extent=[0, 360, -90, 90], origin=\"lower\")\n",
    "ax2.set_title(\"non geo-coordinates\")\n",
    "plt.show()"
   ]
  },
  {
   "cell_type": "markdown",
   "id": "731533c8",
   "metadata": {},
   "source": [
    "## Using pyKriging"
   ]
  },
  {
   "cell_type": "markdown",
   "id": "cc0dac10",
   "metadata": {},
   "source": [
    "pyKriging 旨在简化创建代理模型的过程。以下示例演示了如何创建抽样计划,评估这些位置的测试函数,创建和训练克里金模型并添加填充点以减少模型的均方误差 (MSE)。"
   ]
  },
  {
   "cell_type": "code",
   "execution_count": 19,
   "id": "60b67a74",
   "metadata": {},
   "outputs": [],
   "source": [
    "import pyKriging  \n",
    "from pyKriging.krige import kriging  \n",
    "from pyKriging.samplingplan import samplingplan"
   ]
  },
  {
   "cell_type": "code",
   "execution_count": 20,
   "id": "10c9631a",
   "metadata": {},
   "outputs": [
    {
     "name": "stdout",
     "output_type": "stream",
     "text": [
      "Now_optimizing_for_q = 1 \n",
      "\n",
      "Now_optimizing_for_q = 2 \n",
      "\n",
      "Now_optimizing_for_q = 5 \n",
      "\n",
      "Now_optimizing_for_q = 10 \n",
      "\n",
      "Now_optimizing_for_q = 20 \n",
      "\n",
      "Now_optimizing_for_q = 50 \n",
      "\n",
      "Now_optimizing_for_q = 100 \n",
      "\n",
      "Best_lh_found_using_q = 5 \n",
      "\n"
     ]
    },
    {
     "data": {
      "text/plain": [
       "array([[0.575, 0.025],\n",
       "       [0.925, 0.825],\n",
       "       [0.425, 0.925],\n",
       "       [0.075, 0.375],\n",
       "       [0.475, 0.275],\n",
       "       [0.025, 0.625],\n",
       "       [0.375, 0.125],\n",
       "       [0.125, 0.075],\n",
       "       [0.325, 0.425],\n",
       "       [0.975, 0.525],\n",
       "       [0.225, 0.225],\n",
       "       [0.725, 0.775],\n",
       "       [0.775, 0.475],\n",
       "       [0.625, 0.575],\n",
       "       [0.175, 0.875],\n",
       "       [0.825, 0.975],\n",
       "       [0.675, 0.325],\n",
       "       [0.275, 0.675],\n",
       "       [0.525, 0.725],\n",
       "       [0.875, 0.175]])"
      ]
     },
     "execution_count": 20,
     "metadata": {},
     "output_type": "execute_result"
    }
   ],
   "source": [
    "# The Kriging model starts by defining a sampling plan, we use an optimal Latin Hypercube (最优的拉丁超立方体)here\n",
    "sp = samplingplan(2) \n",
    "\n",
    "X = sp.optimallhc(20)\n",
    "X"
   ]
  },
  {
   "cell_type": "code",
   "execution_count": 21,
   "id": "29bfbb01",
   "metadata": {},
   "outputs": [],
   "source": [
    "# Next, we define the problem we would like to solve\n",
    "testfun = pyKriging.testfunctions().branin  \n",
    "y = testfun(X)"
   ]
  },
  {
   "cell_type": "code",
   "execution_count": 22,
   "id": "f2ddf755",
   "metadata": {},
   "outputs": [
    {
     "data": {
      "image/png": "[encoded data removed]",
      "text/plain": [
       "<Figure size 576x432 with 5 Axes>"
      ]
     },
     "metadata": {
      "needs_background": "light"
     },
     "output_type": "display_data"
    }
   ],
   "source": [
    "# Now that we have our initial data, we can create an instance of a Kriging model\n",
    "k = kriging(X, y, testfunction=testfun, name='simple')  \n",
    "k.train()\n",
    "# Now, five infill points are added. Note that the model is re-trained after each point is added\n",
    "numiter = 5 \n",
    "for i in range(numiter):\n",
    "    #print \"Infill iteration {0} of {1}....\".format(i + 1, numiter)\n",
    "    newpoints = k.infill(1)\n",
    "    for point in newpoints:\n",
    "        k.addPoint(point, testfun(point)[0])\n",
    "    k.train()\n",
    "# And plot the results\n",
    "k.plot()  "
   ]
  }
 ],
 "metadata": {
  "kernelspec": {
   "display_name": "Python 3 (ipykernel)",
   "language": "python",
   "name": "python3"
  },
  "language_info": {
   "codemirror_mode": {
    "name": "ipython",
    "version": 3
   },
   "file_extension": ".py",
   "mimetype": "text/x-python",
   "name": "python",
   "nbconvert_exporter": "python",
   "pygments_lexer": "ipython3",
   "version": "3.8.10"
  }
 },
 "nbformat": 4,
 "nbformat_minor": 5
}
