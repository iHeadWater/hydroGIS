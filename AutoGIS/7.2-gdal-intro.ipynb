{
 "cells": [
  {
   "cell_type": "markdown",
   "metadata": {},
   "source": [
    "# 关于 GDAL 库的补充\n",
    "\n",
    "栅格数据处理一个很重要的基础库就是 GDAL，有不少现有程序是直接依据该库写的，所以有必要补充了解下其基本内容，官方资料稍微有些晦涩，然而更简易的资料还比较少，能找到的相对较好地如下所示。\n",
    "\n",
    "参考资料：\n",
    "\n",
    "- [Python GDAL课程笔记](https://www.osgeo.cn/python_gdal_utah_tutorial/)\n",
    "- [Geoprocessing with Python using Open Source GIS](https://www.gis.usu.edu/~chrisg/python/2009/)\n",
    "- [Python GDAL/OGR Cookbook](https://pcjericks.github.io/py-gdalogr-cookbook/index.html)\n",
    "- [Open Source Geoprocessing Tutorial](https://github.com/ceholden/open-geo-tutorial)\n",
    "- [HeadFirst GDAL](https://headfirst-gdal.readthedocs.io/en/latest/index.html#)\n",
    "\n",
    "## GDAL 简介\n",
    "\n",
    "**GDAL**(Geospatial Data Abstraction Library)是一个开源栅格空间数据转换库。它利用**抽象数据模型**来表达所支持的各种文件格式。还有一系列**命令行工具**来进行数据转换和处理。 **OGR**(OpenGIS Simple Features Reference Implementation)是GDAL项目的一个子项目， 提供对矢量数据的支持。 一般把这两个库合称为**GDAL/OGR**，或者简称为**GDAL**。\n",
    "\n",
    "很多著名的GIS软件都使用了GDAL/OGR库， 包括商业公司ESRI的ArcGIS，Google的Google Earth和开源的GRASS GIS系统。可以同时对Linux和windows下的地理空间数据管理系统提供百余种矢量和栅格文件类型的支持。\n",
    "\n",
    "GDAL/OGR使用面向对象的**C++语言**编写，这令该库在支持百余种格式的同时，还具有很高的执行效率。GDAL/OGR同时还提供多种主流编程语言的绑定，比如**Python**。\n",
    "\n",
    "GDAL提供对多种栅格数据的支持，包括**Arc/Info ASCII Grid(asc)，GeoTiff (tiff)，Erdas Imagine Images(img)，ASCII DEM(dem)** 等格式。\n",
    "\n",
    "GDAL使用抽象数据模型(abstract data model)来解析它所支持的数据格式，抽象数据模型包括**数据集(dataset)， 坐标系统，仿射地理坐标转换(Affine Geo Transform)， 大地控制点(GCPs)， 元数据(Metadata)，栅格波段(Raster Band)，颜色表(Color Table)， 子数据集域(Subdatasets Domain)，图像结构域(Image_Structure Domain)，XML域(XML:Domains)**。\n",
    "\n",
    "GDAL包括如下几个部分：\n",
    "\n",
    "- GDALMajorObject类：带有元数据的对象。\n",
    "- GDALDdataset类：通常是从一个栅格文件中提取的相关联的栅格波段集合和这些波段的元数据；GDALDdataset也负责所有栅格波段的地理坐标转换(georeferencing transform)和坐标系定义。\n",
    "- GDALDriver类：文件格式驱动类，GDAL会为每一个所支持的文件格式创建一个该类的实体，来管理该文件格式。\n",
    "- GDALDriverManager类：文件格式驱动管理类，用来管理GDALDriver类。\n",
    "\n",
    "OGR提供对矢量数据格式的读写支持，它所支持的文件格式包括：**ESRI Shapefiles， S-57， SDTS， PostGIS，Oracle Spatial， Mapinfo mid/mif ， Mapinfo TAB**。\n",
    "\n",
    "OGR包括如下几部分：\n",
    "\n",
    "- Geometry：类Geometry (包括OGRGeometry等类)封装了OpenGIS的矢量数据模型，并提供了一些几何操作，WKB(Well Knows Binary)和WKT(Well Known Text)格式之间的相互转换，以及空间参考系统(投影)。\n",
    "- Spatial Reference：类OGRSpatialReference封装了投影和基准面的定义。\n",
    "- Feature：类OGRFeature封装了一个完整feature的定义，一个完整的feature包括一个geometry和geometry的一系列属性。\n",
    "- Feature Definition：类OGRFeatureDefn里面封装了feature的属性，类型、名称及其默认的空间参考系统等。一个OGRFeatureDefn对象通常与一个层(layer)对应。\n",
    "- Layer：类OGRLayer是一个抽象基类，表示数据源类OGRDataSource里面的一层要素(feature)。\n",
    "- Data Source：类OGRDataSource是一个抽象基类，表示含有OGRLayer对象的一个文件或一个数据库。\n",
    "- Drivers：类OGRSFDriver对应于每一个所支持的矢量文件格式。类OGRSFDriver由类OGRSFDriverRegistrar来注册和管理。"
   ]
  },
  {
   "cell_type": "markdown",
   "metadata": {},
   "source": [
    "## 用OGR读写矢量数据"
   ]
  },
  {
   "cell_type": "code",
   "execution_count": 1,
   "metadata": {},
   "outputs": [],
   "source": [
    "try:\n",
    "    from osgeo import ogr\n",
    "except:\n",
    "    import ogr\n",
    "# 两种导入方式都可以"
   ]
  },
  {
   "cell_type": "markdown",
   "metadata": {},
   "source": [
    "要读取某种类型的数据，必须先载入数据驱动，即初始化一个对象，让其知道某种数据结构。"
   ]
  },
  {
   "cell_type": "code",
   "execution_count": 2,
   "metadata": {},
   "outputs": [
    {
     "data": {
      "text/plain": [
       "<osgeo.ogr.Driver; proxy of <Swig Object of type 'OGRDriverShadow *' at 0x00000204BB32BA50> >"
      ]
     },
     "execution_count": 2,
     "metadata": {},
     "output_type": "execute_result"
    }
   ],
   "source": [
    "driver = ogr.GetDriverByName('ESRI Shapefile')\n",
    "driver"
   ]
  },
  {
   "cell_type": "markdown",
   "metadata": {},
   "source": [
    "上面可以看到 driver是osgeo.ogr.Driver对象，且是Swig Object的proxy，Simplified Wrapper and Interface Generator ([SWIG](https://en.wikipedia.org/wiki/SWIG#:~:text=The%20Simplified%20Wrapper%20and%20Interface,%2C%20Octave%2C%20Scilab%20and%20Scheme.)) 是一个开源软件工具，用来将C语言或C++写的计算机程序或函式库，连接脚本语言（比如Python）和其它语言，其目的是允许其他编程语言调用用C或C ++编写的函数，允许将复杂的数据类型传递给这些函数，能防止内存被不当释放，能跨语言继承对象类，等等。\n",
    "\n",
    "driver的open()方法可以返回一个数据源对象，其有两个参数：\n",
    "\n",
    "```Python\n",
    "open(<filename>, <update>)\n",
    "```\n",
    "\n",
    "filename 文件名，update 为0表示只读，1表示可写。"
   ]
  },
  {
   "cell_type": "code",
   "execution_count": 3,
   "metadata": {},
   "outputs": [
    {
     "name": "stdout",
     "output_type": "stream",
     "text": [
      "done!\n"
     ]
    },
    {
     "data": {
      "text/plain": [
       "<osgeo.ogr.DataSource; proxy of <Swig Object of type 'OGRDataSourceShadow *' at 0x00000204BB3C7300> >"
      ]
     },
     "execution_count": 3,
     "metadata": {},
     "output_type": "execute_result"
    }
   ],
   "source": [
    "import sys\n",
    "filename = 'gallery-data/ospy_data1/sites.shp'\n",
    "dataSource = driver.Open(filename,0)\n",
    "if dataSource is None:\n",
    "    print ('could not open')\n",
    "    sys.exit()\n",
    "print ('done!')\n",
    "dataSource"
   ]
  },
  {
   "cell_type": "markdown",
   "metadata": {},
   "source": [
    "接下来看看矢量图中的数据层。"
   ]
  },
  {
   "cell_type": "code",
   "execution_count": 4,
   "metadata": {},
   "outputs": [
    {
     "name": "stdout",
     "output_type": "stream",
     "text": [
      "feature count: 42\n"
     ]
    }
   ],
   "source": [
    "layer = dataSource.GetLayer(0)\n",
    "n = layer.GetFeatureCount()\n",
    "print ('feature count:', n)"
   ]
  },
  {
   "cell_type": "markdown",
   "metadata": {},
   "source": [
    "一般获取shapefile的layer时都填0，不填也可。这里 layer 就是shapefile整个全部feature(就是shpfile中的几何形状图)组成的。我个人理解，为什么是0：因为 shpfile 的所有feature都在同一层上，不像栅格图那样有很多不同的bands。\n",
    "\n",
    "下面代码可以读出 整个shapefile的边界。"
   ]
  },
  {
   "cell_type": "code",
   "execution_count": 5,
   "metadata": {},
   "outputs": [
    {
     "name": "stdout",
     "output_type": "stream",
     "text": [
      "extent: (428117.1324650572, 491429.33068615, 4591699.896759847, 4653007.208703939)\n",
      "ul: 428117.1324650572 4653007.208703939\n",
      "lr: 491429.33068615 4591699.896759847\n"
     ]
    }
   ],
   "source": [
    "extent = layer.GetExtent() # x_min, x_max, y_min, y_max\n",
    "print ('extent:', extent)\n",
    "print ('ul:', extent[0], extent[3])\n",
    "print ('lr:', extent[1], extent[2])"
   ]
  },
  {
   "cell_type": "markdown",
   "metadata": {},
   "source": [
    "关于 GetExtent，有一个值得注意的事情是：OGR feature (shapefile) extents are different than GDAL raster extents。GDAL 的 extent顺序是Extent format (xmin, ymin, xmax, ymax)"
   ]
  },
  {
   "cell_type": "markdown",
   "metadata": {},
   "source": [
    "如果需要读取其中的某个feature"
   ]
  },
  {
   "cell_type": "code",
   "execution_count": 6,
   "metadata": {},
   "outputs": [
    {
     "name": "stdout",
     "output_type": "stream",
     "text": [
      "42\n",
      "1\n"
     ]
    }
   ],
   "source": [
    "feat = layer.GetFeature(41)\n",
    "fid = feat.GetField('id')\n",
    "print (fid)\n",
    "feat = layer.GetFeature(0)\n",
    "fid = feat.GetField('id') #should be a different id\n",
    "print (fid)"
   ]
  },
  {
   "cell_type": "code",
   "execution_count": 7,
   "metadata": {},
   "outputs": [
    {
     "data": {
      "text/plain": [
       "1"
      ]
     },
     "execution_count": 7,
     "metadata": {},
     "output_type": "execute_result"
    }
   ],
   "source": [
    "feat = layer.GetNextFeature()  #读取下一个\n",
    "# 按顺序读取feature，循环遍历所有的feature\n",
    "while feat:\n",
    "    feat = layer.GetNextFeature()\n",
    "layer.ResetReading()  #复位\n",
    "feat = layer.GetNextFeature()\n",
    "feat.GetField('id')"
   ]
  },
  {
   "cell_type": "markdown",
   "metadata": {},
   "source": [
    "下面看feature的几何形状"
   ]
  },
  {
   "cell_type": "code",
   "execution_count": 8,
   "metadata": {},
   "outputs": [
    {
     "name": "stdout",
     "output_type": "stream",
     "text": [
      "POINT (455552.418360864 4641822.05368488)\n"
     ]
    }
   ],
   "source": [
    "geom = feat.GetGeometryRef()\n",
    "geom.GetX()\n",
    "geom.GetY()\n",
    "print (geom)"
   ]
  },
  {
   "cell_type": "markdown",
   "metadata": {},
   "source": [
    "接下来看看写数据。\n",
    "\n",
    "创建新文件主要是使用：\n",
    "\n",
    "```Python\n",
    "driver.CreateDataSource(<filename>)\n",
    "```\n",
    "\n",
    "filename文件不能是已经存在的，否则会报错。\n",
    "\n",
    "创建新文件后，要给其创建新的layer\n",
    "\n",
    "```Python\n",
    "dataSource.CreateLayer(<name>,geom_type=OGRwkbGeometryType>)\n",
    "```\n",
    "\n",
    "OGRwkbGeometryType 中的[wkb](https://en.wikipedia.org/wiki/Well-known_text_representation_of_geometry)是指 well-known binary，它是Well-known text representation of geometry，一种代表vector geometry的文本标记语言的二进制等价形式，这种二进制形式可以用来以一种更压缩的形式存储和传输和wkt同样的信息以方便计算机处理，当然就不那么人类可读了。\n",
    "\n",
    "OGRwkbGeometryType 是 OGR 头文件中有声明的一个 枚举类型，列出了well-known binary geometry types。看个例子就更清楚了："
   ]
  },
  {
   "cell_type": "code",
   "execution_count": 9,
   "metadata": {},
   "outputs": [
    {
     "data": {
      "text/plain": [
       "<osgeo.ogr.DataSource; proxy of <Swig Object of type 'OGRDataSourceShadow *' at 0x00000204BB3D1960> >"
      ]
     },
     "execution_count": 9,
     "metadata": {},
     "output_type": "execute_result"
    }
   ],
   "source": [
    "import os\n",
    "new_file = \"gallery-data/ospy_data1/test.shp\"\n",
    "if os.path.isfile(new_file):\n",
    "    driver.DeleteDataSource(new_file) # TODO: it cannot work\n",
    "ds2 = driver.CreateDataSource(new_file)\n",
    "layer2 = ds2.CreateLayer('test', geom_type=ogr.wkbPoint)\n",
    "ds2"
   ]
  },
  {
   "cell_type": "markdown",
   "metadata": {},
   "source": [
    "要添加一个新字段，只能在layer里面加，而且还不能有数据。添加的字段如果是字符串，还要设定宽度。"
   ]
  },
  {
   "cell_type": "markdown",
   "metadata": {},
   "source": [
    "然后设定几何形状"
   ]
  },
  {
   "cell_type": "code",
   "execution_count": 10,
   "metadata": {},
   "outputs": [],
   "source": [
    "#create point geometry\n",
    "pointCoord = -124.4577,48.0135\n",
    "point = ogr.Geometry(ogr.wkbPoint)\n",
    "point.AddPoint(pointCoord[0],pointCoord[1])"
   ]
  },
  {
   "cell_type": "markdown",
   "metadata": {},
   "source": [
    "添加一个新feature，首先得把字段field添加齐。注意OFTString是vector类下的OGRFieldType的一种。"
   ]
  },
  {
   "cell_type": "code",
   "execution_count": 11,
   "metadata": {},
   "outputs": [
    {
     "data": {
      "text/plain": [
       "0"
      ]
     },
     "execution_count": 11,
     "metadata": {},
     "output_type": "execute_result"
    }
   ],
   "source": [
    "# ogr.FieldDefn(fieldName, fieldType)\n",
    "fieldName = 'id'\n",
    "fieldType = ogr.OFTString\n",
    "fieldDefn = ogr.FieldDefn(fieldName, fieldType)\n",
    "layer2.CreateField(fieldDefn)"
   ]
  },
  {
   "cell_type": "markdown",
   "metadata": {},
   "source": [
    "然后创建feature，设置其值。"
   ]
  },
  {
   "cell_type": "code",
   "execution_count": 12,
   "metadata": {},
   "outputs": [
    {
     "data": {
      "text/plain": [
       "0"
      ]
     },
     "execution_count": 12,
     "metadata": {},
     "output_type": "execute_result"
    }
   ],
   "source": [
    "# Create the feature and set values\n",
    "fieldValue = 'test'\n",
    "featureDefn = layer2.GetLayerDefn()\n",
    "outFeature = ogr.Feature(featureDefn)\n",
    "outFeature.SetGeometry(point)\n",
    "outFeature.SetField(fieldName, fieldValue)\n",
    "layer2.CreateFeature(outFeature)"
   ]
  },
  {
   "cell_type": "markdown",
   "metadata": {},
   "source": [
    "这里猜一下 feature，layer，geometry之间的关系。geometry和字段是平级的，他们共同赋予到feature，然后feature在给到layer中。"
   ]
  },
  {
   "cell_type": "markdown",
   "metadata": {},
   "source": [
    "## 几何形状geometry与投影projection\n",
    "\n",
    "建立空的geometry对象：ogr.Geometry\n",
    "\n",
    "定义各种不同的geometry使用的方法是不一样的(point, line, polygon, etc)\n",
    "\n",
    "新建点point，使用方法AddPoint( <x>, <y>, [<z>])。其中的z坐标一般是省略的，默认值是0\n",
    "\n",
    "例如："
   ]
  },
  {
   "cell_type": "code",
   "execution_count": 13,
   "metadata": {},
   "outputs": [],
   "source": [
    "from osgeo import ogr\n",
    "point = ogr.Geometry(ogr.wkbPoint)\n",
    "point.AddPoint(10,20)"
   ]
  },
  {
   "cell_type": "markdown",
   "metadata": {},
   "source": [
    "新建一个line。使用AddPoint(<x>, <y>, [<z>])添加点；使用SetPoint(<index>, <x>, <y>, [<z>])更改点的坐标"
   ]
  },
  {
   "cell_type": "code",
   "execution_count": 14,
   "metadata": {},
   "outputs": [
    {
     "name": "stdout",
     "output_type": "stream",
     "text": [
      "2\n"
     ]
    }
   ],
   "source": [
    "line = ogr.Geometry(ogr.wkbLineString)\n",
    "line.AddPoint(10,10)\n",
    "line.AddPoint(20,20)\n",
    "line.SetPoint(0,30,30)   #(10,10) -> (30,30)\n",
    "print (line.GetPointCount())"
   ]
  },
  {
   "cell_type": "markdown",
   "metadata": {},
   "source": [
    "读取0号点的x坐标和y坐标"
   ]
  },
  {
   "cell_type": "code",
   "execution_count": 15,
   "metadata": {},
   "outputs": [
    {
     "name": "stdout",
     "output_type": "stream",
     "text": [
      "30.0\n",
      "30.0\n"
     ]
    }
   ],
   "source": [
    "print (line.GetX(0))\n",
    "print (line.GetY(0))"
   ]
  },
  {
   "cell_type": "markdown",
   "metadata": {},
   "source": [
    "新建多边形，首先要新建环(ring)，然后把环添加到多边形对象中。\n",
    "\n",
    "如何创建一个ring？先新建一个ring对象，然后向里面逐个添加点。"
   ]
  },
  {
   "cell_type": "code",
   "execution_count": 16,
   "metadata": {},
   "outputs": [],
   "source": [
    "ring = ogr.Geometry(ogr.wkbLinearRing)\n",
    "ring.AddPoint(0,0)\n",
    "ring.AddPoint(100,0)\n",
    "ring.AddPoint(100,100)\n",
    "ring.AddPoint(0,100)\n",
    "# 结束的时候，用CloseRings关闭ring，或者将最后一个点的坐标设定为与第一个点相同。\n",
    "ring.CloseRings()\n",
    "# ring.AddPoint(0,0)"
   ]
  },
  {
   "cell_type": "markdown",
   "metadata": {},
   "source": [
    "下面一个例子，创建一个方框："
   ]
  },
  {
   "cell_type": "code",
   "execution_count": 17,
   "metadata": {},
   "outputs": [
    {
     "data": {
      "text/plain": [
       "<osgeo.ogr.Geometry; proxy of <Swig Object of type 'OGRGeometryShadow *' at 0x00000204BB6FEA80> >"
      ]
     },
     "execution_count": 17,
     "metadata": {},
     "output_type": "execute_result"
    }
   ],
   "source": [
    "outring = ogr.Geometry(ogr.wkbLinearRing)\n",
    "outring.AddPoint(0,0)\n",
    "outring.AddPoint(100,0)\n",
    "outring.AddPoint(100,100)\n",
    "outring.AddPoint(0,100)\n",
    "outring.AddPoint(0,0)\n",
    "\n",
    "inring = ogr.Geometry(ogr.wkbLinearRing)\n",
    "inring.AddPoint(25,25)\n",
    "inring.AddPoint(75,25)\n",
    "inring.AddPoint(75,75)\n",
    "inring.AddPoint(25,75)\n",
    "inring.CloseRings()\n",
    "\n",
    "polygon = ogr.Geometry(ogr.wkbPolygon)\n",
    "polygon.AddGeometry(outring)\n",
    "polygon.AddGeometry(inring)\n",
    "polygon"
   ]
  },
  {
   "cell_type": "markdown",
   "metadata": {},
   "source": [
    "总之，要先建立一个polygon对象，然后添加ring。数数polygon能有几个ring:"
   ]
  },
  {
   "cell_type": "code",
   "execution_count": 18,
   "metadata": {},
   "outputs": [
    {
     "name": "stdout",
     "output_type": "stream",
     "text": [
      "2\n"
     ]
    }
   ],
   "source": [
    "print (polygon.GetGeometryCount())"
   ]
  },
  {
   "cell_type": "markdown",
   "metadata": {},
   "source": [
    "从polygon中读取ring时，index的顺序和创建polygon时添加ring的顺序相同"
   ]
  },
  {
   "cell_type": "code",
   "execution_count": 19,
   "metadata": {},
   "outputs": [
    {
     "data": {
      "text/plain": [
       "<osgeo.ogr.Geometry; proxy of <Swig Object of type 'OGRGeometryShadow *' at 0x00000204BB6FE450> >"
      ]
     },
     "execution_count": 19,
     "metadata": {},
     "output_type": "execute_result"
    }
   ],
   "source": [
    "polygon.GetGeometryRef(0)"
   ]
  },
  {
   "cell_type": "code",
   "execution_count": 20,
   "metadata": {},
   "outputs": [
    {
     "data": {
      "text/plain": [
       "<osgeo.ogr.Geometry; proxy of <Swig Object of type 'OGRGeometryShadow *' at 0x00000204BB6FE660> >"
      ]
     },
     "execution_count": 20,
     "metadata": {},
     "output_type": "execute_result"
    }
   ],
   "source": [
    "polygon.GetGeometryRef(1)"
   ]
  },
  {
   "cell_type": "markdown",
   "metadata": {},
   "source": [
    "创建复合几何形状multi geometry，例如MultiPoint, MultiLineString, MultiPolygon。用AddGeometry把普通的几何形状加到复合几何形状中，例如："
   ]
  },
  {
   "cell_type": "code",
   "execution_count": 21,
   "metadata": {},
   "outputs": [
    {
     "data": {
      "text/plain": [
       "0"
      ]
     },
     "execution_count": 21,
     "metadata": {},
     "output_type": "execute_result"
    }
   ],
   "source": [
    "multipoint = ogr.Geometry(ogr.wkbMultiPoint)\n",
    "point = ogr.Geometry(ogr.wkbPoint)\n",
    "point.AddPoint(10,10)\n",
    "multipoint.AddGeometry(point)\n",
    "point.AddPoint(20,20)\n",
    "multipoint.AddGeometry(point)"
   ]
  },
  {
   "cell_type": "markdown",
   "metadata": {},
   "source": [
    "读取MultiGeometry中的Geometry，方法和从Polygon中读取ring是一样的，可以说Polygon是一种内置的MultiGeometry。\n",
    "\n",
    "不要删除一个已存在的Feature的Geometry，会把python搞崩溃的。\n",
    "\n",
    "只能删除脚本运行期间创建的Geometry，比方说手工创建出来的，或者调用其他函数自动创建的。就算这个Geometry已经用来创建别的Feature，你还是可以删除它。\n",
    "\n",
    "例如：Polygon.Destroy()\n",
    "\n",
    "关于投影Projections，使用SpatialReference对象\n",
    "\n",
    "多种多样的Projections，GDAL支持WKT, PROJ.4, ESPG, USGS, ESRI.prj\n",
    "\n",
    "可以从layer和Geometry中读取Projections，例如：\n",
    "\n",
    "```Python\n",
    "spatialRef = layer.GetSpatialRef()\n",
    "spatialRef = geom.GetSpatialReference()\n",
    "```\n",
    "\n",
    "投影信息一般存储在.prj文件中，如果没有这个文件，上述函数返回None\n",
    "\n",
    "建立一个新的Projection：\n",
    "\n",
    "首先导入osr库，之后使用osr.SpatialReference()创建SpatialReference对象\n",
    "\n",
    "之后用下列语句向SpatialReference对象导入投影信息\n",
    "\n",
    "ImportFromWkt(<wkt>)\n",
    "ImportFromEPSG(<epsg>)\n",
    "ImportFromProj4(<proj4>)\n",
    "ImportFromESRI(<proj_lines>)\n",
    "ImportFromPCI(<proj>, <units>, <parms>)\n",
    "ImportFromUSGS(<proj_code>, <zone>)\n",
    "ImportFromXML(<xml>)\n",
    "\n",
    "导出Projection，使用下面的语句可以导出为字符串\n",
    "\n",
    "ExportToWkt()\n",
    "ExportToPrettyWkt()\n",
    "ExportToProj4()\n",
    "ExportToPCI()\n",
    "ExportToUSGS()\n",
    "ExportToXML()\n",
    "    \n",
    "对一个几何形状Geometry进行投影变换，要先初始化两个Projection，然后创建一个CoordinateTransformation对象，用它来做变换。"
   ]
  },
  {
   "cell_type": "code",
   "execution_count": 22,
   "metadata": {},
   "outputs": [
    {
     "name": "stdout",
     "output_type": "stream",
     "text": [
      "\n"
     ]
    }
   ],
   "source": [
    "from osgeo import osr\n",
    "sourceSR = osr.SpatialReference()\n",
    "print (sourceSR) #empty"
   ]
  },
  {
   "cell_type": "code",
   "execution_count": 23,
   "metadata": {},
   "outputs": [
    {
     "name": "stdout",
     "output_type": "stream",
     "text": [
      "PROJCS[\"WGS 84 / UTM zone 12N\",GEOGCS[\"WGS 84\",DATUM[\"WGS_1984\",SPHEROID[\"WGS 84\",6378137,298.257223563,AUTHORITY[\"EPSG\",\"7030\"]],AUTHORITY[\"EPSG\",\"6326\"]],PRIMEM[\"Greenwich\",0,AUTHORITY[\"EPSG\",\"8901\"]],UNIT[\"degree\",0.0174532925199433,AUTHORITY[\"EPSG\",\"9122\"]],AUTHORITY[\"EPSG\",\"4326\"]],PROJECTION[\"Transverse_Mercator\"],PARAMETER[\"latitude_of_origin\",0],PARAMETER[\"central_meridian\",-111],PARAMETER[\"scale_factor\",0.9996],PARAMETER[\"false_easting\",500000],PARAMETER[\"false_northing\",0],UNIT[\"metre\",1,AUTHORITY[\"EPSG\",\"9001\"]],AXIS[\"Easting\",EAST],AXIS[\"Northing\",NORTH],AUTHORITY[\"EPSG\",\"32612\"]]\n"
     ]
    }
   ],
   "source": [
    "sourceSR.ImportFromEPSG(32612) #UTM 12N WGS84\n",
    "print(sourceSR.ExportToWkt())\n",
    "# print(sourceSR)"
   ]
  },
  {
   "cell_type": "code",
   "execution_count": 24,
   "metadata": {},
   "outputs": [
    {
     "data": {
      "text/plain": [
       "<osgeo.osr.CoordinateTransformation; proxy of <Swig Object of type 'OSRCoordinateTransformationShadow *' at 0x00000204BB3D18D0> >"
      ]
     },
     "execution_count": 24,
     "metadata": {},
     "output_type": "execute_result"
    }
   ],
   "source": [
    "targetSR = osr.SpatialReference()\n",
    "targetSR.ImportFromEPSG(4326) #Geo WGS84\n",
    "#create coordinate transform to go from UTM to geo\n",
    "coordTrans = osr.CoordinateTransformation(sourceSR, targetSR)\n",
    "coordTrans"
   ]
  },
  {
   "cell_type": "markdown",
   "metadata": {},
   "source": [
    "要在适当的时候编辑Geometry，投影变换之后最好就不要再动了吧。\n",
    "\n",
    "对一个数据源DataSource里面的所有Geometry做投影变换，你得一个一个来。下面是一个例子"
   ]
  },
  {
   "cell_type": "code",
   "execution_count": 25,
   "metadata": {},
   "outputs": [
    {
     "name": "stdout",
     "output_type": "stream",
     "text": [
      "PROJCS[\"WGS 84 / UTM zone 12N\",\n",
      "    GEOGCS[\"WGS 84\",\n",
      "        DATUM[\"WGS_1984\",\n",
      "            SPHEROID[\"WGS 84\",6378137,298.257223563,\n",
      "                AUTHORITY[\"EPSG\",\"7030\"]],\n",
      "            AUTHORITY[\"EPSG\",\"6326\"]],\n",
      "        PRIMEM[\"Greenwich\",0,\n",
      "            AUTHORITY[\"EPSG\",\"8901\"]],\n",
      "        UNIT[\"degree\",0.0174532925199433,\n",
      "            AUTHORITY[\"EPSG\",\"9122\"]],\n",
      "        AUTHORITY[\"EPSG\",\"4326\"]],\n",
      "    PROJECTION[\"Transverse_Mercator\"],\n",
      "    PARAMETER[\"latitude_of_origin\",0],\n",
      "    PARAMETER[\"central_meridian\",-111],\n",
      "    PARAMETER[\"scale_factor\",0.9996],\n",
      "    PARAMETER[\"false_easting\",500000],\n",
      "    PARAMETER[\"false_northing\",0],\n",
      "    UNIT[\"metre\",1,\n",
      "        AUTHORITY[\"EPSG\",\"9001\"]],\n",
      "    AXIS[\"Easting\",EAST],\n",
      "    AXIS[\"Northing\",NORTH],\n",
      "    AUTHORITY[\"EPSG\",\"32612\"]]\n"
     ]
    }
   ],
   "source": [
    "driver = ogr.GetDriverByName('ESRI Shapefile')\n",
    "ds = driver.Open('gallery-data/ospy_data1/sites.shp')\n",
    "layer = ds.GetLayer()\n",
    "sr = layer.GetSpatialRef() #UTM 12N WGS84\n",
    "print (sr)"
   ]
  },
  {
   "cell_type": "code",
   "execution_count": 26,
   "metadata": {},
   "outputs": [
    {
     "name": "stdout",
     "output_type": "stream",
     "text": [
      "POINT (455552.418360864 4641822.05368488)\n",
      "POINT (41.9271075694626 -111.536080100302)\n"
     ]
    }
   ],
   "source": [
    "from osgeo import osr\n",
    "sr2 = osr.SpatialReference()\n",
    "sr2.ImportFromEPSG(4326) #unprojected WGS84\n",
    "ct = osr.CoordinateTransformation(sr, sr2)\n",
    "feature = layer.GetFeature(0)\n",
    "geom = feature.GetGeometryRef()\n",
    "print (geom) #point coords in UTM\n",
    "geom.Transform(ct)\n",
    "print (geom) #unprojected point coords"
   ]
  },
  {
   "cell_type": "markdown",
   "metadata": {},
   "source": [
    "将投影写入.prj文件，其实很简单。首先MorphToESRI()，转成字符串，然后开个文本文件往里面写就行了。例如："
   ]
  },
  {
   "cell_type": "code",
   "execution_count": 27,
   "metadata": {},
   "outputs": [],
   "source": [
    "sr2.MorphToESRI()\n",
    "file = open('gallery-data/ospy_data1/test.prj', 'w')\n",
    "file.write(targetSR.ExportToWkt())\n",
    "file.close()"
   ]
  },
  {
   "cell_type": "markdown",
   "metadata": {},
   "source": [
    "## 过滤器，简单的空间分析，函数和模块\n",
    "\n",
    "Layer对象有一个方法叫SetAttributeFilter(<where_clause>)可以将Layer中符合某一条件的Feature过滤出来。设定了Filter之后就可以用GetNextFeature()方法依次取出符合条件的Feature了。SetAttributeFilter(None)可以清楚一个Filter。"
   ]
  },
  {
   "cell_type": "code",
   "execution_count": 28,
   "metadata": {},
   "outputs": [
    {
     "data": {
      "text/plain": [
       "42"
      ]
     },
     "execution_count": 28,
     "metadata": {},
     "output_type": "execute_result"
    }
   ],
   "source": [
    "from osgeo import ogr\n",
    "driver = ogr.GetDriverByName('ESRI Shapefile')\n",
    "ds = driver.Open('gallery-data/ospy_data1/sites.shp')\n",
    "layer = ds.GetLayer()\n",
    "layer.GetFeatureCount()"
   ]
  },
  {
   "cell_type": "code",
   "execution_count": 29,
   "metadata": {},
   "outputs": [
    {
     "data": {
      "text/plain": [
       "0"
      ]
     },
     "execution_count": 29,
     "metadata": {},
     "output_type": "execute_result"
    }
   ],
   "source": [
    "layer.SetAttributeFilter(\"cover = 'shrubs'\")"
   ]
  },
  {
   "cell_type": "code",
   "execution_count": 30,
   "metadata": {},
   "outputs": [
    {
     "data": {
      "text/plain": [
       "6"
      ]
     },
     "execution_count": 30,
     "metadata": {},
     "output_type": "execute_result"
    }
   ],
   "source": [
    "layer.GetFeatureCount()"
   ]
  },
  {
   "cell_type": "code",
   "execution_count": 31,
   "metadata": {},
   "outputs": [
    {
     "data": {
      "text/plain": [
       "42"
      ]
     },
     "execution_count": 31,
     "metadata": {},
     "output_type": "execute_result"
    }
   ],
   "source": [
    "layer.SetAttributeFilter(None)\n",
    "layer.GetFeatureCount()"
   ]
  },
  {
   "cell_type": "markdown",
   "metadata": {},
   "source": [
    "空间过滤器Spatial filters有两种。一种是SetSpatialFilter(<geom>)，过滤某一类型的Feature，例如参数中填Polygon，就是选出Layer中的所有Polygon。\n",
    "    \n",
    "另外还有SetSpatialFilterRect(<minx>, <miny>, <maxx>, <maxy>)，参数输入四个坐标，可以选中方框内的Feature\n",
    "    \n",
    "SetSpatialFilter(None)一样是清空空间属性过滤器。"
   ]
  },
  {
   "cell_type": "code",
   "execution_count": 32,
   "metadata": {},
   "outputs": [
    {
     "name": "stdout",
     "output_type": "stream",
     "text": [
      "<osgeo.ogr.Layer; proxy of <Swig Object of type 'OGRLayerShadow *' at 0x00000204BB2FBC90> >\n",
      "<osgeo.ogr.Layer; proxy of <Swig Object of type 'OGRLayerShadow *' at 0x00000204BB2FBC90> >\n"
     ]
    }
   ],
   "source": [
    "ptDS = driver.Open('gallery-data/ospy3_data/sites.shp', 0)\n",
    "ptLayer = ptDS.GetLayer()\n",
    "polyDS = driver.Open('gallery-data/ospy3_data/cache_towns.shp')\n",
    "polyLayer = polyDS.GetLayer()\n",
    "polyFeature = polyLayer.GetFeature(18)\n",
    "polyFeature.GetField('name')\n",
    "poly = polyFeature.GetGeometryRef()\n",
    "ptLayer.SetSpatialFilter(poly)\n",
    "print(ptLayer) #should just be one\n",
    "ptLayer.SetSpatialFilter(None)\n",
    "print(ptLayer) #everything is back"
   ]
  },
  {
   "cell_type": "markdown",
   "metadata": {},
   "source": [
    "更多内容后面再补充。"
   ]
  },
  {
   "cell_type": "markdown",
   "metadata": {},
   "source": [
    "## 用GDAL读取栅格数据\n",
    "\n",
    "GDAL原生支持超过100种栅格数据类型，涵盖所有主流GIS与RS数据格式，包括\n",
    "\n",
    "- ArcInfo grids, ArcSDE raster, Imagine, Idrisi, ENVI, GRASS, GeoTIFF\n",
    "- HDF4, HDF5\n",
    "- USGS DOQ, USGS DEM\n",
    "- ECW, MrSID\n",
    "- TIFF, JPEG, JPEG2000, PNG, GIF, BMP"
   ]
  },
  {
   "cell_type": "code",
   "execution_count": 33,
   "metadata": {},
   "outputs": [],
   "source": [
    "from osgeo import gdal"
   ]
  },
  {
   "cell_type": "code",
   "execution_count": 34,
   "metadata": {},
   "outputs": [
    {
     "name": "stdout",
     "output_type": "stream",
     "text": [
      "GDAL's version is: 3.3.1\n",
      "<module 'osgeo.gdal' from 'C:\\\\Users\\\\hust2\\\\miniconda3\\\\envs\\\\hydroGIS\\\\lib\\\\site-packages\\\\osgeo\\\\gdal.py'>\n"
     ]
    }
   ],
   "source": [
    "print(\"GDAL's version is: \" + gdal.__version__)\n",
    "print(gdal)"
   ]
  },
  {
   "cell_type": "markdown",
   "metadata": {},
   "source": [
    "数据下载请前往:https://www.gis.usu.edu/~chrisg/python/2009/lectures/ospy_data4.zip  注意点击就下载了,解压文件后放到如下所示的路径"
   ]
  },
  {
   "cell_type": "code",
   "execution_count": 35,
   "metadata": {},
   "outputs": [
    {
     "name": "stdout",
     "output_type": "stream",
     "text": [
      "<osgeo.gdal.Dataset; proxy of <Swig Object of type 'GDALDatasetShadow *' at 0x00000204BB6FE630> >\n"
     ]
    }
   ],
   "source": [
    "fn = 'data/ospy_data4/aster.img'\n",
    "ds = gdal.Open(fn, 0)\n",
    "print(ds)"
   ]
  },
  {
   "cell_type": "markdown",
   "metadata": {},
   "source": [
    "读取栅格数据集的x方向像素数，y方向像素数，和波段数"
   ]
  },
  {
   "cell_type": "code",
   "execution_count": 36,
   "metadata": {},
   "outputs": [
    {
     "name": "stdout",
     "output_type": "stream",
     "text": [
      "Number of bands in image: 3\n",
      "\n",
      "Image size is: 5033 rows x 5665 columns\n",
      "\n"
     ]
    }
   ],
   "source": [
    "cols = ds.RasterXSize\n",
    "rows = ds.RasterYSize\n",
    "bands = ds.RasterCount\n",
    "print('Number of bands in image: {n}\\n'.format(n=bands))\n",
    "print('Image size is: {r} rows x {c} columns\\n'.format(r=rows, c=cols))"
   ]
  },
  {
   "cell_type": "markdown",
   "metadata": {},
   "source": [
    "GeoTransform是一个list，存储着栅格数据集的地理坐标信息\n",
    "\n",
    "```Python\n",
    "adfGeoTransform[0] # top left x 左上角x坐标*\n",
    "adfGeoTransform[1] # w--e pixel resolution 东西方向上的像素分辨率\n",
    "adfGeoTransform[2] # rotation, 如果北边朝上，地图的旋转角度就是0\n",
    "adfGeoTransform[3] # top left y 左上角y坐标\n",
    "adfGeoTransform[4] # rotation, 如果北边朝上，地图的旋转角度就是0\n",
    "adfGeoTransform[5] # n-s pixel resolution 南北方向上的像素分辨率\n",
    "```"
   ]
  },
  {
   "cell_type": "code",
   "execution_count": 37,
   "metadata": {},
   "outputs": [
    {
     "name": "stdout",
     "output_type": "stream",
     "text": [
      "419976.5\n",
      "4662422.5\n",
      "15.0\n",
      "-15.0\n"
     ]
    }
   ],
   "source": [
    "geotransform = ds.GetGeoTransform()\n",
    "originX = geotransform[0]\n",
    "originY = geotransform[3]\n",
    "pixelWidth = geotransform[1]\n",
    "pixelHeight = geotransform[5]\n",
    "print(originX)\n",
    "print(originY)\n",
    "print(pixelWidth)\n",
    "print(pixelHeight)"
   ]
  },
  {
   "cell_type": "markdown",
   "metadata": {},
   "source": [
    "计算某一坐标对应像素的相对位置(pixel offset)，也就是该坐标与左上角的像素的相对位置，按像素数计算，计算公式如下：\n",
    "$$xOffset = int((x – originX) / pixelWidth)$$\n",
    "$$yOffset = int((y – originY) / pixelHeight)$$\n",
    "读取某一像素点的值，需要分两步:\n",
    "\n",
    "1. 首先读取一个波段(band)：GetRasterBand (< index >)，其参数为波段的索引号 \n",
    "2. 然后用ReadAsArray( < xoff >, < yoff >, < xsize >, < ysize >)，读出从(xoff,yoff)开始，大小为(xsize,ysize)的矩阵。如果将矩阵大小设为1X1，就是读取一个像素了。但是这一方法只能将读出的数据放到矩阵中，就算只读取一个像素也是一样。例如："
   ]
  },
  {
   "cell_type": "code",
   "execution_count": 38,
   "metadata": {},
   "outputs": [
    {
     "data": {
      "text/plain": [
       "array([[0, 0],\n",
       "       [0, 0],\n",
       "       [0, 0]], dtype=uint8)"
      ]
     },
     "execution_count": 38,
     "metadata": {},
     "output_type": "execute_result"
    }
   ],
   "source": [
    "band = ds.GetRasterBand(1)\n",
    "xOffset = 1\n",
    "yOffset = 2\n",
    "data = band.ReadAsArray(xOffset, yOffset, 2, 3)\n",
    "data"
   ]
  },
  {
   "cell_type": "markdown",
   "metadata": {},
   "source": [
    "如果想一次读取一整张图，那么显然就是将offset都设定为0，size设定为整个图幅的size 即可。\n",
    "\n",
    "可以看到 2 对应 xsize，在选择出的数据中 对应地是列数。也就是说 如果从数据中进一步取某个像素的值，应该用 data[yoff, xoff]。简而言之，就是这里面row对应y轴，col对应x轴。"
   ]
  },
  {
   "cell_type": "code",
   "execution_count": 39,
   "metadata": {},
   "outputs": [
    {
     "data": {
      "text/plain": [
       "0"
      ]
     },
     "execution_count": 39,
     "metadata": {},
     "output_type": "execute_result"
    }
   ],
   "source": [
    "data[2, 1]"
   ]
  },
  {
   "cell_type": "markdown",
   "metadata": {},
   "source": [
    "如何更有效率的读取栅格数据？显然一个一个的读取效率非常低，将整个栅格数据集都塞进二维数组也不是个好办法，因为这样占的内存还是很多。更好的方法是**按块(block)来存取数据**，只把要用的那一块放进内存。\n",
    "\n",
    "平铺(tiled)，即栅格数据按block存储。有的格式，例如GeoTiff没有平铺，一行是一个block。Erdas imagine格式则按64x64像素平铺。 如果一行是一个block，那么按行读取是比较节省资源的。 如果是平铺的数据结构，那么设定ReadAsArray()的参数值，让它一次只读入一个block，就是效率最高的方法了。例如："
   ]
  },
  {
   "cell_type": "code",
   "execution_count": 40,
   "metadata": {},
   "outputs": [
    {
     "data": {
      "text/plain": [
       "numpy.ndarray"
      ]
     },
     "execution_count": 40,
     "metadata": {},
     "output_type": "execute_result"
    }
   ],
   "source": [
    "rows = 13\n",
    "cols = 11\n",
    "xBSize = 5\n",
    "yBSize = 5\n",
    "for i in range(0, rows, yBSize):\n",
    "    if i + yBSize < rows:\n",
    "        numRows = yBSize\n",
    "    else:\n",
    "        numRows = rows - i\n",
    "        for j in range(0, cols, xBSize):\n",
    "            if j + xBSize < cols:\n",
    "                numCols = xBSize\n",
    "            else:\n",
    "                numCols = colsnumCols = cols - j\n",
    "            data = band.ReadAsArray(j, i, numCols, numRows)\n",
    "type(data)"
   ]
  },
  {
   "cell_type": "markdown",
   "metadata": {},
   "source": [
    "处理栅格数据时，numpy 是一个很常用的工具，也是现在数据的默认格式。\n",
    "\n",
    "处理栅格数据时，有些numpy的功能是很常用的，比如mask，即输入一个数组和条件，输出一个数组 这类功能。比如统计大于0的像素个数，可以联合运用mask和sum两个函数"
   ]
  },
  {
   "cell_type": "code",
   "execution_count": 41,
   "metadata": {},
   "outputs": [
    {
     "data": {
      "text/plain": [
       "3"
      ]
     },
     "execution_count": 41,
     "metadata": {},
     "output_type": "execute_result"
    }
   ],
   "source": [
    "import numpy as np\n",
    "a = np.array([0, 4, 6, 0, 2])\n",
    "mask = np.greater(a, 0)\n",
    "np.sum(mask)"
   ]
  },
  {
   "cell_type": "markdown",
   "metadata": {},
   "source": [
    "## 栅格数据的写入及其他常见处理函数\n",
    "\n",
    "前面是一些读操作，这里看看写操作。"
   ]
  },
  {
   "cell_type": "code",
   "execution_count": 42,
   "metadata": {},
   "outputs": [],
   "source": [
    "from osgeo import gdal, gdalconst"
   ]
  },
  {
   "cell_type": "markdown",
   "metadata": {},
   "source": [
    "新建数据集使用的函数如下所示：\n",
    "\n",
    "```Python\n",
    "Create(<filename>, <xsize>, <ysize>, [<bands>], [<GDALDataType>])\n",
    "```"
   ]
  },
  {
   "cell_type": "code",
   "execution_count": 45,
   "metadata": {},
   "outputs": [],
   "source": [
    "driver = gdal.GetDriverByName('HFA')\n",
    "ds = driver.Create('data/ospy_data4/sample1.img', 3, 3, 1, gdalconst.GDT_Float32)"
   ]
  },
  {
   "cell_type": "markdown",
   "metadata": {},
   "source": [
    "在上面这条语句的执行过程中，存储空间已经被分配到硬盘上了。接着需要先引入波段对象"
   ]
  },
  {
   "cell_type": "code",
   "execution_count": 46,
   "metadata": {},
   "outputs": [],
   "source": [
    "band = ds.GetRasterBand(1)"
   ]
  },
  {
   "cell_type": "markdown",
   "metadata": {},
   "source": [
    "波段对象支持直接写入矩阵，两个参数分别为x向偏移和y向偏移。首先制造一些数据。"
   ]
  },
  {
   "cell_type": "code",
   "execution_count": 47,
   "metadata": {},
   "outputs": [
    {
     "name": "stderr",
     "output_type": "stream",
     "text": [
      "C:\\Users\\hust2\\AppData\\Local\\Temp/ipykernel_2360/2758409270.py:4: RuntimeWarning: invalid value encountered in true_divide\n",
      "  ndvi = (data3 - data2) / (data3 + data2)\n"
     ]
    },
    {
     "data": {
      "text/plain": [
       "array([[        nan,  0.2987013 , -0.62601626],\n",
       "       [-0.05454545, -0.77606178, -0.66666667],\n",
       "       [-0.09152542,  0.34246575, -1.        ]])"
      ]
     },
     "execution_count": 47,
     "metadata": {},
     "output_type": "execute_result"
    }
   ],
   "source": [
    "import numpy as np\n",
    "data2 = np.array([ [0,54,100], [87,230,5], [161,120,24] ])\n",
    "data3 = np.array([ [0,100,23], [78,29,1], [134,245,0] ])\n",
    "ndvi = (data3 - data2) / (data3 + data2)\n",
    "ndvi"
   ]
  },
  {
   "cell_type": "markdown",
   "metadata": {},
   "source": [
    "可以留意有分母为0的情况，虽然也能计算，不过还是提前处理下比较好。"
   ]
  },
  {
   "cell_type": "code",
   "execution_count": 48,
   "metadata": {},
   "outputs": [
    {
     "data": {
      "text/plain": [
       "{'divide': 'warn', 'over': 'warn', 'under': 'ignore', 'invalid': 'warn'}"
      ]
     },
     "execution_count": 48,
     "metadata": {},
     "output_type": "execute_result"
    }
   ],
   "source": [
    "np.seterr(divide='ignore', invalid='ignore')"
   ]
  },
  {
   "cell_type": "code",
   "execution_count": 49,
   "metadata": {},
   "outputs": [
    {
     "data": {
      "text/plain": [
       "array([[        nan,  0.2987013 , -0.62601626],\n",
       "       [-0.05454545, -0.77606178, -0.66666667],\n",
       "       [-0.09152542,  0.34246575, -1.        ]])"
      ]
     },
     "execution_count": 49,
     "metadata": {},
     "output_type": "execute_result"
    }
   ],
   "source": [
    "ndvi = (data3 - data2) / (data3 + data2)\n",
    "ndvi"
   ]
  },
  {
   "cell_type": "code",
   "execution_count": 50,
   "metadata": {},
   "outputs": [
    {
     "data": {
      "text/plain": [
       "0"
      ]
     },
     "execution_count": 50,
     "metadata": {},
     "output_type": "execute_result"
    }
   ],
   "source": [
    "band.WriteArray(ndvi, 0, 0)"
   ]
  },
  {
   "cell_type": "markdown",
   "metadata": {},
   "source": [
    "也可以设定NoData对应的值"
   ]
  },
  {
   "cell_type": "code",
   "execution_count": 51,
   "metadata": {},
   "outputs": [
    {
     "data": {
      "text/plain": [
       "0"
      ]
     },
     "execution_count": 51,
     "metadata": {},
     "output_type": "execute_result"
    }
   ],
   "source": [
    "band.SetNoDataValue(-99)"
   ]
  },
  {
   "cell_type": "code",
   "execution_count": 52,
   "metadata": {},
   "outputs": [
    {
     "data": {
      "text/plain": [
       "-99.0"
      ]
     },
     "execution_count": 52,
     "metadata": {},
     "output_type": "execute_result"
    }
   ],
   "source": [
    "ND = band.GetNoDataValue()\n",
    "ND"
   ]
  },
  {
   "cell_type": "markdown",
   "metadata": {},
   "source": [
    "对于栅格图来说，金字塔的建立还是必要的，"
   ]
  },
  {
   "cell_type": "code",
   "execution_count": 53,
   "metadata": {},
   "outputs": [],
   "source": [
    "gdal.SetConfigOption('HFA_USE_RRD', 'YES')"
   ]
  },
  {
   "cell_type": "code",
   "execution_count": 54,
   "metadata": {},
   "outputs": [
    {
     "data": {
      "text/plain": [
       "0"
      ]
     },
     "execution_count": 54,
     "metadata": {},
     "output_type": "execute_result"
    }
   ],
   "source": [
    "ds.BuildOverviews(overviewlist=[2,4, 8,16,32,64,128])"
   ]
  },
  {
   "cell_type": "markdown",
   "metadata": {},
   "source": [
    "栅格数据拼接，重投影，切割，转换矢量数据 等都是常见操作，后面见到再补充。最后补充一些关于 GDAL 命令行操作还有FWTools工具的内容。"
   ]
  },
  {
   "cell_type": "markdown",
   "metadata": {},
   "source": [
    "## GDAL 命令行工具 与 FWTools 简单了解\n",
    "\n",
    "这部分内容主要参考了以下资料：\n",
    "\n",
    "- [GDAL 笔记一：GDAL命令行入门](https://www.jianshu.com/p/e48d0a17628c)\n",
    "- [GDAL/OGR Quickstart](https://live.osgeo.org/en/quickstart/gdal_quickstart.html)\n",
    "- [GDAL——命令使用专题——ogrinfo命令](https://www.cnblogs.com/eshinex/p/10301738.html)\n",
    "- [FWTools](http://wiki.gis.com/wiki/index.php/FWTools)\n",
    "\n",
    "GDAL 工具：\n",
    "\n",
    "- 通过gdalinfo去浏览图片信息\n",
    "- 通过gdal_translate去进行格式转换\n",
    "- 通过gdalwarp去重投影你的数据\n",
    "- 通过gdal_warp或者gdal_merge.py去拼接你的数据\n",
    "- 通过gdaltindex去建立shapefile拥有栅格编号\n",
    "\n",
    "OGR 工具：\n",
    "\n",
    "- 通过ogrinfo获取关于数据的信息\n",
    "- 通过ogr2ogr去转换栅格数据的格式\n",
    "\n",
    "这些工具的使用可以通过在命令行中执行类似 --help命令，--help-general 命令来查看"
   ]
  },
  {
   "cell_type": "code",
   "execution_count": 82,
   "metadata": {},
   "outputs": [
    {
     "name": "stdout",
     "output_type": "stream",
     "text": [
      "Generic GDAL utility command options:\n",
      "  --version: report version of GDAL in use.\n",
      "  --license: report GDAL license info.\n",
      "  --formats: report all configured format drivers.\n",
      "  --format [format]: details of one format.\n",
      "  --optfile filename: expand an option file into the argument list.\n",
      "  --config key value: set system configuration option.\n",
      "  --debug [on/off/value]: set debug level.\n",
      "  --pause: wait for user input, time to attach debugger\n",
      "  --locale [locale]: install locale for debugging (i.e. en_US.UTF-8)\n",
      "  --help-general: report detailed help on general options.\n"
     ]
    }
   ],
   "source": [
    "! ogrinfo --help-general"
   ]
  },
  {
   "cell_type": "code",
   "execution_count": 83,
   "metadata": {},
   "outputs": [
    {
     "name": "stdout",
     "output_type": "stream",
     "text": [
      "Usage: ogrinfo [--help-general] [-ro] [-q] [-where restricted_where|@filename]\n",
      "               [-spat xmin ymin xmax ymax] [-geomfield field] [-fid fid]\n",
      "               [-sql statement|@filename] [-dialect sql_dialect] [-al] [-rl] [-so] [-fields={YES/NO}]\n",
      "               [-geom={YES/NO/SUMMARY}] [[-oo NAME=VALUE] ...]\n",
      "               [-nomd] [-listmdd] [-mdd domain|`all`]*\n",
      "               [-nocount] [-noextent] [-nogeomtype] [-wkt_format WKT1|WKT2|...]\n",
      "               [-fielddomain name]\n",
      "               datasource_name [layer [layer ...]]\n"
     ]
    }
   ],
   "source": [
    "! ogrinfo --help"
   ]
  },
  {
   "cell_type": "markdown",
   "metadata": {},
   "source": [
    "更多命令信息都可以在GDAL官网查询：[GDAL documentation » Programs](https://gdal.org/programs/index.html)。\n",
    "\n",
    "命令清单可以参考：[dwtkns/gdal-cheat-sheet](https://github.com/dwtkns/gdal-cheat-sheet)\n",
    "\n",
    "FWTools 是一个开源的GIS 工具箱，由Frank Warmerdam 整合了一些流行的工具：\n",
    "\n",
    "- OpenEV – A high performance raster/vector desktop data viewer and analysis tool.\n",
    "- MapServer – A web mapping package.\n",
    "- GDAL/OGR – A library and set of command line utility applications for reading and writing a variety of geospatial raster (GDAL) and vector (OGR) formats.\n",
    "- PROJ.4 – A cartographic projections library with command-line utilities.\n",
    "- OGDI – A multi-format raster and vector reading technology noteworthy for inclusion of support for various military formats including VPF (i.e., VMAP, VITD), RPF (i.e., CADRG, CIB), and ADRG.\n",
    "- Python programming language\n",
    "\n",
    "最后的效果就是一个软件，里面有了上面这些工具，方便使用，其中OpenEV 是一个桌面应用程序，其他的基本上是命令行工具。现在应该用这个的不是太多，所以重点了解下 GDAL命令行即可。"
   ]
  }
 ],
 "metadata": {
  "kernelspec": {
   "display_name": "Python 3 (ipykernel)",
   "language": "python",
   "name": "python3"
  },
  "language_info": {
   "codemirror_mode": {
    "name": "ipython",
    "version": 3
   },
   "file_extension": ".py",
   "mimetype": "text/x-python",
   "name": "python",
   "nbconvert_exporter": "python",
   "pygments_lexer": "ipython3",
   "version": "3.8.10"
  }
 },
 "nbformat": 4,
 "nbformat_minor": 4
}
