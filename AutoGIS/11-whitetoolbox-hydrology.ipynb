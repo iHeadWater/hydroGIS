{
 "cells": [
  {
   "cell_type": "markdown",
   "id": "af063366-15a2-4169-bf1d-c83d519e2ebb",
   "metadata": {},
   "source": [
    "# 使用WhiteToolBox\n",
    "\n",
    "主要参考资料：[WhiteboxTools User Manual —— Interfacing With Python](https://www.whiteboxgeo.com/manual/wbt_book/python_scripting/scripting.html)"
   ]
  }
 ],
 "metadata": {
  "kernelspec": {
   "display_name": "Python 3 (ipykernel)",
   "language": "python",
   "name": "python3"
  },
  "language_info": {
   "codemirror_mode": {
    "name": "ipython",
    "version": 3
   },
   "file_extension": ".py",
   "mimetype": "text/x-python",
   "name": "python",
   "nbconvert_exporter": "python",
   "pygments_lexer": "ipython3",
   "version": "3.8.10"
  }
 },
 "nbformat": 4,
 "nbformat_minor": 5
}
