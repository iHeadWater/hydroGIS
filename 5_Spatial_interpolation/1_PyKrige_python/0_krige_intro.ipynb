{
 "cells": [
  {
   "cell_type": "markdown",
   "id": "a15b2b1e-25c7-459d-b50a-2381078daddf",
   "metadata": {},
   "source": [
    "# 克里金(Kriging)插值的原理"
   ]
  },
  {
   "cell_type": "markdown",
   "id": "cdd6dc2c-dd46-4ba3-8084-7d2e8758293f",
   "metadata": {},
   "source": [
    "了解过空间插值的人都知道克里金插值，但是它的变种繁多、公式复杂  \n",
    "本文将简单介绍基本克里金插值的原理，若感兴趣可查看[公式推导](https://xg1990.com/blog/archives/222)\n",
    "\n"
   ]
  },
  {
   "cell_type": "markdown",
   "id": "c936342a-d314-4f57-bff3-a2c1dd70c9eb",
   "metadata": {},
   "source": [
    "## 前言 --从反距离插值(IDW)说起"
   ]
  },
  {
   "cell_type": "markdown",
   "id": "3e65c9e3-1da8-4fb0-a502-327a5bf6462b",
   "metadata": {
    "tags": []
   },
   "source": [
    "空间插值问题，就是在已知空间上若干离散点 $(x_i,y_i)$ 的某一属性(如气温，海拔)的观测值$z_i=z(x_i,y_i)$的条件下，估计空间上任意一点$(x,y)$的属性值的问题。\n",
    "\n",
    "直观来讲，根据地理学第一定律，  \n",
    "```\n",
    "All attribute values on a geographic surface are related to each other, but closer values are more strongly related than are more distant ones.\n",
    "```\n",
    "\n",
    "大意就是，地理属性有空间相关性，相近的事物会更相似。由此人们发明了反距离插值，对于空间上任意一点 $(x,y)$ 的属性 $z=z(x,y)$ ，定义反距离插值公式估计量\n",
    "$$\\hat{z} = \\sum^{n}_{i=1}{\\frac{1}{d^\\alpha}z_i}$$\n",
    "\n",
    "其中$\\alpha $通常取1或者2。  \n",
    "\n",
    "即，用空间上所有已知点的数据加权求和来估计未知点的值，权重取决于距离的倒数（或者倒数的平方）。那么，距离近的点，权重就大；距离远的点，权重就小。  \n",
    "反距离插值可以有效的基于地理学第一定律估计属性值空间分布，但仍然存在很多问题：  \n",
    "    (1)$\\alpha $ 的值不确定  \n",
    "    (2)用倒数函数来描述空间关联程度不够准确   \n",
    "    \n",
    "因此更加准确的克里金插值方法被提出来了\n",
    "   "
   ]
  },
  {
   "cell_type": "markdown",
   "id": "98043dbe-cdc0-49f2-a3df-bbe11387bca3",
   "metadata": {},
   "source": [
    "# 克里金插值的定义"
   ]
  },
  {
   "cell_type": "markdown",
   "id": "680911fb-109c-4a33-a2bd-00946b136b6e",
   "metadata": {},
   "source": [
    "相比反距离插值，克里金插值公式更加抽象\n",
    "$$\\hat{z_o} = \\sum^{n}_{i=0}{\\lambda_iz_i} $$\n",
    "其中$\\hat{z_o}$是点$(x_o,y_o)$处的估计值，即$z_o=z(x_o,y_o)$  \n",
    "这里的$\\lambda_i$是权重系数。它同样是用空间上所有已知点的数据加权求和来估计未知点的值。但权重系数并非距离的倒数，而是能够满足点$(x_o,y_o)$处的估计值$\\hat{z_o}$与真实值$z_o$的差最小的一套最优系数，即\n",
    "$$\\min_{\\lambda_i} Var(\\hat{z_o}-z_o)$$\n",
    "同时满足无偏估计的条件\n",
    "$$E(\\hat{z_o}-z_o)=0$$"
   ]
  },
  {
   "cell_type": "code",
   "execution_count": null,
   "id": "f342da75-0de6-459f-8c01-05c8de24f1ac",
   "metadata": {},
   "outputs": [],
   "source": []
  }
 ],
 "metadata": {
  "kernelspec": {
   "display_name": "Python 3",
   "language": "python",
   "name": "python3"
  },
  "language_info": {
   "codemirror_mode": {
    "name": "ipython",
    "version": 3
   },
   "file_extension": ".py",
   "mimetype": "text/x-python",
   "name": "python",
   "nbconvert_exporter": "python",
   "pygments_lexer": "ipython3",
   "version": "3.8.10"
  }
 },
 "nbformat": 4,
 "nbformat_minor": 5
}
