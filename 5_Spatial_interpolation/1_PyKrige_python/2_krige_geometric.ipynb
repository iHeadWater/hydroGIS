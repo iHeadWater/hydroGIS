{
 "cells": [
  {
   "cell_type": "markdown",
   "id": "d9f998a3-dc38-4e32-909e-653592c66de3",
   "metadata": {},
   "source": [
    "# Geometric example"
   ]
  },
  {
   "cell_type": "code",
   "execution_count": 1,
   "id": "45e05709-1854-49d7-a379-d3da2598cd4f",
   "metadata": {},
   "outputs": [],
   "source": [
    "#A small example script showing the usage of the 'geographic' coordinates type for ordinary kriging on a sphere.\n",
    "from pykrige  import OrdinaryKriging\n",
    "import numpy as np\n",
    "from matplotlib import pyplot as plt\n",
    "# Make this example reproducible:\n",
    "np.random.seed(89239413)\n",
    "N = 7\n",
    "lon = 360.0 * np.random.random(N)\n",
    "lat = 180.0 / np.pi * np.arcsin(2 * np.random.random(N) - 1)\n",
    "z = 3.5 * np.random.rand(N) + 2.0"
   ]
  },
  {
   "cell_type": "code",
   "execution_count": 2,
   "id": "b8d943ba-9628-4f4b-8c0d-ba2da9081723",
   "metadata": {},
   "outputs": [],
   "source": [
    "# Generate a regular grid with 60° longitude and 30° latitude steps:\n",
    "grid_lon = np.linspace(0.0, 360.0, 7)\n",
    "grid_lat = np.linspace(-90.0, 90.0, 7)"
   ]
  },
  {
   "cell_type": "code",
   "execution_count": 3,
   "id": "30ec79e0-a0da-4262-8b11-3554699f86ef",
   "metadata": {},
   "outputs": [
    {
     "data": {
      "text/plain": [
       "<pykrige.ok.OrdinaryKriging at 0x15ff973e6a0>"
      ]
     },
     "execution_count": 3,
     "metadata": {},
     "output_type": "execute_result"
    }
   ],
   "source": [
    "# Create ordinary kriging object:\n",
    "OK = OrdinaryKriging(\n",
    "    lon,\n",
    "    lat,\n",
    "    z,\n",
    "    variogram_model=\"linear\",\n",
    "    verbose=False,\n",
    "    enable_plotting=False,\n",
    "    coordinates_type=\"geographic\",\n",
    ")\n",
    "OK"
   ]
  },
  {
   "cell_type": "code",
   "execution_count": 4,
   "id": "c69c550e-930c-4f81-9603-7b6ecfc92b57",
   "metadata": {},
   "outputs": [],
   "source": [
    "# Execute on grid:\n",
    "z1, ss1 = OK.execute(\"grid\", grid_lon, grid_lat)"
   ]
  },
  {
   "cell_type": "code",
   "execution_count": 5,
   "id": "c4069cfc-3ec9-4ddd-9096-853304201c3d",
   "metadata": {},
   "outputs": [],
   "source": [
    "# Create ordinary kriging object ignoring curvature:\n",
    "OK = OrdinaryKriging(\n",
    "    lon, lat, z, variogram_model=\"linear\", verbose=False, enable_plotting=False\n",
    ")\n",
    "# Execute on grid:\n",
    "z2, ss2 = OK.execute(\"grid\", grid_lon, grid_lat)\n"
   ]
  },
  {
   "cell_type": "code",
   "execution_count": 6,
   "id": "76de9fdf-8460-4d53-a185-edcc0b07db05",
   "metadata": {},
   "outputs": [
    {
     "name": "stdout",
     "output_type": "stream",
     "text": [
      "Original data:\n",
      "Longitude: [122 166  92 138  86 122 136]\n",
      "Latitude:  [-46 -36 -25 -73 -25  50 -29]\n",
      "z:         [2.75 3.36 2.24 3.07 3.37 5.25 2.82]\n",
      "\n",
      "Krige at 60° latitude:\n",
      "======================\n",
      "Longitude: [  0.  60. 120. 180. 240. 300. 360.]\n",
      "Value:     [5.29 5.11 5.27 5.17 5.35 5.63 5.29]\n",
      "Sigma²:    [2.22 1.32 0.42 1.21 2.07 2.48 2.22]\n",
      "\n",
      "Ignoring curvature:\n",
      "=====================\n",
      "Value:     [4.55 4.72 5.25 4.82 4.61 4.53 4.48]\n",
      "Sigma²:    [3.79 2.   0.39 1.85 3.54 5.46 7.53]\n"
     ]
    }
   ],
   "source": [
    "# Print data at equator (last longitude index will show periodicity):\n",
    "print(\"Original data:\")\n",
    "print(\"Longitude:\", lon.astype(int))\n",
    "print(\"Latitude: \", lat.astype(int))\n",
    "print(\"z:        \", np.array_str(z, precision=2))\n",
    "print(\"\\nKrige at 60° latitude:\\n======================\")\n",
    "print(\"Longitude:\", grid_lon)\n",
    "print(\"Value:    \", np.array_str(z1[5, :], precision=2))\n",
    "print(\"Sigma²:   \", np.array_str(ss1[5, :], precision=2))\n",
    "print(\"\\nIgnoring curvature:\\n=====================\")\n",
    "print(\"Value:    \", np.array_str(z2[5, :], precision=2))\n",
    "print(\"Sigma²:   \", np.array_str(ss2[5, :], precision=2))"
   ]
  },
  {
   "cell_type": "code",
   "execution_count": 7,
   "id": "f9b0b3bd-97f6-435d-9522-3d9870c1f434",
   "metadata": {},
   "outputs": [
    {
     "data": {
      "image/png": "[encoded data removed]",
      "text/plain": [
       "<Figure size 432x288 with 2 Axes>"
      ]
     },
     "metadata": {
      "needs_background": "light"
     },
     "output_type": "display_data"
    }
   ],
   "source": [
    "fig, (ax1, ax2) = plt.subplots(1, 2)\n",
    "ax1.imshow(z1, extent=[0, 360, -90, 90], origin=\"lower\")\n",
    "ax1.set_title(\"geo-coordinates\")\n",
    "ax2.imshow(z2, extent=[0, 360, -90, 90], origin=\"lower\")\n",
    "ax2.set_title(\"non geo-coordinates\")\n",
    "plt.show()"
   ]
  },
  {
   "cell_type": "code",
   "execution_count": null,
   "id": "8e2e1140-89a1-4f34-9e83-82ae02a81675",
   "metadata": {},
   "outputs": [],
   "source": []
  }
 ],
 "metadata": {
  "kernelspec": {
   "display_name": "Python 3",
   "language": "python",
   "name": "python3"
  },
  "language_info": {
   "codemirror_mode": {
    "name": "ipython",
    "version": 3
   },
   "file_extension": ".py",
   "mimetype": "text/x-python",
   "name": "python",
   "nbconvert_exporter": "python",
   "pygments_lexer": "ipython3",
   "version": "3.8.10"
  }
 },
 "nbformat": 4,
 "nbformat_minor": 5
}
