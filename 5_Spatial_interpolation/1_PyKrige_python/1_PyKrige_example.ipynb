{
 "cells": [
  {
   "cell_type": "markdown",
   "id": "ea341eb8-c6cd-4d9f-bbbf-f81e9cde341e",
   "metadata": {},
   "source": [
    "# Ordinary Kriging Example"
   ]
  },
  {
   "cell_type": "code",
   "execution_count": 2,
   "id": "cac0fdb9-0aa3-4bf6-b0b8-2e092c860c4b",
   "metadata": {},
   "outputs": [],
   "source": [
    "# First we will create a 2D dataset together with the associated x, y grids\n",
    "import numpy as np\n",
    "import pykrige.kriging_tools as kt\n",
    "from pykrige import OrdinaryKriging\n",
    "import matplotlib.pyplot as plt\n"
   ]
  },
  {
   "cell_type": "code",
   "execution_count": 6,
   "id": "f5c2c8ee-2b99-4f42-902f-570df78e8500",
   "metadata": {},
   "outputs": [
    {
     "name": "stdout",
     "output_type": "stream",
     "text": [
      "<class 'numpy.ndarray'>\n"
     ]
    }
   ],
   "source": [
    "data = np.array(\n",
    "    [   [0.3, 1.2, 0.47],\n",
    "        [1.9, 0.6, 0.56],\n",
    "        [1.1, 3.2, 0.74],\n",
    "        [3.3, 4.4, 1.47],\n",
    "        [4.7, 3.8, 1.74],])\n",
    "print(type(data))"
   ]
  },
  {
   "cell_type": "code",
   "execution_count": 7,
   "id": "da8cc079-fa6d-4ee1-b8d2-327b896f7a83",
   "metadata": {},
   "outputs": [
    {
     "data": {
      "text/plain": [
       "(5, 3)"
      ]
     },
     "execution_count": 7,
     "metadata": {},
     "output_type": "execute_result"
    }
   ],
   "source": [
    "data.shape"
   ]
  },
  {
   "cell_type": "code",
   "execution_count": 9,
   "id": "db62d91f-d6b7-406b-b533-d98289c7b1aa",
   "metadata": {},
   "outputs": [],
   "source": [
    "gridx = np.arange(0.0, 5.5, 0.5)\n",
    "gridy = np.arange(0.0, 5.5, 0.5)"
   ]
  },
  {
   "cell_type": "code",
   "execution_count": 10,
   "id": "1029ce7e-484a-4a3c-a60f-52e14a873fb7",
   "metadata": {},
   "outputs": [
    {
     "data": {
      "text/plain": [
       "array([0. , 0.5, 1. , 1.5, 2. , 2.5, 3. , 3.5, 4. , 4.5, 5. ])"
      ]
     },
     "execution_count": 10,
     "metadata": {},
     "output_type": "execute_result"
    }
   ],
   "source": [
    "gridx"
   ]
  },
  {
   "cell_type": "code",
   "execution_count": 11,
   "id": "3462ee08-17df-4eb3-b3d3-d06646b9de42",
   "metadata": {},
   "outputs": [
    {
     "data": {
      "text/plain": [
       "array([0. , 0.5, 1. , 1.5, 2. , 2.5, 3. , 3.5, 4. , 4.5, 5. ])"
      ]
     },
     "execution_count": 11,
     "metadata": {},
     "output_type": "execute_result"
    }
   ],
   "source": [
    "gridy"
   ]
  },
  {
   "cell_type": "code",
   "execution_count": 13,
   "id": "ecf82b7f-e283-4617-a2e2-289096bc906d",
   "metadata": {},
   "outputs": [],
   "source": [
    "# Create the ordinary kriging object. Required inputs are the X-coordinates of the data points, the Y-coordinates of the data points, and the Z-values of the data points.\n",
    "OK = OrdinaryKriging(\n",
    "    data[:, 0],\n",
    "    data[:, 1],\n",
    "    data[:, 2],\n",
    "    variogram_model=\"linear\",\n",
    "    verbose=False,\n",
    "    enable_plotting=False,\n",
    ")"
   ]
  },
  {
   "cell_type": "code",
   "execution_count": 18,
   "id": "484ec8ff-1b15-45a5-aa48-d36c9232edf8",
   "metadata": {},
   "outputs": [
    {
     "name": "stdout",
     "output_type": "stream",
     "text": [
      "<pykrige.ok.OrdinaryKriging object at 0x000001B9F6BDE5E0>\n"
     ]
    }
   ],
   "source": [
    "print(OK)"
   ]
  },
  {
   "cell_type": "code",
   "execution_count": 15,
   "id": "6572f78f-fe38-4272-b353-5e57ad49674d",
   "metadata": {},
   "outputs": [],
   "source": [
    "# Creates the kriged grid and the variance grid.\n",
    "z, ss = OK.execute(\"grid\", gridx, gridy)"
   ]
  },
  {
   "cell_type": "code",
   "execution_count": 20,
   "id": "d567fe25-e54d-48c8-87d7-9b965168270d",
   "metadata": {},
   "outputs": [
    {
     "data": {
      "text/plain": [
       "masked_array(\n",
       "  data=[[0.44243502318239214, 0.4600930026796312, 0.48677783416289977,\n",
       "         0.5242839728091135, 0.5826773564279746, 0.6675723108302898,\n",
       "         0.7620512011204208, 0.8552925548628071, 0.9430497678050291,\n",
       "         1.023187939028162, 1.0946125446173116],\n",
       "        [0.44546200237916284, 0.4627755254249189, 0.49123000817954066,\n",
       "         0.5258400717641009, 0.5795484583522867, 0.6894396738958439,\n",
       "         0.7980312976452972, 0.9006988715149924, 0.9951008365617126,\n",
       "         1.079539338162373, 1.153091685732461],\n",
       "        [0.456767859581752, 0.47570977301135936, 0.5152091408727115,\n",
       "         0.5633696804103181, 0.6341512271967447, 0.7400134608541513,\n",
       "         0.8528837354904472, 0.96098340043625, 1.0599441374303664,\n",
       "         1.1471586339367559, 1.221317163263006],\n",
       "        [0.4874447605759912, 0.5115588127198105, 0.5588711354322344,\n",
       "         0.622441117376079, 0.7066806640237212, 0.8111710290752915,\n",
       "         0.9244416338918076, 1.035536606246961, 1.1376089173894666,\n",
       "         1.22632168734102, 1.2994538691743895],\n",
       "        [0.5328247260596184, 0.5619072947779504, 0.612025553069388,\n",
       "         0.6851331952402855, 0.7796277309202972, 0.8896473382335524,\n",
       "         1.0064988476651555, 1.1213765879216169, 1.2267658500745893,\n",
       "         1.3165564446887876, 1.387083993699465],\n",
       "        [0.5825402323085442, 0.6130205995070396, 0.6641437865218259,\n",
       "         0.7458934238115305, 0.8520932835510391, 0.9708245308508774,\n",
       "         1.094021877767402, 1.214570450496102, 1.3249976819554936,\n",
       "         1.4168140556854594, 1.483157136447762],\n",
       "        [0.6372155886678734, 0.6670387640726034, 0.7104826233580993,\n",
       "         0.8056282815555063, 0.9257884189051727, 1.0530454599490031,\n",
       "         1.1827977851750866, 1.3098142610354209, 1.427797634131773,\n",
       "         1.5253401485488023, 1.5855379007853452],\n",
       "        [0.6993921423665298, 0.7350644408997735, 0.7863161455669281,\n",
       "         0.8823270526317624, 1.0040667595105937, 1.1343063314258506,\n",
       "         1.267792869881053, 1.3986662453337018, 1.5237202276800947,\n",
       "         1.637295238436244, 1.6872273293232452],\n",
       "        [0.7669577851294974, 0.8130529571875751, 0.8775661504344849,\n",
       "         0.9687294326712573, 1.0823394701924143, 1.2092731665423009,\n",
       "         1.3429305055513074, 1.4707519886741893, 1.5879789219244538,\n",
       "         1.699994215405154, 1.74224037902575],\n",
       "        [0.8340293555885998, 0.8874109657965291, 0.9567329441359547,\n",
       "         1.045001049053533, 1.1507522904583514, 1.2695873473662922,\n",
       "         1.397049011826927, 1.514686230125227, 1.6101309903941101,\n",
       "         1.6910094799669815, 1.7348625460764167],\n",
       "        [0.8964010732632869, 0.9534217738635855, 1.0234825500139604,\n",
       "         1.1076917309936454, 1.2048478314024105, 1.3114325321440052,\n",
       "         1.4211909463027999, 1.5225848424791881, 1.6078252650185725,\n",
       "         1.6748492847624954, 1.7179507614001983]],\n",
       "  mask=[[False, False, False, False, False, False, False, False, False,\n",
       "         False, False],\n",
       "        [False, False, False, False, False, False, False, False, False,\n",
       "         False, False],\n",
       "        [False, False, False, False, False, False, False, False, False,\n",
       "         False, False],\n",
       "        [False, False, False, False, False, False, False, False, False,\n",
       "         False, False],\n",
       "        [False, False, False, False, False, False, False, False, False,\n",
       "         False, False],\n",
       "        [False, False, False, False, False, False, False, False, False,\n",
       "         False, False],\n",
       "        [False, False, False, False, False, False, False, False, False,\n",
       "         False, False],\n",
       "        [False, False, False, False, False, False, False, False, False,\n",
       "         False, False],\n",
       "        [False, False, False, False, False, False, False, False, False,\n",
       "         False, False],\n",
       "        [False, False, False, False, False, False, False, False, False,\n",
       "         False, False],\n",
       "        [False, False, False, False, False, False, False, False, False,\n",
       "         False, False]],\n",
       "  fill_value=1e+20)"
      ]
     },
     "execution_count": 20,
     "metadata": {},
     "output_type": "execute_result"
    }
   ],
   "source": [
    "z"
   ]
  },
  {
   "cell_type": "code",
   "execution_count": 21,
   "id": "9b3ef31f-ca97-44fc-83d3-5add41ebb087",
   "metadata": {},
   "outputs": [
    {
     "data": {
      "text/plain": [
       "masked_array(\n",
       "  data=[[0.2592348462151437, 0.21697173215927967, 0.185620050093106,\n",
       "         0.1507003616085125, 0.14098079771101837, 0.1934962343941475,\n",
       "         0.27091057749162145, 0.3485939641380801, 0.42182740911446853,\n",
       "         0.491497286160281, 0.5599388590592125],\n",
       "        [0.16857907506423003, 0.13433839128069075, 0.12282338387603807,\n",
       "         0.07928152497428616, 0.033412197372541357, 0.1334894328066719,\n",
       "         0.2245208620240181, 0.30321912032969683, 0.37293023486324334,\n",
       "         0.43771179023565937, 0.5016155100223008],\n",
       "        [0.0851332102506222, 0.05734400180642253, 0.09882011510861151,\n",
       "         0.09207956894947218, 0.08318287521329792, 0.14137090557413878,\n",
       "         0.21305277711097995, 0.2779203059340609, 0.33579995490873243,\n",
       "         0.3905481098685688, 0.4468698688128306],\n",
       "        [0.0919146496762858, 0.07010101583644003, 0.11140934135535291,\n",
       "         0.12986229606731414, 0.14347812569342042, 0.17561920857304442,\n",
       "         0.21951485895469935, 0.2632407706365101, 0.3039890173487807,\n",
       "         0.3450269568540259, 0.3918395827580563],\n",
       "        [0.149482147854404, 0.121747598580635, 0.12854881481594432,\n",
       "         0.1461595327023327, 0.1683002060121906, 0.1945324020852017,\n",
       "         0.2219467439456018, 0.24688656697346245, 0.2694576117120581,\n",
       "         0.295046175074278, 0.33200083214310866],\n",
       "        [0.18356850506947933, 0.13375394095649226, 0.11179043555732376,\n",
       "         0.12920009922774267, 0.16383157239091722, 0.19228740691349813,\n",
       "         0.21092004612934748, 0.22122630209830302, 0.2262484077615932,\n",
       "         0.23505804793713864, 0.2632091063451174],\n",
       "        [0.2047371092515533, 0.12341468403522204, 0.0476645868060035,\n",
       "         0.08780672818031005, 0.1456048829863626, 0.1756929458350837,\n",
       "         0.1860528023020297, 0.1846415992271275, 0.17336355762160616,\n",
       "         0.16142700357286588, 0.18313405454162332],\n",
       "        [0.23880816509066904, 0.14857123026131117, 0.07168774750225623,\n",
       "         0.09555229371525807, 0.13971346731080803, 0.15425752100036777,\n",
       "         0.14803555190518466, 0.13852577609948488, 0.11991632336379165,\n",
       "         0.07613074414793397, 0.09809025883238587],\n",
       "        [0.296277716860477, 0.21928741671751972, 0.16671941780353494,\n",
       "         0.154640117045358, 0.15557783542103076, 0.1366024167158116,\n",
       "         0.09487459548352564, 0.08099406302375861, 0.0913473847441242,\n",
       "         0.055901064200591474, 0.08496678734127744],\n",
       "        [0.3686401254835342, 0.30122261021479224, 0.25145576315505824,\n",
       "         0.21967591573605172, 0.1908443620848135, 0.14467751918347516,\n",
       "         0.06874055530188103, 0.048134300031524524, 0.10761668023856738,\n",
       "         0.12913542357871327, 0.1666669198801417],\n",
       "        [0.44791632630022266, 0.3848247434269431, 0.3333107579320963,\n",
       "         0.29083217969923536, 0.24908681727164964, 0.2000231946979898,\n",
       "         0.150420310306195, 0.14065961333058677, 0.17388473208601743,\n",
       "         0.2104606566988976, 0.25584260269013936]],\n",
       "  mask=[[False, False, False, False, False, False, False, False, False,\n",
       "         False, False],\n",
       "        [False, False, False, False, False, False, False, False, False,\n",
       "         False, False],\n",
       "        [False, False, False, False, False, False, False, False, False,\n",
       "         False, False],\n",
       "        [False, False, False, False, False, False, False, False, False,\n",
       "         False, False],\n",
       "        [False, False, False, False, False, False, False, False, False,\n",
       "         False, False],\n",
       "        [False, False, False, False, False, False, False, False, False,\n",
       "         False, False],\n",
       "        [False, False, False, False, False, False, False, False, False,\n",
       "         False, False],\n",
       "        [False, False, False, False, False, False, False, False, False,\n",
       "         False, False],\n",
       "        [False, False, False, False, False, False, False, False, False,\n",
       "         False, False],\n",
       "        [False, False, False, False, False, False, False, False, False,\n",
       "         False, False],\n",
       "        [False, False, False, False, False, False, False, False, False,\n",
       "         False, False]],\n",
       "  fill_value=1e+20)"
      ]
     },
     "execution_count": 21,
     "metadata": {},
     "output_type": "execute_result"
    }
   ],
   "source": [
    "ss"
   ]
  },
  {
   "cell_type": "code",
   "execution_count": 22,
   "id": "9f417177-fce8-42e0-87d8-257853cbb2e1",
   "metadata": {},
   "outputs": [
    {
     "data": {
      "image/png": "[encoded data removed]",
      "text/plain": [
       "<Figure size 432x288 with 1 Axes>"
      ]
     },
     "metadata": {
      "needs_background": "light"
     },
     "output_type": "display_data"
    }
   ],
   "source": [
    "# Writes the kriged grid to an ASCII grid file and plot it.\n",
    "kt.write_asc_grid(gridx, gridy, z, filename=\"output.asc\")\n",
    "plt.imshow(z)\n",
    "plt.show()"
   ]
  },
  {
   "cell_type": "markdown",
   "id": "7f23e631-07c9-405e-b159-6dacb9799bfe",
   "metadata": {},
   "source": [
    "# Universal Kriging Example"
   ]
  },
  {
   "cell_type": "markdown",
   "id": "4544bab9-aa66-48d7-94da-2e0a875d6880",
   "metadata": {},
   "source": [
    "In this example we apply a regional linear trend to the kriging system."
   ]
  },
  {
   "cell_type": "code",
   "execution_count": 23,
   "id": "8ecda735-8b78-4499-82e1-a223c496f370",
   "metadata": {},
   "outputs": [],
   "source": [
    "from pykrige  import UniversalKriging"
   ]
  },
  {
   "cell_type": "code",
   "execution_count": 24,
   "id": "3c2b19df-af57-439b-b9bf-8d618ee8ea3a",
   "metadata": {},
   "outputs": [],
   "source": [
    "UK = UniversalKriging(\n",
    "    data[:, 0],\n",
    "    data[:, 1],\n",
    "    data[:, 2],\n",
    "    variogram_model=\"linear\",\n",
    "    drift_terms=[\"regional_linear\"],\n",
    ")"
   ]
  },
  {
   "cell_type": "code",
   "execution_count": 25,
   "id": "93e13a33-d667-49a0-8c56-0f1a85dc10d8",
   "metadata": {},
   "outputs": [
    {
     "data": {
      "text/plain": [
       "<pykrige.uk.UniversalKriging at 0x1b9f776a940>"
      ]
     },
     "execution_count": 25,
     "metadata": {},
     "output_type": "execute_result"
    }
   ],
   "source": [
    "UK "
   ]
  },
  {
   "cell_type": "code",
   "execution_count": 26,
   "id": "64d6047b-be8a-4dc8-bfed-a06457d69558",
   "metadata": {},
   "outputs": [
    {
     "data": {
      "image/png": "[encoded data removed]",
      "text/plain": [
       "<Figure size 432x288 with 1 Axes>"
      ]
     },
     "metadata": {
      "needs_background": "light"
     },
     "output_type": "display_data"
    }
   ],
   "source": [
    "z, ss = UK.execute(\"grid\", gridx, gridy)\n",
    "plt.imshow(z)\n",
    "plt.show()"
   ]
  },
  {
   "cell_type": "markdown",
   "id": "ce87fd9e-b341-497a-a99b-b61b2a5e885f",
   "metadata": {},
   "source": [
    "# Three-Dimensional Kriging Example"
   ]
  },
  {
   "cell_type": "code",
   "execution_count": 27,
   "id": "f236744c-99aa-4388-8d15-8d5070a3fa4f",
   "metadata": {},
   "outputs": [],
   "source": [
    "from pykrige import OrdinaryKriging3D\n",
    "from pykrige  import UniversalKriging3D"
   ]
  },
  {
   "cell_type": "code",
   "execution_count": 28,
   "id": "fbca7aca-7907-4e72-b5c1-d9c08ba20df8",
   "metadata": {},
   "outputs": [],
   "source": [
    "data = np.array(\n",
    "    [\n",
    "        [0.1, 0.1, 0.3, 0.9],\n",
    "        [0.2, 0.1, 0.4, 0.8],\n",
    "        [0.1, 0.3, 0.1, 0.9],\n",
    "        [0.5, 0.4, 0.4, 0.5],\n",
    "        [0.3, 0.3, 0.2, 0.7],\n",
    "    ]\n",
    ")"
   ]
  },
  {
   "cell_type": "code",
   "execution_count": 29,
   "id": "dab875ff-862a-41e5-86a6-40fb1e27d0e9",
   "metadata": {},
   "outputs": [],
   "source": [
    "gridx = np.arange(0.0, 0.6, 0.05)\n",
    "gridy = np.arange(0.0, 0.6, 0.01)\n",
    "gridz = np.arange(0.0, 0.6, 0.1)\n"
   ]
  },
  {
   "cell_type": "code",
   "execution_count": 37,
   "id": "a7475643-6828-4974-8434-5d1a018fb681",
   "metadata": {},
   "outputs": [],
   "source": [
    "ok3d = OrdinaryKriging3D(\n",
    "    data[:, 0], data[:, 1], data[:, 2], data[:, 3], variogram_model=\"linear\"\n",
    ")\n",
    "k3d1, ss3d = ok3d.execute(\"grid\", gridx, gridy, gridz)"
   ]
  },
  {
   "cell_type": "code",
   "execution_count": 38,
   "id": "2e842c56-634c-45b9-9375-1b18eb2bd0b9",
   "metadata": {},
   "outputs": [],
   "source": [
    "uk3d = UniversalKriging3D(\n",
    "    data[:, 0],\n",
    "    data[:, 1],\n",
    "    data[:, 2],\n",
    "    data[:, 3],\n",
    "    variogram_model=\"linear\",\n",
    "    drift_terms=[\"regional_linear\"],\n",
    ")\n",
    "k3d2, ss3d = uk3d.execute(\"grid\", gridx, gridy, gridz)"
   ]
  },
  {
   "cell_type": "code",
   "execution_count": 39,
   "id": "5ee48036-42ec-4917-81c4-b9c312b9af38",
   "metadata": {},
   "outputs": [],
   "source": [
    "zg, yg, xg = np.meshgrid(gridz, gridy, gridx, indexing=\"ij\")\n",
    "uk3d = UniversalKriging3D(\n",
    "    data[:, 0],\n",
    "    data[:, 1],\n",
    "    data[:, 2],\n",
    "    data[:, 3],\n",
    "    variogram_model=\"linear\",\n",
    "    drift_terms=[\"specified\"],\n",
    "    specified_drift=[data[:, 0], data[:, 1], data[:, 2]],\n",
    ")\n",
    "k3d3, ss3d = uk3d.execute(\n",
    "    \"grid\", gridx, gridy, gridz, specified_drift_arrays=[xg, yg, zg]\n",
    ")"
   ]
  },
  {
   "cell_type": "code",
   "execution_count": 40,
   "id": "421627ee-0aa7-4af6-b162-6b230d77659f",
   "metadata": {},
   "outputs": [],
   "source": [
    "func = lambda x, y, z: x\n",
    "uk3d = UniversalKriging3D(\n",
    "    data[:, 0],\n",
    "    data[:, 1],\n",
    "    data[:, 2],\n",
    "    data[:, 3],\n",
    "    variogram_model=\"linear\",\n",
    "    drift_terms=[\"functional\"],\n",
    "    functional_drift=[func],\n",
    ")\n",
    "k3d4, ss3d = uk3d.execute(\"grid\", gridx, gridy, gridz)"
   ]
  },
  {
   "cell_type": "code",
   "execution_count": 41,
   "id": "a7d4e4b2-69b2-4c84-8ae2-f2e451c29ef9",
   "metadata": {},
   "outputs": [
    {
     "data": {
      "image/png": "[encoded data removed]",
      "text/plain": [
       "<Figure size 432x288 with 4 Axes>"
      ]
     },
     "metadata": {
      "needs_background": "light"
     },
     "output_type": "display_data"
    }
   ],
   "source": [
    "fig, (ax1, ax2, ax3, ax4) = plt.subplots(4)\n",
    "ax1.imshow(k3d1[:, :, 0], origin=\"lower\")\n",
    "ax1.set_title(\"ordinary kriging\")\n",
    "ax2.imshow(k3d2[:, :, 0], origin=\"lower\")\n",
    "ax2.set_title(\"regional lin. drift\")\n",
    "ax3.imshow(k3d3[:, :, 0], origin=\"lower\")\n",
    "ax3.set_title(\"specified drift\")\n",
    "ax4.imshow(k3d4[:, :, 0], origin=\"lower\")\n",
    "ax4.set_title(\"functional drift\")\n",
    "plt.tight_layout()\n",
    "plt.show()"
   ]
  },
  {
   "cell_type": "code",
   "execution_count": null,
   "id": "ad623588-b276-479c-b6ef-db39cfc45987",
   "metadata": {},
   "outputs": [],
   "source": []
  }
 ],
 "metadata": {
  "kernelspec": {
   "display_name": "Python 3",
   "language": "python",
   "name": "python3"
  },
  "language_info": {
   "codemirror_mode": {
    "name": "ipython",
    "version": 3
   },
   "file_extension": ".py",
   "mimetype": "text/x-python",
   "name": "python",
   "nbconvert_exporter": "python",
   "pygments_lexer": "ipython3",
   "version": "3.8.10"
  }
 },
 "nbformat": 4,
 "nbformat_minor": 5
}
