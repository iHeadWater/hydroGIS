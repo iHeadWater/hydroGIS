{
 "cells": [
  {
   "cell_type": "markdown",
   "id": "0ab35a1e-d3b3-4165-b1de-1a3c7ae74f57",
   "metadata": {},
   "source": [
    "# 一些实例\n",
    "\n",
    "本文主要记录一些平常自己写的，在实际中使用的代码。"
   ]
  },
  {
   "cell_type": "markdown",
   "id": "b7d5de17-1241-4c40-b2f6-006b0389fbcc",
   "metadata": {},
   "source": [
    "## 计算流域平均气象时间序列数据\n",
    "\n",
    "这里以Daymet 2天的网格数据，CAMELS 多个流域为例，计算这些流域这两天每日的forcing数据流域平均值。\n",
    "\n",
    "因为CAMELS文件比较大，所以这里没有传到github上，需要手动从[这里](https://ral.ucar.edu/sites/default/files/public/product-tool/camels-catchment-attributes-and-meteorology-for-large-sample-studies-dataset-downloads/basin_set_full_res.zip)下载 CAMELS 的shpfile ，然后在本文件夹下创建一个large_files文件夹，并将下好的CAMELS shpfile放到其中。\n",
    "\n",
    "也可以选择上传到GEE asset上，然后直接调用。"
   ]
  },
  {
   "cell_type": "code",
   "execution_count": 1,
   "id": "fe755f65-fb89-42e7-b015-f3daf825c67c",
   "metadata": {},
   "outputs": [
    {
     "data": {
      "application/vnd.jupyter.widget-view+json": {
       "model_id": "e79f2c7f55aa4ea3ba981c46cc8181b4",
       "version_major": 2,
       "version_minor": 0
      },
      "text/plain": [
       "Map(center=[40, -100], controls=(WidgetControl(options=['position', 'transparent_bg'], widget=HBox(children=(T…"
      ]
     },
     "metadata": {},
     "output_type": "display_data"
    }
   ],
   "source": [
    "import ee\n",
    "import geemap\n",
    "\n",
    "Map = geemap.Map(center=[40, -100], zoom=4)\n",
    "Map"
   ]
  },
  {
   "cell_type": "code",
   "execution_count": 2,
   "id": "ffa0e75f-47a9-466d-9c21-85adfab5eafb",
   "metadata": {},
   "outputs": [],
   "source": [
    "# Add Earth Engine dataset\n",
    "daymet = ee.ImageCollection(\"NASA/ORNL/DAYMET_V4\")"
   ]
  },
  {
   "cell_type": "code",
   "execution_count": 3,
   "id": "c075e67d-42d9-468f-8d61-eb81eabf2a86",
   "metadata": {},
   "outputs": [
    {
     "data": {
      "text/plain": [
       "<ee.featurecollection.FeatureCollection at 0x1754f383c10>"
      ]
     },
     "execution_count": 3,
     "metadata": {},
     "output_type": "execute_result"
    }
   ],
   "source": [
    "# 本地文件\n",
    "# camels_shp = 'large_files/HCDN_nhru_final_671.shp'\n",
    "# camels = geemap.shp_to_ee(camels_shp)\n",
    "# 远程asset上\n",
    "camels = ee.FeatureCollection(\"users/wenyu_ouyang/Camels/HCDN_nhru_final_671\")\n",
    "camels"
   ]
  },
  {
   "cell_type": "code",
   "execution_count": 4,
   "id": "d0ba6941-bc2a-44e0-b2d4-dd2597dbbb88",
   "metadata": {},
   "outputs": [
    {
     "data": {
      "text/plain": [
       "<ee.ee_date.Date at 0x17553c1c820>"
      ]
     },
     "execution_count": 4,
     "metadata": {},
     "output_type": "execute_result"
    }
   ],
   "source": [
    "# maybe better to use Number to replace js number\n",
    "year = ee.Number(2000)\n",
    "month = ee.Number(1)\n",
    "day = ee.Number(1)\n",
    "start_date = ee.Date.fromYMD(year, month, day)\n",
    "end_date = start_date.advance(2, \"day\")\n",
    "end_date"
   ]
  },
  {
   "cell_type": "code",
   "execution_count": 5,
   "id": "acedeab7-be74-4a3e-8ab8-4ade22333ac9",
   "metadata": {},
   "outputs": [],
   "source": [
    "days_num = end_date.difference(start_date, \"day\")\n",
    "# count day from zero, and ee.List.sequence is a closed interval\n",
    "days = ee.List.sequence(ee.Number(0), days_num.add(-1))\n",
    "# get Imagecollection and filter, choose two days for test\n",
    "daymet_days = daymet.filter(ee.Filter.date(start_date, end_date))\n",
    "\n",
    "# show maximumTemperature, just for test\n",
    "maximumTemperature = daymet_days.select(\"tmax\")\n",
    "maximumTemperatureVis = {\n",
    "    \"min\": -40.0,\n",
    "    \"max\": 30.0,\n",
    "    \"palette\": [\"1621A2\", \"white\", \"cyan\", \"green\", \"yellow\", \"orange\", \"red\"],\n",
    "}\n",
    "Map.setCenter(-110.21, 35.1, 4)\n",
    "Map.addLayer(maximumTemperature, maximumTemperatureVis, \"Maximum Temperature\")"
   ]
  },
  {
   "cell_type": "code",
   "execution_count": 8,
   "id": "13a0a2dc-04af-4ce2-89ab-047e93afd9e0",
   "metadata": {},
   "outputs": [],
   "source": [
    "def nestedMappedReducer(featCol, imgCol):\n",
    "    def mapReducerOverImgCol(feat):\n",
    "        def imgReducer(img):\n",
    "            vals = img.reduceRegion(\n",
    "                reducer=ee.Reducer.mean(), geometry=feat.geometry(), scale=1000\n",
    "            )\n",
    "            return ee.Feature(None, vals).set(\n",
    "                {\n",
    "                    \"system:time_start\": img.get(\"system:time_start\"),\n",
    "                    \"hru_id\": feat.get(\"hru_id\"),\n",
    "                }\n",
    "            )\n",
    "\n",
    "        return imgCol.map(imgReducer)\n",
    "\n",
    "    return featCol.map(mapReducerOverImgCol).flatten()"
   ]
  },
  {
   "cell_type": "markdown",
   "id": "6aabd211-2b54-46cd-8f81-59b440fe43ea",
   "metadata": {},
   "source": [
    "执行函数并导出到 google drive，这样本地可以关闭，远程也在运行了，很适合较长时间的计算。"
   ]
  },
  {
   "cell_type": "code",
   "execution_count": 9,
   "id": "a5a7f27e-2e80-4296-a201-c354a5de621d",
   "metadata": {},
   "outputs": [
    {
     "name": "stdout",
     "output_type": "stream",
     "text": [
      "Exporting daymet_camels_mean_20000101-02new...\n"
     ]
    }
   ],
   "source": [
    "daymet_regions = nestedMappedReducer(camels, daymet_days)\n",
    "# export to google drive\n",
    "geemap.ee_export_vector_to_drive(\n",
    "    ee_object=daymet_regions,\n",
    "    description=\"daymet_camels_mean_20000101-02new\",\n",
    "    folder=\"export\",\n",
    "    file_format=\"csv\",\n",
    "    selectors=[\n",
    "        \"hru_id\",\n",
    "        \"system:time_start\",\n",
    "        \"dayl\",\n",
    "        \"prcp\",\n",
    "        \"srad\",\n",
    "        \"swe\",\n",
    "        \"tmax\",\n",
    "        \"tmin\",\n",
    "        \"vp\",\n",
    "    ],\n",
    ")"
   ]
  },
  {
   "cell_type": "markdown",
   "id": "2cc39b02-671c-4e99-99aa-d63b681e35d1",
   "metadata": {},
   "source": [
    "来自GEE的建议，使用reduceRegions可能比reduceRegion更快一些，但是这里不方便设置每个feature的time_start和hru_id，应该还是需要对featurecollection加一个map函数，所以暂时就不尝试了。\n",
    "\n",
    "```Javascript\n",
    "results = daymet_days.map(function(img) {\n",
    "    return img.reduceRegions({\n",
    "        ...\n",
    "    });\n",
    "});\n",
    "```\n",
    "\n",
    "上面给出的是JS代码，关于map和reduce，尤其是嵌套的js代码转python代码，可以参考这里：https://gis.stackexchange.com/questions/365121/how-to-nest-mapped-functions-with-the-earth-engine-python-api"
   ]
  },
  {
   "cell_type": "markdown",
   "id": "3157c437-3d31-42c2-8740-e51117392636",
   "metadata": {},
   "source": [
    "## 小时尺度气象数据平均到日尺度\n",
    "\n",
    "这里以NLDAS数据为例，将shpfile中的小时尺度数据均化到日尺度。shpfile可以仍选择CAMELS，这里使用了自己生成的，生成过程请参考 AutoGIS/9.1-gallery-vector.ipynb 中例五，这里直接使用结果得到的shpfile了，我已经将其上传至自己的GEE上了，所以就不使用本地的了。"
   ]
  },
  {
   "cell_type": "code",
   "execution_count": 1,
   "id": "f5b19734-69ac-40c2-90d9-bf291f7f642d",
   "metadata": {},
   "outputs": [
    {
     "data": {
      "application/vnd.jupyter.widget-view+json": {
       "model_id": "60af1c77e5c549fd81e55ee59f2357c7",
       "version_major": 2,
       "version_minor": 0
      },
      "text/plain": [
       "Map(center=[40, -100], controls=(WidgetControl(options=['position', 'transparent_bg'], widget=HBox(children=(T…"
      ]
     },
     "metadata": {},
     "output_type": "display_data"
    }
   ],
   "source": [
    "import ee\n",
    "import geemap\n",
    "\n",
    "Map = geemap.Map(center=[40, -100], zoom=4)\n",
    "Map"
   ]
  },
  {
   "cell_type": "code",
   "execution_count": 2,
   "id": "83c4bdfa-5e49-4f04-89ac-213568fdff44",
   "metadata": {},
   "outputs": [],
   "source": [
    "# Add Earth Engine dataset\n",
    "nldas = ee.ImageCollection(\"NASA/NLDAS/FORA0125_H002\")"
   ]
  },
  {
   "cell_type": "code",
   "execution_count": 3,
   "id": "a5580152-56f6-4c0d-b35a-e7d51bd3b5a4",
   "metadata": {},
   "outputs": [
    {
     "data": {
      "text/plain": [
       "<ee.featurecollection.FeatureCollection at 0x7f1a1e07fd30>"
      ]
     },
     "execution_count": 3,
     "metadata": {},
     "output_type": "execute_result"
    }
   ],
   "source": [
    "# 远程asset上\n",
    "shpfiles = ee.FeatureCollection(\"users/wenyu_ouyang/site_nobs_DO\")\n",
    "shpfiles"
   ]
  },
  {
   "cell_type": "code",
   "execution_count": 4,
   "id": "48aac993-5e94-4802-81a0-25931e2d2392",
   "metadata": {},
   "outputs": [
    {
     "data": {
      "text/plain": [
       "<ee.ee_date.Date at 0x7f1a1e07f7f0>"
      ]
     },
     "execution_count": 4,
     "metadata": {},
     "output_type": "execute_result"
    }
   ],
   "source": [
    "year = ee.Number(2000)\n",
    "month = ee.Number(1)\n",
    "day = ee.Number(1)\n",
    "start_date = ee.Date.fromYMD(year, month, day)\n",
    "end_date = start_date.advance(2, \"day\")\n",
    "end_date"
   ]
  },
  {
   "cell_type": "code",
   "execution_count": 5,
   "id": "793e32ec-705b-47be-9474-3fad041e2bad",
   "metadata": {},
   "outputs": [],
   "source": [
    "days_num = end_date.difference(start_date, \"day\")\n",
    "# count day from zero, and ee.List.sequence is a closed interval\n",
    "days = ee.List.sequence(ee.Number(0), days_num.add(-1))\n",
    "# get Imagecollection and filter, choose two days for test\n",
    "nldas_2d = nldas.filter(ee.Filter.date(start_date, end_date))\n",
    "\n",
    "# show temperature, just for test\n",
    "temperature = nldas_2d.select(\"temperature\")\n",
    "temperatureVis = {\n",
    "    \"min\": -5.0,\n",
    "    \"max\": 40.0,\n",
    "    \"palette\": [\"3d2bd8\", \"4e86da\", \"62c7d8\", \"91ed90\", \"e4f178\", \"ed6a4c\"],\n",
    "}\n",
    "Map.addLayer(temperature, temperatureVis, \"Temperature\")\n",
    "# 查看上面的地图"
   ]
  },
  {
   "cell_type": "code",
   "execution_count": 6,
   "id": "b394b8f0-2cca-475e-a6fc-fddf8d976525",
   "metadata": {},
   "outputs": [
    {
     "data": {
      "text/plain": [
       "<ee.imagecollection.ImageCollection at 0x7f1a88137e20>"
      ]
     },
     "execution_count": 6,
     "metadata": {},
     "output_type": "execute_result"
    }
   ],
   "source": [
    "# forcing variables that will be calculated for its avg\n",
    "avg_forcings = nldas_2d.select(\n",
    "    \"temperature\",\n",
    "    \"specific_humidity\",\n",
    "    \"pressure\",\n",
    "    \"wind_u\",\n",
    "    \"wind_v\",\n",
    "    \"longwave_radiation\",\n",
    "    \"convective_fraction\",\n",
    "    \"shortwave_radiation\",\n",
    ")\n",
    "avg_forcings.limit(2)"
   ]
  },
  {
   "cell_type": "code",
   "execution_count": 7,
   "id": "49e4924b-4fbb-4a28-a93e-ec54905a05ad",
   "metadata": {},
   "outputs": [
    {
     "data": {
      "text/plain": [
       "<ee.imagecollection.ImageCollection at 0x7f1a8812dd60>"
      ]
     },
     "execution_count": 7,
     "metadata": {},
     "output_type": "execute_result"
    }
   ],
   "source": [
    "# forcing variables that will be calculated for its sum\n",
    "sum_forcings = nldas_2d.select(\n",
    "    \"potential_energy\", \"potential_evaporation\", \"total_precipitation\"\n",
    ")\n",
    "sum_forcings.limit(2)"
   ]
  },
  {
   "cell_type": "code",
   "execution_count": 8,
   "id": "a3d8bf51-2aaf-41d0-8b27-d14c0f5ab8e5",
   "metadata": {},
   "outputs": [],
   "source": [
    "def daysMapImgsAvgReduce(dayCol, imgCol, start_day):\n",
    "    def dayAvgReducerOverImgCol(oneDay):\n",
    "        start = start_day.advance(ee.Number(oneDay), \"day\")\n",
    "        end = start_day.advance(ee.Number(oneDay).add(ee.Number(1)), \"day\")\n",
    "        return (\n",
    "            imgCol.filter(ee.Filter.date(start, end))\n",
    "            .reduce(ee.Reducer.mean())\n",
    "            .set({\"day_of_all_years\": start_day.advance(oneDay, \"day\")})\n",
    "        )\n",
    "\n",
    "    return dayCol.map(dayAvgReducerOverImgCol)"
   ]
  },
  {
   "cell_type": "code",
   "execution_count": 9,
   "id": "49bc1aac-e2b2-4594-9058-037258be6fa3",
   "metadata": {},
   "outputs": [],
   "source": [
    "avg_days = ee.ImageCollection(daysMapImgsAvgReduce(days, avg_forcings, start_date))"
   ]
  },
  {
   "cell_type": "code",
   "execution_count": 10,
   "id": "848dcffa-2cb7-4ed6-a063-08ad37e33f4d",
   "metadata": {},
   "outputs": [],
   "source": [
    "def daysMapImgsSumReduce(dayCol, imgCol, start_day):\n",
    "    def daySumReducerOverImgCol(oneDay):\n",
    "        start = start_day.advance(ee.Number(oneDay), \"day\")\n",
    "        end = start_day.advance(ee.Number(oneDay).add(ee.Number(1)), \"day\")\n",
    "        return (\n",
    "            imgCol.filter(ee.Filter.date(start, end))\n",
    "            .reduce(ee.Reducer.sum())\n",
    "            .set({\"day_of_all_years\": start_day.advance(oneDay, \"day\")})\n",
    "        )\n",
    "\n",
    "    return dayCol.map(daySumReducerOverImgCol)"
   ]
  },
  {
   "cell_type": "code",
   "execution_count": 11,
   "id": "c4a47c2c-340a-4703-b4bb-d77c44b50b6e",
   "metadata": {},
   "outputs": [],
   "source": [
    "sum_days = ee.ImageCollection(daysMapImgsSumReduce(days, sum_forcings, start_date))"
   ]
  },
  {
   "cell_type": "code",
   "execution_count": 12,
   "id": "11b69c46-49e9-4afe-80f5-868a3a2899bd",
   "metadata": {},
   "outputs": [],
   "source": [
    "# show avg temperature of all days, just for test\n",
    "tmpr_avg = avg_days.select(\"temperature_mean\").reduce(ee.Reducer.mean())\n",
    "temperature_avg = tmpr_avg.select(\"temperature_mean_mean\")\n",
    "Map.addLayer(temperature_avg, temperatureVis, \"Temperature_2d_avg\")"
   ]
  },
  {
   "cell_type": "markdown",
   "id": "356a5b9f-cac5-4c5d-9103-51a89165ba56",
   "metadata": {},
   "source": [
    "最后求一下流域平均："
   ]
  },
  {
   "cell_type": "code",
   "execution_count": 13,
   "id": "353a1038-7ed4-4756-bdbc-0dcab67dabdc",
   "metadata": {},
   "outputs": [],
   "source": [
    "def nestedMappedReducerNldas(featCol, imgCol, scaleNum):\n",
    "    def mapReducerOverImgColNldas(feat):\n",
    "        def imgReducerNldas(img):\n",
    "            vals = img.reduceRegion(\n",
    "                reducer=ee.Reducer.mean(), geometry=feat.geometry(), scale=scaleNum\n",
    "            )\n",
    "            return ee.Feature(None, vals).set(\n",
    "                {\n",
    "                    \"time_start\": img.get(\"day_of_all_years\"),\n",
    "                    \"gage_id\": feat.get(\"GAGE_ID\"),\n",
    "                }\n",
    "            )\n",
    "\n",
    "        return imgCol.map(imgReducerNldas)\n",
    "\n",
    "    return featCol.map(mapReducerOverImgColNldas).flatten()"
   ]
  },
  {
   "cell_type": "code",
   "execution_count": 14,
   "id": "46b33a44-cbea-417b-b050-d3b98bf1cfe4",
   "metadata": {},
   "outputs": [
    {
     "name": "stdout",
     "output_type": "stream",
     "text": [
      "Exporting nldas_do_avg_mean_20000101-02...\n"
     ]
    }
   ],
   "source": [
    "# 0.125 degree approximately equals to 13875m\n",
    "avg_day_regions = nestedMappedReducerNldas(shpfiles, avg_days, 13875)\n",
    "# export to google drive\n",
    "geemap.ee_export_vector_to_drive(\n",
    "    ee_object=avg_day_regions,\n",
    "    description=\"nldas_do_avg_mean_20000101-02\",\n",
    "    folder=\"export\",\n",
    "    file_format=\"csv\",\n",
    "    selectors=[\n",
    "        \"gage_id\",\n",
    "        \"time_start\",\n",
    "        \"temperature_mean\",\n",
    "        \"specific_humidity_mean\",\n",
    "        \"pressure_mean\",\n",
    "        \"wind_u_mean\",\n",
    "        \"wind_v_mean\",\n",
    "        \"longwave_radiation_mean\",\n",
    "        \"convective_fraction_mean\",\n",
    "        \"shortwave_radiation_mean\",\n",
    "    ],\n",
    ")"
   ]
  },
  {
   "cell_type": "code",
   "execution_count": 15,
   "id": "ade343f2-f323-4a69-8b5f-7c24aede6061",
   "metadata": {},
   "outputs": [
    {
     "name": "stdout",
     "output_type": "stream",
     "text": [
      "Exporting nldas_do4sum_mean_20000101-02...\n"
     ]
    }
   ],
   "source": [
    "avg_day_regions_4sum = nestedMappedReducerNldas(shpfiles, sum_days, 13875)\n",
    "# export to google drive\n",
    "geemap.ee_export_vector_to_drive(\n",
    "    ee_object=avg_day_regions_4sum,\n",
    "    description=\"nldas_do_sum_mean_20000101-02\",\n",
    "    folder=\"export\",\n",
    "    file_format=\"csv\",\n",
    "    selectors=[\n",
    "        \"gage_id\",\n",
    "        \"time_start\",\n",
    "        \"potential_energy_sum\",\n",
    "        \"potential_evaporation_sum\",\n",
    "        \"total_precipitation_sum\",\n",
    "    ],\n",
    ")"
   ]
  },
  {
   "cell_type": "markdown",
   "id": "2a14f51d-6731-4eb1-b489-74a0c586f442",
   "metadata": {},
   "source": [
    "下面是一个整合的一年计算的实例供实际使用："
   ]
  },
  {
   "cell_type": "code",
   "execution_count": 16,
   "id": "201ccd9a-13e7-4e9e-8629-13de56768172",
   "metadata": {},
   "outputs": [
    {
     "name": "stdout",
     "output_type": "stream",
     "text": [
      "Exporting nldas_do_avg_mean_1980...\n",
      "Exporting nldas_do_sum_mean_1980...\n"
     ]
    }
   ],
   "source": [
    "import ee\n",
    "import geemap\n",
    "\n",
    "year_num = 1980\n",
    "year = ee.Number(year_num)\n",
    "month = ee.Number(1)\n",
    "day = ee.Number(1)\n",
    "start_date = ee.Date.fromYMD(year, month, day)\n",
    "end_date = start_date.advance(1, \"year\")\n",
    "days_num = end_date.difference(start_date, \"day\")\n",
    "days = ee.List.sequence(ee.Number(0), days_num.add(-1))\n",
    "\n",
    "nldas = ee.ImageCollection(\"NASA/NLDAS/FORA0125_H002\")\n",
    "shpfiles = ee.FeatureCollection(\"users/wenyu_ouyang/site_nobs_DO\")\n",
    "\n",
    "nldas_days = nldas.filter(ee.Filter.date(start_date, end_date))\n",
    "avg_forcings = nldas_days.select(\n",
    "    \"temperature\",\n",
    "    \"specific_humidity\",\n",
    "    \"pressure\",\n",
    "    \"wind_u\",\n",
    "    \"wind_v\",\n",
    "    \"longwave_radiation\",\n",
    "    \"convective_fraction\",\n",
    "    \"shortwave_radiation\",\n",
    ")\n",
    "sum_forcings = nldas_days.select(\n",
    "    \"potential_energy\", \"potential_evaporation\", \"total_precipitation\"\n",
    ")\n",
    "avg_days = ee.ImageCollection(daysMapImgsAvgReduce(days, avg_forcings, start_date))\n",
    "sum_days = ee.ImageCollection(daysMapImgsSumReduce(days, sum_forcings, start_date))\n",
    "# 0.125 degree approximately equals to 13875m\n",
    "avg_day_regions = nestedMappedReducerNldas(shpfiles, avg_days, 13875)\n",
    "# export to google drive\n",
    "geemap.ee_export_vector_to_drive(\n",
    "    ee_object=avg_day_regions,\n",
    "    description=\"nldas_do_avg_mean_\" + str(year_num),\n",
    "    folder=\"NLDAS\",\n",
    "    file_format=\"csv\",\n",
    "    selectors=[\n",
    "        \"gage_id\",\n",
    "        \"time_start\",\n",
    "        \"temperature_mean\",\n",
    "        \"specific_humidity_mean\",\n",
    "        \"pressure_mean\",\n",
    "        \"wind_u_mean\",\n",
    "        \"wind_v_mean\",\n",
    "        \"longwave_radiation_mean\",\n",
    "        \"convective_fraction_mean\",\n",
    "        \"shortwave_radiation_mean\",\n",
    "    ],\n",
    ")\n",
    "avg_day_regions_4sum = nestedMappedReducerNldas(shpfiles, sum_days, 13875)\n",
    "# export to google drive\n",
    "geemap.ee_export_vector_to_drive(\n",
    "    ee_object=avg_day_regions_4sum,\n",
    "    description=\"nldas_do_sum_mean_\" + str(year_num),\n",
    "    folder=\"NLDAS\",\n",
    "    file_format=\"csv\",\n",
    "    selectors=[\n",
    "        \"gage_id\",\n",
    "        \"time_start\",\n",
    "        \"potential_energy_sum\",\n",
    "        \"potential_evaporation_sum\",\n",
    "        \"total_precipitation_sum\",\n",
    "    ],\n",
    ")"
   ]
  },
  {
   "cell_type": "markdown",
   "id": "d6d8cfc6-1129-4642-aa8d-7fab8bb29702",
   "metadata": {},
   "source": [
    "上面这个完整实例在GEE中运行时间很长，如果不想让其运行，在GEE中手动终止任务即可。"
   ]
  },
  {
   "cell_type": "markdown",
   "id": "6466dca5-970b-4b49-8646-5ddaf252e2e8",
   "metadata": {},
   "source": [
    "## 选择给定点坐标处的数据\n",
    "\n",
    "主要参考资料：\n",
    "\n",
    "- [GEE JavaScript Tutorials: Extracting Raster Values for Points](https://developers.google.com/earth-engine/tutorials/community/extract-raster-values-for-points)\n",
    "- [qiswqs: earthengine=py-notebooks](https://github.com/giswqs/earthengine-py-notebooks/blob/master/Image/extract_value_to_points.ipynb)\n",
    "- [What is the difference between sample, sampleRegions, and stratifiedSample in Google Earth Engine?](https://gis.stackexchange.com/questions/304929/what-is-the-difference-between-sample-sampleregions-and-stratifiedsample-in-go)\n",
    "\n",
    "### Reduce\n",
    "\n",
    "代码的主要目的就是在想要的点处提取某个栅格数据集数据，这是很常见的应用，比如提取某个点处NDVI的值，绘制出其时间变化过程线。提取出的数据会被放到一个feature collections里面。很多时候点坐标是有误差的，所以我们通常不会仅仅使用点所在位置处的网格值，还会通过一个buffer操作把周围数据一起取出做reduce计算。"
   ]
  },
  {
   "cell_type": "code",
   "execution_count": 1,
   "id": "555fed0a-a38e-4570-a447-fe86c47a674a",
   "metadata": {},
   "outputs": [],
   "source": [
    "import ee\n",
    "import geemap"
   ]
  },
  {
   "cell_type": "code",
   "execution_count": 2,
   "id": "6674bedd-e4f4-4732-b550-c5d4371276df",
   "metadata": {},
   "outputs": [
    {
     "data": {
      "application/vnd.jupyter.widget-view+json": {
       "model_id": "05b6a157431a44d786ac28d513717c75",
       "version_major": 2,
       "version_minor": 0
      },
      "text/plain": [
       "Map(center=[40, -100], controls=(WidgetControl(options=['position', 'transparent_bg'], widget=HBox(children=(T…"
      ]
     },
     "metadata": {},
     "output_type": "display_data"
    }
   ],
   "source": [
    "Map = geemap.Map(center=[40, -100], zoom=4)\n",
    "Map"
   ]
  },
  {
   "cell_type": "code",
   "execution_count": 5,
   "id": "6b092ca8-4f81-4c3c-9ac9-7384ff626b4f",
   "metadata": {},
   "outputs": [],
   "source": [
    "# Add Earth Engine dataset\n",
    "# Input imagery is ERA5 daily dataset: https://developers.google.com/earth-engine/datasets/catalog/ECMWF_ERA5_DAILY?hl=en\n",
    "year = 1980\n",
    "# era5 = ee.ImageCollection(\"ECMWF/ERA5/DAILY\").filterDate(str(year) + '-01-01', str(year+1)+'-01-01')\n",
    "era5 = ee.ImageCollection(\"ECMWF/ERA5/DAILY\").filterDate(\n",
    "    str(year) + \"-01-01\", str(year) + \"-01-03\"\n",
    ")"
   ]
  },
  {
   "cell_type": "code",
   "execution_count": 3,
   "id": "0a561744-c5fa-449d-8ccd-68aef7b96684",
   "metadata": {},
   "outputs": [],
   "source": [
    "pts = ee.FeatureCollection(\"projects/ee-owen/assets/globalpaper_site3221\")"
   ]
  },
  {
   "cell_type": "code",
   "execution_count": 4,
   "id": "df5a2452-8b28-4e56-acbd-095503887adc",
   "metadata": {},
   "outputs": [],
   "source": [
    "def buffer_points(radius, bounds):\n",
    "    def buffer_point(pt):\n",
    "        pt = ee.Feature(pt)\n",
    "        return pt.buffer(radius).bounds() if bounds else pt.buffer(radius)\n",
    "\n",
    "    return buffer_point"
   ]
  },
  {
   "cell_type": "code",
   "execution_count": 6,
   "id": "dc0bf5f8-9a8c-4f0c-bf9b-1e324b9173b6",
   "metadata": {},
   "outputs": [],
   "source": [
    "# apply a 45 m radius buffer (set the second argument as false i.e., do not use bounds)\n",
    "pts_era5 = pts.map(buffer_points(10000, False))\n",
    "Map.addLayer(pts_era5, {}, \"buffer\");"
   ]
  },
  {
   "cell_type": "code",
   "execution_count": 7,
   "id": "1ca5df60-e502-4e75-ba16-cb43161ed76d",
   "metadata": {},
   "outputs": [],
   "source": [
    "def zonal_stats(ic, fc, params):\n",
    "    # Initialize internal params dictionary.\n",
    "    _params = {\n",
    "        \"reducer\": ee.Reducer.mean(),\n",
    "        \"scale\": None,\n",
    "        \"crs\": None,\n",
    "        \"bands\": None,\n",
    "        \"bandsRename\": None,\n",
    "        \"imgProps\": None,\n",
    "        \"imgPropsRename\": None,\n",
    "        \"datetimeName\": \"datetime\",\n",
    "        \"datetimeFormat\": \"YYYY-MM-dd HH:mm:ss\",\n",
    "    }\n",
    "\n",
    "    # Replace initialized params with provided params.\n",
    "    if params:\n",
    "        for param in params:\n",
    "            _params[param] = params[param] or _params[param]\n",
    "\n",
    "    # Set default parameters based on an image representative.\n",
    "    imgRep = ic.first()\n",
    "    nonSystemImgProps = ee.Feature(None).copyProperties(imgRep).propertyNames()\n",
    "    if not _params[\"bands\"]:\n",
    "        _params[\"bands\"] = imgRep.bandNames()\n",
    "    if not _params[\"bandsRename\"]:\n",
    "        _params[\"bandsRename\"] = _params[\"bands\"]\n",
    "    if not _params[\"imgProps\"]:\n",
    "        _params[\"imgProps\"] = nonSystemImgProps\n",
    "    if not _params[\"imgPropsRename\"]:\n",
    "        _params[\"imgPropsRename\"] = _params[\"imgProps\"]\n",
    "\n",
    "    def select_band(img):\n",
    "        # Select bands (optionally rename), set a datetime & timestamp property.\n",
    "        img = (\n",
    "            ee.Image(img.select(_params[\"bands\"], _params[\"bandsRename\"]))\n",
    "            .set(_params[\"datetimeName\"], img.date().format(_params[\"datetimeFormat\"]))\n",
    "            .set(\"timestamp\", img.get(\"system:time_start\"))\n",
    "        )\n",
    "        # Define final image property dictionary to set in output features.\n",
    "        propsFrom = ee.List(_params[\"imgProps\"]).cat(\n",
    "            ee.List([_params[\"datetimeName\"], \"timestamp\"])\n",
    "        )\n",
    "        propsTo = ee.List(_params[\"imgPropsRename\"]).cat(\n",
    "            ee.List([_params[\"datetimeName\"], \"timestamp\"])\n",
    "        )\n",
    "        imgProps = img.toDictionary(propsFrom).rename(propsFrom, propsTo)\n",
    "\n",
    "        # Subset points that intersect the given image.\n",
    "        fcSub = fc.filterBounds(img.geometry())\n",
    "        # Reduce the image by regions.\n",
    "        def reduce_img(f):\n",
    "            return f.set(imgProps)\n",
    "\n",
    "        return img.reduceRegions(\n",
    "            collection=fcSub,\n",
    "            reducer=_params[\"reducer\"],\n",
    "            scale=_params[\"scale\"],\n",
    "            crs=_params[\"crs\"],\n",
    "        ).map(reduce_img)\n",
    "\n",
    "    # Map the reduceRegions function over the image collection.\n",
    "    results = (\n",
    "        ic.map(select_band).flatten().filter(ee.Filter.notNull(_params[\"bandsRename\"]))\n",
    "    )\n",
    "    return results"
   ]
  },
  {
   "cell_type": "code",
   "execution_count": 21,
   "id": "3b262156-08e3-4314-9a43-3f98f6bbc534",
   "metadata": {},
   "outputs": [],
   "source": [
    "era5_daily_bands = [\n",
    "    \"mean_2m_air_temperature\",\n",
    "    \"minimum_2m_air_temperature\",\n",
    "    \"maximum_2m_air_temperature\",\n",
    "    \"dewpoint_2m_temperature\",\n",
    "    \"total_precipitation\",\n",
    "    \"surface_pressure\",\n",
    "    \"mean_sea_level_pressure\",\n",
    "    \"u_component_of_wind_10m\",\n",
    "    \"v_component_of_wind_10m\",\n",
    "]\n",
    "era5_daily_bands_rename = [\n",
    "    \"tmean\",\n",
    "    \"tmin\",\n",
    "    \"tmax\",\n",
    "    \"tdew\",\n",
    "    \"prcp\",\n",
    "    \"sp\",\n",
    "    \"mslp\",\n",
    "    \"windu\",\n",
    "    \"windv\",\n",
    "]"
   ]
  },
  {
   "cell_type": "code",
   "execution_count": 17,
   "id": "1001382b-4735-4e93-8656-0d8d967c46f0",
   "metadata": {},
   "outputs": [],
   "source": [
    "# Define parameters for the zonalStats function.\n",
    "params = {\n",
    "    \"reducer\": ee.Reducer.mean(),\n",
    "    \"scale\": 27830,\n",
    "    \"crs\": \"EPSG:4326\",\n",
    "    \"bands\": era5_daily_bands,\n",
    "    \"bandsRename\": era5_daily_bands_rename,\n",
    "    \"datetimeName\": \"date\",\n",
    "    \"datetimeFormat\": \"YYYY-MM-dd\",\n",
    "}"
   ]
  },
  {
   "cell_type": "code",
   "execution_count": 18,
   "id": "0aab9ff7-8880-4e25-875d-bb6b0c53ae18",
   "metadata": {},
   "outputs": [],
   "source": [
    "# Extract zonal statistics per point per image.\n",
    "pts_era5_stats = zonal_stats(era5, pts_era5, params)\n",
    "# print(pts_era5_stats.limit(1));"
   ]
  },
  {
   "cell_type": "code",
   "execution_count": 19,
   "id": "562dc322-3bd6-4c6c-9ed6-a60873752003",
   "metadata": {},
   "outputs": [
    {
     "name": "stdout",
     "output_type": "stream",
     "text": [
      "Exporting era5_daily_reduce_globalpaper_site3221_1980...\n"
     ]
    }
   ],
   "source": [
    "# export to google drive\n",
    "geemap.ee_export_vector_to_drive(\n",
    "    ee_object=pts_era5_stats,\n",
    "    description=\"era5_daily_reduce_globalpaper_site3221_\" + str(year),\n",
    "    folder=\"ERA5\",\n",
    "    file_format=\"csv\",\n",
    "    selectors=[\n",
    "        \"new_site_i\",\n",
    "        \"date\",\n",
    "        \"tmean\",\n",
    "        \"tmin\",\n",
    "        \"tmax\",\n",
    "        \"tdew\",\n",
    "        \"prcp\",\n",
    "        \"sp\",\n",
    "        \"mslp\",\n",
    "        \"windu\",\n",
    "        \"windv\",\n",
    "    ],\n",
    ")"
   ]
  },
  {
   "cell_type": "code",
   "execution_count": 22,
   "id": "6af7ddde-12c1-449b-bf31-accd3cd0c97f",
   "metadata": {},
   "outputs": [],
   "source": [
    "def reduce_from_era5(points_shape, rasters, scale):\n",
    "    the_params = {\n",
    "        \"reducer\": ee.Reducer.mean(),\n",
    "        \"scale\": scale,\n",
    "        \"crs\": \"EPSG:4326\",\n",
    "        \"bands\": era5_daily_bands,\n",
    "        \"bandsRename\": era5_daily_bands_rename,\n",
    "        \"datetimeName\": \"date\",\n",
    "        \"datetimeFormat\": \"YYYY-MM-dd\",\n",
    "    }\n",
    "\n",
    "    pts_era5_buffers = points_shape.map(buffer_points(scale, False))\n",
    "    pts_era5_buffers_stats = zonal_stats(rasters, pts_era5_buffers, the_params)\n",
    "    return pts_era5_buffers_stats"
   ]
  },
  {
   "cell_type": "code",
   "execution_count": 26,
   "id": "2ac04065-fdd4-49c2-8686-fe8658e39d1e",
   "metadata": {},
   "outputs": [
    {
     "name": "stdout",
     "output_type": "stream",
     "text": [
      "Exporting era5_daily_reduce_globalpaper_site3221_1982...\n"
     ]
    }
   ],
   "source": [
    "import numpy as np\n",
    "\n",
    "for year in np.arange(1982, 1983):\n",
    "    era5_year = ee.ImageCollection(\"ECMWF/ERA5/DAILY\").filterDate(\n",
    "        str(year) + \"-01-01\", str(year + 1) + \"-01-01\"\n",
    "    )\n",
    "    pts_era5_reduce = reduce_from_era5(pts, era5_year, 10000)\n",
    "    # export to google drive\n",
    "    geemap.ee_export_vector_to_drive(\n",
    "        ee_object=pts_era5_reduce,\n",
    "        description=\"era5_daily_reduce_globalpaper_site3221_\" + str(year),\n",
    "        folder=\"ERA5\",\n",
    "        file_format=\"csv\",\n",
    "        selectors=[\"new_site_i\", \"date\"] + era5_daily_bands_rename,\n",
    "    )"
   ]
  },
  {
   "cell_type": "markdown",
   "id": "c2227ff7-70a3-4551-86e6-247afdc2a8b9",
   "metadata": {},
   "source": [
    "### Sample\n",
    "\n",
    "上面是reduceRegions的结果，有时候也有可能会直接用点所在的区域的数据，这时候我们可以直接使用sampleRegions把数据取出来即可。\n",
    "\n",
    "sample类型的函数介绍可以参考这些：\n",
    "\n",
    "- [ee.Image.sampleRegions](https://developers.google.com/earth-engine/apidocs/ee-image-sampleregions)\n",
    "- [What is the difference between sample, sampleRegions, and stratifiedSample in Google Earth Engine?](https://gis.stackexchange.com/questions/304929/what-is-the-difference-between-sample-sampleregions-and-stratifiedsample-in-go)"
   ]
  },
  {
   "cell_type": "code",
   "execution_count": 8,
   "id": "e421e4f7-c9e1-4796-9b9d-21cf6ebc5088",
   "metadata": {},
   "outputs": [],
   "source": [
    "def sample_from_era5(year_num, points_shape, rasters, scale):\n",
    "    # Overlay the points on the imagery to get sampled data\n",
    "    era5_daily_bands = [\n",
    "        \"mean_2m_air_temperature\",\n",
    "        \"minimum_2m_air_temperature\",\n",
    "        \"maximum_2m_air_temperature\",\n",
    "        \"dewpoint_2m_temperature\",\n",
    "        \"total_precipitation\",\n",
    "        \"surface_pressure\",\n",
    "        \"mean_sea_level_pressure\",\n",
    "        \"u_component_of_wind_10m\",\n",
    "        \"v_component_of_wind_10m\",\n",
    "    ]\n",
    "    era5_daily_bands_rename = [\n",
    "        \"tmean\",\n",
    "        \"tmin\",\n",
    "        \"tmax\",\n",
    "        \"tdew\",\n",
    "        \"prcp\",\n",
    "        \"sp\",\n",
    "        \"mslp\",\n",
    "        \"windu\",\n",
    "        \"windv\",\n",
    "    ]\n",
    "\n",
    "    def sample_region(img):\n",
    "        img = (\n",
    "            ee.Image(img.select(era5_daily_bands, era5_daily_bands_rename))\n",
    "            .set(\"date\", img.date().format(\"YYYY-MM-dd\"))\n",
    "            .set(\"timestamp\", img.get(\"system:time_start\"))\n",
    "        )\n",
    "        # Define final image property dictionary to set in output features.\n",
    "        propsFrom = ee.List([\"date\", \"timestamp\"])\n",
    "        imgProps = img.toDictionary(propsFrom)\n",
    "\n",
    "        def map_set_time(f):\n",
    "            return f.set(imgProps)\n",
    "\n",
    "        return img.sampleRegions(collection=points_shape, scale=scale).map(map_set_time)\n",
    "\n",
    "    pts_raster_sample = rasters.map(sample_region).flatten()\n",
    "    return pts_raster_sample"
   ]
  },
  {
   "cell_type": "code",
   "execution_count": 11,
   "id": "4faa1bc6-9da9-4625-bfff-5aa9654553af",
   "metadata": {},
   "outputs": [
    {
     "name": "stdout",
     "output_type": "stream",
     "text": [
      "Exporting era5_daily_sample_globalpaper_site3221_1983...\n",
      "Exporting era5_daily_sample_globalpaper_site3221_1984...\n",
      "Exporting era5_daily_sample_globalpaper_site3221_1985...\n",
      "Exporting era5_daily_sample_globalpaper_site3221_1986...\n",
      "Exporting era5_daily_sample_globalpaper_site3221_1987...\n",
      "Exporting era5_daily_sample_globalpaper_site3221_1988...\n",
      "Exporting era5_daily_sample_globalpaper_site3221_1989...\n",
      "Exporting era5_daily_sample_globalpaper_site3221_1990...\n",
      "Exporting era5_daily_sample_globalpaper_site3221_1991...\n",
      "Exporting era5_daily_sample_globalpaper_site3221_1992...\n",
      "Exporting era5_daily_sample_globalpaper_site3221_1993...\n",
      "Exporting era5_daily_sample_globalpaper_site3221_1994...\n",
      "Exporting era5_daily_sample_globalpaper_site3221_1995...\n",
      "Exporting era5_daily_sample_globalpaper_site3221_1996...\n",
      "Exporting era5_daily_sample_globalpaper_site3221_1997...\n",
      "Exporting era5_daily_sample_globalpaper_site3221_1998...\n",
      "Exporting era5_daily_sample_globalpaper_site3221_1999...\n",
      "Exporting era5_daily_sample_globalpaper_site3221_2000...\n",
      "Exporting era5_daily_sample_globalpaper_site3221_2001...\n",
      "Exporting era5_daily_sample_globalpaper_site3221_2002...\n",
      "Exporting era5_daily_sample_globalpaper_site3221_2003...\n",
      "Exporting era5_daily_sample_globalpaper_site3221_2004...\n",
      "Exporting era5_daily_sample_globalpaper_site3221_2005...\n",
      "Exporting era5_daily_sample_globalpaper_site3221_2006...\n",
      "Exporting era5_daily_sample_globalpaper_site3221_2007...\n",
      "Exporting era5_daily_sample_globalpaper_site3221_2008...\n",
      "Exporting era5_daily_sample_globalpaper_site3221_2009...\n",
      "Exporting era5_daily_sample_globalpaper_site3221_2010...\n",
      "Exporting era5_daily_sample_globalpaper_site3221_2011...\n",
      "Exporting era5_daily_sample_globalpaper_site3221_2012...\n",
      "Exporting era5_daily_sample_globalpaper_site3221_2013...\n",
      "Exporting era5_daily_sample_globalpaper_site3221_2014...\n",
      "Exporting era5_daily_sample_globalpaper_site3221_2015...\n",
      "Exporting era5_daily_sample_globalpaper_site3221_2016...\n",
      "Exporting era5_daily_sample_globalpaper_site3221_2017...\n",
      "Exporting era5_daily_sample_globalpaper_site3221_2018...\n",
      "Exporting era5_daily_sample_globalpaper_site3221_2019...\n",
      "Exporting era5_daily_sample_globalpaper_site3221_2020...\n"
     ]
    }
   ],
   "source": [
    "import numpy as np\n",
    "\n",
    "for year in np.arange(1983, 2021):\n",
    "    era5_year = ee.ImageCollection(\"ECMWF/ERA5/DAILY\").filterDate(\n",
    "        str(year) + \"-01-01\", str(year + 1) + \"-01-01\"\n",
    "    )\n",
    "    pts_era5_sample = sample_from_era5(year, pts, era5_year, 27830)\n",
    "    # export to google drive\n",
    "    geemap.ee_export_vector_to_drive(\n",
    "        ee_object=pts_era5_sample,\n",
    "        description=\"era5_daily_sample_globalpaper_site3221_\" + str(year),\n",
    "        folder=\"ERA5\",\n",
    "        file_format=\"csv\",\n",
    "        selectors=[\"new_site_i\", \"date\"] + era5_daily_bands_rename,\n",
    "    )"
   ]
  },
  {
   "cell_type": "markdown",
   "id": "103f8039-aedb-4362-8b52-88c0b696104a",
   "metadata": {},
   "source": [
    "### Sample for hourly data\n",
    "\n",
    "还是上面ERA5数据的例子，不过这里使用的是ERA5LAND的小时数据，取出某些点对应的小时尺度气象数据。"
   ]
  },
  {
   "cell_type": "code",
   "execution_count": 10,
   "id": "720e2fc2-9fcf-4c44-a83f-7b151ef45d2f",
   "metadata": {},
   "outputs": [],
   "source": [
    "year = 2000"
   ]
  },
  {
   "cell_type": "code",
   "execution_count": 9,
   "id": "15a6cac3-f07b-4700-bc6b-2e380ced1d1c",
   "metadata": {},
   "outputs": [],
   "source": [
    "chosen_bands = [\"total_precipitation_hourly\", \"total_evaporation_hourly\"]"
   ]
  },
  {
   "cell_type": "code",
   "execution_count": 11,
   "id": "0edc53bd-1422-4a7b-8fc8-ba001a5dfdc2",
   "metadata": {},
   "outputs": [],
   "source": [
    "era5_land = ee.ImageCollection(\"ECMWF/ERA5_LAND/HOURLY\").filterDate(\n",
    "    str(year) + \"-01-01\", str(year) + \"-01-03\"\n",
    ")"
   ]
  },
  {
   "cell_type": "code",
   "execution_count": 85,
   "id": "0813bb6c-a74c-4afd-9ccb-0b2ecfd2433d",
   "metadata": {},
   "outputs": [],
   "source": [
    "def era5_land_sample_region(img):\n",
    "    img_ = (\n",
    "        img.select(chosen_bands)\n",
    "        .set(\"datetime\", img.date().format(\"YYYY-MM-dd HH:mm:ss\"))\n",
    "        .set(\"timestamp\", img.get(\"system:time_start\"))\n",
    "    )\n",
    "    # Define final image property dictionary to set in output features.\n",
    "    propsFrom = ee.List([\"datetime\", \"timestamp\"])\n",
    "    imgProps = img_.toDictionary(propsFrom)\n",
    "\n",
    "    def map_set_time(f):\n",
    "        return f.set(imgProps)\n",
    "\n",
    "    return img_.sampleRegions(collection=pts, scale=11132).map(map_set_time)"
   ]
  },
  {
   "cell_type": "code",
   "execution_count": 86,
   "id": "8c32d62c-0f36-4af7-a3d5-16870954dbf6",
   "metadata": {},
   "outputs": [],
   "source": [
    "pts_era5_land_sample = era5_land.map(era5_land_sample_region).flatten()"
   ]
  },
  {
   "cell_type": "code",
   "execution_count": 87,
   "id": "4044f8f7-04b8-4a36-99d8-4d254caa672f",
   "metadata": {},
   "outputs": [
    {
     "name": "stdout",
     "output_type": "stream",
     "text": [
      "Exporting era5_land_sample_globalpaper_site3221_2000...\n"
     ]
    }
   ],
   "source": [
    "# export to google drive\n",
    "geemap.ee_export_vector_to_drive(\n",
    "    ee_object=pts_era5_land_sample,\n",
    "    description=\"era5_land_sample_globalpaper_site3221_\" + str(year),\n",
    "    folder=\"ERA5\",\n",
    "    file_format=\"csv\",\n",
    "    selectors=[\"new_site_i\", \"datetime\"] + chosen_bands,\n",
    ")"
   ]
  },
  {
   "cell_type": "markdown",
   "id": "2016245c-668c-4d66-a844-1d10aaca65cd",
   "metadata": {},
   "source": [
    "### Reduce for hourly data\n",
    "\n",
    "还是上面ERA5数据的例子，不过这里使用的是ERA5LAND的小时数据，reduce计算某些点的buffer对应的小时尺度气象数据。"
   ]
  },
  {
   "cell_type": "code",
   "execution_count": 17,
   "id": "95a98bf4-23f7-45b5-9f43-5fb540ca855d",
   "metadata": {},
   "outputs": [],
   "source": [
    "chosen_bands = [\n",
    "    \"dewpoint_temperature_2m\",\n",
    "    \"temperature_2m\",\n",
    "    \"skin_temperature\",\n",
    "    \"soil_temperature_level_1\",\n",
    "    \"soil_temperature_level_2\",\n",
    "    \"soil_temperature_level_3\",\n",
    "    \"soil_temperature_level_4\",\n",
    "    \"lake_bottom_temperature\",\n",
    "    \"lake_ice_depth\",\n",
    "    \"lake_ice_temperature\",\n",
    "    \"lake_mix_layer_depth\",\n",
    "    \"lake_shape_factor\",\n",
    "    \"lake_total_layer_temperature\",\n",
    "    \"snow_albedo\",\n",
    "    \"snow_cover\",\n",
    "    \"snow_density\",\n",
    "    \"snow_depth\",\n",
    "    \"snow_depth_water_equivalent\",\n",
    "    \"temperature_of_snow_layer\",\n",
    "    \"skin_reservoir_content\",\n",
    "    \"volumetric_soil_water_layer_1\",\n",
    "    \"volumetric_soil_water_layer_2\",\n",
    "    \"volumetric_soil_water_layer_3\",\n",
    "    \"volumetric_soil_water_layer_4\",\n",
    "    \"forecast_albedo\",\n",
    "    \"u_component_of_wind_10m\",\n",
    "    \"v_component_of_wind_10m\",\n",
    "    \"surface_pressure\",\n",
    "    \"leaf_area_index_high_vegetation\",\n",
    "    \"leaf_area_index_low_vegetation\",\n",
    "    \"snowfall_hourly\",\n",
    "    \"snowmelt_hourly\",\n",
    "    \"surface_latent_heat_flux_hourly\",\n",
    "    \"surface_net_solar_radiation_hourly\",\n",
    "    \"surface_net_thermal_radiation_hourly\",\n",
    "    \"surface_sensible_heat_flux_hourly\",\n",
    "    \"surface_solar_radiation_downwards_hourly\",\n",
    "    \"surface_thermal_radiation_downwards_hourly\",\n",
    "    \"evaporation_from_bare_soil_hourly\",\n",
    "    \"evaporation_from_open_water_surfaces_excluding_oceans_hourly\",\n",
    "    \"evaporation_from_the_top_of_canopy_hourly\",\n",
    "    \"evaporation_from_vegetation_transpiration_hourly\",\n",
    "    \"potential_evaporation_hourly\",\n",
    "    \"runoff_hourly\",\n",
    "    \"snow_evaporation_hourly\",\n",
    "    \"sub_surface_runoff_hourly\",\n",
    "    \"surface_runoff_hourly\",\n",
    "    \"total_evaporation_hourly\",\n",
    "    \"total_precipitation_hourly\",\n",
    "]"
   ]
  },
  {
   "cell_type": "code",
   "execution_count": 18,
   "id": "9d4b1c64-a728-4a96-b8a1-7fa32063d7df",
   "metadata": {},
   "outputs": [],
   "source": [
    "# Define parameters for the zonalStats function.\n",
    "params_era5_land = {\n",
    "    \"reducer\": ee.Reducer.mean(),\n",
    "    \"scale\": 11132,\n",
    "    \"crs\": \"EPSG:4326\",\n",
    "    \"bands\": chosen_bands,\n",
    "}"
   ]
  },
  {
   "cell_type": "code",
   "execution_count": 19,
   "id": "0658e0c7-637b-46d4-9731-0b2e1d4efbc6",
   "metadata": {},
   "outputs": [],
   "source": [
    "# pts_era5_land are buffers of points\n",
    "pts_era5_land = pts.map(buffer_points(30000, False))\n",
    "pts_era5_land_stats = zonal_stats(era5_land, pts_era5_land, params_era5_land);"
   ]
  },
  {
   "cell_type": "code",
   "execution_count": 20,
   "id": "ebe2d7c0-993b-4fe3-bf44-9baf708fed70",
   "metadata": {},
   "outputs": [
    {
     "name": "stdout",
     "output_type": "stream",
     "text": [
      "Exporting era5_land_reduce_globalpaper_site3221_2000...\n"
     ]
    }
   ],
   "source": [
    "# export to google drive\n",
    "geemap.ee_export_vector_to_drive(\n",
    "    ee_object=pts_era5_land_stats,\n",
    "    description=\"era5_land_reduce_globalpaper_site3221_\" + str(year),\n",
    "    folder=\"ERA5\",\n",
    "    file_format=\"csv\",\n",
    "    selectors=[\"new_site_i\", \"datetime\"] + chosen_bands,\n",
    ")"
   ]
  },
  {
   "cell_type": "code",
   "execution_count": null,
   "id": "5552784e-250b-4fb9-af76-9f7d2367a3b6",
   "metadata": {},
   "outputs": [],
   "source": []
  }
 ],
 "metadata": {
  "kernelspec": {
   "display_name": "hydroGIS",
   "language": "python",
   "name": "hydrogis"
  },
  "language_info": {
   "codemirror_mode": {
    "name": "ipython",
    "version": 3
   },
   "file_extension": ".py",
   "mimetype": "text/x-python",
   "name": "python",
   "nbconvert_exporter": "python",
   "pygments_lexer": "ipython3",
   "version": "3.9.13"
  }
 },
 "nbformat": 4,
 "nbformat_minor": 5
}
