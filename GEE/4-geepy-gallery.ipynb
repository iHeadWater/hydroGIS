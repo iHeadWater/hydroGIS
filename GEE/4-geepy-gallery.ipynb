{
 "cells": [
  {
   "cell_type": "markdown",
   "id": "0ab35a1e-d3b3-4165-b1de-1a3c7ae74f57",
   "metadata": {},
   "source": [
    "# 一些实例\n",
    "\n",
    "本文主要记录一些平常自己写的，在实际中使用的代码。"
   ]
  },
  {
   "cell_type": "markdown",
   "id": "b7d5de17-1241-4c40-b2f6-006b0389fbcc",
   "metadata": {},
   "source": [
    "## 计算流域平均气象时间序列数据\n",
    "\n",
    "这里以Daymet 2天的网格数据，CAMELS 多个流域为例，计算这些流域这两天每日的forcing数据流域平均值。\n",
    "\n",
    "因为CAMELS文件比较大，所以这里没有传到github上，需要手动从[这里](https://ral.ucar.edu/sites/default/files/public/product-tool/camels-catchment-attributes-and-meteorology-for-large-sample-studies-dataset-downloads/basin_set_full_res.zip)下载 CAMELS 的shpfile ，然后在本文件夹下创建一个large_files文件夹，并将下好的CAMELS shpfile放到其中。\n",
    "\n",
    "也可以选择上传到GEE asset上，然后直接调用。"
   ]
  },
  {
   "cell_type": "code",
   "execution_count": 1,
   "id": "fe755f65-fb89-42e7-b015-f3daf825c67c",
   "metadata": {},
   "outputs": [
    {
     "data": {
      "text/html": [
       "<p>To authorize access needed by Earth Engine, open the following\n",
       "        URL in a web browser and follow the instructions:</p>\n",
       "        <p><a href=https://accounts.google.com/o/oauth2/auth?client_id=517222506229-vsmmajv00ul0bs7p89v5m89qs8eb9359.apps.googleusercontent.com&scope=https%3A%2F%2Fwww.googleapis.com%2Fauth%2Fearthengine+https%3A%2F%2Fwww.googleapis.com%2Fauth%2Fdevstorage.full_control&redirect_uri=urn%3Aietf%3Awg%3Aoauth%3A2.0%3Aoob&response_type=code&code_challenge=Q0Xjg87fKAH6U65zhH392RK7wDoBh6oMuUYmLngXfNY&code_challenge_method=S256>https://accounts.google.com/o/oauth2/auth?client_id=517222506229-vsmmajv00ul0bs7p89v5m89qs8eb9359.apps.googleusercontent.com&scope=https%3A%2F%2Fwww.googleapis.com%2Fauth%2Fearthengine+https%3A%2F%2Fwww.googleapis.com%2Fauth%2Fdevstorage.full_control&redirect_uri=urn%3Aietf%3Awg%3Aoauth%3A2.0%3Aoob&response_type=code&code_challenge=Q0Xjg87fKAH6U65zhH392RK7wDoBh6oMuUYmLngXfNY&code_challenge_method=S256</a></p>\n",
       "        <p>The authorization workflow will generate a code, which you\n",
       "        should paste in the box below</p>\n",
       "        "
      ],
      "text/plain": [
       "<IPython.core.display.HTML object>"
      ]
     },
     "metadata": {},
     "output_type": "display_data"
    },
    {
     "name": "stdin",
     "output_type": "stream",
     "text": [
      "Enter verification code:  4/1AX4XfWgjIE6EFcTTAZrRV4fRqQWS0hrKKJknOm0LiO1nlXcWQDN7iGjXXLE\n"
     ]
    },
    {
     "name": "stdout",
     "output_type": "stream",
     "text": [
      "\n",
      "Successfully saved authorization token.\n"
     ]
    },
    {
     "data": {
      "application/vnd.jupyter.widget-view+json": {
       "model_id": "5ec62f3f29004cb1a857405fc5f9330e",
       "version_major": 2,
       "version_minor": 0
      },
      "text/plain": [
       "Map(center=[40, -100], controls=(WidgetControl(options=['position', 'transparent_bg'], widget=HBox(children=(T…"
      ]
     },
     "metadata": {},
     "output_type": "display_data"
    }
   ],
   "source": [
    "import ee\n",
    "import geemap\n",
    "Map = geemap.Map(center=[40, -100], zoom=4)\n",
    "Map"
   ]
  },
  {
   "cell_type": "code",
   "execution_count": 2,
   "id": "ffa0e75f-47a9-466d-9c21-85adfab5eafb",
   "metadata": {},
   "outputs": [],
   "source": [
    "# Add Earth Engine dataset\n",
    "daymet = ee.ImageCollection(\"NASA/ORNL/DAYMET_V4\")"
   ]
  },
  {
   "cell_type": "code",
   "execution_count": 3,
   "id": "c075e67d-42d9-468f-8d61-eb81eabf2a86",
   "metadata": {},
   "outputs": [
    {
     "data": {
      "text/plain": [
       "<ee.featurecollection.FeatureCollection at 0x1754f383c10>"
      ]
     },
     "execution_count": 3,
     "metadata": {},
     "output_type": "execute_result"
    }
   ],
   "source": [
    "# 本地文件\n",
    "# camels_shp = 'large_files/HCDN_nhru_final_671.shp'\n",
    "# camels = geemap.shp_to_ee(camels_shp)\n",
    "# 远程asset上\n",
    "camels = ee.FeatureCollection(\"users/wenyu_ouyang/HCDN_nhru_final_671\")\n",
    "camels"
   ]
  },
  {
   "cell_type": "code",
   "execution_count": 4,
   "id": "d0ba6941-bc2a-44e0-b2d4-dd2597dbbb88",
   "metadata": {},
   "outputs": [
    {
     "data": {
      "text/plain": [
       "<ee.ee_date.Date at 0x17553c1c820>"
      ]
     },
     "execution_count": 4,
     "metadata": {},
     "output_type": "execute_result"
    }
   ],
   "source": [
    "#maybe better to use Number to replace js number\n",
    "year = ee.Number(2000)\n",
    "month = ee.Number(1)\n",
    "day = ee.Number(1)\n",
    "start_date = ee.Date.fromYMD(year, month, day)\n",
    "end_date = start_date.advance(2, 'day')\n",
    "end_date"
   ]
  },
  {
   "cell_type": "code",
   "execution_count": 5,
   "id": "acedeab7-be74-4a3e-8ab8-4ade22333ac9",
   "metadata": {},
   "outputs": [],
   "source": [
    "days_num = end_date.difference(start_date, 'day')\n",
    "# count day from zero, and ee.List.sequence is a closed interval\n",
    "days = ee.List.sequence(ee.Number(0),days_num.add(-1))\n",
    "# get Imagecollection and filter, choose two days for test\n",
    "daymet_days = daymet.filter(ee.Filter.date(start_date, end_date))\n",
    "\n",
    "# show maximumTemperature, just for test\n",
    "maximumTemperature = daymet_days.select('tmax')\n",
    "maximumTemperatureVis = {\n",
    "  'min': -40.0,\n",
    "  'max': 30.0,\n",
    "  'palette': ['1621A2', 'white', 'cyan', 'green', 'yellow', 'orange', 'red'],\n",
    "}\n",
    "Map.setCenter(-110.21, 35.1, 4)\n",
    "Map.addLayer(maximumTemperature, maximumTemperatureVis, 'Maximum Temperature')"
   ]
  },
  {
   "cell_type": "code",
   "execution_count": 8,
   "id": "13a0a2dc-04af-4ce2-89ab-047e93afd9e0",
   "metadata": {},
   "outputs": [],
   "source": [
    "def nestedMappedReducer(featCol, imgCol):\n",
    "    def mapReducerOverImgCol(feat):\n",
    "        def imgReducer(img):\n",
    "            vals = img.reduceRegion(\n",
    "                reducer = ee.Reducer.mean(),\n",
    "                geometry = feat.geometry(),\n",
    "                scale = 1000\n",
    "            )\n",
    "            return ee.Feature(None, vals).set({\n",
    "                \"system:time_start\": img.get(\"system:time_start\"),\n",
    "                \"hru_id\" : feat.get(\"hru_id\")\n",
    "            })\n",
    "        return imgCol.map(imgReducer);\n",
    "    return featCol.map(mapReducerOverImgCol).flatten()"
   ]
  },
  {
   "cell_type": "markdown",
   "id": "6aabd211-2b54-46cd-8f81-59b440fe43ea",
   "metadata": {},
   "source": [
    "执行函数并导出到 google drive，这样本地可以关闭，远程也在运行了，很适合较长时间的计算。"
   ]
  },
  {
   "cell_type": "code",
   "execution_count": 9,
   "id": "a5a7f27e-2e80-4296-a201-c354a5de621d",
   "metadata": {},
   "outputs": [
    {
     "name": "stdout",
     "output_type": "stream",
     "text": [
      "Exporting daymet_camels_mean_20000101-02new...\n"
     ]
    }
   ],
   "source": [
    "daymet_regions = nestedMappedReducer(camels, daymet_days)\n",
    "#export to google drive\n",
    "geemap.ee_export_vector_to_drive(\n",
    "    ee_object=daymet_regions, description=\"daymet_camels_mean_20000101-02new\", folder=\"export\", file_format=\"csv\", \n",
    "    selectors=[\"hru_id\",\"system:time_start\",\"dayl\",\"prcp\",\"srad\",\"swe\",\"tmax\",\"tmin\",\"vp\"]\n",
    ")"
   ]
  },
  {
   "cell_type": "markdown",
   "id": "2cc39b02-671c-4e99-99aa-d63b681e35d1",
   "metadata": {},
   "source": [
    "来自GEE的建议，使用reduceRegions可能比reduceRegion更快一些，但是这里不方便设置每个feature的time_start和hru_id，应该还是需要对featurecollection加一个map函数，所以暂时就不尝试了。\n",
    "\n",
    "```Javascript\n",
    "results = daymet_days.map(function(img) {\n",
    "    return img.reduceRegions({\n",
    "        ...\n",
    "    });\n",
    "});\n",
    "```\n",
    "\n",
    "上面给出的是JS代码，关于map和reduce，尤其是嵌套的js代码转python代码，可以参考这里：https://gis.stackexchange.com/questions/365121/how-to-nest-mapped-functions-with-the-earth-engine-python-api"
   ]
  },
  {
   "cell_type": "markdown",
   "id": "3157c437-3d31-42c2-8740-e51117392636",
   "metadata": {},
   "source": [
    "## 小时尺度气象数据平均到日尺度\n",
    "\n",
    "这里以NLDAS数据为例，将shpfile中的小时尺度数据均化到日尺度。shpfile可以仍选择CAMELS，这里使用了自己生成的，生成过程请参考 AutoGIS/9.1-gallery-vector.ipynb 中例五，这里直接使用结果得到的shpfile了，我已经将其上传至自己的GEE上了，所以就不使用本地的了。"
   ]
  },
  {
   "cell_type": "code",
   "execution_count": 27,
   "id": "f5b19734-69ac-40c2-90d9-bf291f7f642d",
   "metadata": {},
   "outputs": [
    {
     "data": {
      "application/vnd.jupyter.widget-view+json": {
       "model_id": "fab2f01da5bd4112b00859b7de2c1dac",
       "version_major": 2,
       "version_minor": 0
      },
      "text/plain": [
       "Map(center=[40, -100], controls=(WidgetControl(options=['position', 'transparent_bg'], widget=HBox(children=(T…"
      ]
     },
     "metadata": {},
     "output_type": "display_data"
    }
   ],
   "source": [
    "import ee\n",
    "import geemap\n",
    "Map = geemap.Map(center=[40, -100], zoom=4)\n",
    "Map"
   ]
  },
  {
   "cell_type": "code",
   "execution_count": 2,
   "id": "83c4bdfa-5e49-4f04-89ac-213568fdff44",
   "metadata": {},
   "outputs": [],
   "source": [
    "# Add Earth Engine dataset\n",
    "nldas = ee.ImageCollection(\"NASA/NLDAS/FORA0125_H002\")"
   ]
  },
  {
   "cell_type": "code",
   "execution_count": 3,
   "id": "a5580152-56f6-4c0d-b35a-e7d51bd3b5a4",
   "metadata": {},
   "outputs": [
    {
     "data": {
      "text/plain": [
       "<ee.featurecollection.FeatureCollection at 0x19354e6d7c0>"
      ]
     },
     "execution_count": 3,
     "metadata": {},
     "output_type": "execute_result"
    }
   ],
   "source": [
    "# 远程asset上\n",
    "shpfiles = ee.FeatureCollection(\"users/wenyu_ouyang/site_nobs_DO\")\n",
    "shpfiles"
   ]
  },
  {
   "cell_type": "code",
   "execution_count": 4,
   "id": "48aac993-5e94-4802-81a0-25931e2d2392",
   "metadata": {},
   "outputs": [
    {
     "data": {
      "text/plain": [
       "<ee.ee_date.Date at 0x19354e56a60>"
      ]
     },
     "execution_count": 4,
     "metadata": {},
     "output_type": "execute_result"
    }
   ],
   "source": [
    "year = ee.Number(2000)\n",
    "month = ee.Number(1)\n",
    "day = ee.Number(1)\n",
    "start_date = ee.Date.fromYMD(year, month, day)\n",
    "end_date = start_date.advance(2, 'day')\n",
    "end_date"
   ]
  },
  {
   "cell_type": "code",
   "execution_count": 8,
   "id": "793e32ec-705b-47be-9474-3fad041e2bad",
   "metadata": {},
   "outputs": [],
   "source": [
    "days_num = end_date.difference(start_date, 'day')\n",
    "# count day from zero, and ee.List.sequence is a closed interval\n",
    "days = ee.List.sequence(ee.Number(0),days_num.add(-1))\n",
    "# get Imagecollection and filter, choose two days for test\n",
    "nldas_2d = nldas.filter(ee.Filter.date(start_date, end_date))\n",
    "\n",
    "# show temperature, just for test\n",
    "temperature = nldas_2d.select('temperature');\n",
    "temperatureVis = {\n",
    "  'min': -5.0,\n",
    "  'max': 40.0,\n",
    "  'palette': ['3d2bd8', '4e86da', '62c7d8', '91ed90', 'e4f178', 'ed6a4c'],\n",
    "};\n",
    "Map.addLayer(temperature, temperatureVis, 'Temperature')\n",
    "# 查看上面的地图"
   ]
  },
  {
   "cell_type": "code",
   "execution_count": 11,
   "id": "b394b8f0-2cca-475e-a6fc-fddf8d976525",
   "metadata": {},
   "outputs": [
    {
     "data": {
      "text/plain": [
       "<ee.imagecollection.ImageCollection at 0x19354de5a60>"
      ]
     },
     "execution_count": 11,
     "metadata": {},
     "output_type": "execute_result"
    }
   ],
   "source": [
    "# forcing variables that will be calculated for its avg\n",
    "avg_forcings=nldas_2d.select('temperature','specific_humidity','pressure','wind_u','wind_v','longwave_radiation','shortwave_radiation')\n",
    "avg_forcings.limit(2)"
   ]
  },
  {
   "cell_type": "code",
   "execution_count": 12,
   "id": "49e4924b-4fbb-4a28-a93e-ec54905a05ad",
   "metadata": {},
   "outputs": [
    {
     "data": {
      "text/plain": [
       "<ee.imagecollection.ImageCollection at 0x19355024880>"
      ]
     },
     "execution_count": 12,
     "metadata": {},
     "output_type": "execute_result"
    }
   ],
   "source": [
    "# forcing variables that will be calculated for its sum\n",
    "sum_forcings=nldas_2d.select('potential_energy','potential_evaporation','total_precipitation')\n",
    "sum_forcings.limit(2)"
   ]
  },
  {
   "cell_type": "code",
   "execution_count": 22,
   "id": "a3d8bf51-2aaf-41d0-8b27-d14c0f5ab8e5",
   "metadata": {},
   "outputs": [],
   "source": [
    "def daysMapImgsAvgReduce(dayCol, imgCol, start_day):\n",
    "    def dayAvgReducerOverImgCol(oneDay):\n",
    "        start = start_day.advance(ee.Number(oneDay), 'day');\n",
    "        end = start_day.advance(ee.Number(oneDay).add(ee.Number(1)), 'day');\n",
    "        return imgCol.filter(ee.Filter.date(start,end)).reduce(ee.Reducer.mean()).set({\n",
    "            'day_of_all_years': oneDay\n",
    "        })\n",
    "    return dayCol.map(dayAvgReducerOverImgCol)"
   ]
  },
  {
   "cell_type": "code",
   "execution_count": 24,
   "id": "49bc1aac-e2b2-4594-9058-037258be6fa3",
   "metadata": {},
   "outputs": [],
   "source": [
    "avg_days = ee.ImageCollection(daysMapImgsAvgReduce(days, avg_forcings, start_date))"
   ]
  },
  {
   "cell_type": "code",
   "execution_count": 23,
   "id": "848dcffa-2cb7-4ed6-a063-08ad37e33f4d",
   "metadata": {},
   "outputs": [],
   "source": [
    "def daysMapImgsSumReduce(dayCol, imgCol, start_day):\n",
    "    def daySumReducerOverImgCol(oneDay):\n",
    "        start = start_day.advance(ee.Number(oneDay), 'day');\n",
    "        end = start_day.advance(ee.Number(oneDay).add(ee.Number(1)), 'day');\n",
    "        return imgCol.filter(ee.Filter.date(start,end)).reduce(ee.Reducer.sum()).set({\n",
    "            'day_of_all_years': day\n",
    "        })\n",
    "    return dayCol.map(daySumReducerOverImgCol)"
   ]
  },
  {
   "cell_type": "code",
   "execution_count": 25,
   "id": "c4a47c2c-340a-4703-b4bb-d77c44b50b6e",
   "metadata": {},
   "outputs": [],
   "source": [
    "sum_days =  ee.ImageCollection(daysMapImgsSumReduce(days, sum_forcings, start_date))"
   ]
  },
  {
   "cell_type": "code",
   "execution_count": 28,
   "id": "11b69c46-49e9-4afe-80f5-868a3a2899bd",
   "metadata": {},
   "outputs": [],
   "source": [
    "# show avg temperature of all days, just for test\n",
    "tmpr_avg = avg_days.select('temperature_mean').reduce(ee.Reducer.mean())\n",
    "temperature_avg = tmpr_avg.select('temperature_mean_mean')\n",
    "Map.addLayer(temperature_avg, temperatureVis, 'Temperature_2d_avg')"
   ]
  },
  {
   "cell_type": "markdown",
   "id": "356a5b9f-cac5-4c5d-9103-51a89165ba56",
   "metadata": {},
   "source": [
    "最后求一下流域平均："
   ]
  },
  {
   "cell_type": "code",
   "execution_count": 29,
   "id": "353a1038-7ed4-4756-bdbc-0dcab67dabdc",
   "metadata": {},
   "outputs": [],
   "source": [
    "def nestedMappedReducerNldas(featCol, imgCol, scaleNum):\n",
    "    def mapReducerOverImgColNldas(feat):\n",
    "        def imgReducerNldas(img):\n",
    "            vals = img.reduceRegion(\n",
    "                reducer = ee.Reducer.mean(),\n",
    "                geometry = feat.geometry(),\n",
    "                scale = scaleNum\n",
    "            )\n",
    "            return ee.Feature(None, vals).set({\n",
    "                \"time_start\": img.get(\"day_of_all_years\"),\n",
    "                \"gage_id\" : feat.get(\"GAGE_ID\")\n",
    "            })\n",
    "        return imgCol.map(imgReducerNldas);\n",
    "    return featCol.map(mapReducerOverImgColNldas).flatten()"
   ]
  },
  {
   "cell_type": "code",
   "execution_count": 30,
   "id": "46b33a44-cbea-417b-b050-d3b98bf1cfe4",
   "metadata": {},
   "outputs": [
    {
     "name": "stdout",
     "output_type": "stream",
     "text": [
      "Exporting nldas_do_mean_20000101-02...\n"
     ]
    }
   ],
   "source": [
    "# 0.125 degree approximately equals to 13875m\n",
    "avg_day_regions = nestedMappedReducerNldas(shpfiles, avg_days, 13875)\n",
    "#export to google drive\n",
    "geemap.ee_export_vector_to_drive(\n",
    "    ee_object=avg_day_regions, description=\"nldas_do_mean_20000101-02\", folder=\"export\", file_format=\"csv\", \n",
    "    selectors=[\"gage_id\",\"time_start\",\"temperature_mean\",\"specific_humidity_mean\",\"pressure_mean\",\"wind_u_mean\",\"wind_v_mean\",\"longwave_radiation_mean\",\"shortwave_radiation_mean\"]\n",
    ")"
   ]
  },
  {
   "cell_type": "code",
   "execution_count": 31,
   "id": "ade343f2-f323-4a69-8b5f-7c24aede6061",
   "metadata": {},
   "outputs": [
    {
     "name": "stdout",
     "output_type": "stream",
     "text": [
      "Exporting nldas_do4sum_mean_20000101-02...\n"
     ]
    }
   ],
   "source": [
    "avg_day_regions_4sum = nestedMappedReducerNldas(shpfiles, sum_days, 13875)\n",
    "#export to google drive\n",
    "geemap.ee_export_vector_to_drive(\n",
    "    ee_object=avg_day_regions_4sum, description=\"nldas_do4sum_mean_20000101-02\", folder=\"export\", file_format=\"csv\", \n",
    "    selectors=[\"gage_id\",\"time_start\",\"potential_energy_sum\",\"potential_evaporation_sum\",\"total_precipitation_sum\"]\n",
    ")"
   ]
  },
  {
   "cell_type": "markdown",
   "id": "2a14f51d-6731-4eb1-b489-74a0c586f442",
   "metadata": {},
   "source": [
    "下面是一个整合的一年计算的实例供实际使用："
   ]
  },
  {
   "cell_type": "code",
   "execution_count": 36,
   "id": "201ccd9a-13e7-4e9e-8629-13de56768172",
   "metadata": {},
   "outputs": [
    {
     "name": "stdout",
     "output_type": "stream",
     "text": [
      "Exporting nldas_do_avg_mean_1980...\n",
      "Exporting nldas_do_sum_mean_1980...\n"
     ]
    }
   ],
   "source": [
    "import ee\n",
    "import geemap\n",
    "year_num = 1980\n",
    "year = ee.Number(year_num)\n",
    "month = ee.Number(1)\n",
    "day = ee.Number(1)\n",
    "start_date = ee.Date.fromYMD(year, month, day)\n",
    "end_date = start_date.advance(1, 'year')\n",
    "days_num = end_date.difference(start_date, 'day')\n",
    "days = ee.List.sequence(ee.Number(0),days_num.add(-1))\n",
    "\n",
    "nldas = ee.ImageCollection(\"NASA/NLDAS/FORA0125_H002\")\n",
    "shpfiles = ee.FeatureCollection(\"users/wenyu_ouyang/site_nobs_DO\")\n",
    "\n",
    "nldas_days = nldas.filter(ee.Filter.date(start_date, end_date))\n",
    "avg_forcings=nldas_days.select('temperature','specific_humidity','pressure','wind_u','wind_v','longwave_radiation','convective_fraction','shortwave_radiation')\n",
    "sum_forcings=nldas_days.select('potential_energy','potential_evaporation','total_precipitation')\n",
    "avg_days = ee.ImageCollection(daysMapImgsAvgReduce(days, avg_forcings, start_date))\n",
    "sum_days =  ee.ImageCollection(daysMapImgsSumReduce(days, sum_forcings, start_date))\n",
    "# 0.125 degree approximately equals to 13875m\n",
    "avg_day_regions = nestedMappedReducerNldas(shpfiles, avg_days, 13875)\n",
    "#export to google drive\n",
    "geemap.ee_export_vector_to_drive(\n",
    "    ee_object=avg_day_regions, description=\"nldas_do_avg_mean_\" + str(year_num), folder=\"NLDAS\", file_format=\"csv\", \n",
    "    selectors=[\"gage_id\",\"time_start\",\"temperature_mean\",\"specific_humidity_mean\",\"pressure_mean\",\"wind_u_mean\",\"wind_v_mean\",\"longwave_radiation_mean\",\"convective_fraction_mean\",\"shortwave_radiation_mean\"]\n",
    ")\n",
    "avg_day_regions_4sum = nestedMappedReducerNldas(shpfiles, sum_days, 13875)\n",
    "#export to google drive\n",
    "geemap.ee_export_vector_to_drive(\n",
    "    ee_object=avg_day_regions_4sum, description=\"nldas_do_sum_mean_\" + str(year_num), folder=\"NLDAS\", file_format=\"csv\", \n",
    "    selectors=[\"gage_id\",\"time_start\",\"potential_energy_sum\",\"potential_evaporation_sum\",\"total_precipitation_sum\"]\n",
    ")"
   ]
  },
  {
   "cell_type": "markdown",
   "id": "d6d8cfc6-1129-4642-aa8d-7fab8bb29702",
   "metadata": {},
   "source": [
    "上面这个完整实例在GEE中运行时间很长，如果不想让其运行，在GEE中手动终止任务即可。"
   ]
  }
 ],
 "metadata": {
  "kernelspec": {
   "display_name": "Python 3 (ipykernel)",
   "language": "python",
   "name": "python3"
  },
  "language_info": {
   "codemirror_mode": {
    "name": "ipython",
    "version": 3
   },
   "file_extension": ".py",
   "mimetype": "text/x-python",
   "name": "python",
   "nbconvert_exporter": "python",
   "pygments_lexer": "ipython3",
   "version": "3.8.10"
  }
 },
 "nbformat": 4,
 "nbformat_minor": 5
}
