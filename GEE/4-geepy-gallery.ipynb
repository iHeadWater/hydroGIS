{
 "cells": [
  {
   "cell_type": "markdown",
   "id": "0ab35a1e-d3b3-4165-b1de-1a3c7ae74f57",
   "metadata": {},
   "source": [
    "# 一些实例\n",
    "\n",
    "本文主要记录一些平常自己写的，在实际中使用的代码。"
   ]
  },
  {
   "cell_type": "markdown",
   "id": "b7d5de17-1241-4c40-b2f6-006b0389fbcc",
   "metadata": {},
   "source": [
    "## 计算流域平均气象时间序列数据\n",
    "\n",
    "这里以Daymet 2天的网格数据，CAMELS 多个流域为例，计算这些流域这两天每日的forcing数据流域平均值。\n",
    "\n",
    "因为CAMELS文件比较大，所以这里没有传到github上，需要手动从[这里](https://ral.ucar.edu/sites/default/files/public/product-tool/camels-catchment-attributes-and-meteorology-for-large-sample-studies-dataset-downloads/basin_set_full_res.zip)下载 CAMELS 的shpfile ，然后在本文件夹下创建一个large_files文件夹，并将下好的CAMELS shpfile放到其中。\n",
    "\n",
    "也可以选择上传到GEE asset上，然后直接调用。"
   ]
  },
  {
   "cell_type": "code",
   "execution_count": 1,
   "id": "fe755f65-fb89-42e7-b015-f3daf825c67c",
   "metadata": {},
   "outputs": [
    {
     "data": {
      "application/vnd.jupyter.widget-view+json": {
       "model_id": "e1d6be22855b48b78d5ecd9111b25f41",
       "version_major": 2,
       "version_minor": 0
      },
      "text/plain": [
       "Map(center=[40, -100], controls=(WidgetControl(options=['position', 'transparent_bg'], widget=HBox(children=(T…"
      ]
     },
     "metadata": {},
     "output_type": "display_data"
    }
   ],
   "source": [
    "import ee\n",
    "import geemap\n",
    "\n",
    "Map = geemap.Map(center=[40, -100], zoom=4)\n",
    "Map"
   ]
  },
  {
   "cell_type": "code",
   "execution_count": 2,
   "id": "ffa0e75f-47a9-466d-9c21-85adfab5eafb",
   "metadata": {},
   "outputs": [],
   "source": [
    "# Add Earth Engine dataset\n",
    "daymet = ee.ImageCollection(\"NASA/ORNL/DAYMET_V4\")"
   ]
  },
  {
   "cell_type": "code",
   "execution_count": 3,
   "id": "c075e67d-42d9-468f-8d61-eb81eabf2a86",
   "metadata": {},
   "outputs": [
    {
     "data": {
      "text/plain": [
       "<ee.featurecollection.FeatureCollection at 0x2a3a35d3040>"
      ]
     },
     "execution_count": 3,
     "metadata": {},
     "output_type": "execute_result"
    }
   ],
   "source": [
    "# 本地文件\n",
    "# camels_shp = 'large_files/HCDN_nhru_final_671.shp'\n",
    "# camels = geemap.shp_to_ee(camels_shp)\n",
    "# 远程asset上\n",
    "camels = ee.FeatureCollection(\"users/wenyu_ouyang/Camels/HCDN_nhru_final_671\")\n",
    "camels"
   ]
  },
  {
   "cell_type": "code",
   "execution_count": 4,
   "id": "d0ba6941-bc2a-44e0-b2d4-dd2597dbbb88",
   "metadata": {},
   "outputs": [
    {
     "data": {
      "text/plain": [
       "<ee.ee_date.Date at 0x2a3a94c3640>"
      ]
     },
     "execution_count": 4,
     "metadata": {},
     "output_type": "execute_result"
    }
   ],
   "source": [
    "# maybe better to use Number to replace js number\n",
    "year = ee.Number(2000)\n",
    "month = ee.Number(1)\n",
    "day = ee.Number(1)\n",
    "start_date = ee.Date.fromYMD(year, month, day)\n",
    "end_date = start_date.advance(2, \"day\")\n",
    "end_date"
   ]
  },
  {
   "cell_type": "code",
   "execution_count": 5,
   "id": "acedeab7-be74-4a3e-8ab8-4ade22333ac9",
   "metadata": {},
   "outputs": [],
   "source": [
    "days_num = end_date.difference(start_date, \"day\")\n",
    "# count day from zero, and ee.List.sequence is a closed interval\n",
    "days = ee.List.sequence(ee.Number(0), days_num.add(-1))\n",
    "# get Imagecollection and filter, choose two days for test\n",
    "daymet_days = daymet.filter(ee.Filter.date(start_date, end_date))\n",
    "\n",
    "# show maximumTemperature, just for test\n",
    "maximumTemperature = daymet_days.select(\"tmax\")\n",
    "maximumTemperatureVis = {\n",
    "    \"min\": -40.0,\n",
    "    \"max\": 30.0,\n",
    "    \"palette\": [\"1621A2\", \"white\", \"cyan\", \"green\", \"yellow\", \"orange\", \"red\"],\n",
    "}\n",
    "Map.setCenter(-110.21, 35.1, 4)\n",
    "Map.addLayer(maximumTemperature, maximumTemperatureVis, \"Maximum Temperature\")"
   ]
  },
  {
   "cell_type": "code",
   "execution_count": 6,
   "id": "13a0a2dc-04af-4ce2-89ab-047e93afd9e0",
   "metadata": {},
   "outputs": [],
   "source": [
    "def nestedMappedReducer(featCol, imgCol):\n",
    "    def mapReducerOverImgCol(feat):\n",
    "        def imgReducer(img):\n",
    "            vals = img.reduceRegion(\n",
    "                reducer=ee.Reducer.mean(), geometry=feat.geometry(), scale=1000\n",
    "            )\n",
    "            return ee.Feature(None, vals).set(\n",
    "                {\n",
    "                    \"system:time_start\": img.get(\"system:time_start\"),\n",
    "                    \"hru_id\": feat.get(\"hru_id\"),\n",
    "                }\n",
    "            )\n",
    "\n",
    "        return imgCol.map(imgReducer)\n",
    "\n",
    "    return featCol.map(mapReducerOverImgCol).flatten()"
   ]
  },
  {
   "cell_type": "markdown",
   "id": "6aabd211-2b54-46cd-8f81-59b440fe43ea",
   "metadata": {},
   "source": [
    "执行函数并导出到 google drive，这样本地可以关闭，远程也在运行了，很适合较长时间的计算。"
   ]
  },
  {
   "cell_type": "code",
   "execution_count": 9,
   "id": "a5a7f27e-2e80-4296-a201-c354a5de621d",
   "metadata": {},
   "outputs": [
    {
     "name": "stdout",
     "output_type": "stream",
     "text": [
      "Exporting daymet_camels_mean_20000101-02new... Please check the Task Manager from the JavaScript Code Editor.\n"
     ]
    }
   ],
   "source": [
    "daymet_regions = nestedMappedReducer(camels, daymet_days)\n",
    "# export to google drive\n",
    "geemap.ee_export_vector_to_drive(\n",
    "    daymet_regions,\n",
    "    description=\"daymet_camels_mean_20000101-02new\",\n",
    "    folder=\"export\",\n",
    "    # before geemap version 0.15, the argument of fileForamt is \"file_format\" after 0.16 it is fileFormat\n",
    "    fileFormat=\"csv\",\n",
    "    selectors=[\n",
    "        \"hru_id\",\n",
    "        \"system:time_start\",\n",
    "        \"dayl\",\n",
    "        \"prcp\",\n",
    "        \"srad\",\n",
    "        \"swe\",\n",
    "        \"tmax\",\n",
    "        \"tmin\",\n",
    "        \"vp\",\n",
    "    ],\n",
    ")"
   ]
  },
  {
   "cell_type": "markdown",
   "id": "2cc39b02-671c-4e99-99aa-d63b681e35d1",
   "metadata": {},
   "source": [
    "来自GEE的建议，使用reduceRegions可能比reduceRegion更快一些，但是这里不方便设置每个feature的time_start和hru_id，应该还是需要对featurecollection加一个map函数，所以暂时就不尝试了。\n",
    "\n",
    "```Javascript\n",
    "results = daymet_days.map(function(img) {\n",
    "    return img.reduceRegions({\n",
    "        ...\n",
    "    });\n",
    "});\n",
    "```\n",
    "\n",
    "上面给出的是JS代码，关于map和reduce，尤其是嵌套的js代码转python代码，可以参考这里：https://gis.stackexchange.com/questions/365121/how-to-nest-mapped-functions-with-the-earth-engine-python-api"
   ]
  },
  {
   "cell_type": "markdown",
   "id": "3157c437-3d31-42c2-8740-e51117392636",
   "metadata": {},
   "source": [
    "## 小时尺度气象数据平均到日尺度\n",
    "\n",
    "这里以NLDAS数据为例，将shpfile中的小时尺度数据均化到日尺度。shpfile可以仍选择CAMELS，这里使用了自己生成的，生成过程请参考 AutoGIS/9.1-gallery-vector.ipynb 中例五，这里直接使用结果得到的shpfile了，我已经将其上传至自己的GEE上了，所以就不使用本地的了。"
   ]
  },
  {
   "cell_type": "code",
   "execution_count": 1,
   "id": "f5b19734-69ac-40c2-90d9-bf291f7f642d",
   "metadata": {},
   "outputs": [
    {
     "data": {
      "application/vnd.jupyter.widget-view+json": {
       "model_id": "60af1c77e5c549fd81e55ee59f2357c7",
       "version_major": 2,
       "version_minor": 0
      },
      "text/plain": [
       "Map(center=[40, -100], controls=(WidgetControl(options=['position', 'transparent_bg'], widget=HBox(children=(T…"
      ]
     },
     "metadata": {},
     "output_type": "display_data"
    }
   ],
   "source": [
    "import ee\n",
    "import geemap\n",
    "\n",
    "Map = geemap.Map(center=[40, -100], zoom=4)\n",
    "Map"
   ]
  },
  {
   "cell_type": "code",
   "execution_count": 2,
   "id": "83c4bdfa-5e49-4f04-89ac-213568fdff44",
   "metadata": {},
   "outputs": [],
   "source": [
    "# Add Earth Engine dataset\n",
    "nldas = ee.ImageCollection(\"NASA/NLDAS/FORA0125_H002\")"
   ]
  },
  {
   "cell_type": "code",
   "execution_count": 3,
   "id": "a5580152-56f6-4c0d-b35a-e7d51bd3b5a4",
   "metadata": {},
   "outputs": [
    {
     "data": {
      "text/plain": [
       "<ee.featurecollection.FeatureCollection at 0x7f1a1e07fd30>"
      ]
     },
     "execution_count": 3,
     "metadata": {},
     "output_type": "execute_result"
    }
   ],
   "source": [
    "# 远程asset上\n",
    "shpfiles = ee.FeatureCollection(\"users/wenyu_ouyang/site_nobs_DO\")\n",
    "shpfiles"
   ]
  },
  {
   "cell_type": "code",
   "execution_count": 4,
   "id": "48aac993-5e94-4802-81a0-25931e2d2392",
   "metadata": {
    "tags": []
   },
   "outputs": [
    {
     "data": {
      "text/plain": [
       "<ee.ee_date.Date at 0x7f1a1e07f7f0>"
      ]
     },
     "execution_count": 4,
     "metadata": {},
     "output_type": "execute_result"
    }
   ],
   "source": [
    "year = ee.Number(2000)\n",
    "month = ee.Number(1)\n",
    "day = ee.Number(1)\n",
    "start_date = ee.Date.fromYMD(year, month, day)\n",
    "end_date = start_date.advance(2, \"day\")\n",
    "end_date"
   ]
  },
  {
   "cell_type": "code",
   "execution_count": 5,
   "id": "793e32ec-705b-47be-9474-3fad041e2bad",
   "metadata": {},
   "outputs": [],
   "source": [
    "days_num = end_date.difference(start_date, \"day\")\n",
    "# count day from zero, and ee.List.sequence is a closed interval\n",
    "days = ee.List.sequence(ee.Number(0), days_num.add(-1))\n",
    "# get Imagecollection and filter, choose two days for test\n",
    "nldas_2d = nldas.filter(ee.Filter.date(start_date, end_date))\n",
    "\n",
    "# show temperature, just for test\n",
    "temperature = nldas_2d.select(\"temperature\")\n",
    "temperatureVis = {\n",
    "    \"min\": -5.0,\n",
    "    \"max\": 40.0,\n",
    "    \"palette\": [\"3d2bd8\", \"4e86da\", \"62c7d8\", \"91ed90\", \"e4f178\", \"ed6a4c\"],\n",
    "}\n",
    "Map.addLayer(temperature, temperatureVis, \"Temperature\")\n",
    "# 查看上面的地图"
   ]
  },
  {
   "cell_type": "code",
   "execution_count": 6,
   "id": "b394b8f0-2cca-475e-a6fc-fddf8d976525",
   "metadata": {},
   "outputs": [
    {
     "data": {
      "text/plain": [
       "<ee.imagecollection.ImageCollection at 0x7f1a88137e20>"
      ]
     },
     "execution_count": 6,
     "metadata": {},
     "output_type": "execute_result"
    }
   ],
   "source": [
    "# forcing variables that will be calculated for its avg\n",
    "avg_forcings = nldas_2d.select(\n",
    "    \"temperature\",\n",
    "    \"specific_humidity\",\n",
    "    \"pressure\",\n",
    "    \"wind_u\",\n",
    "    \"wind_v\",\n",
    "    \"longwave_radiation\",\n",
    "    \"convective_fraction\",\n",
    "    \"shortwave_radiation\",\n",
    ")\n",
    "avg_forcings.limit(2)"
   ]
  },
  {
   "cell_type": "code",
   "execution_count": 7,
   "id": "49e4924b-4fbb-4a28-a93e-ec54905a05ad",
   "metadata": {},
   "outputs": [
    {
     "data": {
      "text/plain": [
       "<ee.imagecollection.ImageCollection at 0x7f1a8812dd60>"
      ]
     },
     "execution_count": 7,
     "metadata": {},
     "output_type": "execute_result"
    }
   ],
   "source": [
    "# forcing variables that will be calculated for its sum\n",
    "sum_forcings = nldas_2d.select(\n",
    "    \"potential_energy\", \"potential_evaporation\", \"total_precipitation\"\n",
    ")\n",
    "sum_forcings.limit(2)"
   ]
  },
  {
   "cell_type": "code",
   "execution_count": 8,
   "id": "a3d8bf51-2aaf-41d0-8b27-d14c0f5ab8e5",
   "metadata": {},
   "outputs": [],
   "source": [
    "def daysMapImgsAvgReduce(dayCol, imgCol, start_day):\n",
    "    def dayAvgReducerOverImgCol(oneDay):\n",
    "        start = start_day.advance(ee.Number(oneDay), \"day\")\n",
    "        end = start_day.advance(ee.Number(oneDay).add(ee.Number(1)), \"day\")\n",
    "        return (\n",
    "            imgCol.filter(ee.Filter.date(start, end))\n",
    "            .reduce(ee.Reducer.mean())\n",
    "            .set({\"day_of_all_years\": start_day.advance(oneDay, \"day\")})\n",
    "        )\n",
    "\n",
    "    return dayCol.map(dayAvgReducerOverImgCol)"
   ]
  },
  {
   "cell_type": "code",
   "execution_count": 9,
   "id": "49bc1aac-e2b2-4594-9058-037258be6fa3",
   "metadata": {},
   "outputs": [],
   "source": [
    "avg_days = ee.ImageCollection(daysMapImgsAvgReduce(days, avg_forcings, start_date))"
   ]
  },
  {
   "cell_type": "code",
   "execution_count": 10,
   "id": "848dcffa-2cb7-4ed6-a063-08ad37e33f4d",
   "metadata": {},
   "outputs": [],
   "source": [
    "def daysMapImgsSumReduce(dayCol, imgCol, start_day):\n",
    "    def daySumReducerOverImgCol(oneDay):\n",
    "        start = start_day.advance(ee.Number(oneDay), \"day\")\n",
    "        end = start_day.advance(ee.Number(oneDay).add(ee.Number(1)), \"day\")\n",
    "        return (\n",
    "            imgCol.filter(ee.Filter.date(start, end))\n",
    "            .reduce(ee.Reducer.sum())\n",
    "            .set({\"day_of_all_years\": start_day.advance(oneDay, \"day\")})\n",
    "        )\n",
    "\n",
    "    return dayCol.map(daySumReducerOverImgCol)"
   ]
  },
  {
   "cell_type": "code",
   "execution_count": 11,
   "id": "c4a47c2c-340a-4703-b4bb-d77c44b50b6e",
   "metadata": {},
   "outputs": [],
   "source": [
    "sum_days = ee.ImageCollection(daysMapImgsSumReduce(days, sum_forcings, start_date))"
   ]
  },
  {
   "cell_type": "code",
   "execution_count": 12,
   "id": "11b69c46-49e9-4afe-80f5-868a3a2899bd",
   "metadata": {},
   "outputs": [],
   "source": [
    "# show avg temperature of all days, just for test\n",
    "tmpr_avg = avg_days.select(\"temperature_mean\").reduce(ee.Reducer.mean())\n",
    "temperature_avg = tmpr_avg.select(\"temperature_mean_mean\")\n",
    "Map.addLayer(temperature_avg, temperatureVis, \"Temperature_2d_avg\")"
   ]
  },
  {
   "cell_type": "markdown",
   "id": "356a5b9f-cac5-4c5d-9103-51a89165ba56",
   "metadata": {},
   "source": [
    "最后求一下流域平均："
   ]
  },
  {
   "cell_type": "code",
   "execution_count": 13,
   "id": "353a1038-7ed4-4756-bdbc-0dcab67dabdc",
   "metadata": {},
   "outputs": [],
   "source": [
    "def nestedMappedReducerNldas(featCol, imgCol, scaleNum):\n",
    "    def mapReducerOverImgColNldas(feat):\n",
    "        def imgReducerNldas(img):\n",
    "            vals = img.reduceRegion(\n",
    "                reducer=ee.Reducer.mean(), geometry=feat.geometry(), scale=scaleNum\n",
    "            )\n",
    "            return ee.Feature(None, vals).set(\n",
    "                {\n",
    "                    \"time_start\": img.get(\"day_of_all_years\"),\n",
    "                    \"gage_id\": feat.get(\"GAGE_ID\"),\n",
    "                }\n",
    "            )\n",
    "\n",
    "        return imgCol.map(imgReducerNldas)\n",
    "\n",
    "    return featCol.map(mapReducerOverImgColNldas).flatten()"
   ]
  },
  {
   "cell_type": "code",
   "execution_count": 14,
   "id": "46b33a44-cbea-417b-b050-d3b98bf1cfe4",
   "metadata": {},
   "outputs": [
    {
     "name": "stdout",
     "output_type": "stream",
     "text": [
      "Exporting nldas_do_avg_mean_20000101-02...\n"
     ]
    }
   ],
   "source": [
    "# 0.125 degree approximately equals to 13875m\n",
    "avg_day_regions = nestedMappedReducerNldas(shpfiles, avg_days, 13875)\n",
    "# export to google drive\n",
    "geemap.ee_export_vector_to_drive(\n",
    "    avg_day_regions,\n",
    "    description=\"nldas_do_avg_mean_20000101-02\",\n",
    "    folder=\"export\",\n",
    "    # file_format=\"csv\",\n",
    "    fileFormat=\"csv\",\n",
    "    selectors=[\n",
    "        \"gage_id\",\n",
    "        \"time_start\",\n",
    "        \"temperature_mean\",\n",
    "        \"specific_humidity_mean\",\n",
    "        \"pressure_mean\",\n",
    "        \"wind_u_mean\",\n",
    "        \"wind_v_mean\",\n",
    "        \"longwave_radiation_mean\",\n",
    "        \"convective_fraction_mean\",\n",
    "        \"shortwave_radiation_mean\",\n",
    "    ],\n",
    ")"
   ]
  },
  {
   "cell_type": "code",
   "execution_count": 15,
   "id": "ade343f2-f323-4a69-8b5f-7c24aede6061",
   "metadata": {},
   "outputs": [
    {
     "name": "stdout",
     "output_type": "stream",
     "text": [
      "Exporting nldas_do4sum_mean_20000101-02...\n"
     ]
    }
   ],
   "source": [
    "avg_day_regions_4sum = nestedMappedReducerNldas(shpfiles, sum_days, 13875)\n",
    "# export to google drive\n",
    "geemap.ee_export_vector_to_drive(\n",
    "    avg_day_regions_4sum,\n",
    "    description=\"nldas_do_sum_mean_20000101-02\",\n",
    "    folder=\"export\",\n",
    "    file_format=\"csv\",\n",
    "    selectors=[\n",
    "        \"gage_id\",\n",
    "        \"time_start\",\n",
    "        \"potential_energy_sum\",\n",
    "        \"potential_evaporation_sum\",\n",
    "        \"total_precipitation_sum\",\n",
    "    ],\n",
    ")"
   ]
  },
  {
   "cell_type": "markdown",
   "id": "2a14f51d-6731-4eb1-b489-74a0c586f442",
   "metadata": {},
   "source": [
    "下面是一个整合的一年计算的实例供实际使用："
   ]
  },
  {
   "cell_type": "code",
   "execution_count": 16,
   "id": "201ccd9a-13e7-4e9e-8629-13de56768172",
   "metadata": {},
   "outputs": [
    {
     "name": "stdout",
     "output_type": "stream",
     "text": [
      "Exporting nldas_do_avg_mean_1980...\n",
      "Exporting nldas_do_sum_mean_1980...\n"
     ]
    }
   ],
   "source": [
    "import ee\n",
    "import geemap\n",
    "\n",
    "year_num = 1980\n",
    "year = ee.Number(year_num)\n",
    "month = ee.Number(1)\n",
    "day = ee.Number(1)\n",
    "start_date = ee.Date.fromYMD(year, month, day)\n",
    "end_date = start_date.advance(1, \"year\")\n",
    "days_num = end_date.difference(start_date, \"day\")\n",
    "days = ee.List.sequence(ee.Number(0), days_num.add(-1))\n",
    "\n",
    "nldas = ee.ImageCollection(\"NASA/NLDAS/FORA0125_H002\")\n",
    "shpfiles = ee.FeatureCollection(\"users/wenyu_ouyang/site_nobs_DO\")\n",
    "\n",
    "nldas_days = nldas.filter(ee.Filter.date(start_date, end_date))\n",
    "avg_forcings = nldas_days.select(\n",
    "    \"temperature\",\n",
    "    \"specific_humidity\",\n",
    "    \"pressure\",\n",
    "    \"wind_u\",\n",
    "    \"wind_v\",\n",
    "    \"longwave_radiation\",\n",
    "    \"convective_fraction\",\n",
    "    \"shortwave_radiation\",\n",
    ")\n",
    "sum_forcings = nldas_days.select(\n",
    "    \"potential_energy\", \"potential_evaporation\", \"total_precipitation\"\n",
    ")\n",
    "avg_days = ee.ImageCollection(daysMapImgsAvgReduce(days, avg_forcings, start_date))\n",
    "sum_days = ee.ImageCollection(daysMapImgsSumReduce(days, sum_forcings, start_date))\n",
    "# 0.125 degree approximately equals to 13875m\n",
    "avg_day_regions = nestedMappedReducerNldas(shpfiles, avg_days, 13875)\n",
    "# export to google drive\n",
    "geemap.ee_export_vector_to_drive(\n",
    "    ee_object=avg_day_regions,\n",
    "    description=\"nldas_do_avg_mean_\" + str(year_num),\n",
    "    folder=\"NLDAS\",\n",
    "    file_format=\"csv\",\n",
    "    selectors=[\n",
    "        \"gage_id\",\n",
    "        \"time_start\",\n",
    "        \"temperature_mean\",\n",
    "        \"specific_humidity_mean\",\n",
    "        \"pressure_mean\",\n",
    "        \"wind_u_mean\",\n",
    "        \"wind_v_mean\",\n",
    "        \"longwave_radiation_mean\",\n",
    "        \"convective_fraction_mean\",\n",
    "        \"shortwave_radiation_mean\",\n",
    "    ],\n",
    ")\n",
    "avg_day_regions_4sum = nestedMappedReducerNldas(shpfiles, sum_days, 13875)\n",
    "# export to google drive\n",
    "geemap.ee_export_vector_to_drive(\n",
    "    ee_object=avg_day_regions_4sum,\n",
    "    description=\"nldas_do_sum_mean_\" + str(year_num),\n",
    "    folder=\"NLDAS\",\n",
    "    file_format=\"csv\",\n",
    "    selectors=[\n",
    "        \"gage_id\",\n",
    "        \"time_start\",\n",
    "        \"potential_energy_sum\",\n",
    "        \"potential_evaporation_sum\",\n",
    "        \"total_precipitation_sum\",\n",
    "    ],\n",
    ")"
   ]
  },
  {
   "cell_type": "markdown",
   "id": "d6d8cfc6-1129-4642-aa8d-7fab8bb29702",
   "metadata": {},
   "source": [
    "上面这个完整实例在GEE中运行时间很长，如果不想让其运行，在GEE中手动终止任务即可。"
   ]
  },
  {
   "cell_type": "markdown",
   "id": "6466dca5-970b-4b49-8646-5ddaf252e2e8",
   "metadata": {},
   "source": [
    "## 选择给定点坐标处的数据\n",
    "\n",
    "主要参考资料：\n",
    "\n",
    "- [GEE JavaScript Tutorials: Extracting Raster Values for Points](https://developers.google.com/earth-engine/tutorials/community/extract-raster-values-for-points)\n",
    "- [qiswqs: earthengine=py-notebooks](https://github.com/giswqs/earthengine-py-notebooks/blob/master/Image/extract_value_to_points.ipynb)\n",
    "- [What is the difference between sample, sampleRegions, and stratifiedSample in Google Earth Engine?](https://gis.stackexchange.com/questions/304929/what-is-the-difference-between-sample-sampleregions-and-stratifiedsample-in-go)\n",
    "\n",
    "### Reduce\n",
    "\n",
    "代码的主要目的就是在想要的点处提取某个栅格数据集数据，这是很常见的应用，比如提取某个点处NDVI的值，绘制出其时间变化过程线。提取出的数据会被放到一个feature collections里面。很多时候点坐标是有误差的，所以我们通常不会仅仅使用点所在位置处的网格值，还会通过一个buffer操作把周围数据一起取出做reduce计算。"
   ]
  },
  {
   "cell_type": "code",
   "execution_count": 10,
   "id": "555fed0a-a38e-4570-a447-fe86c47a674a",
   "metadata": {},
   "outputs": [],
   "source": [
    "import ee\n",
    "import geemap"
   ]
  },
  {
   "cell_type": "code",
   "execution_count": 11,
   "id": "6674bedd-e4f4-4732-b550-c5d4371276df",
   "metadata": {},
   "outputs": [
    {
     "data": {
      "application/vnd.jupyter.widget-view+json": {
       "model_id": "cdc12fb3f26a4664900efd6eef06ae83",
       "version_major": 2,
       "version_minor": 0
      },
      "text/plain": [
       "Map(center=[40, -100], controls=(WidgetControl(options=['position', 'transparent_bg'], widget=HBox(children=(T…"
      ]
     },
     "metadata": {},
     "output_type": "display_data"
    }
   ],
   "source": [
    "Map = geemap.Map(center=[40, -100], zoom=4)\n",
    "Map"
   ]
  },
  {
   "cell_type": "code",
   "execution_count": 12,
   "id": "6b092ca8-4f81-4c3c-9ac9-7384ff626b4f",
   "metadata": {},
   "outputs": [],
   "source": [
    "# Add Earth Engine dataset\n",
    "# Input imagery is ERA5 daily dataset: https://developers.google.com/earth-engine/datasets/catalog/ECMWF_ERA5_DAILY?hl=en\n",
    "year = 1980\n",
    "# era5 = ee.ImageCollection(\"ECMWF/ERA5/DAILY\").filterDate(str(year) + '-01-01', str(year+1)+'-01-01')\n",
    "era5 = ee.ImageCollection(\"ECMWF/ERA5/DAILY\").filterDate(\n",
    "    str(year) + \"-01-01\", str(year) + \"-01-03\"\n",
    ")"
   ]
  },
  {
   "cell_type": "code",
   "execution_count": 13,
   "id": "0a561744-c5fa-449d-8ccd-68aef7b96684",
   "metadata": {},
   "outputs": [],
   "source": [
    "pts = ee.FeatureCollection(\"projects/ee-owen/assets/globalpaper_site3221\")"
   ]
  },
  {
   "cell_type": "code",
   "execution_count": 14,
   "id": "df5a2452-8b28-4e56-acbd-095503887adc",
   "metadata": {},
   "outputs": [],
   "source": [
    "def buffer_points(radius, bounds):\n",
    "    def buffer_point(pt):\n",
    "        pt = ee.Feature(pt)\n",
    "        return pt.buffer(radius).bounds() if bounds else pt.buffer(radius)\n",
    "\n",
    "    return buffer_point"
   ]
  },
  {
   "cell_type": "code",
   "execution_count": 15,
   "id": "dc0bf5f8-9a8c-4f0c-bf9b-1e324b9173b6",
   "metadata": {},
   "outputs": [],
   "source": [
    "# apply a 45 m radius buffer (set the second argument as false i.e., do not use bounds)\n",
    "pts_era5 = pts.map(buffer_points(10000, False))\n",
    "Map.addLayer(pts_era5, {}, \"buffer\");"
   ]
  },
  {
   "cell_type": "code",
   "execution_count": 16,
   "id": "1ca5df60-e502-4e75-ba16-cb43161ed76d",
   "metadata": {},
   "outputs": [],
   "source": [
    "def zonal_stats(ic, fc, params):\n",
    "    # Initialize internal params dictionary.\n",
    "    _params = {\n",
    "        \"reducer\": ee.Reducer.mean(),\n",
    "        \"scale\": None,\n",
    "        \"crs\": None,\n",
    "        \"bands\": None,\n",
    "        \"bandsRename\": None,\n",
    "        \"imgProps\": None,\n",
    "        \"imgPropsRename\": None,\n",
    "        \"datetimeName\": \"datetime\",\n",
    "        \"datetimeFormat\": \"YYYY-MM-dd HH:mm:ss\",\n",
    "    }\n",
    "\n",
    "    # Replace initialized params with provided params.\n",
    "    if params:\n",
    "        for param in params:\n",
    "            _params[param] = params[param] or _params[param]\n",
    "\n",
    "    # Set default parameters based on an image representative.\n",
    "    imgRep = ic.first()\n",
    "    nonSystemImgProps = ee.Feature(None).copyProperties(imgRep).propertyNames()\n",
    "    if not _params[\"bands\"]:\n",
    "        _params[\"bands\"] = imgRep.bandNames()\n",
    "    if not _params[\"bandsRename\"]:\n",
    "        _params[\"bandsRename\"] = _params[\"bands\"]\n",
    "    if not _params[\"imgProps\"]:\n",
    "        _params[\"imgProps\"] = nonSystemImgProps\n",
    "    if not _params[\"imgPropsRename\"]:\n",
    "        _params[\"imgPropsRename\"] = _params[\"imgProps\"]\n",
    "\n",
    "    def select_band(img):\n",
    "        # Select bands (optionally rename), set a datetime & timestamp property.\n",
    "        img = (\n",
    "            ee.Image(img.select(_params[\"bands\"], _params[\"bandsRename\"]))\n",
    "            .set(_params[\"datetimeName\"], img.date().format(_params[\"datetimeFormat\"]))\n",
    "            .set(\"timestamp\", img.get(\"system:time_start\"))\n",
    "        )\n",
    "        # Define final image property dictionary to set in output features.\n",
    "        propsFrom = ee.List(_params[\"imgProps\"]).cat(\n",
    "            ee.List([_params[\"datetimeName\"], \"timestamp\"])\n",
    "        )\n",
    "        propsTo = ee.List(_params[\"imgPropsRename\"]).cat(\n",
    "            ee.List([_params[\"datetimeName\"], \"timestamp\"])\n",
    "        )\n",
    "        imgProps = img.toDictionary(propsFrom).rename(propsFrom, propsTo)\n",
    "\n",
    "        # Subset points that intersect the given image.\n",
    "        fcSub = fc.filterBounds(img.geometry())\n",
    "        # Reduce the image by regions.\n",
    "        def reduce_img(f):\n",
    "            return f.set(imgProps)\n",
    "\n",
    "        return img.reduceRegions(\n",
    "            collection=fcSub,\n",
    "            reducer=_params[\"reducer\"],\n",
    "            scale=_params[\"scale\"],\n",
    "            crs=_params[\"crs\"],\n",
    "        ).map(reduce_img)\n",
    "\n",
    "    # Map the reduceRegions function over the image collection.\n",
    "    results = (\n",
    "        ic.map(select_band).flatten().filter(ee.Filter.notNull(_params[\"bandsRename\"]))\n",
    "    )\n",
    "    return results"
   ]
  },
  {
   "cell_type": "code",
   "execution_count": 17,
   "id": "3b262156-08e3-4314-9a43-3f98f6bbc534",
   "metadata": {},
   "outputs": [],
   "source": [
    "era5_daily_bands = [\n",
    "    \"mean_2m_air_temperature\",\n",
    "    \"minimum_2m_air_temperature\",\n",
    "    \"maximum_2m_air_temperature\",\n",
    "    \"dewpoint_2m_temperature\",\n",
    "    \"total_precipitation\",\n",
    "    \"surface_pressure\",\n",
    "    \"mean_sea_level_pressure\",\n",
    "    \"u_component_of_wind_10m\",\n",
    "    \"v_component_of_wind_10m\",\n",
    "]\n",
    "era5_daily_bands_rename = [\n",
    "    \"tmean\",\n",
    "    \"tmin\",\n",
    "    \"tmax\",\n",
    "    \"tdew\",\n",
    "    \"prcp\",\n",
    "    \"sp\",\n",
    "    \"mslp\",\n",
    "    \"windu\",\n",
    "    \"windv\",\n",
    "]"
   ]
  },
  {
   "cell_type": "code",
   "execution_count": 18,
   "id": "1001382b-4735-4e93-8656-0d8d967c46f0",
   "metadata": {},
   "outputs": [],
   "source": [
    "# Define parameters for the zonalStats function.\n",
    "params = {\n",
    "    \"reducer\": ee.Reducer.mean(),\n",
    "    \"scale\": 27830,\n",
    "    \"crs\": \"EPSG:4326\",\n",
    "    \"bands\": era5_daily_bands,\n",
    "    \"bandsRename\": era5_daily_bands_rename,\n",
    "    \"datetimeName\": \"date\",\n",
    "    \"datetimeFormat\": \"YYYY-MM-dd\",\n",
    "}"
   ]
  },
  {
   "cell_type": "code",
   "execution_count": 19,
   "id": "0aab9ff7-8880-4e25-875d-bb6b0c53ae18",
   "metadata": {},
   "outputs": [],
   "source": [
    "# Extract zonal statistics per point per image.\n",
    "pts_era5_stats = zonal_stats(era5, pts_era5, params)\n",
    "# print(pts_era5_stats.limit(1));"
   ]
  },
  {
   "cell_type": "code",
   "execution_count": 20,
   "id": "562dc322-3bd6-4c6c-9ed6-a60873752003",
   "metadata": {},
   "outputs": [
    {
     "name": "stdout",
     "output_type": "stream",
     "text": [
      "Exporting era5_daily_reduce_globalpaper_site3221_1980... Please check the Task Manager from the JavaScript Code Editor.\n"
     ]
    }
   ],
   "source": [
    "# export to google drive\n",
    "geemap.ee_export_vector_to_drive(\n",
    "    pts_era5_stats,\n",
    "    description=\"era5_daily_reduce_globalpaper_site3221_\" + str(year),\n",
    "    folder=\"ERA5\",\n",
    "    # file_format=\"csv\",\n",
    "    fileFormat=\"csv\",\n",
    "    selectors=[\n",
    "        \"new_site_i\",\n",
    "        \"date\",\n",
    "        \"tmean\",\n",
    "        \"tmin\",\n",
    "        \"tmax\",\n",
    "        \"tdew\",\n",
    "        \"prcp\",\n",
    "        \"sp\",\n",
    "        \"mslp\",\n",
    "        \"windu\",\n",
    "        \"windv\",\n",
    "    ],\n",
    ")"
   ]
  },
  {
   "cell_type": "code",
   "execution_count": 22,
   "id": "6af7ddde-12c1-449b-bf31-accd3cd0c97f",
   "metadata": {},
   "outputs": [],
   "source": [
    "def reduce_from_era5(points_shape, rasters, scale):\n",
    "    the_params = {\n",
    "        \"reducer\": ee.Reducer.mean(),\n",
    "        \"scale\": scale,\n",
    "        \"crs\": \"EPSG:4326\",\n",
    "        \"bands\": era5_daily_bands,\n",
    "        \"bandsRename\": era5_daily_bands_rename,\n",
    "        \"datetimeName\": \"date\",\n",
    "        \"datetimeFormat\": \"YYYY-MM-dd\",\n",
    "    }\n",
    "\n",
    "    pts_era5_buffers = points_shape.map(buffer_points(scale, False))\n",
    "    pts_era5_buffers_stats = zonal_stats(rasters, pts_era5_buffers, the_params)\n",
    "    return pts_era5_buffers_stats"
   ]
  },
  {
   "cell_type": "code",
   "execution_count": 26,
   "id": "2ac04065-fdd4-49c2-8686-fe8658e39d1e",
   "metadata": {},
   "outputs": [
    {
     "name": "stdout",
     "output_type": "stream",
     "text": [
      "Exporting era5_daily_reduce_globalpaper_site3221_1982...\n"
     ]
    }
   ],
   "source": [
    "import numpy as np\n",
    "\n",
    "for year in np.arange(1982, 1983):\n",
    "    era5_year = ee.ImageCollection(\"ECMWF/ERA5/DAILY\").filterDate(\n",
    "        str(year) + \"-01-01\", str(year + 1) + \"-01-01\"\n",
    "    )\n",
    "    pts_era5_reduce = reduce_from_era5(pts, era5_year, 10000)\n",
    "    # export to google drive\n",
    "    geemap.ee_export_vector_to_drive(\n",
    "        ee_object=pts_era5_reduce,\n",
    "        description=\"era5_daily_reduce_globalpaper_site3221_\" + str(year),\n",
    "        folder=\"ERA5\",\n",
    "        file_format=\"csv\",\n",
    "        selectors=[\"new_site_i\", \"date\"] + era5_daily_bands_rename,\n",
    "    )"
   ]
  },
  {
   "cell_type": "markdown",
   "id": "c2227ff7-70a3-4551-86e6-247afdc2a8b9",
   "metadata": {},
   "source": [
    "### Sample\n",
    "\n",
    "上面是reduceRegions的结果，有时候也有可能会直接用点所在的区域的数据，这时候我们可以直接使用sampleRegions把数据取出来即可。\n",
    "\n",
    "sample类型的函数介绍可以参考这些：\n",
    "\n",
    "- [ee.Image.sampleRegions](https://developers.google.com/earth-engine/apidocs/ee-image-sampleregions)\n",
    "- [What is the difference between sample, sampleRegions, and stratifiedSample in Google Earth Engine?](https://gis.stackexchange.com/questions/304929/what-is-the-difference-between-sample-sampleregions-and-stratifiedsample-in-go)"
   ]
  },
  {
   "cell_type": "code",
   "execution_count": 8,
   "id": "e421e4f7-c9e1-4796-9b9d-21cf6ebc5088",
   "metadata": {},
   "outputs": [],
   "source": [
    "def sample_from_era5(year_num, points_shape, rasters, scale):\n",
    "    # Overlay the points on the imagery to get sampled data\n",
    "    era5_daily_bands = [\n",
    "        \"mean_2m_air_temperature\",\n",
    "        \"minimum_2m_air_temperature\",\n",
    "        \"maximum_2m_air_temperature\",\n",
    "        \"dewpoint_2m_temperature\",\n",
    "        \"total_precipitation\",\n",
    "        \"surface_pressure\",\n",
    "        \"mean_sea_level_pressure\",\n",
    "        \"u_component_of_wind_10m\",\n",
    "        \"v_component_of_wind_10m\",\n",
    "    ]\n",
    "    era5_daily_bands_rename = [\n",
    "        \"tmean\",\n",
    "        \"tmin\",\n",
    "        \"tmax\",\n",
    "        \"tdew\",\n",
    "        \"prcp\",\n",
    "        \"sp\",\n",
    "        \"mslp\",\n",
    "        \"windu\",\n",
    "        \"windv\",\n",
    "    ]\n",
    "\n",
    "    def sample_region(img):\n",
    "        img = (\n",
    "            ee.Image(img.select(era5_daily_bands, era5_daily_bands_rename))\n",
    "            .set(\"date\", img.date().format(\"YYYY-MM-dd\"))\n",
    "            .set(\"timestamp\", img.get(\"system:time_start\"))\n",
    "        )\n",
    "        # Define final image property dictionary to set in output features.\n",
    "        propsFrom = ee.List([\"date\", \"timestamp\"])\n",
    "        imgProps = img.toDictionary(propsFrom)\n",
    "\n",
    "        def map_set_time(f):\n",
    "            return f.set(imgProps)\n",
    "\n",
    "        return img.sampleRegions(collection=points_shape, scale=scale).map(map_set_time)\n",
    "\n",
    "    pts_raster_sample = rasters.map(sample_region).flatten()\n",
    "    return pts_raster_sample"
   ]
  },
  {
   "cell_type": "code",
   "execution_count": 11,
   "id": "4faa1bc6-9da9-4625-bfff-5aa9654553af",
   "metadata": {},
   "outputs": [
    {
     "name": "stdout",
     "output_type": "stream",
     "text": [
      "Exporting era5_daily_sample_globalpaper_site3221_1983...\n",
      "Exporting era5_daily_sample_globalpaper_site3221_1984...\n",
      "Exporting era5_daily_sample_globalpaper_site3221_1985...\n",
      "Exporting era5_daily_sample_globalpaper_site3221_1986...\n",
      "Exporting era5_daily_sample_globalpaper_site3221_1987...\n",
      "Exporting era5_daily_sample_globalpaper_site3221_1988...\n",
      "Exporting era5_daily_sample_globalpaper_site3221_1989...\n",
      "Exporting era5_daily_sample_globalpaper_site3221_1990...\n",
      "Exporting era5_daily_sample_globalpaper_site3221_1991...\n",
      "Exporting era5_daily_sample_globalpaper_site3221_1992...\n",
      "Exporting era5_daily_sample_globalpaper_site3221_1993...\n",
      "Exporting era5_daily_sample_globalpaper_site3221_1994...\n",
      "Exporting era5_daily_sample_globalpaper_site3221_1995...\n",
      "Exporting era5_daily_sample_globalpaper_site3221_1996...\n",
      "Exporting era5_daily_sample_globalpaper_site3221_1997...\n",
      "Exporting era5_daily_sample_globalpaper_site3221_1998...\n",
      "Exporting era5_daily_sample_globalpaper_site3221_1999...\n",
      "Exporting era5_daily_sample_globalpaper_site3221_2000...\n",
      "Exporting era5_daily_sample_globalpaper_site3221_2001...\n",
      "Exporting era5_daily_sample_globalpaper_site3221_2002...\n",
      "Exporting era5_daily_sample_globalpaper_site3221_2003...\n",
      "Exporting era5_daily_sample_globalpaper_site3221_2004...\n",
      "Exporting era5_daily_sample_globalpaper_site3221_2005...\n",
      "Exporting era5_daily_sample_globalpaper_site3221_2006...\n",
      "Exporting era5_daily_sample_globalpaper_site3221_2007...\n",
      "Exporting era5_daily_sample_globalpaper_site3221_2008...\n",
      "Exporting era5_daily_sample_globalpaper_site3221_2009...\n",
      "Exporting era5_daily_sample_globalpaper_site3221_2010...\n",
      "Exporting era5_daily_sample_globalpaper_site3221_2011...\n",
      "Exporting era5_daily_sample_globalpaper_site3221_2012...\n",
      "Exporting era5_daily_sample_globalpaper_site3221_2013...\n",
      "Exporting era5_daily_sample_globalpaper_site3221_2014...\n",
      "Exporting era5_daily_sample_globalpaper_site3221_2015...\n",
      "Exporting era5_daily_sample_globalpaper_site3221_2016...\n",
      "Exporting era5_daily_sample_globalpaper_site3221_2017...\n",
      "Exporting era5_daily_sample_globalpaper_site3221_2018...\n",
      "Exporting era5_daily_sample_globalpaper_site3221_2019...\n",
      "Exporting era5_daily_sample_globalpaper_site3221_2020...\n"
     ]
    }
   ],
   "source": [
    "import numpy as np\n",
    "\n",
    "for year in np.arange(1983, 2021):\n",
    "    era5_year = ee.ImageCollection(\"ECMWF/ERA5/DAILY\").filterDate(\n",
    "        str(year) + \"-01-01\", str(year + 1) + \"-01-01\"\n",
    "    )\n",
    "    pts_era5_sample = sample_from_era5(year, pts, era5_year, 27830)\n",
    "    # export to google drive\n",
    "    geemap.ee_export_vector_to_drive(\n",
    "        ee_object=pts_era5_sample,\n",
    "        description=\"era5_daily_sample_globalpaper_site3221_\" + str(year),\n",
    "        folder=\"ERA5\",\n",
    "        file_format=\"csv\",\n",
    "        selectors=[\"new_site_i\", \"date\"] + era5_daily_bands_rename,\n",
    "    )"
   ]
  },
  {
   "cell_type": "markdown",
   "id": "103f8039-aedb-4362-8b52-88c0b696104a",
   "metadata": {},
   "source": [
    "### Sample for hourly data\n",
    "\n",
    "还是上面ERA5数据的例子，不过这里使用的是ERA5LAND的小时数据，取出某些点对应的小时尺度气象数据。"
   ]
  },
  {
   "cell_type": "code",
   "execution_count": 8,
   "id": "720e2fc2-9fcf-4c44-a83f-7b151ef45d2f",
   "metadata": {},
   "outputs": [],
   "source": [
    "year = 2021"
   ]
  },
  {
   "cell_type": "code",
   "execution_count": 9,
   "id": "15a6cac3-f07b-4700-bc6b-2e380ced1d1c",
   "metadata": {},
   "outputs": [],
   "source": [
    "chosen_bands = [\"total_precipitation_hourly\", \"total_evaporation_hourly\"]"
   ]
  },
  {
   "cell_type": "code",
   "execution_count": 9,
   "id": "0edc53bd-1422-4a7b-8fc8-ba001a5dfdc2",
   "metadata": {},
   "outputs": [],
   "source": [
    "era5_land = ee.ImageCollection(\"ECMWF/ERA5_LAND/HOURLY\").filterDate(\n",
    "    str(year) + \"-01-01\", str(year) + \"-01-03\"\n",
    ")"
   ]
  },
  {
   "cell_type": "code",
   "execution_count": 85,
   "id": "0813bb6c-a74c-4afd-9ccb-0b2ecfd2433d",
   "metadata": {},
   "outputs": [],
   "source": [
    "def era5_land_sample_region(img):\n",
    "    img_ = (\n",
    "        img.select(chosen_bands)\n",
    "        .set(\"datetime\", img.date().format(\"YYYY-MM-dd HH:mm:ss\"))\n",
    "        .set(\"timestamp\", img.get(\"system:time_start\"))\n",
    "    )\n",
    "    # Define final image property dictionary to set in output features.\n",
    "    propsFrom = ee.List([\"datetime\", \"timestamp\"])\n",
    "    imgProps = img_.toDictionary(propsFrom)\n",
    "\n",
    "    def map_set_time(f):\n",
    "        return f.set(imgProps)\n",
    "\n",
    "    return img_.sampleRegions(collection=pts, scale=11132).map(map_set_time)"
   ]
  },
  {
   "cell_type": "code",
   "execution_count": 86,
   "id": "8c32d62c-0f36-4af7-a3d5-16870954dbf6",
   "metadata": {},
   "outputs": [],
   "source": [
    "pts_era5_land_sample = era5_land.map(era5_land_sample_region).flatten()"
   ]
  },
  {
   "cell_type": "code",
   "execution_count": 87,
   "id": "4044f8f7-04b8-4a36-99d8-4d254caa672f",
   "metadata": {},
   "outputs": [
    {
     "name": "stdout",
     "output_type": "stream",
     "text": [
      "Exporting era5_land_sample_globalpaper_site3221_2000...\n"
     ]
    }
   ],
   "source": [
    "# export to google drive\n",
    "geemap.ee_export_vector_to_drive(\n",
    "    ee_object=pts_era5_land_sample,\n",
    "    description=\"era5_land_sample_globalpaper_site3221_\" + str(year),\n",
    "    folder=\"ERA5\",\n",
    "    file_format=\"csv\",\n",
    "    selectors=[\"new_site_i\", \"datetime\"] + chosen_bands,\n",
    ")"
   ]
  },
  {
   "cell_type": "markdown",
   "id": "2016245c-668c-4d66-a844-1d10aaca65cd",
   "metadata": {},
   "source": [
    "### Reduce for hourly data\n",
    "\n",
    "还是上面ERA5数据的例子，不过这里使用的是ERA5LAND的小时数据，reduce计算某些点的buffer对应的小时尺度气象数据。"
   ]
  },
  {
   "cell_type": "code",
   "execution_count": 21,
   "id": "e8068b4b-6867-49f5-82b9-bd18db0e9e86",
   "metadata": {},
   "outputs": [],
   "source": [
    "year = 2021\n",
    "era5_land = ee.ImageCollection(\"ECMWF/ERA5_LAND/HOURLY\").filterDate(\n",
    "    str(year) + \"-01-01\", str(year) + \"-01-03\"\n",
    ")"
   ]
  },
  {
   "cell_type": "code",
   "execution_count": 22,
   "id": "95a98bf4-23f7-45b5-9f43-5fb540ca855d",
   "metadata": {},
   "outputs": [],
   "source": [
    "chosen_bands = [\n",
    "    \"dewpoint_temperature_2m\",\n",
    "    \"temperature_2m\",\n",
    "    \"skin_temperature\",\n",
    "    \"u_component_of_wind_10m\",\n",
    "    \"v_component_of_wind_10m\",\n",
    "    \"surface_pressure\",\n",
    "    \"surface_latent_heat_flux_hourly\",\n",
    "    \"surface_net_solar_radiation_hourly\",\n",
    "    \"surface_net_thermal_radiation_hourly\",\n",
    "    \"surface_sensible_heat_flux_hourly\",\n",
    "    \"surface_solar_radiation_downwards_hourly\",\n",
    "    \"surface_thermal_radiation_downwards_hourly\",\n",
    "    \"potential_evaporation_hourly\",\n",
    "    \"total_evaporation_hourly\",\n",
    "    \"total_precipitation_hourly\",\n",
    "]"
   ]
  },
  {
   "cell_type": "code",
   "execution_count": 23,
   "id": "9d4b1c64-a728-4a96-b8a1-7fa32063d7df",
   "metadata": {},
   "outputs": [],
   "source": [
    "# Define parameters for the zonalStats function.\n",
    "params_era5_land = {\n",
    "    \"reducer\": ee.Reducer.mean(),\n",
    "    \"scale\": 11132,\n",
    "    \"crs\": \"EPSG:4326\",\n",
    "    \"bands\": chosen_bands,\n",
    "}"
   ]
  },
  {
   "cell_type": "code",
   "execution_count": 24,
   "id": "0658e0c7-637b-46d4-9731-0b2e1d4efbc6",
   "metadata": {},
   "outputs": [],
   "source": [
    "# pts_era5_land are buffers of points\n",
    "pts_era5_land = pts.map(buffer_points(30000, False))\n",
    "pts_era5_land_stats = zonal_stats(era5_land, pts_era5_land, params_era5_land);"
   ]
  },
  {
   "cell_type": "code",
   "execution_count": 25,
   "id": "ebe2d7c0-993b-4fe3-bf44-9baf708fed70",
   "metadata": {},
   "outputs": [
    {
     "name": "stdout",
     "output_type": "stream",
     "text": [
      "Exporting era5_land_reduce_globalpaper_site3221_2021... Please check the Task Manager from the JavaScript Code Editor.\n"
     ]
    }
   ],
   "source": [
    "# export to google drive\n",
    "geemap.ee_export_vector_to_drive(\n",
    "    pts_era5_land_stats,\n",
    "    description=\"era5_land_reduce_globalpaper_site3221_\" + str(year),\n",
    "    folder=\"export\",\n",
    "    fileFormat=\"csv\",\n",
    "    selectors=[\"new_site_i\", \"datetime\"] + chosen_bands,\n",
    ")"
   ]
  },
  {
   "cell_type": "markdown",
   "id": "02afb226-190e-4b7f-9355-90515e96dc34",
   "metadata": {},
   "source": [
    "## 按regions提取时间序列数据\n",
    "\n",
    "先计算出来点的buffer对应的小时尺度气象数据，然后统计到日尺度。\n",
    "\n",
    "本节使用了[eemont](https://github.com/davemlz/eemont)这一工具。"
   ]
  },
  {
   "cell_type": "code",
   "execution_count": 101,
   "id": "4988811d-8195-4b3c-b39a-b9a95d17cb38",
   "metadata": {},
   "outputs": [],
   "source": [
    "import ee, eemont, geemap\n",
    "import pandas as pd\n",
    "import numpy as np"
   ]
  },
  {
   "cell_type": "code",
   "execution_count": 88,
   "id": "74907543-9d88-4102-9d7b-75fc4e99c952",
   "metadata": {},
   "outputs": [],
   "source": [
    "f1 = ee.Feature(ee.Geometry.Point([-44.17708224,-22.53977252]).buffer(11132),{'ID':'A'})\n",
    "f2 = ee.Feature(ee.Geometry.Point([-70.44791273,-33.37291235]).buffer(11132),{'ID':'B'})\n",
    "fc = ee.FeatureCollection([f1,f2])"
   ]
  },
  {
   "cell_type": "code",
   "execution_count": 140,
   "id": "7c171183-100d-4250-bf38-7deb151a92df",
   "metadata": {},
   "outputs": [],
   "source": [
    "fc = ee.FeatureCollection(\"projects/ee-owen/assets/globalpaper_site3221\")"
   ]
  },
  {
   "cell_type": "code",
   "execution_count": 141,
   "id": "ec805b82-fb76-4215-a8d9-074fc477974b",
   "metadata": {},
   "outputs": [],
   "source": [
    "def buffer_points(radius, bounds):\n",
    "    def buffer_point(pt):\n",
    "        pt = ee.Feature(pt)\n",
    "        return pt.buffer(radius).bounds() if bounds else pt.buffer(radius)\n",
    "\n",
    "    return buffer_point"
   ]
  },
  {
   "cell_type": "code",
   "execution_count": 142,
   "id": "f5192009-c4a5-4a66-bccd-ff270c782be6",
   "metadata": {
    "tags": []
   },
   "outputs": [],
   "source": [
    "# apply a 45 m radius buffer (set the second argument as false i.e., do not use bounds)\n",
    "fc = fc.map(buffer_points(10000, False))"
   ]
  },
  {
   "cell_type": "code",
   "execution_count": 143,
   "id": "d3afce55-5705-42d8-a967-7e87ad539e87",
   "metadata": {
    "tags": []
   },
   "outputs": [],
   "source": [
    "year = ee.Number(2000)\n",
    "month = ee.Number(1)\n",
    "day = ee.Number(1)\n",
    "start_date = ee.Date.fromYMD(year, month, day)\n",
    "end_date = start_date.advance(2, \"day\")"
   ]
  },
  {
   "cell_type": "code",
   "execution_count": 144,
   "id": "d4ee2550-07ca-48b7-b996-c51736182ffb",
   "metadata": {},
   "outputs": [],
   "source": [
    "days_num = end_date.difference(start_date, \"day\")\n",
    "# count day from zero, and ee.List.sequence is a closed interval\n",
    "days = ee.List.sequence(ee.Number(0), days_num.add(-1))"
   ]
  },
  {
   "cell_type": "code",
   "execution_count": 145,
   "id": "0eca87fa-8d0d-4813-877c-a0a33e7d5fd4",
   "metadata": {},
   "outputs": [],
   "source": [
    "era5_land = (ee.ImageCollection(\"ECMWF/ERA5_LAND/HOURLY\")\n",
    "   .filterBounds(fc)\n",
    "   .filterDate(start_date,end_date)\n",
    "   .index(['dewpoint_temperature_2m','temperature_2m']))"
   ]
  },
  {
   "cell_type": "markdown",
   "id": "f7201cb2-9c36-40ae-b664-09bf31dfb61c",
   "metadata": {},
   "source": [
    "这个和前面NLDAS的例子类似，但是这种方法点多了之后运行比较慢，所以接下来试试另一种方法即先算到小时的FeatureCollection，再平均到日，即先对imagecollection进行日平均，然后再处理到featurecollection："
   ]
  },
  {
   "cell_type": "code",
   "execution_count": 378,
   "id": "066481a7-6853-49a4-84bd-c4f273a62016",
   "metadata": {},
   "outputs": [],
   "source": [
    "ts = era5_land.getTimeSeriesByRegions(reducer = ee.Reducer.mean(),\n",
    "                                      collection = fc,\n",
    "                                     # 注意bands后面多了一个 \"_mean\"\n",
    "                                      bands = ['dewpoint_temperature_2m','temperature_2m'],\n",
    "                                      dateFormat = 'YYYYMMdd',\n",
    "                                      scale = 11132)"
   ]
  },
  {
   "cell_type": "code",
   "execution_count": 379,
   "id": "5a57fcb6-4501-4917-9617-1dcbd0db12b9",
   "metadata": {},
   "outputs": [
    {
     "data": {
      "text/plain": [
       "{'type': 'Feature',\n",
       " 'geometry': {'type': 'Polygon',\n",
       "  'coordinates': [[[-44.177082240000004, -22.43959714422811],\n",
       "    [-44.20735557532208, -22.443581294479042],\n",
       "    [-44.23522403895136, -22.4552172620936],\n",
       "    [-44.25847266996974, -22.4735805866811],\n",
       "    [-44.275251680324395, -22.497211870931057],\n",
       "    [-44.284223442979375, -22.524232226593124],\n",
       "    [-44.28466958840863, -22.552492159907178],\n",
       "    [-44.2765494962648, -22.57974225514612],\n",
       "    [-44.260505122131875, -22.603812201212396],\n",
       "    [-44.2378112782019, -22.622783921541146],\n",
       "    [-44.21027489065342, -22.635144911384057],\n",
       "    [-44.18009101853645, -22.639909371174088],\n",
       "    [-44.14966713835469, -22.636697261538195],\n",
       "    [-44.12142999104214, -22.625764802166927],\n",
       "    [-44.097630845043525, -22.607983908355195],\n",
       "    [-44.0801651714276, -22.58477225541165],\n",
       "    [-44.07042143775684, -22.55797970578207],\n",
       "    [-44.06917115601642, -22.529740367950314],\n",
       "    [-44.076508753337016, -22.502302279776302],\n",
       "    [-44.09184564666628, -22.477848409941284],\n",
       "    [-44.11395849585907, -22.458323240504384],\n",
       "    [-44.141087360593474, -22.445278624585676],\n",
       "    [-44.171075710427026, -22.439750989685066],\n",
       "    [-44.177082240000004, -22.43959714422811]]]},\n",
       " 'id': '0_20000101T00_0',\n",
       " 'properties': {'ID': 'A',\n",
       "  'date': '20000101',\n",
       "  'dewpoint_temperature_2m': 294.0156274988261,\n",
       "  'reducer': 'mean',\n",
       "  'temperature_2m': 294.9761863292025}}"
      ]
     },
     "execution_count": 379,
     "metadata": {},
     "output_type": "execute_result"
    }
   ],
   "source": [
    "ts.first().getInfo()"
   ]
  },
  {
   "cell_type": "code",
   "execution_count": 380,
   "id": "822f262b-59c5-42d9-af06-8cbcc40cbe2d",
   "metadata": {},
   "outputs": [],
   "source": [
    "tsPandas = geemap.ee_to_pandas(ts)"
   ]
  },
  {
   "cell_type": "code",
   "execution_count": 381,
   "id": "41b96f59-af8e-47d4-a96f-652e689c8711",
   "metadata": {},
   "outputs": [
    {
     "data": {
      "text/html": [
       "<div>\n",
       "<style scoped>\n",
       "    .dataframe tbody tr th:only-of-type {\n",
       "        vertical-align: middle;\n",
       "    }\n",
       "\n",
       "    .dataframe tbody tr th {\n",
       "        vertical-align: top;\n",
       "    }\n",
       "\n",
       "    .dataframe thead th {\n",
       "        text-align: right;\n",
       "    }\n",
       "</style>\n",
       "<table border=\"1\" class=\"dataframe\">\n",
       "  <thead>\n",
       "    <tr style=\"text-align: right;\">\n",
       "      <th></th>\n",
       "      <th>date</th>\n",
       "      <th>dewpoint_temperature_2m</th>\n",
       "      <th>temperature_2m</th>\n",
       "      <th>ID</th>\n",
       "      <th>reducer</th>\n",
       "    </tr>\n",
       "  </thead>\n",
       "  <tbody>\n",
       "    <tr>\n",
       "      <th>0</th>\n",
       "      <td>20000101</td>\n",
       "      <td>294.015627</td>\n",
       "      <td>294.976186</td>\n",
       "      <td>A</td>\n",
       "      <td>mean</td>\n",
       "    </tr>\n",
       "    <tr>\n",
       "      <th>1</th>\n",
       "      <td>20000101</td>\n",
       "      <td>279.959294</td>\n",
       "      <td>288.851400</td>\n",
       "      <td>B</td>\n",
       "      <td>mean</td>\n",
       "    </tr>\n",
       "    <tr>\n",
       "      <th>2</th>\n",
       "      <td>20000101</td>\n",
       "      <td>293.987549</td>\n",
       "      <td>294.621945</td>\n",
       "      <td>A</td>\n",
       "      <td>mean</td>\n",
       "    </tr>\n",
       "    <tr>\n",
       "      <th>3</th>\n",
       "      <td>20000101</td>\n",
       "      <td>280.342099</td>\n",
       "      <td>288.354047</td>\n",
       "      <td>B</td>\n",
       "      <td>mean</td>\n",
       "    </tr>\n",
       "    <tr>\n",
       "      <th>4</th>\n",
       "      <td>20000101</td>\n",
       "      <td>293.787338</td>\n",
       "      <td>294.461676</td>\n",
       "      <td>A</td>\n",
       "      <td>mean</td>\n",
       "    </tr>\n",
       "    <tr>\n",
       "      <th>...</th>\n",
       "      <td>...</td>\n",
       "      <td>...</td>\n",
       "      <td>...</td>\n",
       "      <td>...</td>\n",
       "      <td>...</td>\n",
       "    </tr>\n",
       "    <tr>\n",
       "      <th>91</th>\n",
       "      <td>20000102</td>\n",
       "      <td>279.977142</td>\n",
       "      <td>292.932740</td>\n",
       "      <td>B</td>\n",
       "      <td>mean</td>\n",
       "    </tr>\n",
       "    <tr>\n",
       "      <th>92</th>\n",
       "      <td>20000102</td>\n",
       "      <td>293.189405</td>\n",
       "      <td>294.636613</td>\n",
       "      <td>A</td>\n",
       "      <td>mean</td>\n",
       "    </tr>\n",
       "    <tr>\n",
       "      <th>93</th>\n",
       "      <td>20000102</td>\n",
       "      <td>280.600600</td>\n",
       "      <td>291.527143</td>\n",
       "      <td>B</td>\n",
       "      <td>mean</td>\n",
       "    </tr>\n",
       "    <tr>\n",
       "      <th>94</th>\n",
       "      <td>20000102</td>\n",
       "      <td>293.135146</td>\n",
       "      <td>294.514719</td>\n",
       "      <td>A</td>\n",
       "      <td>mean</td>\n",
       "    </tr>\n",
       "    <tr>\n",
       "      <th>95</th>\n",
       "      <td>20000102</td>\n",
       "      <td>281.155961</td>\n",
       "      <td>289.642432</td>\n",
       "      <td>B</td>\n",
       "      <td>mean</td>\n",
       "    </tr>\n",
       "  </tbody>\n",
       "</table>\n",
       "<p>96 rows × 5 columns</p>\n",
       "</div>"
      ],
      "text/plain": [
       "        date  dewpoint_temperature_2m  temperature_2m ID reducer\n",
       "0   20000101               294.015627      294.976186  A    mean\n",
       "1   20000101               279.959294      288.851400  B    mean\n",
       "2   20000101               293.987549      294.621945  A    mean\n",
       "3   20000101               280.342099      288.354047  B    mean\n",
       "4   20000101               293.787338      294.461676  A    mean\n",
       "..       ...                      ...             ... ..     ...\n",
       "91  20000102               279.977142      292.932740  B    mean\n",
       "92  20000102               293.189405      294.636613  A    mean\n",
       "93  20000102               280.600600      291.527143  B    mean\n",
       "94  20000102               293.135146      294.514719  A    mean\n",
       "95  20000102               281.155961      289.642432  B    mean\n",
       "\n",
       "[96 rows x 5 columns]"
      ]
     },
     "execution_count": 381,
     "metadata": {},
     "output_type": "execute_result"
    }
   ],
   "source": [
    "tsPandas"
   ]
  },
  {
   "cell_type": "code",
   "execution_count": 382,
   "id": "8972a9ed-3c39-4ea0-ad6e-6949d5846fab",
   "metadata": {},
   "outputs": [
    {
     "data": {
      "text/plain": [
       "293.8017294666263"
      ]
     },
     "execution_count": 382,
     "metadata": {},
     "output_type": "execute_result"
    }
   ],
   "source": [
    "tsPandas[(tsPandas[\"ID\"]==\"A\")][0:24][\"dewpoint_temperature_2m\"].mean()"
   ]
  },
  {
   "cell_type": "code",
   "execution_count": 383,
   "id": "1cc78995-b924-4c33-8478-67d40fd7fd6d",
   "metadata": {},
   "outputs": [],
   "source": [
    "chose = ts.filter(ee.Filter.eq('date', \"20000101\"))\n",
    "chose_df =geemap.ee_to_pandas(chose)"
   ]
  },
  {
   "cell_type": "code",
   "execution_count": 384,
   "id": "0dfdf42a-f474-4c97-b83d-1b0de8bbeceb",
   "metadata": {},
   "outputs": [
    {
     "data": {
      "text/html": [
       "<div>\n",
       "<style scoped>\n",
       "    .dataframe tbody tr th:only-of-type {\n",
       "        vertical-align: middle;\n",
       "    }\n",
       "\n",
       "    .dataframe tbody tr th {\n",
       "        vertical-align: top;\n",
       "    }\n",
       "\n",
       "    .dataframe thead th {\n",
       "        text-align: right;\n",
       "    }\n",
       "</style>\n",
       "<table border=\"1\" class=\"dataframe\">\n",
       "  <thead>\n",
       "    <tr style=\"text-align: right;\">\n",
       "      <th></th>\n",
       "      <th>date</th>\n",
       "      <th>dewpoint_temperature_2m</th>\n",
       "      <th>temperature_2m</th>\n",
       "      <th>ID</th>\n",
       "      <th>reducer</th>\n",
       "    </tr>\n",
       "  </thead>\n",
       "  <tbody>\n",
       "    <tr>\n",
       "      <th>0</th>\n",
       "      <td>20000101</td>\n",
       "      <td>294.015627</td>\n",
       "      <td>294.976186</td>\n",
       "      <td>A</td>\n",
       "      <td>mean</td>\n",
       "    </tr>\n",
       "    <tr>\n",
       "      <th>1</th>\n",
       "      <td>20000101</td>\n",
       "      <td>279.959294</td>\n",
       "      <td>288.851400</td>\n",
       "      <td>B</td>\n",
       "      <td>mean</td>\n",
       "    </tr>\n",
       "    <tr>\n",
       "      <th>2</th>\n",
       "      <td>20000101</td>\n",
       "      <td>293.987549</td>\n",
       "      <td>294.621945</td>\n",
       "      <td>A</td>\n",
       "      <td>mean</td>\n",
       "    </tr>\n",
       "    <tr>\n",
       "      <th>3</th>\n",
       "      <td>20000101</td>\n",
       "      <td>280.342099</td>\n",
       "      <td>288.354047</td>\n",
       "      <td>B</td>\n",
       "      <td>mean</td>\n",
       "    </tr>\n",
       "    <tr>\n",
       "      <th>4</th>\n",
       "      <td>20000101</td>\n",
       "      <td>293.787338</td>\n",
       "      <td>294.461676</td>\n",
       "      <td>A</td>\n",
       "      <td>mean</td>\n",
       "    </tr>\n",
       "    <tr>\n",
       "      <th>5</th>\n",
       "      <td>20000101</td>\n",
       "      <td>280.517688</td>\n",
       "      <td>287.898757</td>\n",
       "      <td>B</td>\n",
       "      <td>mean</td>\n",
       "    </tr>\n",
       "    <tr>\n",
       "      <th>6</th>\n",
       "      <td>20000101</td>\n",
       "      <td>293.679768</td>\n",
       "      <td>294.005325</td>\n",
       "      <td>A</td>\n",
       "      <td>mean</td>\n",
       "    </tr>\n",
       "    <tr>\n",
       "      <th>7</th>\n",
       "      <td>20000101</td>\n",
       "      <td>280.719778</td>\n",
       "      <td>287.453577</td>\n",
       "      <td>B</td>\n",
       "      <td>mean</td>\n",
       "    </tr>\n",
       "    <tr>\n",
       "      <th>8</th>\n",
       "      <td>20000101</td>\n",
       "      <td>293.606595</td>\n",
       "      <td>293.884460</td>\n",
       "      <td>A</td>\n",
       "      <td>mean</td>\n",
       "    </tr>\n",
       "    <tr>\n",
       "      <th>9</th>\n",
       "      <td>20000101</td>\n",
       "      <td>280.597917</td>\n",
       "      <td>287.121620</td>\n",
       "      <td>B</td>\n",
       "      <td>mean</td>\n",
       "    </tr>\n",
       "    <tr>\n",
       "      <th>10</th>\n",
       "      <td>20000101</td>\n",
       "      <td>293.548023</td>\n",
       "      <td>293.898720</td>\n",
       "      <td>A</td>\n",
       "      <td>mean</td>\n",
       "    </tr>\n",
       "    <tr>\n",
       "      <th>11</th>\n",
       "      <td>20000101</td>\n",
       "      <td>280.454305</td>\n",
       "      <td>286.787501</td>\n",
       "      <td>B</td>\n",
       "      <td>mean</td>\n",
       "    </tr>\n",
       "    <tr>\n",
       "      <th>12</th>\n",
       "      <td>20000101</td>\n",
       "      <td>293.495730</td>\n",
       "      <td>293.955204</td>\n",
       "      <td>A</td>\n",
       "      <td>mean</td>\n",
       "    </tr>\n",
       "    <tr>\n",
       "      <th>13</th>\n",
       "      <td>20000101</td>\n",
       "      <td>280.329360</td>\n",
       "      <td>286.438701</td>\n",
       "      <td>B</td>\n",
       "      <td>mean</td>\n",
       "    </tr>\n",
       "    <tr>\n",
       "      <th>14</th>\n",
       "      <td>20000101</td>\n",
       "      <td>292.843251</td>\n",
       "      <td>293.758428</td>\n",
       "      <td>A</td>\n",
       "      <td>mean</td>\n",
       "    </tr>\n",
       "    <tr>\n",
       "      <th>15</th>\n",
       "      <td>20000101</td>\n",
       "      <td>280.208326</td>\n",
       "      <td>285.901077</td>\n",
       "      <td>B</td>\n",
       "      <td>mean</td>\n",
       "    </tr>\n",
       "    <tr>\n",
       "      <th>16</th>\n",
       "      <td>20000101</td>\n",
       "      <td>292.750440</td>\n",
       "      <td>293.683898</td>\n",
       "      <td>A</td>\n",
       "      <td>mean</td>\n",
       "    </tr>\n",
       "    <tr>\n",
       "      <th>17</th>\n",
       "      <td>20000101</td>\n",
       "      <td>279.814782</td>\n",
       "      <td>285.645999</td>\n",
       "      <td>B</td>\n",
       "      <td>mean</td>\n",
       "    </tr>\n",
       "    <tr>\n",
       "      <th>18</th>\n",
       "      <td>20000101</td>\n",
       "      <td>292.907836</td>\n",
       "      <td>293.772827</td>\n",
       "      <td>A</td>\n",
       "      <td>mean</td>\n",
       "    </tr>\n",
       "    <tr>\n",
       "      <th>19</th>\n",
       "      <td>20000101</td>\n",
       "      <td>279.464503</td>\n",
       "      <td>285.237103</td>\n",
       "      <td>B</td>\n",
       "      <td>mean</td>\n",
       "    </tr>\n",
       "    <tr>\n",
       "      <th>20</th>\n",
       "      <td>20000101</td>\n",
       "      <td>293.544796</td>\n",
       "      <td>294.915393</td>\n",
       "      <td>A</td>\n",
       "      <td>mean</td>\n",
       "    </tr>\n",
       "    <tr>\n",
       "      <th>21</th>\n",
       "      <td>20000101</td>\n",
       "      <td>279.129199</td>\n",
       "      <td>284.803891</td>\n",
       "      <td>B</td>\n",
       "      <td>mean</td>\n",
       "    </tr>\n",
       "    <tr>\n",
       "      <th>22</th>\n",
       "      <td>20000101</td>\n",
       "      <td>293.748696</td>\n",
       "      <td>295.893349</td>\n",
       "      <td>A</td>\n",
       "      <td>mean</td>\n",
       "    </tr>\n",
       "    <tr>\n",
       "      <th>23</th>\n",
       "      <td>20000101</td>\n",
       "      <td>280.100153</td>\n",
       "      <td>286.462893</td>\n",
       "      <td>B</td>\n",
       "      <td>mean</td>\n",
       "    </tr>\n",
       "    <tr>\n",
       "      <th>24</th>\n",
       "      <td>20000101</td>\n",
       "      <td>293.873790</td>\n",
       "      <td>296.492999</td>\n",
       "      <td>A</td>\n",
       "      <td>mean</td>\n",
       "    </tr>\n",
       "    <tr>\n",
       "      <th>25</th>\n",
       "      <td>20000101</td>\n",
       "      <td>277.802167</td>\n",
       "      <td>289.199728</td>\n",
       "      <td>B</td>\n",
       "      <td>mean</td>\n",
       "    </tr>\n",
       "    <tr>\n",
       "      <th>26</th>\n",
       "      <td>20000101</td>\n",
       "      <td>293.997892</td>\n",
       "      <td>297.221574</td>\n",
       "      <td>A</td>\n",
       "      <td>mean</td>\n",
       "    </tr>\n",
       "    <tr>\n",
       "      <th>27</th>\n",
       "      <td>20000101</td>\n",
       "      <td>277.512358</td>\n",
       "      <td>290.814044</td>\n",
       "      <td>B</td>\n",
       "      <td>mean</td>\n",
       "    </tr>\n",
       "    <tr>\n",
       "      <th>28</th>\n",
       "      <td>20000101</td>\n",
       "      <td>294.218284</td>\n",
       "      <td>297.239270</td>\n",
       "      <td>A</td>\n",
       "      <td>mean</td>\n",
       "    </tr>\n",
       "    <tr>\n",
       "      <th>29</th>\n",
       "      <td>20000101</td>\n",
       "      <td>278.184421</td>\n",
       "      <td>292.091955</td>\n",
       "      <td>B</td>\n",
       "      <td>mean</td>\n",
       "    </tr>\n",
       "    <tr>\n",
       "      <th>30</th>\n",
       "      <td>20000101</td>\n",
       "      <td>294.315985</td>\n",
       "      <td>296.776198</td>\n",
       "      <td>A</td>\n",
       "      <td>mean</td>\n",
       "    </tr>\n",
       "    <tr>\n",
       "      <th>31</th>\n",
       "      <td>20000101</td>\n",
       "      <td>278.933095</td>\n",
       "      <td>293.056988</td>\n",
       "      <td>B</td>\n",
       "      <td>mean</td>\n",
       "    </tr>\n",
       "    <tr>\n",
       "      <th>32</th>\n",
       "      <td>20000101</td>\n",
       "      <td>294.336528</td>\n",
       "      <td>296.940971</td>\n",
       "      <td>A</td>\n",
       "      <td>mean</td>\n",
       "    </tr>\n",
       "    <tr>\n",
       "      <th>33</th>\n",
       "      <td>20000101</td>\n",
       "      <td>279.596105</td>\n",
       "      <td>293.826111</td>\n",
       "      <td>B</td>\n",
       "      <td>mean</td>\n",
       "    </tr>\n",
       "    <tr>\n",
       "      <th>34</th>\n",
       "      <td>20000101</td>\n",
       "      <td>294.027349</td>\n",
       "      <td>297.441105</td>\n",
       "      <td>A</td>\n",
       "      <td>mean</td>\n",
       "    </tr>\n",
       "    <tr>\n",
       "      <th>35</th>\n",
       "      <td>20000101</td>\n",
       "      <td>279.272874</td>\n",
       "      <td>294.203486</td>\n",
       "      <td>B</td>\n",
       "      <td>mean</td>\n",
       "    </tr>\n",
       "    <tr>\n",
       "      <th>36</th>\n",
       "      <td>20000101</td>\n",
       "      <td>294.256761</td>\n",
       "      <td>297.390856</td>\n",
       "      <td>A</td>\n",
       "      <td>mean</td>\n",
       "    </tr>\n",
       "    <tr>\n",
       "      <th>37</th>\n",
       "      <td>20000101</td>\n",
       "      <td>279.393196</td>\n",
       "      <td>294.402309</td>\n",
       "      <td>B</td>\n",
       "      <td>mean</td>\n",
       "    </tr>\n",
       "    <tr>\n",
       "      <th>38</th>\n",
       "      <td>20000101</td>\n",
       "      <td>294.201877</td>\n",
       "      <td>296.435728</td>\n",
       "      <td>A</td>\n",
       "      <td>mean</td>\n",
       "    </tr>\n",
       "    <tr>\n",
       "      <th>39</th>\n",
       "      <td>20000101</td>\n",
       "      <td>279.986699</td>\n",
       "      <td>293.868561</td>\n",
       "      <td>B</td>\n",
       "      <td>mean</td>\n",
       "    </tr>\n",
       "    <tr>\n",
       "      <th>40</th>\n",
       "      <td>20000101</td>\n",
       "      <td>294.307308</td>\n",
       "      <td>296.223551</td>\n",
       "      <td>A</td>\n",
       "      <td>mean</td>\n",
       "    </tr>\n",
       "    <tr>\n",
       "      <th>41</th>\n",
       "      <td>20000101</td>\n",
       "      <td>280.101334</td>\n",
       "      <td>292.849117</td>\n",
       "      <td>B</td>\n",
       "      <td>mean</td>\n",
       "    </tr>\n",
       "    <tr>\n",
       "      <th>42</th>\n",
       "      <td>20000101</td>\n",
       "      <td>294.209633</td>\n",
       "      <td>295.909211</td>\n",
       "      <td>A</td>\n",
       "      <td>mean</td>\n",
       "    </tr>\n",
       "    <tr>\n",
       "      <th>43</th>\n",
       "      <td>20000101</td>\n",
       "      <td>280.482335</td>\n",
       "      <td>291.902860</td>\n",
       "      <td>B</td>\n",
       "      <td>mean</td>\n",
       "    </tr>\n",
       "    <tr>\n",
       "      <th>44</th>\n",
       "      <td>20000101</td>\n",
       "      <td>293.914920</td>\n",
       "      <td>295.452230</td>\n",
       "      <td>A</td>\n",
       "      <td>mean</td>\n",
       "    </tr>\n",
       "    <tr>\n",
       "      <th>45</th>\n",
       "      <td>20000101</td>\n",
       "      <td>280.510931</td>\n",
       "      <td>291.254164</td>\n",
       "      <td>B</td>\n",
       "      <td>mean</td>\n",
       "    </tr>\n",
       "    <tr>\n",
       "      <th>46</th>\n",
       "      <td>20000101</td>\n",
       "      <td>293.665532</td>\n",
       "      <td>294.985805</td>\n",
       "      <td>A</td>\n",
       "      <td>mean</td>\n",
       "    </tr>\n",
       "    <tr>\n",
       "      <th>47</th>\n",
       "      <td>20000101</td>\n",
       "      <td>280.823239</td>\n",
       "      <td>290.081872</td>\n",
       "      <td>B</td>\n",
       "      <td>mean</td>\n",
       "    </tr>\n",
       "  </tbody>\n",
       "</table>\n",
       "</div>"
      ],
      "text/plain": [
       "        date  dewpoint_temperature_2m  temperature_2m ID reducer\n",
       "0   20000101               294.015627      294.976186  A    mean\n",
       "1   20000101               279.959294      288.851400  B    mean\n",
       "2   20000101               293.987549      294.621945  A    mean\n",
       "3   20000101               280.342099      288.354047  B    mean\n",
       "4   20000101               293.787338      294.461676  A    mean\n",
       "5   20000101               280.517688      287.898757  B    mean\n",
       "6   20000101               293.679768      294.005325  A    mean\n",
       "7   20000101               280.719778      287.453577  B    mean\n",
       "8   20000101               293.606595      293.884460  A    mean\n",
       "9   20000101               280.597917      287.121620  B    mean\n",
       "10  20000101               293.548023      293.898720  A    mean\n",
       "11  20000101               280.454305      286.787501  B    mean\n",
       "12  20000101               293.495730      293.955204  A    mean\n",
       "13  20000101               280.329360      286.438701  B    mean\n",
       "14  20000101               292.843251      293.758428  A    mean\n",
       "15  20000101               280.208326      285.901077  B    mean\n",
       "16  20000101               292.750440      293.683898  A    mean\n",
       "17  20000101               279.814782      285.645999  B    mean\n",
       "18  20000101               292.907836      293.772827  A    mean\n",
       "19  20000101               279.464503      285.237103  B    mean\n",
       "20  20000101               293.544796      294.915393  A    mean\n",
       "21  20000101               279.129199      284.803891  B    mean\n",
       "22  20000101               293.748696      295.893349  A    mean\n",
       "23  20000101               280.100153      286.462893  B    mean\n",
       "24  20000101               293.873790      296.492999  A    mean\n",
       "25  20000101               277.802167      289.199728  B    mean\n",
       "26  20000101               293.997892      297.221574  A    mean\n",
       "27  20000101               277.512358      290.814044  B    mean\n",
       "28  20000101               294.218284      297.239270  A    mean\n",
       "29  20000101               278.184421      292.091955  B    mean\n",
       "30  20000101               294.315985      296.776198  A    mean\n",
       "31  20000101               278.933095      293.056988  B    mean\n",
       "32  20000101               294.336528      296.940971  A    mean\n",
       "33  20000101               279.596105      293.826111  B    mean\n",
       "34  20000101               294.027349      297.441105  A    mean\n",
       "35  20000101               279.272874      294.203486  B    mean\n",
       "36  20000101               294.256761      297.390856  A    mean\n",
       "37  20000101               279.393196      294.402309  B    mean\n",
       "38  20000101               294.201877      296.435728  A    mean\n",
       "39  20000101               279.986699      293.868561  B    mean\n",
       "40  20000101               294.307308      296.223551  A    mean\n",
       "41  20000101               280.101334      292.849117  B    mean\n",
       "42  20000101               294.209633      295.909211  A    mean\n",
       "43  20000101               280.482335      291.902860  B    mean\n",
       "44  20000101               293.914920      295.452230  A    mean\n",
       "45  20000101               280.510931      291.254164  B    mean\n",
       "46  20000101               293.665532      294.985805  A    mean\n",
       "47  20000101               280.823239      290.081872  B    mean"
      ]
     },
     "execution_count": 384,
     "metadata": {},
     "output_type": "execute_result"
    }
   ],
   "source": [
    "chose_df"
   ]
  },
  {
   "cell_type": "markdown",
   "id": "7124ec5e-c710-4b11-a3e7-69e70256cfb8",
   "metadata": {},
   "source": [
    "因为GEE很难调试，所以先来看看一些短代码，看看能得到什么样子的结果。"
   ]
  },
  {
   "cell_type": "code",
   "execution_count": 385,
   "id": "68e4efb1-381b-4eb8-ae95-ff61cfbf2fc4",
   "metadata": {},
   "outputs": [],
   "source": [
    "chose_reduce = chose.reduceColumns(**{\n",
    "    \"selectors\": ['ID', 'dewpoint_temperature_2m', \"temperature_2m\"],\n",
    "    # 重复2次为两项，第0项是id，不参与reduce的计算\n",
    "    \"reducer\": ee.Reducer.mean().repeat(2).group(**{\n",
    "                      'groupField': 0,\n",
    "                      'groupName': 'ID_'})}\n",
    ")"
   ]
  },
  {
   "cell_type": "code",
   "execution_count": 386,
   "id": "2a52be4a-1116-4985-acc2-626bb2ca8849",
   "metadata": {},
   "outputs": [
    {
     "data": {
      "text/plain": [
       "{'groups': [{'ID_': 'A', 'mean': [293.80172946662617, 295.43070458719734]},\n",
       "  {'ID_': 'B', 'mean': [279.7598398645175, 289.5211567362275]}]}"
      ]
     },
     "execution_count": 386,
     "metadata": {},
     "output_type": "execute_result"
    }
   ],
   "source": [
    "chose_reduce.getInfo()"
   ]
  },
  {
   "cell_type": "code",
   "execution_count": 387,
   "id": "49c72ceb-e727-4980-9eb8-f461e499442f",
   "metadata": {},
   "outputs": [
    {
     "data": {
      "text/plain": [
       "[{'ID_': 'A', 'mean': [293.80172946662617, 295.43070458719734]},\n",
       " {'ID_': 'B', 'mean': [279.7598398645175, 289.5211567362275]}]"
      ]
     },
     "execution_count": 387,
     "metadata": {},
     "output_type": "execute_result"
    }
   ],
   "source": [
    "chose_reduce_dict_lst = chose_reduce.values()[0]\n",
    "chose_reduce_dict_lst.getInfo()"
   ]
  },
  {
   "cell_type": "code",
   "execution_count": 391,
   "id": "680e7a1d-ce94-4b91-8a22-b61510c72eab",
   "metadata": {},
   "outputs": [
    {
     "data": {
      "text/plain": [
       "293.80172946662617"
      ]
     },
     "execution_count": 391,
     "metadata": {},
     "output_type": "execute_result"
    }
   ],
   "source": [
    "ee.Number(ee.List(ee.Dictionary(ee.List(chose_reduce_dict_lst)[0])[\"mean\"])[0]).getInfo()"
   ]
  },
  {
   "cell_type": "code",
   "execution_count": 389,
   "id": "c34ddc39-1fa0-4752-a817-ea9be2976ab6",
   "metadata": {},
   "outputs": [],
   "source": [
    "keys = [\"site_id\", \"dewpoint_temperature_2m\", \"temperature_2m\"]"
   ]
  },
  {
   "cell_type": "code",
   "execution_count": 392,
   "id": "c4e399d3-bcf5-4312-998c-004c06d15d5d",
   "metadata": {},
   "outputs": [],
   "source": [
    "data = ee.List(chose_reduce_dict_lst).map(\n",
    "    lambda d: ee.Dictionary(\n",
    "        {keys[0]: ee.Dictionary(d)[\"ID_\"], \n",
    "         # kelvin to celcius\n",
    "         keys[1]: ee.Number(ee.List(ee.Dictionary(d)[\"mean\"])[0]) - 273.15, \n",
    "         keys[2]:ee.List(ee.Dictionary(d)[\"mean\"])[1]}\n",
    "    )\n",
    ")"
   ]
  },
  {
   "cell_type": "code",
   "execution_count": 393,
   "id": "881d819b-5b88-4e69-988c-0fb5d60a0d12",
   "metadata": {},
   "outputs": [
    {
     "data": {
      "text/plain": [
       "<ee.featurecollection.FeatureCollection at 0x2a3b2012550>"
      ]
     },
     "execution_count": 393,
     "metadata": {},
     "output_type": "execute_result"
    }
   ],
   "source": [
    "csv_feature = data.map(lambda f: ee.Feature(None, f).set({\"date\": \"20000101\"}))\n",
    "csv_feat_col = ee.FeatureCollection(csv_feature)\n",
    "csv_feat_col"
   ]
  },
  {
   "cell_type": "code",
   "execution_count": 394,
   "id": "ecc5869c-b85b-4506-8ddf-bc77260a3d14",
   "metadata": {},
   "outputs": [
    {
     "data": {
      "text/plain": [
       "<ee.ee_list.List at 0x2a3b201c580>"
      ]
     },
     "execution_count": 394,
     "metadata": {},
     "output_type": "execute_result"
    }
   ],
   "source": [
    "csv_feature"
   ]
  },
  {
   "cell_type": "code",
   "execution_count": 395,
   "id": "74fdb3ff-bbca-4cd7-85a4-8c104ac11177",
   "metadata": {},
   "outputs": [],
   "source": [
    "csv_feat_col_df =geemap.ee_to_pandas(csv_feat_col)"
   ]
  },
  {
   "cell_type": "code",
   "execution_count": 396,
   "id": "1d99d50f-95cf-4027-8a0f-e1ce8366efe7",
   "metadata": {},
   "outputs": [
    {
     "data": {
      "text/html": [
       "<div>\n",
       "<style scoped>\n",
       "    .dataframe tbody tr th:only-of-type {\n",
       "        vertical-align: middle;\n",
       "    }\n",
       "\n",
       "    .dataframe tbody tr th {\n",
       "        vertical-align: top;\n",
       "    }\n",
       "\n",
       "    .dataframe thead th {\n",
       "        text-align: right;\n",
       "    }\n",
       "</style>\n",
       "<table border=\"1\" class=\"dataframe\">\n",
       "  <thead>\n",
       "    <tr style=\"text-align: right;\">\n",
       "      <th></th>\n",
       "      <th>date</th>\n",
       "      <th>dewpoint_temperature_2m</th>\n",
       "      <th>temperature_2m</th>\n",
       "      <th>site_id</th>\n",
       "    </tr>\n",
       "  </thead>\n",
       "  <tbody>\n",
       "    <tr>\n",
       "      <th>0</th>\n",
       "      <td>20000101</td>\n",
       "      <td>20.651729</td>\n",
       "      <td>295.430705</td>\n",
       "      <td>A</td>\n",
       "    </tr>\n",
       "    <tr>\n",
       "      <th>1</th>\n",
       "      <td>20000101</td>\n",
       "      <td>6.609840</td>\n",
       "      <td>289.521157</td>\n",
       "      <td>B</td>\n",
       "    </tr>\n",
       "  </tbody>\n",
       "</table>\n",
       "</div>"
      ],
      "text/plain": [
       "       date  dewpoint_temperature_2m  temperature_2m site_id\n",
       "0  20000101                20.651729      295.430705       A\n",
       "1  20000101                 6.609840      289.521157       B"
      ]
     },
     "execution_count": 396,
     "metadata": {},
     "output_type": "execute_result"
    }
   ],
   "source": [
    "csv_feat_col_df"
   ]
  },
  {
   "cell_type": "markdown",
   "id": "a0109096-e2b1-4759-9c14-896a28b21764",
   "metadata": {},
   "source": [
    "现在已经基本上清楚函数应该怎么写了，下面是汇总的实际运行的函数："
   ]
  },
  {
   "cell_type": "code",
   "execution_count": 397,
   "id": "31d5e843-d856-4442-9730-3d311f78e51d",
   "metadata": {},
   "outputs": [],
   "source": [
    "selectors = [\"ID\", 'dewpoint_temperature_2m', \"temperature_2m\"]\n",
    "def nestedMap(dayCol, feaCol):\n",
    "    def mapDayCol(oneDay):\n",
    "        chosen = feaCol.filter(ee.Filter.eq('date', oneDay))\n",
    "        chosen_reduce = chosen.reduceColumns(**{\n",
    "            \"selectors\": selectors,\n",
    "            \"reducer\": ee.Reducer.mean().repeat(2).group(\n",
    "                **{'groupField': 0,\n",
    "                   'groupName': \"ID\"})})\n",
    "        chosen_reduce_dict_lst = chosen_reduce.values()[0]\n",
    "        data = ee.List(chosen_reduce_dict_lst).map(\n",
    "            lambda d: ee.Dictionary(\n",
    "                {\"site_id\": ee.Dictionary(d)[\"ID\"], \n",
    "                 # kelvin to celcius\n",
    "                 selectors[1]: ee.Number(ee.List(ee.Dictionary(d)[\"mean\"])[0]) - ee.Number(273.15), \n",
    "                 selectors[2]:ee.List(ee.Dictionary(d)[\"mean\"])[1]}\n",
    "            )\n",
    "        )\n",
    "        csv_feature_lst = data.map(\n",
    "            lambda f: ee.Feature(None, f).set(\n",
    "                {\n",
    "                    \"date\": oneDay\n",
    "                }\n",
    "            )\n",
    "        )\n",
    "        csv_feat_col = ee.FeatureCollection(csv_feature_lst)\n",
    "        return csv_feat_col\n",
    "\n",
    "    # https://developers.google.com/earth-engine/apidocs/ee-featurecollection-merge\n",
    "    # If many collections need to be merged, consider placing them all in a collection and using FeatureCollection.flatten() instead.\n",
    "    return dayCol.map(mapDayCol).flatten()"
   ]
  },
  {
   "cell_type": "markdown",
   "id": "3669037e-73af-45a1-8959-40b6c39f324c",
   "metadata": {},
   "source": [
    "循环天数"
   ]
  },
  {
   "cell_type": "code",
   "execution_count": 398,
   "id": "8e1cbfef-9454-4f14-89df-ffa40f0d090e",
   "metadata": {},
   "outputs": [],
   "source": [
    "dates = days.map(lambda t: start_date.advance(t, \"day\").format(\"YYYYMMdd\"))"
   ]
  },
  {
   "cell_type": "code",
   "execution_count": 399,
   "id": "d3256d14-7b67-4d2b-8d05-e522659792b6",
   "metadata": {},
   "outputs": [
    {
     "data": {
      "text/plain": [
       "['20000101', '20000102']"
      ]
     },
     "execution_count": 399,
     "metadata": {},
     "output_type": "execute_result"
    }
   ],
   "source": [
    "dates.getInfo()"
   ]
  },
  {
   "cell_type": "code",
   "execution_count": 400,
   "id": "885fd278-8062-41cf-8272-150cb3c3f305",
   "metadata": {},
   "outputs": [],
   "source": [
    "reduce_to_daily = nestedMap(dates, ts)"
   ]
  },
  {
   "cell_type": "code",
   "execution_count": 401,
   "id": "2933d34a-0a17-4289-ad5f-af3e838d8277",
   "metadata": {},
   "outputs": [
    {
     "data": {
      "text/plain": [
       "<ee.ee_list.List at 0x2a3b2070b20>"
      ]
     },
     "execution_count": 401,
     "metadata": {},
     "output_type": "execute_result"
    }
   ],
   "source": [
    "reduce_to_daily"
   ]
  },
  {
   "cell_type": "code",
   "execution_count": 402,
   "id": "1d2184df-1e24-44ae-ac1e-c6ca2e543a0a",
   "metadata": {},
   "outputs": [],
   "source": [
    "save_reduce_to_daily = ee.FeatureCollection(reduce_to_daily).flatten()"
   ]
  },
  {
   "cell_type": "code",
   "execution_count": 403,
   "id": "4818ad95-ef2c-4162-8cd6-789e572b5d4a",
   "metadata": {},
   "outputs": [
    {
     "name": "stdout",
     "output_type": "stream",
     "text": [
      "Exporting era5_2nd_hourly_to_daily_sites3221_avg_mean_20000101-02... Please check the Task Manager from the JavaScript Code Editor.\n"
     ]
    }
   ],
   "source": [
    "# export to google drive\n",
    "geemap.ee_export_vector_to_drive(\n",
    "    save_reduce_to_daily,\n",
    "    description=\"era5_test_hourly_to_daily_mean_20000101-02\",\n",
    "    folder=\"export\",\n",
    "    fileFormat=\"csv\",\n",
    "    selectors=[\n",
    "        \"site_id\",\n",
    "        \"date\",\n",
    "        \"dewpoint_temperature_2m\",\n",
    "        \"temperature_2m\"\n",
    "    ],\n",
    ")"
   ]
  },
  {
   "cell_type": "markdown",
   "id": "fa2266a5-474b-4fe3-86de-03fe0edd39dd",
   "metadata": {},
   "source": [
    "这里看一眼结果"
   ]
  },
  {
   "cell_type": "code",
   "execution_count": 404,
   "id": "4b589342-a097-46ab-b0d2-b4d0fb94e8dc",
   "metadata": {},
   "outputs": [],
   "source": [
    "reduce_to_daily_df =geemap.ee_to_pandas(ee.FeatureCollection(save_reduce_to_daily))"
   ]
  },
  {
   "cell_type": "code",
   "execution_count": 405,
   "id": "7f8bdc24-ef2e-4f79-9e82-c9fb14e51395",
   "metadata": {},
   "outputs": [
    {
     "data": {
      "text/html": [
       "<div>\n",
       "<style scoped>\n",
       "    .dataframe tbody tr th:only-of-type {\n",
       "        vertical-align: middle;\n",
       "    }\n",
       "\n",
       "    .dataframe tbody tr th {\n",
       "        vertical-align: top;\n",
       "    }\n",
       "\n",
       "    .dataframe thead th {\n",
       "        text-align: right;\n",
       "    }\n",
       "</style>\n",
       "<table border=\"1\" class=\"dataframe\">\n",
       "  <thead>\n",
       "    <tr style=\"text-align: right;\">\n",
       "      <th></th>\n",
       "      <th>date</th>\n",
       "      <th>dewpoint_temperature_2m</th>\n",
       "      <th>temperature_2m</th>\n",
       "      <th>site_id</th>\n",
       "    </tr>\n",
       "  </thead>\n",
       "  <tbody>\n",
       "    <tr>\n",
       "      <th>0</th>\n",
       "      <td>20000101</td>\n",
       "      <td>20.651729</td>\n",
       "      <td>295.430705</td>\n",
       "      <td>A</td>\n",
       "    </tr>\n",
       "    <tr>\n",
       "      <th>1</th>\n",
       "      <td>20000101</td>\n",
       "      <td>6.609840</td>\n",
       "      <td>289.521157</td>\n",
       "      <td>B</td>\n",
       "    </tr>\n",
       "    <tr>\n",
       "      <th>2</th>\n",
       "      <td>20000102</td>\n",
       "      <td>20.060945</td>\n",
       "      <td>295.201239</td>\n",
       "      <td>A</td>\n",
       "    </tr>\n",
       "    <tr>\n",
       "      <th>3</th>\n",
       "      <td>20000102</td>\n",
       "      <td>6.245491</td>\n",
       "      <td>289.568314</td>\n",
       "      <td>B</td>\n",
       "    </tr>\n",
       "  </tbody>\n",
       "</table>\n",
       "</div>"
      ],
      "text/plain": [
       "       date  dewpoint_temperature_2m  temperature_2m site_id\n",
       "0  20000101                20.651729      295.430705       A\n",
       "1  20000101                 6.609840      289.521157       B\n",
       "2  20000102                20.060945      295.201239       A\n",
       "3  20000102                 6.245491      289.568314       B"
      ]
     },
     "execution_count": 405,
     "metadata": {},
     "output_type": "execute_result"
    }
   ],
   "source": [
    "reduce_to_daily_df"
   ]
  },
  {
   "cell_type": "code",
   "execution_count": null,
   "id": "59d3b4ce-2243-4d60-9a96-5577215205c7",
   "metadata": {},
   "outputs": [],
   "source": []
  }
 ],
 "metadata": {
  "kernelspec": {
   "display_name": "hydroGIS",
   "language": "python",
   "name": "hydrogis"
  },
  "language_info": {
   "codemirror_mode": {
    "name": "ipython",
    "version": 3
   },
   "file_extension": ".py",
   "mimetype": "text/x-python",
   "name": "python",
   "nbconvert_exporter": "python",
   "pygments_lexer": "ipython3",
   "version": "3.9.13"
  }
 },
 "nbformat": 4,
 "nbformat_minor": 5
}
