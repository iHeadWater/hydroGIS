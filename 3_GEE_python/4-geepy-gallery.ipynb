{
 "cells": [
  {
   "cell_type": "markdown",
   "id": "0ab35a1e-d3b3-4165-b1de-1a3c7ae74f57",
   "metadata": {},
   "source": [
    "# 一些实例\n",
    "\n",
    "本文主要记录一些平常自己写的，在实际中使用的代码。"
   ]
  },
  {
   "cell_type": "markdown",
   "id": "b7d5de17-1241-4c40-b2f6-006b0389fbcc",
   "metadata": {},
   "source": [
    "## 计算流域平均气象时间序列数据\n",
    "\n",
    "这里以Daymet 2天的网格数据，CAMELS 多个流域为例，计算这些流域这两天每日的forcing数据流域平均值。\n",
    "\n",
    "因为CAMELS文件比较大，所以这里没有传到github上，需要手动从[这里](https://ral.ucar.edu/sites/default/files/public/product-tool/camels-catchment-attributes-and-meteorology-for-large-sample-studies-dataset-downloads/basin_set_full_res.zip)下载 CAMELS 的shpfile ，然后在本文件夹下创建一个large_files文件夹，并将下好的CAMELS shpfile放到其中。\n",
    "\n",
    "也可以选择上传到GEE asset上，然后直接调用。"
   ]
  },
  {
   "cell_type": "code",
   "execution_count": 1,
   "id": "fe755f65-fb89-42e7-b015-f3daf825c67c",
   "metadata": {},
   "outputs": [
    {
     "data": {
      "application/vnd.jupyter.widget-view+json": {
       "model_id": "7fb540a86ebe462ea64230ab44bc38aa",
       "version_major": 2,
       "version_minor": 0
      },
      "text/plain": [
       "Map(center=[40, -100], controls=(WidgetControl(options=['position', 'transparent_bg'], widget=HBox(children=(T…"
      ]
     },
     "metadata": {},
     "output_type": "display_data"
    }
   ],
   "source": [
    "import ee\n",
    "import geemap\n",
    "Map = geemap.Map(center=[40, -100], zoom=4)\n",
    "Map"
   ]
  },
  {
   "cell_type": "code",
   "execution_count": 2,
   "id": "ffa0e75f-47a9-466d-9c21-85adfab5eafb",
   "metadata": {},
   "outputs": [],
   "source": [
    "# Add Earth Engine dataset\n",
    "daymet = ee.ImageCollection(\"NASA/ORNL/DAYMET_V4\")"
   ]
  },
  {
   "cell_type": "code",
   "execution_count": 3,
   "id": "c075e67d-42d9-468f-8d61-eb81eabf2a86",
   "metadata": {},
   "outputs": [
    {
     "data": {
      "text/plain": [
       "<ee.featurecollection.FeatureCollection at 0x1754f383c10>"
      ]
     },
     "execution_count": 3,
     "metadata": {},
     "output_type": "execute_result"
    }
   ],
   "source": [
    "# 本地文件\n",
    "# camels_shp = 'large_files/HCDN_nhru_final_671.shp'\n",
    "# camels = geemap.shp_to_ee(camels_shp)\n",
    "# 远程asset上\n",
    "camels = ee.FeatureCollection(\"users/wenyu_ouyang/HCDN_nhru_final_671\")\n",
    "camels"
   ]
  },
  {
   "cell_type": "code",
   "execution_count": 4,
   "id": "d0ba6941-bc2a-44e0-b2d4-dd2597dbbb88",
   "metadata": {},
   "outputs": [
    {
     "data": {
      "text/plain": [
       "<ee.ee_date.Date at 0x17553c1c820>"
      ]
     },
     "execution_count": 4,
     "metadata": {},
     "output_type": "execute_result"
    }
   ],
   "source": [
    "#maybe better to use Number to replace js number\n",
    "year = ee.Number(2000)\n",
    "month = ee.Number(1)\n",
    "day = ee.Number(1)\n",
    "start_date = ee.Date.fromYMD(year, month, day)\n",
    "end_date = start_date.advance(2, 'day')\n",
    "end_date"
   ]
  },
  {
   "cell_type": "code",
   "execution_count": 5,
   "id": "acedeab7-be74-4a3e-8ab8-4ade22333ac9",
   "metadata": {},
   "outputs": [],
   "source": [
    "days_num = end_date.difference(start_date, 'day')\n",
    "# count day from zero, and ee.List.sequence is a closed interval\n",
    "days = ee.List.sequence(ee.Number(0),days_num.add(-1))\n",
    "# get Imagecollection and filter, choose two days for test\n",
    "daymet_days = daymet.filter(ee.Filter.date(start_date, end_date))\n",
    "\n",
    "# show maximumTemperature, just for test\n",
    "maximumTemperature = daymet_days.select('tmax')\n",
    "maximumTemperatureVis = {\n",
    "  'min': -40.0,\n",
    "  'max': 30.0,\n",
    "  'palette': ['1621A2', 'white', 'cyan', 'green', 'yellow', 'orange', 'red'],\n",
    "}\n",
    "Map.setCenter(-110.21, 35.1, 4)\n",
    "Map.addLayer(maximumTemperature, maximumTemperatureVis, 'Maximum Temperature')"
   ]
  },
  {
   "cell_type": "code",
   "execution_count": 8,
   "id": "13a0a2dc-04af-4ce2-89ab-047e93afd9e0",
   "metadata": {},
   "outputs": [],
   "source": [
    "def nestedMappedReducer(featCol, imgCol):\n",
    "    def mapReducerOverImgCol(feat):\n",
    "        def imgReducer(img):\n",
    "            vals = img.reduceRegion(\n",
    "                reducer = ee.Reducer.mean(),\n",
    "                geometry = feat.geometry(),\n",
    "                scale = 1000\n",
    "            )\n",
    "            return ee.Feature(None, vals).set({\n",
    "                \"system:time_start\": img.get(\"system:time_start\"),\n",
    "                \"hru_id\" : feat.get(\"hru_id\")\n",
    "            })\n",
    "        return imgCol.map(imgReducer);\n",
    "    return featCol.map(mapReducerOverImgCol).flatten()"
   ]
  },
  {
   "cell_type": "markdown",
   "id": "6aabd211-2b54-46cd-8f81-59b440fe43ea",
   "metadata": {},
   "source": [
    "执行函数并导出到 google drive，这样本地可以关闭，远程也在运行了，很适合较长时间的计算。"
   ]
  },
  {
   "cell_type": "code",
   "execution_count": 9,
   "id": "a5a7f27e-2e80-4296-a201-c354a5de621d",
   "metadata": {},
   "outputs": [
    {
     "name": "stdout",
     "output_type": "stream",
     "text": [
      "Exporting daymet_camels_mean_20000101-02new...\n"
     ]
    }
   ],
   "source": [
    "daymet_regions = nestedMappedReducer(camels, daymet_days)\n",
    "#export to google drive\n",
    "geemap.ee_export_vector_to_drive(\n",
    "    ee_object=daymet_regions, description=\"daymet_camels_mean_20000101-02new\", folder=\"export\", file_format=\"csv\", \n",
    "    selectors=[\"hru_id\",\"system:time_start\",\"dayl\",\"prcp\",\"srad\",\"swe\",\"tmax\",\"tmin\",\"vp\"]\n",
    ")"
   ]
  },
  {
   "cell_type": "markdown",
   "id": "2cc39b02-671c-4e99-99aa-d63b681e35d1",
   "metadata": {},
   "source": [
    "来自GEE的建议，使用reduceRegions可能比reduceRegion更快一些，但是这里不方便设置每个feature的time_start和hru_id，应该还是需要对featurecollection加一个map函数，所以暂时就不尝试了。\n",
    "\n",
    "```Javascript\n",
    "results = daymet_days.map(function(img) {\n",
    "    return img.reduceRegions({\n",
    "        ...\n",
    "    });\n",
    "});\n",
    "```\n",
    "\n",
    "上面给出的是JS代码，关于map和reduce，尤其是嵌套的js代码转python代码，可以参考这里：https://gis.stackexchange.com/questions/365121/how-to-nest-mapped-functions-with-the-earth-engine-python-api"
   ]
  }
 ],
 "metadata": {
  "kernelspec": {
   "display_name": "Python 3",
   "language": "python",
   "name": "python3"
  },
  "language_info": {
   "codemirror_mode": {
    "name": "ipython",
    "version": 3
   },
   "file_extension": ".py",
   "mimetype": "text/x-python",
   "name": "python",
   "nbconvert_exporter": "python",
   "pygments_lexer": "ipython3",
   "version": "3.8.10"
  }
 },
 "nbformat": 4,
 "nbformat_minor": 5
}
