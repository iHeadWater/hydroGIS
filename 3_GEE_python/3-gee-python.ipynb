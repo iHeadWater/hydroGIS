{
 "cells": [
  {
   "cell_type": "markdown",
   "metadata": {},
   "source": [
    "# GEE python\n",
    "\n",
    "GEE 也有python接口，可以和command shell，web application和jupyter交互。和JS相比，python API可以在脚本间分享代码，允许序列调用GEE，有很多绘图选项，比如matplotlib，seaborn，plotly，bokeh，pygal，ggplot和altair等，可以常用python库一起使用。最直接的调用GEE的方式可以查看GEE原文档 [Python installation](https://developers.google.com/earth-engine/python_install)，这里主要参考[GEEMAP](https://github.com/giswqs/geemap)，记录如何使用吴秋生老师开发的geemap，教程在这里：[mdpi-gee.pdf](https://spatial.utk.edu/ppt/mdpi-gee.pdf)，还有[bilibili geemap](https://space.bilibili.com/527404442/channel/detail?cid=132674)，以此简单记录下关于GEE python的使用。\n",
    "\n",
    "## geemap Installation\n",
    "\n",
    "geemap 可以看成是gee python接口的高级封装，所以自然要先安装gee python接口所需要的东西。\n",
    "\n",
    "有两种方式可以快速上手，一种是在云端运行，一种是本地。云端运行需要配置colab，这部分可以参考 [Earth Engine Python API & Colab](https://docs.google.com/presentation/d/e/2PACX-1vTFAWIEBg3aVhY5dImnTzTDmbgnu9A4pEOW6OUdpoCLvxD1ot3UI0qbcD90oXsR0CJdWQz-kAUE_2tb/pub?start=false&loop=false&delayms=3000)。然后在云端配置GEE环境，并验证。colab每次重新加载进来之后都需要重新配置环境。所以目前个人觉得不是特别方便，可能配合使用google云服务比较好，这里还是以本地为主了。\n",
    "\n",
    "最基础的GEE python接口需要的环境一般有：\n",
    "\n",
    "- python\n",
    "- 包管理器（conda/pip）\n",
    "- GEE Python API\n",
    "- Python数据科学计算库\n",
    "\n",
    "这些在本repo的environment.yml文件中都已经包含了，也已经包含geemap了，所以在运行本repo前的安装中都已经安装过了，即在项目根目录下打开终端，执行以下语句即可：\n",
    "\n",
    "```Shell\n",
    "conda env create -f environment.yml\n",
    "```\n",
    "\n",
    "安装过了就不必再执行了。"
   ]
  },
  {
   "cell_type": "code",
   "execution_count": 1,
   "metadata": {},
   "outputs": [],
   "source": [
    "import ee"
   ]
  },
  {
   "cell_type": "markdown",
   "metadata": {},
   "source": [
    "导入ee没有报错，说明已经安装了gee的python接口了。\n",
    "\n",
    "然后需要获取credentials才可以使用API，这是一个授权本地代表谷歌账号访问GEE的凭证。\n",
    "\n",
    "原始方法是在终端使用下面命令：\n",
    "\n",
    "``` Shell\n",
    "earthengine authenticate\n",
    "```\n",
    "\n",
    "按照提示操作，会得到一个激活码，复制这个码，然后切回终端，粘贴这个激活码。点击回车，等待验证即可。不过这里因为使用了geemap，所以直接执行下面的语句，会调用授权过程相关的代码，能起到同样的作用，如下所示。\n",
    "\n",
    "因为我不是第一次授权，所以下面直接就跳出来GEE的地图界面了。如果你是第一次授权可以参考吴秋生老师的原视频：https://www.bilibili.com/video/BV1fi4y147rL"
   ]
  },
  {
   "cell_type": "code",
   "execution_count": 2,
   "metadata": {},
   "outputs": [],
   "source": [
    "import geemap"
   ]
  },
  {
   "cell_type": "code",
   "execution_count": 3,
   "metadata": {},
   "outputs": [
    {
     "data": {
      "application/vnd.jupyter.widget-view+json": {
       "model_id": "f0515165254647abbeedd2773ed7724b",
       "version_major": 2,
       "version_minor": 0
      },
      "text/plain": [
       "Map(center=[40, -100], controls=(WidgetControl(options=['position', 'transparent_bg'], widget=HBox(children=(T…"
      ]
     },
     "metadata": {},
     "output_type": "display_data"
    }
   ],
   "source": [
    "m = geemap.Map()\n",
    "m"
   ]
  },
  {
   "cell_type": "markdown",
   "metadata": {},
   "source": [
    "上面的地图是可交互的，可以试着在地图范围内滚动鼠标轮，就能实现地图缩放。总之，这样就安装好了 gee python接口和 geemap。"
   ]
  },
  {
   "cell_type": "markdown",
   "metadata": {},
   "source": [
    "## geemap 基本使用介绍\n",
    "\n",
    "开始geemap之前，值得一提的是原gee 本地命令是有命令行命令的，这个在官方文档中有详细的介绍，简单说一下常用的几个命令，剩余的在使用过程中如果又需要可以随时查看相关官方文档的介绍。官方文档地址：https://link.zhihu.com/?target=https%3A//developers.google.com/earth-engine/command_line  \n",
    "\n",
    "命令概览可以通过下面的命令行代码实现："
   ]
  },
  {
   "cell_type": "code",
   "execution_count": 4,
   "metadata": {},
   "outputs": [
    {
     "name": "stdout",
     "output_type": "stream",
     "text": [
      "usage: earthengine [-h] [--ee_config EE_CONFIG]\n",
      "                   [--service_account_file SERVICE_ACCOUNT_FILE]\n",
      "                   [--project PROJECT_OVERRIDE]\n",
      "                   {authenticate,acl,asset,cp,create,ls,licenses,du,mv,model,rm,set_project,task,unset_project,upload,upload_manifest,upload_table_manifest}\n",
      "                   ...\n",
      "\n",
      "Earth Engine Command Line Interface.\n",
      "\n",
      "optional arguments:\n",
      "  -h, --help            show this help message and exit\n",
      "  --ee_config EE_CONFIG\n",
      "                        Path to the earthengine configuration file. Defaults\n",
      "                        to \"~/.config\\earthengine\\credentials\".\n",
      "  --service_account_file SERVICE_ACCOUNT_FILE\n",
      "                        Path to a service account credentialsfile. Overrides\n",
      "                        any ee_config if specified.\n",
      "  --project PROJECT_OVERRIDE\n",
      "                        Specifies a Google Cloud Platform Project id to\n",
      "                        override the call.\n",
      "\n",
      "Commands:\n",
      "  {authenticate,acl,asset,cp,create,ls,licenses,du,mv,model,rm,set_project,task,unset_project,upload,upload_manifest,upload_table_manifest}\n",
      "    authenticate        Prompts the user to authorize access to Earth Engine\n",
      "                        via OAuth2.\n",
      "    acl                 Prints or updates the access control list of the\n",
      "                        specified asset.\n",
      "    asset               Prints or updates metadata associated with an Earth\n",
      "                        Engine asset.\n",
      "    cp                  Creates a new Earth Engine asset as a copy of another\n",
      "                        asset.\n",
      "    create              Creates assets and folders.\n",
      "    ls                  Prints the contents of a folder or collection.\n",
      "    licenses            Prints the name and license of all third party\n",
      "                        dependencies.\n",
      "    du                  Prints the size and names of all items in a given\n",
      "                        folder or collection.\n",
      "    mv                  Moves or renames an Earth Engine asset.\n",
      "    model               TensorFlow model related commands.\n",
      "    rm                  Deletes the specified assets.\n",
      "    set_project         Sets the default user project to be used for all API\n",
      "                        calls.\n",
      "    task                Prints information about or manages long-running\n",
      "                        tasks.\n",
      "    unset_project       UnSets the default user project to be used for all API\n",
      "                        calls.\n",
      "    upload              Uploads assets to Earth Engine.\n",
      "    upload_manifest     Uploads an image to Earth Engine using the given\n",
      "                        manifest file.\n",
      "    upload_table_manifest\n",
      "                        Uploads a table to Earth Engine using the given\n",
      "                        manifest file.\n"
     ]
    }
   ],
   "source": [
    "!earthengine --help"
   ]
  },
  {
   "cell_type": "markdown",
   "metadata": {},
   "source": [
    "几个常用工具：\n",
    "\n",
    "- authenticate:认证本地账户。\n",
    "- acl: \n",
    "    - get 查询资源的信息\n",
    "    - set 将资源设置为公共或者私有\n",
    "- asset: \n",
    "    - info 查看资源的属性\n",
    "    - set 为资源设置特殊属性字段\n",
    "- cp: 复制一份新的资源\n",
    "- mv: 重命名资源\n",
    "\n",
    "下面进入正题。\n",
    "\n",
    "### 底图展示\n",
    "\n",
    "首先是底图的展示。geemap集合了许多basemap，如下所示"
   ]
  },
  {
   "cell_type": "code",
   "execution_count": 9,
   "metadata": {},
   "outputs": [
    {
     "name": "stdout",
     "output_type": "stream",
     "text": [
      "dict_keys(['ROADMAP', 'SATELLITE', 'TERRAIN', 'HYBRID', 'ESRI', 'Esri Ocean', 'Esri Satellite', 'Esri Standard', 'Esri Terrain', 'Esri Transportation', 'Esri Topo World', 'Esri National Geographic', 'Esri Shaded Relief', 'Esri Physical Map', 'FWS NWI Wetlands', 'FWS NWI Wetlands Raster', 'Google Maps', 'Google Satellite', 'Google Terrain', 'Google Satellite Hybrid', 'NLCD 2016 CONUS Land Cover', 'NLCD 2013 CONUS Land Cover', 'NLCD 2011 CONUS Land Cover', 'NLCD 2008 CONUS Land Cover', 'NLCD 2006 CONUS Land Cover', 'NLCD 2004 CONUS Land Cover', 'NLCD 2001 CONUS Land Cover', 'USGS NAIP Imagery', 'USGS Hydrography', 'USGS 3DEP Elevation', 'OpenStreetMap.Mapnik', 'OpenStreetMap.BlackAndWhite', 'OpenStreetMap.DE', 'OpenStreetMap.France', 'OpenStreetMap.HOT', 'Gaode.Normal', 'Gaode.Satellite', 'OpenTopoMap', 'Hydda.Full', 'Hydda.Base', 'Esri.WorldStreetMap', 'Esri.DeLorme', 'Esri.WorldTopoMap', 'Esri.WorldImagery', 'Esri.NatGeoWorldMap', 'HikeBike.HikeBike', 'MtbMap', 'CartoDB.Positron', 'CartoDB.DarkMatter', 'NASAGIBS.ModisTerraTrueColorCR', 'NASAGIBS.ModisTerraBands367CR', 'NASAGIBS.ModisTerraBands721CR', 'NASAGIBS.ModisAquaTrueColorCR', 'NASAGIBS.ModisAquaBands721CR', 'NASAGIBS.ViirsTrueColorCR', 'NASAGIBS.ViirsEarthAtNight2012', 'NASAGIBS.BlueMarble3413', 'NASAGIBS.BlueMarble3031', 'NASAGIBS.BlueMarble', 'Strava.All', 'Strava.Ride', 'Strava.Run', 'Strava.Water', 'Strava.Winter', 'Stamen.Terrain', 'Stamen.Toner', 'Stamen.Watercolor'])\n"
     ]
    }
   ],
   "source": [
    "basemaps = geemap.basemaps.keys()\n",
    "print(basemaps)"
   ]
  },
  {
   "cell_type": "markdown",
   "metadata": {},
   "source": [
    "这里直接展示默认的GEE底图"
   ]
  },
  {
   "cell_type": "code",
   "execution_count": 5,
   "metadata": {},
   "outputs": [
    {
     "data": {
      "application/vnd.jupyter.widget-view+json": {
       "model_id": "5f04b782e2e54380a3bdd13e5c683f51",
       "version_major": 2,
       "version_minor": 0
      },
      "text/plain": [
       "Map(center=[40, -100], controls=(WidgetControl(options=['position', 'transparent_bg'], widget=HBox(children=(T…"
      ]
     },
     "metadata": {},
     "output_type": "display_data"
    }
   ],
   "source": [
    "import geemap\n",
    "\n",
    "Map = geemap.Map(center=[40, -100], zoom=4)\n",
    "Map"
   ]
  },
  {
   "cell_type": "markdown",
   "metadata": {},
   "source": [
    "### 导入图层\n",
    "\n",
    "可以尝试导入不同的数据，可以使用上面的交互地图左上角的数据搜索功能，如下图所示\n",
    "\n",
    "![](pictures/QQ截图20210122110809.png)\n",
    "\n",
    "也可以直接导入，如下代码所示："
   ]
  },
  {
   "cell_type": "code",
   "execution_count": 7,
   "metadata": {},
   "outputs": [],
   "source": [
    "import ee\n",
    "# Add Earth Engine dataset\n",
    "dem = ee.Image('USGS/SRTMGL1_003')\n",
    "landcover = ee.Image(\"ESA/GLOBCOVER_L4_200901_200912_V2_3\").select('landcover')\n",
    "landsat7 = ee.Image('LE7_TOA_5YEAR/1999_2003').select(['B1', 'B2', 'B3', 'B4', 'B5', 'B7'])\n",
    "states = ee.FeatureCollection(\"TIGER/2018/States\")\n",
    "\n",
    "# Set visualization parameters.\n",
    "vis_params = {\n",
    "  'min': 0,\n",
    "  'max': 4000,\n",
    "  'palette': ['006633', 'E5FFCC', '662A00', 'D8D8D8', 'F5F5F5']}\n",
    "\n",
    "# Add Earth Eninge layers to Map\n",
    "Map.addLayer(dem, vis_params, 'SRTM DEM', True, 0.5)\n",
    "Map.addLayer(landcover, {}, 'Land cover')\n",
    "Map.addLayer(landsat7, {'bands': ['B4', 'B3', 'B2'], 'min': 20, 'max': 200}, 'Landsat 7')\n",
    "Map.addLayer(states, {}, \"US States\")"
   ]
  },
  {
   "cell_type": "code",
   "execution_count": 8,
   "metadata": {},
   "outputs": [
    {
     "data": {
      "application/vnd.jupyter.widget-view+json": {
       "model_id": "5f04b782e2e54380a3bdd13e5c683f51",
       "version_major": 2,
       "version_minor": 0
      },
      "text/plain": [
       "Map(bottom=1880.0, center=[38.023754217706944, -96.02050781250001], controls=(WidgetControl(options=['position…"
      ]
     },
     "metadata": {},
     "output_type": "display_data"
    }
   ],
   "source": [
    "Map"
   ]
  },
  {
   "cell_type": "markdown",
   "metadata": {},
   "source": [
    "找到图层栏，如下图所示：\n",
    "\n",
    "![](pictures/QQ截图20210122111050.png)\n",
    "\n",
    "可以随意切换底图。"
   ]
  },
  {
   "cell_type": "markdown",
   "metadata": {},
   "source": [
    "## 一些示例\n",
    "\n",
    "接下来就简单记录自己平时用到的一些功能的样例，日常更新中。。。\n",
    "\n",
    "### js转python\n",
    "\n",
    "使用GEE一般都是从 https://code.earthengine.google.com/ 的工具开始的，所以开始的时候都是用的javascript编程，自己积累的程序也是JavaScript的，那么为了在python下使用GEE，就需要了解下怎么将JavaScript code转为python版本，可以参考[这里](https://geemap.org/notebooks/08_ee_js_to_ipynb/)。\n",
    "\n",
    "使用的js例子来自 [google/earthengine-api/javascript/src/examples](https://github.com/google/earthengine-api/tree/master/javascript/src/examples)。\n",
    "\n",
    "以tutorials/jrc_gsw文件夹下的js文件为例，这里已经copy到本文件夹下了。"
   ]
  },
  {
   "cell_type": "code",
   "execution_count": 10,
   "metadata": {},
   "outputs": [
    {
     "data": {
      "application/vnd.jupyter.widget-view+json": {
       "model_id": "97d170097c134e72b0ba09d09ec22162",
       "version_major": 2,
       "version_minor": 0
      },
      "text/plain": [
       "Output(layout=Layout(width='815px'))"
      ]
     },
     "metadata": {},
     "output_type": "display_data"
    }
   ],
   "source": [
    "import geemap\n",
    "geemap.show_youtube('RpIaalFk4H8')"
   ]
  },
  {
   "cell_type": "code",
   "execution_count": 21,
   "metadata": {},
   "outputs": [
    {
     "name": "stdout",
     "output_type": "stream",
     "text": [
      "Converting Earth Engine JavaScripts to Python scripts...\n",
      "\n",
      "Processing 1/8: E:\\Code\\hydroGIS\\GEE\\jrc_gsw\\ClippedComposite.js\n",
      "Processing 2/8: E:\\Code\\hydroGIS\\GEE\\jrc_gsw\\FromName.js\n",
      "Processing 3/8: E:\\Code\\hydroGIS\\GEE\\jrc_gsw\\ModisQaBands.js\n",
      "Processing 4/8: E:\\Code\\hydroGIS\\GEE\\jrc_gsw\\NormalizedDifference.js\n",
      "Processing 5/8: E:\\Code\\hydroGIS\\GEE\\jrc_gsw\\QualityMosaic.js\n",
      "Processing 6/8: E:\\Code\\hydroGIS\\GEE\\jrc_gsw\\tutorial_global_surface_water_02.js\n",
      "Processing 7/8: E:\\Code\\hydroGIS\\GEE\\jrc_gsw\\tutorial_global_surface_water_03.js\n",
      "Processing 8/8: E:\\Code\\hydroGIS\\GEE\\jrc_gsw\\tutorial_global_surface_water_04.js\n",
      "Python scripts saved at: E:\\Code\\hydroGIS\\GEE\\jrc_gsw\n"
     ]
    }
   ],
   "source": [
    "import os\n",
    "from geemap.conversion import *\n",
    "\n",
    "# Create a temporary working directory\n",
    "work_dir = os.path.join(os.getcwd(), 'jrc_gsw')\n",
    "# Earth Engine JavaScript examples\n",
    "js_dir = get_js_examples(out_dir=work_dir) \n",
    "\n",
    "# Convert all Earth Engine JavaScripts in a folder recursively to Python scripts.\n",
    "js_to_python_dir(in_dir=js_dir, out_dir=js_dir)\n",
    "print(\"Python scripts saved at: {}\".format(js_dir))"
   ]
  },
  {
   "cell_type": "markdown",
   "metadata": {},
   "source": [
    "可以看到已经自动将所有的js文件转为 python 文件了，不过geemap还自动添加了几个文件，暂时不知道什么原因，可以不管它。\n",
    "\n",
    "另外，js文件还可以转为jupyter 文件来使用，"
   ]
  },
  {
   "cell_type": "code",
   "execution_count": 22,
   "metadata": {},
   "outputs": [
    {
     "name": "stdout",
     "output_type": "stream",
     "text": [
      "Converting Earth Engine Python scripts to Jupyter notebooks ...\n",
      "\n",
      "Processing 1/9: E:\\Code\\hydroGIS\\GEE\\jrc_gsw\\ClippedComposite_qgis.py\n",
      "\n",
      "Processing 2/9: E:\\Code\\hydroGIS\\GEE\\jrc_gsw\\FromName_qgis.py\n",
      "\n",
      "Processing 3/9: E:\\Code\\hydroGIS\\GEE\\jrc_gsw\\ModisQaBands_qgis.py\n",
      "\n",
      "Processing 4/9: E:\\Code\\hydroGIS\\GEE\\jrc_gsw\\NormalizedDifference_qgis.py\n",
      "\n",
      "Processing 5/9: E:\\Code\\hydroGIS\\GEE\\jrc_gsw\\QualityMosaic_qgis.py\n",
      "\n",
      "Processing 6/9: E:\\Code\\hydroGIS\\GEE\\jrc_gsw\\tutorial_global_surface_water_02_qgis.py\n",
      "\n",
      "Processing 7/9: E:\\Code\\hydroGIS\\GEE\\jrc_gsw\\tutorial_global_surface_water_03_qgis.py\n",
      "\n",
      "Processing 8/9: E:\\Code\\hydroGIS\\GEE\\jrc_gsw\\tutorial_global_surface_water_04_qgis.py\n",
      "\n",
      "Processing 9/9: E:\\Code\\hydroGIS\\GEE\\jrc_gsw\\.ipynb_checkpoints\\tutorial_global_surface_water_02_qgis-checkpoint.py\n",
      "\n",
      "Executing Earth Engine Jupyter notebooks ...\n",
      "\n",
      "Processing 1/9: E:\\Code\\hydroGIS\\GEE\\jrc_gsw\\ClippedComposite.ipynb ...\n",
      "\n",
      "Processing 2/9: E:\\Code\\hydroGIS\\GEE\\jrc_gsw\\FromName.ipynb ...\n",
      "\n",
      "Processing 3/9: E:\\Code\\hydroGIS\\GEE\\jrc_gsw\\ModisQaBands.ipynb ...\n",
      "\n",
      "Processing 4/9: E:\\Code\\hydroGIS\\GEE\\jrc_gsw\\NormalizedDifference.ipynb ...\n",
      "\n",
      "Processing 5/9: E:\\Code\\hydroGIS\\GEE\\jrc_gsw\\QualityMosaic.ipynb ...\n",
      "\n",
      "Processing 6/9: E:\\Code\\hydroGIS\\GEE\\jrc_gsw\\tutorial_global_surface_water_02.ipynb ...\n",
      "\n",
      "Processing 7/9: E:\\Code\\hydroGIS\\GEE\\jrc_gsw\\tutorial_global_surface_water_03.ipynb ...\n",
      "\n",
      "Processing 8/9: E:\\Code\\hydroGIS\\GEE\\jrc_gsw\\tutorial_global_surface_water_04.ipynb ...\n",
      "\n",
      "Processing 9/9: E:\\Code\\hydroGIS\\GEE\\jrc_gsw\\.ipynb_checkpoints\\tutorial_global_surface_water_02-checkpoint.ipynb ...\n",
      "\n"
     ]
    }
   ],
   "source": [
    "# Convert all Earth Engine Python scripts in a folder recursively to Jupyter notebooks.\n",
    "nb_template = get_nb_template()  # Get the notebook template from the package folder.\n",
    "py_to_ipynb_dir(js_dir, nb_template)\n",
    "\n",
    "# Execute all Jupyter notebooks in a folder recursively and save the output cells.\n",
    "execute_notebook_dir(in_dir=js_dir)"
   ]
  },
  {
   "cell_type": "markdown",
   "metadata": {},
   "source": [
    "### 导入shpfile\n",
    "\n",
    "使用GEE js时，如果需要导入自己的shpfile，则需通过gee的assets上传自己的shpfile，现在使用geemap可以直接将本地的shpfile转换成gee的对象来使用。"
   ]
  },
  {
   "cell_type": "code",
   "execution_count": 26,
   "metadata": {},
   "outputs": [
    {
     "data": {
      "application/vnd.jupyter.widget-view+json": {
       "model_id": "abef41ad87da4a0dbc68f06d126600b4",
       "version_major": 2,
       "version_minor": 0
      },
      "text/plain": [
       "Map(center=[40, -100], controls=(WidgetControl(options=['position', 'transparent_bg'], widget=HBox(children=(T…"
      ]
     },
     "metadata": {},
     "output_type": "display_data"
    }
   ],
   "source": [
    "import geemap\n",
    "Map = geemap.Map()\n",
    "countries_shp = 'data/countries.shp'\n",
    "countries = geemap.shp_to_ee(countries_shp)\n",
    "Map.addLayer(countries, {}, 'Countries')\n",
    "Map"
   ]
  },
  {
   "cell_type": "markdown",
   "metadata": {},
   "source": [
    "可以查看下countries的数据类型："
   ]
  },
  {
   "cell_type": "code",
   "execution_count": 46,
   "metadata": {},
   "outputs": [
    {
     "data": {
      "text/plain": [
       "ee.featurecollection.FeatureCollection"
      ]
     },
     "execution_count": 46,
     "metadata": {},
     "output_type": "execute_result"
    }
   ],
   "source": [
    "type(countries)"
   ]
  },
  {
   "cell_type": "markdown",
   "metadata": {},
   "source": [
    "可以看到正是 GEE 中的FeatureCollection"
   ]
  },
  {
   "cell_type": "markdown",
   "metadata": {},
   "source": [
    "可以将ee对象导出到csv/json/kml/kmz等文件"
   ]
  },
  {
   "cell_type": "code",
   "execution_count": 29,
   "metadata": {},
   "outputs": [
    {
     "name": "stdout",
     "output_type": "stream",
     "text": [
      "Generating URL ...\n",
      "Downloading data from https://earthengine.googleapis.com/v1alpha/projects/earthengine-legacy/tables/37b6002ac80b9ebb6ff81c734997e31a-9d4c9272a22e593e0c13ecdd215c1e9a:getFeatures\n",
      "Please wait ...\n",
      "Data downloaded to E:\\Code\\hydroGIS\\GEE\\data\\countries.csv\n"
     ]
    }
   ],
   "source": [
    "geemap.ee_export_vector(countries, filename='data/countries.csv')"
   ]
  },
  {
   "cell_type": "code",
   "execution_count": 30,
   "metadata": {},
   "outputs": [
    {
     "name": "stdout",
     "output_type": "stream",
     "text": [
      "Generating URL ...\n",
      "Downloading data from https://earthengine.googleapis.com/v1alpha/projects/earthengine-legacy/tables/4267856f7fcc61b722160ccd951ead2f-c8da0f5b9b72cc184f8e9c3ee3287d41:getFeatures\n",
      "Please wait ...\n",
      "Data downloaded to E:\\Code\\hydroGIS\\GEE\\data\\countries.geojson\n"
     ]
    }
   ],
   "source": [
    "geemap.ee_export_vector(countries, filename='data/countries.geojson')"
   ]
  },
  {
   "cell_type": "markdown",
   "metadata": {},
   "source": [
    "可以看到 数据还是从GEE上下载下来的。自己不需要主动点击给出的url，那会下载一个zipfile，而命令已经下载数据并解压了。"
   ]
  },
  {
   "cell_type": "markdown",
   "metadata": {},
   "source": [
    "### 下载Image和ImageCollection\n",
    "\n",
    "下载一个指定区域的Image："
   ]
  },
  {
   "cell_type": "code",
   "execution_count": 31,
   "metadata": {},
   "outputs": [],
   "source": [
    "import ee\n",
    "import geemap\n",
    "import os"
   ]
  },
  {
   "cell_type": "code",
   "execution_count": 32,
   "metadata": {},
   "outputs": [
    {
     "data": {
      "application/vnd.jupyter.widget-view+json": {
       "model_id": "6f0809ac579f4cd2afc7137b91d7c83f",
       "version_major": 2,
       "version_minor": 0
      },
      "text/plain": [
       "Map(center=[40, -100], controls=(WidgetControl(options=['position', 'transparent_bg'], widget=HBox(children=(T…"
      ]
     },
     "metadata": {},
     "output_type": "display_data"
    }
   ],
   "source": [
    "Map = geemap.Map()\n",
    "Map"
   ]
  },
  {
   "cell_type": "code",
   "execution_count": 33,
   "metadata": {},
   "outputs": [],
   "source": [
    "image = ee.Image('LE7_TOA_5YEAR/1999_2003')\n",
    "\n",
    "landsat_vis = {\n",
    "    'bands': ['B4', 'B3', 'B2'], \n",
    "    'gamma': 1.4\n",
    "}\n",
    "Map.addLayer(image, landsat_vis, \"LE7_TOA_5YEAR/1999_2003\", True, 0.7)"
   ]
  },
  {
   "cell_type": "code",
   "execution_count": 34,
   "metadata": {},
   "outputs": [],
   "source": [
    "# 手动绘制一个feature\n",
    "feature = Map.draw_last_feature\n",
    "\n",
    "if feature is None:\n",
    "    # 当然也可以用数字指定\n",
    "    geom = ee.Geometry.Polygon([[[-115.413031, 35.889467],\n",
    "    [-115.413031, 36.543157],\n",
    "    [-114.034328, 36.543157],\n",
    "    [-114.034328, 35.889467],\n",
    "    [-115.413031, 35.889467]]])\n",
    "    feature = ee.Feature(geom, {})\n",
    "\n",
    "roi = feature.geometry()"
   ]
  },
  {
   "cell_type": "code",
   "execution_count": 39,
   "metadata": {},
   "outputs": [],
   "source": [
    "out_dir = os.path.join(os.path.expanduser('~'), 'Downloads')\n",
    "filename = os.path.join(out_dir, 'landsat.tif')"
   ]
  },
  {
   "cell_type": "markdown",
   "metadata": {},
   "source": [
    "下面导出一个image的所有波段"
   ]
  },
  {
   "cell_type": "code",
   "execution_count": 40,
   "metadata": {},
   "outputs": [
    {
     "name": "stdout",
     "output_type": "stream",
     "text": [
      "Generating URL ...\n",
      "Downloading data from https://earthengine.googleapis.com/v1alpha/projects/earthengine-legacy/thumbnails/b8ecd88383112ad3249938dcb323242a-47f16e11f745b994fa79179ff590fba6:getPixels\n",
      "Please wait ...\n",
      "Data downloaded to C:\\Users\\11445\\Downloads\\landsat.tif\n"
     ]
    }
   ],
   "source": [
    "image = image.clip(roi).unmask()\n",
    "geemap.ee_export_image(image, filename=filename, scale=90, region=roi, file_per_band=False)"
   ]
  },
  {
   "cell_type": "markdown",
   "metadata": {},
   "source": [
    "也可以导出image到google drive中，这种方式比较适合自己处理大批量数据的时候，自己电脑上可能会断网，尤其是科学上网不是很稳定的时候，命令会发送到GEE上，在GEE端执行，不过这个下载时间会比下载到本地长不少。"
   ]
  },
  {
   "cell_type": "code",
   "execution_count": 41,
   "metadata": {},
   "outputs": [
    {
     "name": "stdout",
     "output_type": "stream",
     "text": [
      "Exporting landsat ...\n"
     ]
    }
   ],
   "source": [
    "geemap.ee_export_image_to_drive(image, description='landsat', folder='export', region=roi, scale=30)"
   ]
  },
  {
   "cell_type": "markdown",
   "metadata": {},
   "source": [
    "下载ee.ImageCollection类似，可以参考这里：https://geemap.org/notebooks/11_export_image/"
   ]
  },
  {
   "cell_type": "markdown",
   "metadata": {},
   "source": [
    "### zonal statistics\n",
    "\n",
    "执行区域统计，即一个shpfile内的栅格数据的统计，是很常用的运算。"
   ]
  },
  {
   "cell_type": "code",
   "execution_count": 42,
   "metadata": {},
   "outputs": [],
   "source": [
    "import ee\n",
    "import geemap\n",
    "import os"
   ]
  },
  {
   "cell_type": "code",
   "execution_count": 43,
   "metadata": {},
   "outputs": [
    {
     "data": {
      "application/vnd.jupyter.widget-view+json": {
       "model_id": "e2ace19316f4429db1b9a8ed27383783",
       "version_major": 2,
       "version_minor": 0
      },
      "text/plain": [
       "Map(center=[40, -100], controls=(WidgetControl(options=['position', 'transparent_bg'], widget=HBox(children=(T…"
      ]
     },
     "metadata": {},
     "output_type": "display_data"
    }
   ],
   "source": [
    "Map = geemap.Map()\n",
    "Map"
   ]
  },
  {
   "cell_type": "code",
   "execution_count": 44,
   "metadata": {},
   "outputs": [],
   "source": [
    "# Add Earth Engine dataset\n",
    "dem = ee.Image('USGS/SRTMGL1_003')\n",
    "\n",
    "# Set visualization parameters.\n",
    "dem_vis = {\n",
    "  'min': 0,\n",
    "  'max': 4000,\n",
    "  'palette': ['006633', 'E5FFCC', '662A00', 'D8D8D8', 'F5F5F5']}\n",
    "\n",
    "# Add Earth Engine DEM to map\n",
    "Map.addLayer(dem, dem_vis, 'SRTM DEM')\n",
    "\n",
    "# Add Landsat data to map\n",
    "landsat = ee.Image('LE7_TOA_5YEAR/1999_2003')\n",
    "\n",
    "landsat_vis = {\n",
    "    'bands': ['B4', 'B3', 'B2'], \n",
    "    'gamma': 1.4\n",
    "}\n",
    "Map.addLayer(landsat, landsat_vis, \"LE7_TOA_5YEAR/1999_2003\")\n",
    "\n",
    "states = ee.FeatureCollection(\"TIGER/2018/States\")\n",
    "Map.addLayer(states, {}, 'US States')"
   ]
  },
  {
   "cell_type": "code",
   "execution_count": 45,
   "metadata": {},
   "outputs": [
    {
     "name": "stdout",
     "output_type": "stream",
     "text": [
      "Computing statistics ...\n",
      "Generating URL ...\n",
      "Downloading data from https://earthengine.googleapis.com/v1alpha/projects/earthengine-legacy/tables/12c2b4c69f8909de6757f0ea4a348aa8-618515211f33fce9706b1f43352d94ea:getFeatures\n",
      "Please wait ...\n",
      "Data downloaded to C:\\Users\\11445\\Downloads\\dem_stats.csv\n"
     ]
    }
   ],
   "source": [
    "out_dir = os.path.join(os.path.expanduser('~'), 'Downloads')\n",
    "out_dem_stats = os.path.join(out_dir, 'dem_stats.csv')  \n",
    "\n",
    "if not os.path.exists(out_dir):\n",
    "    os.makedirs(out_dir)\n",
    "\n",
    "# Allowed output formats: csv, shp, json, kml, kmz\n",
    "# Allowed statistics type: MEAN, MAXIMUM, MINIMUM, MEDIAN, STD, MIN_MAX, VARIANCE, SUM\n",
    "geemap.zonal_statistics(dem, states, out_dem_stats, statistics_type='MEAN', scale=1000)"
   ]
  }
 ],
 "metadata": {
  "kernelspec": {
   "display_name": "Python 3",
   "language": "python",
   "name": "python3"
  },
  "language_info": {
   "codemirror_mode": {
    "name": "ipython",
    "version": 3
   },
   "file_extension": ".py",
   "mimetype": "text/x-python",
   "name": "python",
   "nbconvert_exporter": "python",
   "pygments_lexer": "ipython3",
   "version": "3.8.10"
  }
 },
 "nbformat": 4,
 "nbformat_minor": 4
}
