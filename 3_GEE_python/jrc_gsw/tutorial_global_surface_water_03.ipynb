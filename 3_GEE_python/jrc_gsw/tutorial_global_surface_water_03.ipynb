{
  "cells": [
    {
      "cell_type": "markdown",
      "metadata": {},
      "source": [
        "<table class=\"ee-notebook-buttons\" align=\"left\">\n",
        "    <td><a target=\"_blank\"  href=\"https://github.com/giswqs/geemap/tree/master/examples/template/template.ipynb\"><img width=32px src=\"https://www.tensorflow.org/images/GitHub-Mark-32px.png\" /> View source on GitHub</a></td>\n",
        "    <td><a target=\"_blank\"  href=\"https://nbviewer.jupyter.org/github/giswqs/geemap/blob/master/examples/template/template.ipynb\"><img width=26px src=\"https://upload.wikimedia.org/wikipedia/commons/thumb/3/38/Jupyter_logo.svg/883px-Jupyter_logo.svg.png\" />Notebook Viewer</a></td>\n",
        "    <td><a target=\"_blank\"  href=\"https://colab.research.google.com/github/giswqs/geemap/blob/master/examples/template/template.ipynb\"><img src=\"https://www.tensorflow.org/images/colab_logo_32px.png\" /> Run in Google Colab</a></td>\n",
        "</table>"
      ]
    },
    {
      "cell_type": "markdown",
      "metadata": {},
      "source": [
        "## Install Earth Engine API and geemap\n",
        "Install the [Earth Engine Python API](https://developers.google.com/earth-engine/python_install) and [geemap](https://geemap.org). The **geemap** Python package is built upon the [ipyleaflet](https://github.com/jupyter-widgets/ipyleaflet) and [folium](https://github.com/python-visualization/folium) packages and implements several methods for interacting with Earth Engine data layers, such as `Map.addLayer()`, `Map.setCenter()`, and `Map.centerObject()`.\n",
        "The following script checks if the geemap package has been installed. If not, it will install geemap, which automatically installs its [dependencies](https://github.com/giswqs/geemap#dependencies), including earthengine-api, folium, and ipyleaflet."
      ]
    },
    {
      "cell_type": "code",
      "metadata": {},
      "source": [
        "# Installs geemap package\n",
        "import subprocess\n",
        "\n",
        "try:\n",
        "    import geemap\n",
        "except ImportError:\n",
        "    print(\"Installing geemap ...\")\n",
        "    subprocess.check_call([\"python\", \"-m\", \"pip\", \"install\", \"geemap\"])"
      ],
      "outputs": [],
      "execution_count": null
    },
    {
      "cell_type": "code",
      "metadata": {},
      "source": [
        "import ee\n",
        "import geemap"
      ],
      "outputs": [],
      "execution_count": null
    },
    {
      "cell_type": "markdown",
      "metadata": {},
      "source": [
        "## Create an interactive map \n",
        "The default basemap is `Google Maps`. [Additional basemaps](https://github.com/giswqs/geemap/blob/master/geemap/basemaps.py) can be added using the `Map.add_basemap()` function. "
      ]
    },
    {
      "cell_type": "code",
      "metadata": {},
      "source": [
        "Map = geemap.Map(center=[40, -100], zoom=4)\n",
        "Map"
      ],
      "outputs": [],
      "execution_count": null
    },
    {
      "cell_type": "markdown",
      "metadata": {},
      "source": [
        "## Add Earth Engine Python script "
      ]
    },
    {
      "cell_type": "code",
      "metadata": {},
      "source": [
        "# Add Earth Engine dataset\n",
        "#*\n",
        " # @fileoverview Earth Engine Developer's Guide examples contained in\n",
        " #   the Global Surface Water tutorial, page 3.\n",
        " #\n",
        "\n",
        "# [START 03_final_script]\n",
        "###############################\n",
        "# Asset List\n",
        "###############################\n",
        "\n",
        "gsw = ee.Image('JRC/GSW1_0/GlobalSurfaceWater')\n",
        "occurrence = gsw.select('occurrence')\n",
        "# [START change_intensity_object]\n",
        "change = gsw.select(\"change_abs\")\n",
        "# [END change_intensity_object]\n",
        "roi = ee.Geometry.Polygon(\n",
        "        [[[-74.17213, -8.65569],\n",
        "          [-74.17419, -8.39222],\n",
        "          [-74.38362, -8.36980],\n",
        "          [-74.43031, -8.61293]]])\n",
        "\n",
        "###############################\n",
        "# Constants\n",
        "###############################\n",
        "\n",
        "VIS_OCCURRENCE = {\n",
        "    'min':0,\n",
        "    'max':100,\n",
        "    'palette': ['red', 'blue']\n",
        "}\n",
        "# [START vis_occurrence_change]\n",
        "VIS_CHANGE = {\n",
        "    'min':-50,\n",
        "    'max':50,\n",
        "    'palette': ['red', 'black', 'limegreen']\n",
        "}\n",
        "# [END vis_occurrence_change]\n",
        "VIS_WATER_MASK = {\n",
        "  'palette': ['white', 'black']\n",
        "}\n",
        "\n",
        "###############################\n",
        "# Calculations\n",
        "###############################\n",
        "\n",
        "# Create a water mask layer, and set the image mask so that non-water areas are transparent.\n",
        "water_mask = occurrence.gt(90).mask(1)\n",
        "\n",
        "# [START histogram_chart]\n",
        "# Generate a histogram object and print it to the console tab.\n",
        "histogram = ui.Chart.image.histogram({\n",
        "  'image': change,\n",
        "  'region': roi,\n",
        "  'scale': 30,\n",
        "  'minBucketWidth': 10\n",
        "})\n",
        "histogram.setOptions({\n",
        "  'title': 'Histogram of surface water change intensity.'\n",
        "})\n",
        "# [END histogram_chart]\n",
        "print(histogram)\n",
        "\n",
        "###############################\n",
        "# Initialize Map Location\n",
        "###############################\n",
        "\n",
        "# Uncomment one of the following statements to center the map on\n",
        "# a particular location.\n",
        "# Map.setCenter(-90.162, 29.8597, 10);   # New Orleans, USA\n",
        "# Map.setCenter(-114.9774, 31.9254, 10); # Mouth of the Colorado River, Mexico\n",
        "# Map.setCenter(-111.1871, 37.0963, 11); # Lake Powell, USA\n",
        "# Map.setCenter(149.412, -35.0789, 11);  # Lake George, Australia\n",
        "# Map.setCenter(105.26, 11.2134, 9);     # Mekong River Basin, SouthEast Asia\n",
        "# Map.setCenter(90.6743, 22.7382, 10);   # Meghna River, Bangladesh\n",
        "# Map.setCenter(81.2714, 16.5079, 11);   # Godavari River Basin Irrigation Project, India\n",
        "# Map.setCenter(14.7035, 52.0985, 12);   # River Oder, Germany & Poland\n",
        "# Map.setCenter(-59.1696, -33.8111, 9);  # Buenos Aires, Argentina\\\n",
        "# [START addLayer_change_intensity]\n",
        "Map.setCenter(-74.4557, -8.4289, 11);  # Ucayali River, Peru\n",
        "# [END addLayer_change_intensity]\n",
        "\n",
        "###############################\n",
        "# Map Layers\n",
        "###############################\n",
        "\n",
        "Map.addLayer({\n",
        "  'eeObject': water_mask,\n",
        "  'visParams': VIS_WATER_MASK,\n",
        "  'name': '90% occurrence water mask',\n",
        "  'shown': False\n",
        "})\n",
        "Map.addLayer({\n",
        "  'eeObject': occurrence.updateMask(occurrence.divide(100)),\n",
        "  'name': \"Water Occurrence (1984-2015)\",\n",
        "  'visParams': VIS_OCCURRENCE,\n",
        "  'shown': False\n",
        "})\n",
        "# [START addLayer_change_intensity]\n",
        "Map.addLayer({\n",
        "  'eeObject': change,\n",
        "  'visParams': VIS_CHANGE,\n",
        "  'name': 'occurrence change intensity'\n",
        "})\n",
        "# [END addLayer_change_intensity]\n",
        "# [END 03_final_script]\n",
        "\n",
        "# [START histogram_reducer]\n",
        "# Calculate a change intensity for the region of interest.\n",
        "histogram = change.reduceRegion({\n",
        "  'reducer': ee.Reducer.histogram(),\n",
        "  'geometry': roi,\n",
        "  'scale': 30,\n",
        "  'bestEffort': True,\n",
        "})\n",
        "print(histogram)\n",
        "# [END histogram_reducer]\n"
      ],
      "outputs": [],
      "execution_count": null
    },
    {
      "cell_type": "markdown",
      "metadata": {},
      "source": [
        "## Display Earth Engine data layers "
      ]
    },
    {
      "cell_type": "code",
      "metadata": {},
      "source": [
        "Map.addLayerControl()  # This line is not needed for ipyleaflet-based Map.\n",
        "Map\n"
      ],
      "outputs": [],
      "execution_count": null
    }
  ],
  "metadata": {
    "anaconda-cloud": {},
    "kernelspec": {
      "display_name": "Python 3",
      "language": "python",
      "name": "python3"
    },
    "language_info": {
      "codemirror_mode": {
        "name": "ipython",
        "version": 3
      },
      "file_extension": ".py",
      "mimetype": "text/x-python",
      "name": "python",
      "nbconvert_exporter": "python",
      "pygments_lexer": "ipython3",
      "version": "3.6.1"
    }
  },
  "nbformat": 4,
  "nbformat_minor": 4
}