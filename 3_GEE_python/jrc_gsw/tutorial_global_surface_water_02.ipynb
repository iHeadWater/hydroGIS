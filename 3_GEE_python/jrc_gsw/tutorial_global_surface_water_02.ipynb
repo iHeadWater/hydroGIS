{
  "cells": [
    {
      "cell_type": "markdown",
      "metadata": {},
      "source": [
        "<table class=\"ee-notebook-buttons\" align=\"left\">\n",
        "    <td><a target=\"_blank\"  href=\"https://github.com/giswqs/geemap/tree/master/examples/template/template.ipynb\"><img width=32px src=\"https://www.tensorflow.org/images/GitHub-Mark-32px.png\" /> View source on GitHub</a></td>\n",
        "    <td><a target=\"_blank\"  href=\"https://nbviewer.jupyter.org/github/giswqs/geemap/blob/master/examples/template/template.ipynb\"><img width=26px src=\"https://upload.wikimedia.org/wikipedia/commons/thumb/3/38/Jupyter_logo.svg/883px-Jupyter_logo.svg.png\" />Notebook Viewer</a></td>\n",
        "    <td><a target=\"_blank\"  href=\"https://colab.research.google.com/github/giswqs/geemap/blob/master/examples/template/template.ipynb\"><img src=\"https://www.tensorflow.org/images/colab_logo_32px.png\" /> Run in Google Colab</a></td>\n",
        "</table>"
      ]
    },
    {
      "cell_type": "markdown",
      "metadata": {},
      "source": [
        "## Install Earth Engine API and geemap\n",
        "Install the [Earth Engine Python API](https://developers.google.com/earth-engine/python_install) and [geemap](https://geemap.org). The **geemap** Python package is built upon the [ipyleaflet](https://github.com/jupyter-widgets/ipyleaflet) and [folium](https://github.com/python-visualization/folium) packages and implements several methods for interacting with Earth Engine data layers, such as `Map.addLayer()`, `Map.setCenter()`, and `Map.centerObject()`.\n",
        "The following script checks if the geemap package has been installed. If not, it will install geemap, which automatically installs its [dependencies](https://github.com/giswqs/geemap#dependencies), including earthengine-api, folium, and ipyleaflet."
      ]
    },
    {
      "cell_type": "code",
      "metadata": {},
      "source": [
        "# Installs geemap package\n",
        "import subprocess\n",
        "\n",
        "try:\n",
        "    import geemap\n",
        "except ImportError:\n",
        "    print(\"Installing geemap ...\")\n",
        "    subprocess.check_call([\"python\", \"-m\", \"pip\", \"install\", \"geemap\"])"
      ],
      "outputs": [],
      "execution_count": null
    },
    {
      "cell_type": "code",
      "metadata": {},
      "source": [
        "import ee\n",
        "import geemap"
      ],
      "outputs": [],
      "execution_count": null
    },
    {
      "cell_type": "markdown",
      "metadata": {},
      "source": [
        "## Create an interactive map \n",
        "The default basemap is `Google Maps`. [Additional basemaps](https://github.com/giswqs/geemap/blob/master/geemap/basemaps.py) can be added using the `Map.add_basemap()` function. "
      ]
    },
    {
      "cell_type": "code",
      "metadata": {},
      "source": [
        "Map = geemap.Map(center=[40, -100], zoom=4)\n",
        "Map"
      ],
      "outputs": [],
      "execution_count": null
    },
    {
      "cell_type": "markdown",
      "metadata": {},
      "source": [
        "## Add Earth Engine Python script "
      ]
    },
    {
      "cell_type": "code",
      "metadata": {},
      "source": [
        "# Add Earth Engine dataset\n",
        "#*\n",
        " # @fileoverview Earth Engine Developer's Guide examples contained in\n",
        " #   the Global Surface Water tutorial, page 2.\n",
        " #\n",
        "\n",
        "# [START final_script]\n",
        "###############################\n",
        "# Asset List\n",
        "###############################\n",
        "\n",
        "gsw = ee.Image('JRC/GSW1_0/GlobalSurfaceWater')\n",
        "occurrence = gsw.select('occurrence')\n",
        "\n",
        "###############################\n",
        "# Constants\n",
        "###############################\n",
        "\n",
        "# [START occurrence_visualization]\n",
        "VIS_OCCURRENCE = {\n",
        "  'min':0,\n",
        "  'max':100,\n",
        "  'palette': ['red', 'blue']\n",
        "}\n",
        "# [END occurrence_visualization]\n",
        "# [START watermask_visualization]\n",
        "VIS_WATER_MASK = {\n",
        "  'palette': ['white', 'black']\n",
        "}\n",
        "# [END watermask_visualization]\n",
        "\n",
        "###############################\n",
        "# Calculations\n",
        "###############################\n",
        "\n",
        "# [START watermask_definition]\n",
        "# Create a water mask layer, and set the image mask so that non-water areas\n",
        "# are opaque.\n",
        "water_mask = occurrence.gt(90).unmask(0)\n",
        "# [END watermask_definition]\n",
        "\n",
        "###############################\n",
        "# Initialize Map Location\n",
        "###############################\n",
        "\n",
        "# [START interesting_locations]\n",
        "# Uncomment one of the following statements to center the map.\n",
        "# Map.setCenter(-90.162, 29.8597, 10);   # New Orleans, USA\n",
        "# Map.setCenter(-114.9774, 31.9254, 10); # Mouth of the Colorado River, Mexico\n",
        "# Map.setCenter(-111.1871, 37.0963, 11); # Lake Powell, USA\n",
        "# Map.setCenter(149.412, -35.0789, 11);  # Lake George, Australia\n",
        "# Map.setCenter(105.26, 11.2134, 9);     # Mekong River Basin, SouthEast Asia\n",
        "# Map.setCenter(90.6743, 22.7382, 10);   # Meghna River, Bangladesh\n",
        "# Map.setCenter(81.2714, 16.5079, 11);   # Godavari River Basin Irrigation Project, India\n",
        "# Map.setCenter(14.7035, 52.0985, 12);   # River Oder, Germany & Poland\n",
        "# Map.setCenter(-59.1696, -33.8111, 9);  # Buenos Aires, Argentina\n",
        "Map.setCenter(-74.4557, -8.4289, 11);  # Ucayali River, Peru\n",
        "# [END interesting_locations]\n",
        "\n",
        "###############################\n",
        "# Map Layers\n",
        "###############################\n",
        "\n",
        "Map.addLayer({\n",
        "  'eeObject': water_mask,\n",
        "  'visParams': VIS_WATER_MASK,\n",
        "  'name': '90% occurrence water mask',\n",
        "  'shown': False\n",
        "})\n",
        "# [START addLayer_occurrence_v2]\n",
        "Map.addLayer({\n",
        "  'eeObject': occurrence.updateMask(occurrence.divide(100)),\n",
        "  'name': \"Water Occurrence (1984-2015)\",\n",
        "  'visParams': VIS_OCCURRENCE\n",
        "})\n",
        "# [END addLayer_occurrence_v2]\n",
        "# [START final_script]\n",
        "\n",
        "# [START initial_script]\n",
        "gsw = ee.Image('JRC/GSW1_0/GlobalSurfaceWater')\n",
        "occurrence = gsw.select('occurrence')\n",
        "Map.addLayer(occurrence)\n",
        "# [END initial_script]\n",
        "\n",
        "# [START addLayer_occurrence_v1]\n",
        "Map.addLayer({'eeObject': occurrence, 'name': 'Water Occurrence (1984-2015)'})\n",
        "# [END addLayer_occurrence_v1]\n",
        "\n",
        "# [START addLayer_watermask]\n",
        "Map.addLayer({\n",
        "  'eeObject': water_mask,\n",
        "  'visParams': VIS_WATER_MASK,\n",
        "  'name': '90% occurrence water mask'\n",
        "})\n",
        "# [END addLayer_watermask]\n"
      ],
      "outputs": [],
      "execution_count": null
    },
    {
      "cell_type": "markdown",
      "metadata": {},
      "source": [
        "## Display Earth Engine data layers "
      ]
    },
    {
      "cell_type": "code",
      "metadata": {},
      "source": [
        "Map.addLayerControl()  # This line is not needed for ipyleaflet-based Map.\n",
        "Map\n"
      ],
      "outputs": [],
      "execution_count": null
    }
  ],
  "metadata": {
    "anaconda-cloud": {},
    "kernelspec": {
      "display_name": "Python 3",
      "language": "python",
      "name": "python3"
    },
    "language_info": {
      "codemirror_mode": {
        "name": "ipython",
        "version": 3
      },
      "file_extension": ".py",
      "mimetype": "text/x-python",
      "name": "python",
      "nbconvert_exporter": "python",
      "pygments_lexer": "ipython3",
      "version": "3.6.1"
    }
  },
  "nbformat": 4,
  "nbformat_minor": 4
}